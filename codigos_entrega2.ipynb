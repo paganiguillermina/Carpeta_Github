{
 "cells": [
  {
   "cell_type": "code",
   "execution_count": 1,
   "id": "ab5d24ad",
   "metadata": {},
   "outputs": [],
   "source": [
    "## lectura del archivo y división del texto a partir de los saltos de línea\n",
    "file=open ('corpusespanol_prueba.txt', 'r', encoding=\"utf-8\")  \n",
    "text=file.read()\n",
    "texto=text.split(\"\\n\")"
   ]
  },
  {
   "cell_type": "code",
   "execution_count": 2,
   "id": "ab2bec02",
   "metadata": {
    "scrolled": true
   },
   "outputs": [
    {
     "name": "stdout",
     "output_type": "stream",
     "text": [
      "['textID\\ttext', '----\\t----', '', '@@124 Gran convocatoria para el concurso docente que se realiza en la Escuela Normal Con una inmensa convocatoria de docentes , convocada desde la 7.30 de este lunes en el salón de actos de la Escuela Normal Mariano Moreno , se realizó la primera jornada de el concurso para titularización de los cargos . El día comenzó con las palabras de bienvenidas de las autoridades , quienes hablaron de cientos de docentes que presentaron sus documentos que deben ser analizados por las autoridades . Los cargos fueron 138 , pero esa suma se incrementó debido a que muchos realizaron cambio de escuelas , abriendo otras oportunidades . Las jornadas continuaran este martes debido , precisamente , a el enorme número de docentes presentes . Estuvieron , la presidenta de el CGE , Graciela Bar , el profesor Héctor de la Fuente , vocal de presidencia , el secretario general de Agmer Fabián Peccín y la directora Departamental de Escuela , María del Carmen Tourfini de Córdoba . Más allá de esta actividad , desde AGMER Uruguay , se comunicó el cronograma de próximas actividades : Miércoles 31 de Julio @ @ @ @ @ @ @ @ @ @ entrega de material . Miércoles 31 de Julio : Asamblea de dos horas por turno para las escuelas nocturnas . Jueves 1 de Agosto : Asamblea de dos horas por turno en las Escuelas de los Turnos Mañana y Tarde . Jueves 1 de Agosto a las 18:00 : Asamblea Resolutiva en la Seccional . Viernes 2 de Agosto a las 09:00 : Congreso Provincial en Colón , donde se tratará la contra propuesta realizada por el Gobierno de la Provincia , que llevó a la suspensión de el para programado para el reinicio de clases , tras las vacaciones invernales . ']\n"
     ]
    }
   ],
   "source": [
    "print(texto[:4])"
   ]
  },
  {
   "cell_type": "code",
   "execution_count": 3,
   "id": "903d6707",
   "metadata": {},
   "outputs": [],
   "source": [
    "##elimino las tres primeras líneas, que constituyen un encabezado\n",
    "texto=texto[3:]"
   ]
  },
  {
   "cell_type": "code",
   "execution_count": 4,
   "id": "884281de",
   "metadata": {
    "scrolled": false
   },
   "outputs": [
    {
     "name": "stdout",
     "output_type": "stream",
     "text": [
      "['@@124 Gran convocatoria para el concurso docente que se realiza en la Escuela Normal Con una inmensa convocatoria de docentes , convocada desde la 7.30 de este lunes en el salón de actos de la Escuela Normal Mariano Moreno , se realizó la primera jornada de el concurso para titularización de los cargos . El día comenzó con las palabras de bienvenidas de las autoridades , quienes hablaron de cientos de docentes que presentaron sus documentos que deben ser analizados por las autoridades . Los cargos fueron 138 , pero esa suma se incrementó debido a que muchos realizaron cambio de escuelas , abriendo otras oportunidades . Las jornadas continuaran este martes debido , precisamente , a el enorme número de docentes presentes . Estuvieron , la presidenta de el CGE , Graciela Bar , el profesor Héctor de la Fuente , vocal de presidencia , el secretario general de Agmer Fabián Peccín y la directora Departamental de Escuela , María del Carmen Tourfini de Córdoba . Más allá de esta actividad , desde AGMER Uruguay , se comunicó el cronograma de próximas actividades : Miércoles 31 de Julio @ @ @ @ @ @ @ @ @ @ entrega de material . Miércoles 31 de Julio : Asamblea de dos horas por turno para las escuelas nocturnas . Jueves 1 de Agosto : Asamblea de dos horas por turno en las Escuelas de los Turnos Mañana y Tarde . Jueves 1 de Agosto a las 18:00 : Asamblea Resolutiva en la Seccional . Viernes 2 de Agosto a las 09:00 : Congreso Provincial en Colón , donde se tratará la contra propuesta realizada por el Gobierno de la Provincia , que llevó a la suspensión de el para programado para el reinicio de clases , tras las vacaciones invernales . ']\n"
     ]
    }
   ],
   "source": [
    "print(texto[:1])"
   ]
  },
  {
   "cell_type": "code",
   "execution_count": 5,
   "id": "c4e45f27",
   "metadata": {},
   "outputs": [],
   "source": [
    "## quiero eliminar las indicaciones a principio de párrafo de @@número. ¿Cómo hago? Si elimino todos los números\n",
    "## voy a tener el problema de que van a aparecer como sucesivas palabras que no estaban una detrás de la otra, y como busco\n",
    "## construcciones eso me puede generar desvíos\n",
    "## trabajo con expresiones regulares. Para eso importo el módulo re de Python\n",
    "\n",
    "import re"
   ]
  },
  {
   "cell_type": "code",
   "execution_count": 6,
   "id": "c785d65e",
   "metadata": {},
   "outputs": [
    {
     "name": "stdout",
     "output_type": "stream",
     "text": [
      "['Gran convocatoria para el concurso docente que se realiza en la Escuela Normal Con una inmensa convocatoria de docentes , convocada desde la 7.30 de este lunes en el salón de actos de la Escuela Normal Mariano Moreno , se realizó la primera jornada de el concurso para titularización de los cargos . El día comenzó con las palabras de bienvenidas de las autoridades , quienes hablaron de cientos de docentes que presentaron sus documentos que deben ser analizados por las autoridades . Los cargos fueron 138 , pero esa suma se incrementó debido a que muchos realizaron cambio de escuelas , abriendo otras oportunidades . Las jornadas continuaran este martes debido , precisamente , a el enorme número de docentes presentes . Estuvieron , la presidenta de el CGE , Graciela Bar , el profesor Héctor de la Fuente , vocal de presidencia , el secretario general de Agmer Fabián Peccín y la directora Departamental de Escuela , María del Carmen Tourfini de Córdoba . Más allá de esta actividad , desde AGMER Uruguay , se comunicó el cronograma de próximas actividades : Miércoles 31 de Julio @ @ @ @ @ @ @ @ @ @ entrega de material . Miércoles 31 de Julio : Asamblea de dos horas por turno para las escuelas nocturnas . Jueves 1 de Agosto : Asamblea de dos horas por turno en las Escuelas de los Turnos Mañana y Tarde . Jueves 1 de Agosto a las 18:00 : Asamblea Resolutiva en la Seccional . Viernes 2 de Agosto a las 09:00 : Congreso Provincial en Colón , donde se tratará la contra propuesta realizada por el Gobierno de la Provincia , que llevó a la suspensión de el para programado para el reinicio de clases , tras las vacaciones invernales . ', 'Weretilneck anunció que se reforzará la seguridad en Sierra Grande Sierra Grande . - El gobernador de Río Negro , Alberto Weretilneck , anunció esta tarde que se trabajará para refuncionalizar el destacamento vial de Sierra Grande , reemplazando el actual por uno que cumpla con todas las características necesarias para mejorar el control de las rutas . Además , confirmó que se dotará a la fuerza de dos nuevos vehículos y se sumarán más agentes a las tareas de prevención . Luego de encabezar el acto de colación de 56 nuevos policías egresados de la Escuela de Suboficiales y Agentes de Sierra Grande , el mandatario dialogó con la prensa local . En ese marco , Weretilneck anunció que se retirará el destacamento vial que actualmente posee la Provincia a el sur de Sierra Grande . Paralelamente se tramitará la construcción de un nuevo puesto que cumpla con todas la necesidades de el personal para realizar sus tareas . Creemos que la lucha contra la droga y el delito tiene mucho que ver con el control de las rutas y los caminos , remarcó el mandatario . @ @ @ @ @ @ @ @ @ @ dos nuevos vehículos para la fuerza policial serrana . Se ha traído un vehículo y estamos también trayendo otra camioneta en las próximas horas , dijo al respecto . Además , confirmó que algunos de los efectivos que hoy se graduaron se quedarán en Sierra Grande para fortalecer el trabajo de prevención de el delito en la ciudad . Agenda Por otra parte , el titular de el Ejecutivo provincial anunció que el próximo martes a las 18 se realizará la teleconferencia con la Presidenta de la Nación , Cristina Fernández , que fue suspendida esta semana por el trágico accidente ocurrido a pocos kilómetros Puerto Madryn . En ese marco se inaugurará la Ruta=Nacional=Nº 232 en el segmento que une Chelforó con La Japonesa ( La Pampa ) . Además , detalló que su agenda incluye otro acto de egreso de efectivos policiales previsto para mañana a las 10 en General Roca y actividades en el Valle Medio en horas de el mediodía . Asimismo , adelantó que el lunes participará de el lanzamiento de los Juegos Evita en Cinco Saltos y el jueves encabezará la presentación de un nuevo @ @ @ @ @ @ @ @ @ @ Vivienda ( IPPV ) en Cipolletti . En esa misma jornada , pero en horas de la tarde , recibirá a los referentes de las ligas de fútbol de la provincia para avanzar en diversos temas comunes . Finalmente , anunció que a fines de la semana próxima encabezará los actos de lanzamiento de la temporada invernal en el cerro Perito Moreno de El Bolsón y también en Bariloche , donde recibirá el primer vuelo de Aerolíneas Argentinas con turistas proveniente de San Pablo ( Brasil ) . Para poder tomar las decisiones justas y correctas hay que estar en el lugar . La propia gente es la que nos dice si estamos trabajando bien o mal . Por eso es esencial tomar contacto con la mayor cantidad de gente posible , dijo el gobernador . Acompañamiento Por otra parte , señaló que se reunió con familiares de Aldo Pil y Paola Alegría , dos personas que perdieron la vida trágicamente en los últimos días en esa localidad . Me reuní con las familias . Les transmití todo mi apoyo y el acompañamiento de el Estado provincial , dijo el mandatario @ @ @ @ @ @ @ @ @ @ y dirán qué pasó en verdad serán los jueces . Educación Finalmente , el gobernador destacó que están muy avanzados los arreglos que se ejecutan en el Centro=de=Educación=Técnica=Nº 12 de la localidad . Nos habíamos comprometido a resolver el problema de el techo . Hoy vinimos y verificamos las obras que están en marcha y muy avanzadas , dijo el mandatario , quien además anunció que luego se trabajará en el reacondicionamiento de la instalación eléctrica de el edificio . Días pasados la Casa de Gobierno provincial fue testigo de el enojo de el gobernador , quien no dudó en retar a su ministro de Gobierno , el psiquiatra Luis Di Giáccomo , y a el secretario General de la Gobernación , el ex pichetista Hugo Lastra . Todo sucedió luego de que Alberto leyera una carta de Ampliar ']\n"
     ]
    }
   ],
   "source": [
    "##creo una nueva lista donde voy a guardar el texto nuevo limpio de @@número\n",
    "texto_limpio =[]\n",
    "for oracion in texto:\n",
    "    expresion_por_reemplazar = re.compile(r'@@\\d+\\s') ##esto va a buscar cualquier secuencia que comience con dos @ y uno o más números\n",
    "    texto_limpio += [expresion_por_reemplazar.sub(\"\", oracion)]\n",
    "print(texto_limpio[:2])"
   ]
  },
  {
   "cell_type": "code",
   "execution_count": 7,
   "id": "ef5b0b7c",
   "metadata": {},
   "outputs": [
    {
     "name": "stdout",
     "output_type": "stream",
     "text": [
      "['Gran convocatoria para el concurso docente que se realiza en la Escuela Normal Con una inmensa convocatoria de docentes , convocada desde la 7.30 de este lunes en el salón de actos de la Escuela Normal Mariano Moreno , se realizó la primera jornada de el concurso para titularización de los cargos', 'El día comenzó con las palabras de bienvenidas de las autoridades , quienes hablaron de cientos de docentes que presentaron sus documentos que deben ser analizados por las autoridades', 'Los cargos fueron 138 , pero esa suma se incrementó debido a que muchos realizaron cambio de escuelas , abriendo otras oportunidades', 'Las jornadas continuaran este martes debido , precisamente , a el enorme número de docentes presentes', 'Estuvieron , la presidenta de el CGE , Graciela Bar , el profesor Héctor de la Fuente , vocal de presidencia , el secretario general de Agmer Fabián Peccín y la directora Departamental de Escuela , María del Carmen Tourfini de Córdoba']\n"
     ]
    }
   ],
   "source": [
    "##armo una lista y guardo alli las oraciones en que divido el texto. Necesito usar un for para ingresar a cada salto de línea de la lista \"texto\"\n",
    "oraciones=[]\n",
    "for oracion in texto_limpio:\n",
    "    oraciones += oracion.split(\" . \") ##pido que divida por punto con espacio atrás y adelante para que no tome en cuenta puntos como los del horario 7.30\n",
    "\n",
    "print(oraciones[:5])\n",
    "##ahora tengo una lista de oraciones"
   ]
  },
  {
   "cell_type": "code",
   "execution_count": 8,
   "id": "f3d1bf0c",
   "metadata": {},
   "outputs": [
    {
     "name": "stdout",
     "output_type": "stream",
     "text": [
      "['Gran convocatoria para el concurso docente que se realiza en la Escuela Normal Con una inmensa convocatoria de docentes convocada desde la 7.30 de este lunes en el salón de actos de la Escuela Normal Mariano Moreno se realizó la primera jornada de el concurso para titularización de los cargos', 'El día comenzó con las palabras de bienvenidas de las autoridades quienes hablaron de cientos de docentes que presentaron sus documentos que deben ser analizados por las autoridades', 'Los cargos fueron 138 pero esa suma se incrementó debido a que muchos realizaron cambio de escuelas abriendo otras oportunidades', 'Las jornadas continuaran este martes debido precisamente a el enorme número de docentes presentes']\n"
     ]
    }
   ],
   "source": [
    "## debo borrar los espacios que aparecen en el texto delante de los signos de puntuación (generaba strings vacíos luego)\n",
    "## uso expresión regular\n",
    "\n",
    "oraciones_limpio =[]\n",
    "for oracion in oraciones:\n",
    "    expresion_por_reemplazar2 = re.compile(r'\\s+\\W') ##esto va a buscar un espacio delante de un signo no alfanumérico (puntuación)\n",
    "    oraciones_limpio += [expresion_por_reemplazar2.sub(\"\", oracion)]\n",
    "print(oraciones_limpio[:4])"
   ]
  },
  {
   "cell_type": "code",
   "execution_count": 9,
   "id": "b585525d",
   "metadata": {},
   "outputs": [
    {
     "data": {
      "text/plain": [
       "84373"
      ]
     },
     "execution_count": 9,
     "metadata": {},
     "output_type": "execute_result"
    }
   ],
   "source": [
    "len(oraciones)"
   ]
  },
  {
   "cell_type": "code",
   "execution_count": 10,
   "id": "2ba86bb0",
   "metadata": {},
   "outputs": [
    {
     "name": "stdout",
     "output_type": "stream",
     "text": [
      "['gran convocatoria para el concurso docente que se realiza en la escuela normal con una inmensa convocatoria de docentes convocada desde la 7.30 de este lunes en el salón de actos de la escuela normal mariano moreno se realizó la primera jornada de el concurso para titularización de los cargos', 'el día comenzó con las palabras de bienvenidas de las autoridades quienes hablaron de cientos de docentes que presentaron sus documentos que deben ser analizados por las autoridades', 'los cargos fueron 138 pero esa suma se incrementó debido a que muchos realizaron cambio de escuelas abriendo otras oportunidades', 'las jornadas continuaran este martes debido precisamente a el enorme número de docentes presentes', 'estuvieron la presidenta de el cge graciela bar el profesor héctor de la fuente vocal de presidencia el secretario general de agmer fabián peccín y la directora departamental de escuela maría del carmen tourfini de córdoba']\n"
     ]
    }
   ],
   "source": [
    "import string\n",
    "\n",
    "## ponemos todo en minúsculas\n",
    "oraciones_min=[]\n",
    "for palabra in oraciones_limpio:\n",
    "    oraciones_min+= [palabra.lower()]\n",
    "print(oraciones_min[:5])"
   ]
  },
  {
   "cell_type": "code",
   "execution_count": 11,
   "id": "e237d9e7",
   "metadata": {},
   "outputs": [],
   "source": [
    "## creo una función para eliminar puntuación\n",
    "def remover_puntuacion(s): \n",
    "    for c in string.punctuation:\n",
    "        s=s.replace(c,\"\")\n",
    "    return s"
   ]
  },
  {
   "cell_type": "code",
   "execution_count": 12,
   "id": "a02933de",
   "metadata": {},
   "outputs": [],
   "source": [
    "## armo lista \"oraciones_min_sin_punt\" para guardar allí las oraciones sin puntuación\n",
    "oraciones_min_sin_punt =[]\n",
    "for oracion in oraciones_min:\n",
    "    oraciones_min_sin_punt += [remover_puntuacion(oracion)]"
   ]
  },
  {
   "cell_type": "code",
   "execution_count": 13,
   "id": "c2495454",
   "metadata": {
    "scrolled": false
   },
   "outputs": [
    {
     "name": "stdout",
     "output_type": "stream",
     "text": [
      "['gran convocatoria para el concurso docente que se realiza en la escuela normal con una inmensa convocatoria de docentes convocada desde la 730 de este lunes en el salón de actos de la escuela normal mariano moreno se realizó la primera jornada de el concurso para titularización de los cargos', 'el día comenzó con las palabras de bienvenidas de las autoridades quienes hablaron de cientos de docentes que presentaron sus documentos que deben ser analizados por las autoridades', 'los cargos fueron 138 pero esa suma se incrementó debido a que muchos realizaron cambio de escuelas abriendo otras oportunidades']\n"
     ]
    }
   ],
   "source": [
    "## reviso si funciona el código con un print\n",
    "print(oraciones_min_sin_punt[:3])"
   ]
  },
  {
   "cell_type": "code",
   "execution_count": 14,
   "id": "d70b899b",
   "metadata": {},
   "outputs": [
    {
     "name": "stdout",
     "output_type": "stream",
     "text": [
      "['gran convocatoria para el concurso docente que se realiza en la escuela normal con una inmensa convocatoria de docentes convocada desde la 730 de este lunes en el salón de actos de la escuela normal mariano moreno se realizó la primera jornada de el concurso para titularización de los cargos', 'el día comenzó con las palabras de bienvenidas de las autoridades quienes hablaron de cientos de docentes que presentaron sus documentos que deben ser analizados por las autoridades', 'los cargos fueron 138 pero esa suma se incrementó debido a que muchos realizaron cambio de escuelas abriendo otras oportunidades']\n"
     ]
    }
   ],
   "source": [
    "##elimino espacios sobrantes\n",
    "## creo una lista que contenga las oraciones limpias de doble espacio \"oraciones_final\"\n",
    "oraciones_final =[]\n",
    "for oracion in oraciones_min_sin_punt:\n",
    "    espacios_dobles = re.compile(r'\\s\\s') ##busca dos espacios en blanco seguidos\n",
    "    oraciones_final += [espacios_dobles.sub(\" \", oracion)]\n",
    "print(oraciones_final[:3])"
   ]
  },
  {
   "cell_type": "code",
   "execution_count": 11,
   "id": "229df4ac",
   "metadata": {},
   "outputs": [
    {
     "name": "stdout",
     "output_type": "stream",
     "text": [
      "Requirement already satisfied: pip in c:\\users\\pa_gu\\documents\\uchile\\python\\lib\\site-packages (21.0.1)\n",
      "Collecting pip\n",
      "  Downloading pip-21.3.1-py3-none-any.whl (1.7 MB)\n",
      "Requirement already satisfied: setuptools in c:\\users\\pa_gu\\documents\\uchile\\python\\lib\\site-packages (52.0.0.post20210125)\n",
      "Collecting setuptools\n",
      "  Downloading setuptools-58.3.0-py3-none-any.whl (946 kB)\n",
      "Requirement already satisfied: wheel in c:\\users\\pa_gu\\documents\\uchile\\python\\lib\\site-packages (0.36.2)\n",
      "Collecting wheel\n",
      "  Downloading wheel-0.37.0-py2.py3-none-any.whl (35 kB)\n",
      "Installing collected packages: wheel, setuptools, pip\n",
      "  Attempting uninstall: wheel\n",
      "    Found existing installation: wheel 0.36.2\n",
      "    Uninstalling wheel-0.36.2:\n",
      "      Successfully uninstalled wheel-0.36.2\n",
      "  Attempting uninstall: setuptools\n",
      "    Found existing installation: setuptools 52.0.0.post20210125\n",
      "    Uninstalling setuptools-52.0.0.post20210125:\n",
      "      Successfully uninstalled setuptools-52.0.0.post20210125\n",
      "  Attempting uninstall: pip\n",
      "    Found existing installation: pip 21.0.1\n",
      "    Uninstalling pip-21.0.1:\n",
      "      Successfully uninstalled pip-21.0.1\n"
     ]
    },
    {
     "name": "stderr",
     "output_type": "stream",
     "text": [
      "ERROR: Could not install packages due to an OSError: [WinError 5] Acceso denegado: 'C:\\\\Users\\\\pa_gu\\\\AppData\\\\Local\\\\Temp\\\\pip-uninstall-grvk2wva\\\\pip.exe'\n",
      "Consider using the `--user` option or check the permissions.\n",
      "\n"
     ]
    },
    {
     "name": "stdout",
     "output_type": "stream",
     "text": [
      "Collecting spacy\n",
      "  Downloading spacy-3.1.3-cp38-cp38-win_amd64.whl (12.0 MB)\n",
      "Collecting murmurhash<1.1.0,>=0.28.0\n",
      "  Downloading murmurhash-1.0.6-cp38-cp38-win_amd64.whl (21 kB)\n",
      "Requirement already satisfied: tqdm<5.0.0,>=4.38.0 in c:\\users\\pa_gu\\documents\\uchile\\python\\lib\\site-packages (from spacy) (4.59.0)\n",
      "Collecting cymem<2.1.0,>=2.0.2\n",
      "  Downloading cymem-2.0.6-cp38-cp38-win_amd64.whl (36 kB)\n",
      "Requirement already satisfied: packaging>=20.0 in c:\\users\\pa_gu\\documents\\uchile\\python\\lib\\site-packages (from spacy) (20.9)\n",
      "Collecting srsly<3.0.0,>=2.4.1\n",
      "  Downloading srsly-2.4.2-cp38-cp38-win_amd64.whl (452 kB)\n",
      "Collecting catalogue<2.1.0,>=2.0.6\n",
      "  Downloading catalogue-2.0.6-py3-none-any.whl (17 kB)\n",
      "Collecting pathy>=0.3.5\n",
      "  Downloading pathy-0.6.0-py3-none-any.whl (42 kB)\n",
      "Requirement already satisfied: requests<3.0.0,>=2.13.0 in c:\\users\\pa_gu\\documents\\uchile\\python\\lib\\site-packages (from spacy) (2.25.1)\n",
      "Collecting blis<0.8.0,>=0.4.0\n",
      "  Downloading blis-0.7.5-cp38-cp38-win_amd64.whl (6.6 MB)\n",
      "Collecting wasabi<1.1.0,>=0.8.1\n",
      "  Downloading wasabi-0.8.2-py3-none-any.whl (23 kB)\n",
      "Collecting typer<0.5.0,>=0.3.0\n",
      "  Downloading typer-0.4.0-py3-none-any.whl (27 kB)\n",
      "Collecting thinc<8.1.0,>=8.0.9\n",
      "  Downloading thinc-8.0.11-cp38-cp38-win_amd64.whl (1.0 MB)\n",
      "Requirement already satisfied: numpy>=1.15.0 in c:\\users\\pa_gu\\documents\\uchile\\python\\lib\\site-packages (from spacy) (1.20.1)\n",
      "Requirement already satisfied: jinja2 in c:\\users\\pa_gu\\documents\\uchile\\python\\lib\\site-packages (from spacy) (2.11.3)\n",
      "Requirement already satisfied: setuptools in c:\\users\\pa_gu\\documents\\uchile\\python\\lib\\site-packages (from spacy) (58.3.0)\n",
      "Collecting pydantic!=1.8,!=1.8.1,<1.9.0,>=1.7.4\n",
      "  Downloading pydantic-1.8.2-cp38-cp38-win_amd64.whl (2.0 MB)\n",
      "Collecting preshed<3.1.0,>=3.0.2\n",
      "  Downloading preshed-3.0.6-cp38-cp38-win_amd64.whl (113 kB)\n",
      "Collecting spacy-legacy<3.1.0,>=3.0.8\n",
      "  Downloading spacy_legacy-3.0.8-py2.py3-none-any.whl (14 kB)\n",
      "Requirement already satisfied: pyparsing>=2.0.2 in c:\\users\\pa_gu\\documents\\uchile\\python\\lib\\site-packages (from packaging>=20.0->spacy) (2.4.7)\n",
      "Collecting smart-open<6.0.0,>=5.0.0\n",
      "  Downloading smart_open-5.2.1-py3-none-any.whl (58 kB)\n",
      "Requirement already satisfied: typing-extensions>=3.7.4.3 in c:\\users\\pa_gu\\documents\\uchile\\python\\lib\\site-packages (from pydantic!=1.8,!=1.8.1,<1.9.0,>=1.7.4->spacy) (3.7.4.3)\n",
      "Requirement already satisfied: idna<3,>=2.5 in c:\\users\\pa_gu\\documents\\uchile\\python\\lib\\site-packages (from requests<3.0.0,>=2.13.0->spacy) (2.10)\n",
      "Requirement already satisfied: urllib3<1.27,>=1.21.1 in c:\\users\\pa_gu\\documents\\uchile\\python\\lib\\site-packages (from requests<3.0.0,>=2.13.0->spacy) (1.26.4)\n",
      "Requirement already satisfied: chardet<5,>=3.0.2 in c:\\users\\pa_gu\\documents\\uchile\\python\\lib\\site-packages (from requests<3.0.0,>=2.13.0->spacy) (4.0.0)\n",
      "Requirement already satisfied: certifi>=2017.4.17 in c:\\users\\pa_gu\\documents\\uchile\\python\\lib\\site-packages (from requests<3.0.0,>=2.13.0->spacy) (2020.12.5)\n",
      "Requirement already satisfied: click<9.0.0,>=7.1.1 in c:\\users\\pa_gu\\documents\\uchile\\python\\lib\\site-packages (from typer<0.5.0,>=0.3.0->spacy) (7.1.2)\n",
      "Requirement already satisfied: MarkupSafe>=0.23 in c:\\users\\pa_gu\\documents\\uchile\\python\\lib\\site-packages (from jinja2->spacy) (1.1.1)\n",
      "Installing collected packages: murmurhash, cymem, catalogue, wasabi, typer, srsly, smart-open, pydantic, preshed, blis, thinc, spacy-legacy, pathy, spacy\n",
      "Successfully installed blis-0.7.5 catalogue-2.0.6 cymem-2.0.6 murmurhash-1.0.6 pathy-0.6.0 preshed-3.0.6 pydantic-1.8.2 smart-open-5.2.1 spacy-3.1.3 spacy-legacy-3.0.8 srsly-2.4.2 thinc-8.0.11 typer-0.4.0 wasabi-0.8.2\n",
      "Collecting es-core-news-sm==3.1.0\n",
      "  Downloading https://github.com/explosion/spacy-models/releases/download/es_core_news_sm-3.1.0/es_core_news_sm-3.1.0-py3-none-any.whl (13.7 MB)\n",
      "Requirement already satisfied: spacy<3.2.0,>=3.1.0 in c:\\users\\pa_gu\\documents\\uchile\\python\\lib\\site-packages (from es-core-news-sm==3.1.0) (3.1.3)\n",
      "Requirement already satisfied: pathy>=0.3.5 in c:\\users\\pa_gu\\documents\\uchile\\python\\lib\\site-packages (from spacy<3.2.0,>=3.1.0->es-core-news-sm==3.1.0) (0.6.0)\n",
      "Requirement already satisfied: jinja2 in c:\\users\\pa_gu\\documents\\uchile\\python\\lib\\site-packages (from spacy<3.2.0,>=3.1.0->es-core-news-sm==3.1.0) (2.11.3)\n",
      "Requirement already satisfied: thinc<8.1.0,>=8.0.9 in c:\\users\\pa_gu\\documents\\uchile\\python\\lib\\site-packages (from spacy<3.2.0,>=3.1.0->es-core-news-sm==3.1.0) (8.0.11)\n",
      "Requirement already satisfied: blis<0.8.0,>=0.4.0 in c:\\users\\pa_gu\\documents\\uchile\\python\\lib\\site-packages (from spacy<3.2.0,>=3.1.0->es-core-news-sm==3.1.0) (0.7.5)\n",
      "Requirement already satisfied: requests<3.0.0,>=2.13.0 in c:\\users\\pa_gu\\documents\\uchile\\python\\lib\\site-packages (from spacy<3.2.0,>=3.1.0->es-core-news-sm==3.1.0) (2.25.1)\n",
      "Requirement already satisfied: spacy-legacy<3.1.0,>=3.0.8 in c:\\users\\pa_gu\\documents\\uchile\\python\\lib\\site-packages (from spacy<3.2.0,>=3.1.0->es-core-news-sm==3.1.0) (3.0.8)\n",
      "Requirement already satisfied: wasabi<1.1.0,>=0.8.1 in c:\\users\\pa_gu\\documents\\uchile\\python\\lib\\site-packages (from spacy<3.2.0,>=3.1.0->es-core-news-sm==3.1.0) (0.8.2)\n",
      "Requirement already satisfied: typer<0.5.0,>=0.3.0 in c:\\users\\pa_gu\\documents\\uchile\\python\\lib\\site-packages (from spacy<3.2.0,>=3.1.0->es-core-news-sm==3.1.0) (0.4.0)\n",
      "Requirement already satisfied: srsly<3.0.0,>=2.4.1 in c:\\users\\pa_gu\\documents\\uchile\\python\\lib\\site-packages (from spacy<3.2.0,>=3.1.0->es-core-news-sm==3.1.0) (2.4.2)\n",
      "Requirement already satisfied: catalogue<2.1.0,>=2.0.6 in c:\\users\\pa_gu\\documents\\uchile\\python\\lib\\site-packages (from spacy<3.2.0,>=3.1.0->es-core-news-sm==3.1.0) (2.0.6)\n",
      "Requirement already satisfied: pydantic!=1.8,!=1.8.1,<1.9.0,>=1.7.4 in c:\\users\\pa_gu\\documents\\uchile\\python\\lib\\site-packages (from spacy<3.2.0,>=3.1.0->es-core-news-sm==3.1.0) (1.8.2)\n",
      "Requirement already satisfied: packaging>=20.0 in c:\\users\\pa_gu\\documents\\uchile\\python\\lib\\site-packages (from spacy<3.2.0,>=3.1.0->es-core-news-sm==3.1.0) (20.9)\n",
      "Requirement already satisfied: tqdm<5.0.0,>=4.38.0 in c:\\users\\pa_gu\\documents\\uchile\\python\\lib\\site-packages (from spacy<3.2.0,>=3.1.0->es-core-news-sm==3.1.0) (4.59.0)\n",
      "Requirement already satisfied: numpy>=1.15.0 in c:\\users\\pa_gu\\documents\\uchile\\python\\lib\\site-packages (from spacy<3.2.0,>=3.1.0->es-core-news-sm==3.1.0) (1.20.1)\n",
      "Requirement already satisfied: cymem<2.1.0,>=2.0.2 in c:\\users\\pa_gu\\documents\\uchile\\python\\lib\\site-packages (from spacy<3.2.0,>=3.1.0->es-core-news-sm==3.1.0) (2.0.6)\n",
      "Requirement already satisfied: setuptools in c:\\users\\pa_gu\\documents\\uchile\\python\\lib\\site-packages (from spacy<3.2.0,>=3.1.0->es-core-news-sm==3.1.0) (58.3.0)\n",
      "Requirement already satisfied: murmurhash<1.1.0,>=0.28.0 in c:\\users\\pa_gu\\documents\\uchile\\python\\lib\\site-packages (from spacy<3.2.0,>=3.1.0->es-core-news-sm==3.1.0) (1.0.6)\n",
      "Requirement already satisfied: preshed<3.1.0,>=3.0.2 in c:\\users\\pa_gu\\documents\\uchile\\python\\lib\\site-packages (from spacy<3.2.0,>=3.1.0->es-core-news-sm==3.1.0) (3.0.6)\n",
      "Requirement already satisfied: pyparsing>=2.0.2 in c:\\users\\pa_gu\\documents\\uchile\\python\\lib\\site-packages (from packaging>=20.0->spacy<3.2.0,>=3.1.0->es-core-news-sm==3.1.0) (2.4.7)\n",
      "Requirement already satisfied: smart-open<6.0.0,>=5.0.0 in c:\\users\\pa_gu\\documents\\uchile\\python\\lib\\site-packages (from pathy>=0.3.5->spacy<3.2.0,>=3.1.0->es-core-news-sm==3.1.0) (5.2.1)\n",
      "Requirement already satisfied: typing-extensions>=3.7.4.3 in c:\\users\\pa_gu\\documents\\uchile\\python\\lib\\site-packages (from pydantic!=1.8,!=1.8.1,<1.9.0,>=1.7.4->spacy<3.2.0,>=3.1.0->es-core-news-sm==3.1.0) (3.7.4.3)\n",
      "Requirement already satisfied: idna<3,>=2.5 in c:\\users\\pa_gu\\documents\\uchile\\python\\lib\\site-packages (from requests<3.0.0,>=2.13.0->spacy<3.2.0,>=3.1.0->es-core-news-sm==3.1.0) (2.10)\n",
      "Requirement already satisfied: certifi>=2017.4.17 in c:\\users\\pa_gu\\documents\\uchile\\python\\lib\\site-packages (from requests<3.0.0,>=2.13.0->spacy<3.2.0,>=3.1.0->es-core-news-sm==3.1.0) (2020.12.5)\n",
      "Requirement already satisfied: chardet<5,>=3.0.2 in c:\\users\\pa_gu\\documents\\uchile\\python\\lib\\site-packages (from requests<3.0.0,>=2.13.0->spacy<3.2.0,>=3.1.0->es-core-news-sm==3.1.0) (4.0.0)\n",
      "Requirement already satisfied: urllib3<1.27,>=1.21.1 in c:\\users\\pa_gu\\documents\\uchile\\python\\lib\\site-packages (from requests<3.0.0,>=2.13.0->spacy<3.2.0,>=3.1.0->es-core-news-sm==3.1.0) (1.26.4)\n",
      "Requirement already satisfied: click<9.0.0,>=7.1.1 in c:\\users\\pa_gu\\documents\\uchile\\python\\lib\\site-packages (from typer<0.5.0,>=0.3.0->spacy<3.2.0,>=3.1.0->es-core-news-sm==3.1.0) (7.1.2)\n",
      "Requirement already satisfied: MarkupSafe>=0.23 in c:\\users\\pa_gu\\documents\\uchile\\python\\lib\\site-packages (from jinja2->spacy<3.2.0,>=3.1.0->es-core-news-sm==3.1.0) (1.1.1)\n",
      "Installing collected packages: es-core-news-sm\n",
      "Successfully installed es-core-news-sm-3.1.0\n",
      "[+] Download and installation successful\n",
      "You can now load the package via spacy.load('es_core_news_sm')\n"
     ]
    }
   ],
   "source": [
    "##instalo spacy para hacer análisis gramatical\n",
    "!pip install -U pip setuptools wheel\n",
    "!pip install -U spacy\n",
    "!python -m spacy download es_core_news_sm"
   ]
  },
  {
   "cell_type": "code",
   "execution_count": 15,
   "id": "b24ddabe",
   "metadata": {},
   "outputs": [],
   "source": [
    "import spacy"
   ]
  },
  {
   "cell_type": "code",
   "execution_count": 16,
   "id": "556368a9",
   "metadata": {
    "scrolled": false
   },
   "outputs": [
    {
     "name": "stdout",
     "output_type": "stream",
     "text": [
      "rule\n",
      "['gran', 'convocatoria', 'para', 'el', 'concurso', 'docente', 'que', 'él', 'realizar', 'en', 'el', 'escuela', 'normal', 'con', 'uno', 'inmenso', 'convocatoria', 'de', 'docente', 'convocado', 'desde', 'el', '730', 'de', 'este', 'lunes', 'en', 'el', 'salón', 'de', 'acto', 'de', 'el', 'escuela', 'normal', 'mariano', 'moreno', 'él', 'realizar', 'el', 'primero', 'jornada', 'de', 'el', 'concurso', 'para', 'titularización', 'de', 'el', 'cargo']\n",
      "['el', 'día', 'comenzar', 'con', 'el', 'palabra', 'de', 'bienvenida', 'de', 'el', 'autoridad', 'quien', 'hablar', 'de', 'ciento', 'de', 'docente', 'que', 'presentar', 'su', 'documento', 'que', 'deber', 'ser', 'analizar', 'por', 'el', 'autoridad']\n",
      "['el', 'cargo', 'ser', '138', 'pero', 'ese', 'suma', 'él', 'incrementar', 'debido', 'a', 'que', 'mucho', 'realizar', 'cambio', 'de', 'escuela', 'abrir', 'otro', 'oportunidad']\n",
      "['el', 'jornada', 'continuar', 'este', 'martes', 'debido', 'precisamente', 'a', 'el', 'enorme', 'número', 'de', 'docente', 'presente']\n",
      "['estar', 'el', 'presidenta', 'de', 'el', 'cge', 'graciela', 'bar', 'el', 'profesor', 'héctor', 'de', 'el', 'fuente', 'vocal', 'de', 'presidencia', 'el', 'secretario', 'general', 'de', 'agmer', 'fabián', 'peccín', 'y', 'el', 'directora', 'departamental', 'de', 'escuela', 'maría', 'del', 'carmen', 'tourfini', 'de', 'córdoba']\n",
      "['más', 'allá', 'de', 'este', 'actividad', 'desde', 'agmer', 'uruguay', 'él', 'comunicar', 'el', 'cronograma', 'de', 'próximo', 'actividad', 'miércoles', '31', 'de', 'julio', 'entrega', 'de', 'material']\n",
      "['miércoles', '31', 'de', 'julio', 'asamblea', 'de', 'dos', 'hora', 'por', 'turno', 'para', 'el', 'escuela', 'nocturno']\n",
      "['jueves', '1', 'de', 'agosto', 'asamblea', 'de', 'dos', 'hora', 'por', 'turno', 'en', 'el', 'escuela', 'de', 'el', 'turno', 'mañana', 'y', 'tarde']\n",
      "['jueves', '1', 'de', 'agosto', 'a', 'el', '1800', 'asamblear', 'resolutivo', 'en', 'el', 'seccional']\n",
      "['viernes', '2', 'de', 'agosto', 'a', 'el', '0900', 'congreso', 'provincial', 'en', 'colón', 'donde', 'él', 'tratar', 'el', 'contra', 'propuesta', 'realizado', 'por', 'el', 'gobierno', 'de', 'el', 'provincia', 'que', 'llevar', 'a', 'el', 'suspensión', 'de', 'el', 'para', 'programado', 'para', 'el', 'reinicio', 'de', 'clase', 'tras', 'el', 'vacación', 'invernal']\n"
     ]
    }
   ],
   "source": [
    "## primero pruebo el lematizador\n",
    "nlp = spacy.load(\"es_core_news_sm\")\n",
    "lemmatizer = nlp.get_pipe(\"lemmatizer\")\n",
    "print(lemmatizer.mode)  \n",
    "\n",
    "for oracion in oraciones_final[:10]:\n",
    "    doc = nlp(oracion)\n",
    "    print([token.lemma_ for token in doc])"
   ]
  },
  {
   "cell_type": "code",
   "execution_count": 52,
   "id": "1f709cd6",
   "metadata": {},
   "outputs": [
    {
     "name": "stdout",
     "output_type": "stream",
     "text": [
      "['gran', 'convocatoria', 'para', 'el', 'concurso', 'docente', 'que', 'se', 'realiza', 'en', 'la', 'escuela', 'normal', 'con', 'una', 'inmensa', 'convocatoria', 'de', 'docentes', 'convocada', 'desde', 'la', '730', 'de', 'este', 'lunes', 'en', 'el', 'salón', 'de', 'actos', 'de', 'la', 'escuela', 'normal', 'mariano', 'moreno', 'se', 'realizó', 'la', 'primera', 'jornada', 'de', 'el', 'concurso', 'para', 'titularización', 'de', 'los', 'cargos', 'el', 'día', 'comenzó', 'con', 'las', 'palabras', 'de', 'bienvenidas', 'de', 'las', 'autoridades', 'quienes', 'hablaron', 'de', 'cientos', 'de', 'docentes', 'que', 'presentaron', 'sus', 'documentos', 'que', 'deben', 'ser', 'analizados', 'por', 'las', 'autoridades', 'los', 'cargos', 'fueron', '138', 'pero', 'esa', 'suma', 'se', 'incrementó', 'debido', 'a', 'que', 'muchos', 'realizaron', 'cambio', 'de', 'escuelas', 'abriendo', 'otras', 'oportunidades', 'las', 'jornadas']\n",
      "1985509\n"
     ]
    }
   ],
   "source": [
    "## creamos una lista con los tokens del texto\n",
    "\n",
    "tokens=[]\n",
    "for oracion in oraciones_final:\n",
    "    doc = nlp(oracion)\n",
    "    for token in doc:\n",
    "        tokens += [token.text]\n",
    "print(tokens[:100])\n",
    "\n",
    "## contamos la cantidad de tokens del texto\n",
    "print(len(tokens))"
   ]
  },
  {
   "cell_type": "code",
   "execution_count": 63,
   "id": "e22c5317",
   "metadata": {},
   "outputs": [
    {
     "name": "stdout",
     "output_type": "stream",
     "text": [
      "['gran', 'convocatoria', 'para', 'el', 'concurso', 'docente', 'que', 'se', 'realiza', 'en', 'la', 'escuela', 'normal', 'con', 'una', 'inmensa', 'de', 'docentes', 'convocada', 'desde', '730', 'este', 'lunes', 'salón', 'actos', 'mariano', 'moreno', 'realizó', 'primera', 'jornada']\n"
     ]
    }
   ],
   "source": [
    "## armamos una lista con los types del texto \n",
    "pal_unicas=[]\n",
    "for palabra in tokens:\n",
    "    if palabra not in pal_unicas:\n",
    "        pal_unicas += [palabra]\n",
    "print(pal_unicas[:30])"
   ]
  },
  {
   "cell_type": "code",
   "execution_count": 64,
   "id": "8dfb978a",
   "metadata": {},
   "outputs": [
    {
     "data": {
      "text/plain": [
       "88493"
      ]
     },
     "execution_count": 64,
     "metadata": {},
     "output_type": "execute_result"
    }
   ],
   "source": [
    "## contamos la cantidad de types del texto\n",
    "len(pal_unicas)"
   ]
  },
  {
   "cell_type": "code",
   "execution_count": 17,
   "id": "d020164a",
   "metadata": {},
   "outputs": [
    {
     "name": "stdout",
     "output_type": "stream",
     "text": [
      "['gran', 'convocatoria', 'para', 'el', 'concurso', 'docente', 'que', 'se', 'realiza', 'en', 'la', 'escuela', 'normal', 'con', 'una', 'inmensa', 'convocatoria', 'de', 'docentes', 'convocada', 'desde', 'la', '730', 'de', 'este', 'lunes', 'en', 'el', 'salón', 'de', 'actos', 'de', 'la', 'escuela', 'normal', 'mariano', 'moreno', 'se', 'realizó', 'la', 'primera', 'jornada', 'de', 'el', 'concurso', 'para', 'titularización', 'de', 'los', 'cargos', 'el', 'día', 'comenzó', 'con', 'las', 'palabras', 'de', 'bienvenidas', 'de', 'las', 'autoridades', 'quienes', 'hablaron', 'de', 'cientos', 'de', 'docentes', 'que', 'presentaron', 'sus', 'documentos', 'que', 'deben', 'ser', 'analizados', 'por', 'las', 'autoridades', 'los', 'cargos', 'fueron', '138', 'pero', 'esa', 'suma', 'se', 'incrementó', 'debido', 'a', 'que', 'muchos', 'realizaron', 'cambio', 'de', 'escuelas', 'abriendo', 'otras', 'oportunidades', 'las', 'jornadas', 'continuaran', 'este', 'martes', 'debido', 'precisamente', 'a', 'el', 'enorme', 'número', 'de', 'docentes', 'presentes', 'estuvieron', 'la', 'presidenta', 'de', 'el', 'cge', 'graciela', 'bar', 'el', 'profesor', 'héctor', 'de', 'la', 'fuente', 'vocal', 'de', 'presidencia', 'el', 'secretario', 'general', 'de', 'agmer', 'fabián', 'peccín', 'y', 'la', 'directora', 'departamental', 'de', 'escuela', 'maría', 'del', 'carmen', 'tourfini', 'de', 'córdoba', 'más', 'allá', 'de', 'esta', 'actividad', 'desde', 'agmer', 'uruguay', 'se', 'comunicó', 'el', 'cronograma', 'de', 'próximas', 'actividades', 'miércoles', '31', 'de', 'julio', 'entrega', 'de', 'material', 'miércoles', '31', 'de', 'julio', 'asamblea', 'de', 'dos', 'horas', 'por', 'turno', 'para', 'las', 'escuelas', 'nocturnas', 'jueves', '1', 'de', 'agosto', 'asamblea', 'de', 'dos', 'horas', 'por', 'turno', 'en', 'las', 'escuelas', 'de', 'los', 'turnos', 'mañana', 'y', 'tarde', 'jueves', '1', 'de', 'agosto', 'a', 'las', '1800', 'asamblea', 'resolutiva', 'en', 'la', 'seccional', 'viernes', '2', 'de', 'agosto', 'a', 'las', '0900', 'congreso', 'provincial', 'en', 'colón', 'donde', 'se', 'tratará', 'la', 'contra', 'propuesta', 'realizada', 'por', 'el', 'gobierno', 'de', 'la', 'provincia', 'que', 'llevó', 'a', 'la', 'suspensión', 'de', 'el', 'para', 'programado', 'para', 'el', 'reinicio', 'de', 'clases', 'tras', 'las', 'vacaciones', 'invernales', 'weretilneck', 'anunció', 'que', 'se', 'reforzará', 'la', 'seguridad', 'en', 'sierra', 'grande', 'sierra', 'grande', ' ', 'el', 'gobernador', 'de', 'río', 'negro', 'alberto', 'weretilneck', 'anunció', 'esta', 'tarde', 'que', 'se', 'trabajará', 'para', 'refuncionalizar', 'el', 'destacamento', 'vial', 'de', 'sierra', 'grande', 'reemplazando', 'el', 'actual', 'por', 'uno', 'que', 'cumpla', 'con', 'todas', 'las', 'características', 'necesarias', 'para', 'mejorar', 'el', 'control', 'de', 'las', 'rutas', 'además', 'confirmó', 'que', 'se', 'dotará', 'a', 'la', 'fuerza', 'de', 'dos', 'nuevos', 'vehículos', 'y', 'se', 'sumarán', 'más', 'agentes', 'a', 'las', 'tareas', 'de', 'prevención', 'luego', 'de', 'encabezar', 'el', 'acto', 'de', 'colación', 'de', '56', 'nuevos', 'policías', 'egresados', 'de', 'la', 'escuela', 'de', 'suboficiales', 'y', 'agentes', 'de', 'sierra', 'grande', 'el', 'mandatario', 'dialogó', 'con', 'la', 'prensa', 'local', 'en', 'ese', 'marco', 'weretilneck', 'anunció', 'que', 'se', 'retirará', 'el', 'destacamento', 'vial', 'que', 'actualmente', 'posee', 'la', 'provincia', 'a', 'el', 'sur', 'de', 'sierra', 'grande', 'paralelamente', 'se', 'tramitará', 'la', 'construcción', 'de', 'un', 'nuevo', 'puesto', 'que', 'cumpla', 'con', 'todas', 'la', 'necesidades', 'de', 'el', 'personal', 'para', 'realizar', 'sus', 'tareas', 'creemos', 'que', 'la', 'lucha', 'contra', 'la', 'droga', 'y', 'el', 'delito', 'tiene', 'mucho', 'que', 'ver', 'con', 'el', 'control', 'de', 'las', 'rutas', 'y', 'los', 'caminos', 'remarcó', 'el', 'mandatario', ' ', 'dos', 'nuevos', 'vehículos', 'para', 'la', 'fuerza', 'policial', 'serrana', 'se', 'ha', 'traído', 'un', 'vehículo', 'y', 'estamos', 'también', 'trayendo', 'otra', 'camioneta', 'en', 'las', 'próximas', 'horas', 'dijo', 'al', 'respecto', 'además', 'confirmó', 'que', 'algunos', 'de', 'los', 'efectivos', 'que', 'hoy', 'se', 'graduaron', 'se', 'quedarán', 'en', 'sierra', 'grande', 'para', 'fortalecer', 'el', 'trabajo', 'de', 'prevención', 'de', 'el', 'delito', 'en', 'la', 'ciudad', 'agenda', 'por', 'otra', 'parte', 'el', 'titular', 'de', 'el', 'ejecutivo', 'provincial', 'anunció', 'que', 'el', 'próximo', 'martes', 'a', 'las', '18', 'se', 'realizará', 'la', 'teleconferencia', 'con', 'la', 'presidenta', 'de', 'la', 'nación', 'cristina', 'fernández', 'que', 'fue', 'suspendida', 'esta', 'semana', 'por', 'el', 'trágico', 'accidente', 'ocurrido', 'a', 'pocos', 'kilómetros', 'puerto', 'madryn', 'en', 'ese', 'marco', 'se', 'inaugurará', 'la', 'rutanacionalnº', '232', 'en', 'el', 'segmento', 'que', 'une', 'chelforó', 'con', 'la', 'japonesa', 'la', 'pampa', 'además', 'detalló', 'que', 'su', 'agenda', 'incluye', 'otro', 'acto', 'de', 'egreso', 'de', 'efectivos', 'policiales', 'previsto', 'para', 'mañana', 'a', 'las', '10', 'en', 'general', 'roca', 'y', 'actividades', 'en', 'el', 'valle', 'medio', 'en', 'horas', 'de', 'el', 'mediodía', 'asimismo', 'adelantó', 'que', 'el', 'lunes', 'participará', 'de', 'el', 'lanzamiento', 'de', 'los', 'juegos', 'evita', 'en', 'cinco', 'saltos', 'y', 'el', 'jueves', 'encabezará', 'la', 'presentación', 'de', 'un', 'nuevo', 'vivienda', 'ippv', 'en', 'cipolletti', 'en', 'esa', 'misma', 'jornada', 'pero', 'en', 'horas', 'de', 'la', 'tarde', 'recibirá', 'a', 'los', 'referentes', 'de', 'las', 'ligas', 'de', 'fútbol', 'de', 'la', 'provincia', 'para', 'avanzar', 'en', 'diversos', 'temas', 'comunes', 'finalmente', 'anunció', 'que', 'a', 'fines', 'de', 'la', 'semana', 'próxima', 'encabezará', 'los', 'actos', 'de', 'lanzamiento', 'de', 'la', 'temporada', 'invernal', 'en', 'el', 'cerro', 'perito', 'moreno', 'de', 'el', 'bolsón', 'y', 'también', 'en', 'bariloche', 'donde', 'recibirá', 'el', 'primer', 'vuelo', 'de', 'aerolíneas', 'argentinas', 'con', 'turistas', 'proveniente', 'de', 'san', 'pablo', 'brasil', 'para', 'poder', 'tomar', 'las', 'decisiones', 'justas', 'y', 'correctas', 'hay', 'que', 'estar', 'en', 'el', 'lugar', 'la', 'propia', 'gente', 'es', 'la', 'que', 'nos', 'dice', 'si', 'estamos', 'trabajando', 'bien', 'o', 'mal', 'por', 'eso', 'es', 'esencial', 'tomar', 'contacto', 'con', 'la', 'mayor', 'cantidad', 'de', 'gente', 'posible', 'dijo', 'el', 'gobernador', 'acompañamiento', 'por', 'otra', 'parte', 'señaló', 'que', 'se', 'reunió', 'con', 'familiares', 'de', 'aldo', 'pil', 'y', 'paola', 'alegría', 'dos', 'personas', 'que', 'perdieron', 'la', 'vida', 'trágicamente', 'en', 'los', 'últimos', 'días', 'en', 'esa', 'localidad', 'me', 'reuní', 'con', 'las', 'familias', 'les', 'transmití', 'todo', 'mi', 'apoyo', 'y', 'el', 'acompañamiento', 'de', 'el', 'estado', 'provincial', 'dijo', 'el', 'mandatario', 'y', 'dirán', 'qué', 'pasó', 'en', 'verdad', 'serán', 'los', 'jueces', 'educación', 'finalmente', 'el', 'gobernador', 'destacó', 'que', 'están', 'muy', 'avanzados', 'los', 'arreglos', 'que', 'se', 'ejecutan', 'en', 'el', 'centrodeeducacióntécnicanº', '12', 'de', 'la', 'localidad', 'nos', 'habíamos', 'comprometido', 'a', 'resolver', 'el', 'problema', 'de', 'el', 'techo', 'hoy', 'vinimos', 'y', 'verificamos', 'las', 'obras', 'que', 'están', 'en', 'marcha', 'y', 'muy', 'avanzadas', 'dijo', 'el', 'mandatario', 'quien', 'además', 'anunció', 'que', 'luego', 'se', 'trabajará', 'en', 'el', 'reacondicionamiento', 'de', 'la', 'instalación', 'eléctrica', 'de', 'el', 'edificio', 'días', 'pasados', 'la', 'casa', 'de', 'gobierno', 'provincial', 'fue', 'testigo', 'de', 'el', 'enojo', 'de', 'el', 'gobernador', 'quien', 'no', 'dudó', 'en', 'retar', 'a', 'su', 'ministro', 'de', 'gobierno', 'el', 'psiquiatra', 'luis', 'di', 'giáccomo', 'y', 'a', 'el', 'secretario', 'general', 'de', 'la', 'gobernación', 'el', 'ex', 'pichetista', 'hugo', 'lastra', 'todo', 'sucedió', 'luego', 'de', 'que', 'alberto', 'leyera', 'una', 'carta', 'de', 'ampliar', 'peccín', 'no', 'hay', 'un', 'solo', 'paso', 'atrás', 'documento', 'consensuado', 'por', 'la', 'mayoría', 'y', 'minoría', 'de', 'la', 'cdc', 'de', 'agmer', 'leído', 'por', 'el', 'secretario', 'general', 'de', 'agmer', 'fabián', 'peccín', 'en', 'el', 'acto', 'central', 'de', 'la', 'movilización', 'docente', 'compañeras', 'compañeros', 'desde', 'agmer', 'venimos', 'protagonizando', 'desde', 'hace', 'muchos', 'años', 'una', 'lucha', 'inclaudicable', 'con', 'la', 'firme', 'convicción', 'de', 'que', 'con', 'la', 'unidad', 'la', 'organización', 'yla', 'lucha', 'somos', 'capaces', 'de', 'avanzar', 'en', 'nuestras', 'reivindicaciones', 'y', 'en', 'esto', 'hemos', 'sido', 'muy', 'claros', 'frente', 'a', 'nuestra', 'patronal', 'vamos', 'a', 'avanzar', 'con', 'el', 'diálogo', 'la', 'negociación', 'la', 'discusión', 'paritaria', 'la', 'movilización', 'las', 'huelgas', 'acciones', 'todas', 'que', 'según', 'el', 'momento', 'e', 'integralmente', 'vamos', 'evaluando', 'como', 'correctas', 'de', 'aplicar', 'en', 'función', 'de', 'avanzar', 'en', 'nuestros', 'legítimos', 'reclamos', 'venimos', 'de', 'vivir', 'unas', 'jornadas', 'históricas', 'de', 'lucha', 'con', 'este', 'paro', 'de', '72', 'horas', 'que', 'nos', 'fortalece', 'en', 'la', 'disputa', 'por', 'un', 'salario', 'digno', 'acción', 'que', 'tiene', 'la', 'legitimidad', 'de', 'la', 'organización', 'colectiva', 'basada', 'en', 'la', 'unidad', 'y', 'en', 'la', 'toma', 'de', 'decisiones', 'participativa', 'y', 'democrática', 'que', 'es', 'el', 'acumulado', 'desde', 'este', 'lugar', 'esta', 'conducción', 'viene', 'a', 'plantear', 'a', 'el', 'gobierno', 'provincial', 'que', 'no', 'hay', 'un', 'solo', 'paso', 'atrás', 'que', 'no', 'estamos', 'dispuestos', 'a', 'retroceder', 'un', 'milímetro', 'en', 'las', 'conquistas', 'que', 'hemos', 'conseguido', 'y', 'que', 'vamos', 'a', 'defender', 'este', 'proceso', 'histórico', 'en', 'marcha', 'que', 'fuimos', 'capaces', 'de', 'construir', 'los', 'trabajadores', 'y', 'el', 'pueblo', 'argentino', 'venimos', 'a', 'decir', 'que', 'somos', 'los', 'trabajadores', 'los', 'que', 'bancamos', 'y', 'demandamos', 'las', 'transformaciones', 'que', 'como', 'pueblo', 'necesitamos', 'en', 'la', 'construcción', 'de', 'la', 'utopía', 'colectiva', 'de', 'una', 'sociedad', 'justa', 'democrática', 'con', 'inclusión', 'social', 'libre', 'y', 'soberana', 'desde', 'esta', 'convicción', 'las', 'jornadas', 'vividas', 'nos', 'demuestran', 'a', 'los', 'trabajadores', 'que', 'sólo', 'con', 'la', 'certeza', 'de', 'el', 'reclamo', 'justo', 'con', 'la', 'unidad', 'en', 'la', 'pelea', 'y', 'la', 'organización', 'puesta', 'en', 'acciones', 'podremos', 'defender', 'los', 'derechos', 'adquiridos', 'y', 'avanzar', 'fundamentalmente', 'por', 'aquellos', 'que', 'aún', 'nos', 'faltan', 'conquistar', 'es', 'desde', 'esta', 'perspectiva', 'de', 'ofensiva', 'y', 'en', 'este', 'escenario', 'actual', 'que', 'le', 'decimos', 'a', 'el', 'gobernador', 'que', 'rechazamos', 'la', 'decisión', 'unilateral', 'de', 'el', 'ministerio', 'de', 'educación', 'de', 'cerrar', 'la', 'discusión', 'paritaria', 'y', 'fijar', 'un', 'piso', 'salarial', 'lejano', 'a', 'la', 'de', 'el', 'gobierno', 'provincial', 'por', 'considerar', 'la', 'insuficiente', 'y', 'por', 'no', 'estar', 'a', 'la', 'altura', 'de', 'una', 'recomposición', 'que', 'supere', 'el', 'retroceso', 'sufrido', 'estos', 'últimos', 'años', ' ', 'reclamamos', 'un', 'salario', 'digno', 'que', 'recomponga', 'el', 'salario', 'docente', 'que', 'desde', 'el', '2008', 'viene', 'en', 'caída', 'libre', 'para', 'ubicar', 'a', 'el', 'salario', 'docente', 'en', 'entre', 'ríos', 'por', 'encima', 'de', 'el', 'costo', 'de', 'vida', 'que', 'permita', 'vivir', 'acorde', 'a', 'nuestras', 'necesidades', 'como', 'trabajadores', 'y', 'a', 'la', 'de', 'nuestras', 'familias', ' ', 'exigimos', 'el', 'incremento', 'de', 'el', 'mínimo', 'no', 'imponible', 'y', 'modificación', 'de', 'el', 'impuesto', 'a', 'las', 'ganancias', 'para', 'transformar', 'lo', 'en', 'un', 'impuesto', 'a', 'los', 'altos', 'ingresos', 'para', 'que', 'no', 'lo', 'paguemos', 'los', 'trabajadores', ' ', 'solicitamos', 'la', 'universalidad', 'de', 'las', 'asignaciones', 'familiares', ' ', 'solicitamos', 'una', 'fuerte', 'intervención', 'de', 'el', 'estado', 'en', 'defensa', 'de', 'el', 'salario', 'y', 'de', 'el', 'consumo', 'popular', 'con', 'políticas', 'eficaces', 'a', 'la', 'hora', 'de', 'intervenir', 'en', 'el', 'control', 'de', 'los', 'formadores', 'de', 'precios', 'a', 'las', 'empresas', 'oligopólicas', 'que', 'en', 'resguardo', 'de', 'su', 'rentabilidad', 'trasladan', 'a', 'los', 'precios', 'cualquier', 'pauta', 'de', 'incremento', 'salarial', 'licuando', 'nuestros', 'salarios', 'y', 'empujando', 'a', 'profundizar', 'el', 'proceso', 'inflacionario', 'que', 'el', 'aumento', 'de', 'la', 'inversión', 'en', 'infraestructura', 'escolar', 'que', 'resuelva', 'el', 'problema', 'de', 'las', 'condiciones', 'de', 'enseñar', 'y', 'aprender', 'de', 'nuestros', 'compañeros', 'docentes', 'y', 'de', 'nuestros', 'alumnos', ' ', 'defendemos', 'de', 'manera', 'irrestricta', 'de', 'la', 'ley', '8732', 'de', 'jubilaciones', 'y', 'pensiones', 'le', 'decimos', 'no', 'a', 'la', 'armonización', 'con', 'el', 'estado', 'nacional', ' ', 'repudiamos', 'la', 'decisión', 'política', 'de', 'el', 'descuento', 'de', 'los', 'días', 'de', 'huelga', 'entendiendo', 'que', 'coartan', 'el', 'legítimo', 'derecho', 'a', 'la', 'huelga', 'y', 'a', 'todo', 'el', 'andamiaje', 'normativo', 'de', 'el', 'cge', 'montado', 'para', 'penalizar', 'la', 'decisión', 'de', 'lucha', 'de', 'los', 'docentes', ' ', 'defendemos', 'el', 'derecho', 'histórico', 'conseguido', 'por', 'la', 'lucha', 'sindical', 'de', 'el', 'decreto', '1318', '96', 'y', 'exigimos', 'la', 'plena', 'vigencia', 'de', 'el', 'mismo', ' ', 'solicitamos', 'la', 'implementación', 'de', 'la', 'propuesta', 'de', 'reforma', 'tributaria', 'de', 'la', 'cta', 'entre', 'ríos', 'que', 'plantea', 'profundizar', 'los', 'impuestos', 'más', 'progresivos', 'desactivar', 'aquellos', 'que', 'son', 'regresivos', 'recaudar', 'entre', 'los', 'que', 'más', 'ganan', 'y', 'por', 'ende', 'los', 'que', 'más', 'tienen', ' ', 'exigimos', 'un', 'mayor', 'incremento', 'de', 'el', 'presupuesto', 'educativo', 'que', 'sostenga', 'las', 'políticas', 'públicas', 'que', 'deben', 'garantizar', 'el', 'derecho', 'social', 'a', 'la', 'educación', 'de', 'todas', 'y', 'todos', 'extractivas', 'que', 'afectan', 'el', 'medio', 'ambiente', 'como', 'el', 'frackin', 'y', 'a', 'el', 'modelo', 'de', 'explotación', 'agrícola', 'sojero', 'que', 'fumiga', 'hasta', 'nuestras', 'escuelas', ' ', 'exigimos', 'la', 'inmediata', 'convocatoria', 'a', 'el', 'diálogo', 'y', 'una', 'propuesta', 'superadora', 'que', 'contenga', 'la', 'demanda', 'de', 'los', 'trabajadores', 'por', 'esto', 'junto', 'a', 'la', 'ctera', 'estamos', 'de', 'pie', 'celosos', 'de', 'lo', 'conquistado', 'firmes', 'a', 'la', 'hora', 'de', 'pelear', 'por', 'el', 'derecho', 'social', 'a', 'la', 'educación', 'conscientes', 'de', 'que', 'no', 'hay', 'que', 'retroceder', 'porque', 'esto', 'significaría', 'volver', 'a', 'los', 'nefastos', 'años', 'de', 'los', 'noventa', 'de', 'destrucción', 'de', 'el', 'sistema', 'educativo', 'público', 'y', 'en', 'este', 'sentido', 'planteamos', 'la', 'defensa', 'de', 'la', 'paritaria', 'nacional', 'la', 'responsabilidad', 'de', 'el', 'estado', 'nacional', 'y', 'de', 'los', 'estados', 'provinciales', 'en', 'el', 'sostenimiento', 'económico', 'de', 'la', 'escuela', 'pública', 'argentina', 'y', 'la', 'necesidad', 'de', 'avanzar', 'en', 'una', 'nueva', 'ley', 'de', 'financiamiento', 'nacional', 'que', 'fortalezca', 'la', 'inversión', 'educativa', 'desde', 'el', 'estado', 'nacional', 'en', 'un', 'aumento', 'a', 'el', '8', 'de', 'el', 'pib', 'para', 'la', 'educación', 'obligatoria', 'en', 'este', 'marco', 'con', 'estas', 'reivindicaciones', 'y', 'desde', 'esta', 'plaza', 'convocamos', 'a', 'la', 'participación', 'en', 'la', 'movilización', 'nacional', 'convocada', 'por', 'le', 'a', 'el', 'gobierno', 'nacional', 'la', 'inmediata', 'reapertura', 'de', 'la', 'paritaria', 'donde', 'podamos', 'discutir', 'un', 'salario', 'digno', 'para', 'todos', 'los', 'trabajadores', 'de', 'la', 'educación', 'de', 'el', 'país', 'así', 'reafirmamos', 'una', 'vez', 'más', 'nuestro', 'compromiso', 'histórico', 'en', 'defensa', 'de', 'la', 'escuela', 'pública', 'y', 'el', 'derecho', 'social', 'a', 'la', 'educación', 'nuestra', 'lucha', 'reivindicativa', 'tiene', 'como', 'centralidad', 'la', 'defensa', 'de', 'la', 'escuela', 'pública', 'para', 'la', 'liberación', 'de', 'nuestro', 'pueblo', 'no', 'es', 'una', 'consigna', 'vacía', 'es', 'la', 'convicción', 'de', 'que', 'la', 'principal', 'batalla', 'a', 'librar', 'es', 'cultural', 'y', 'pedagógica', 'estamos', 'convocados', 'a', 'protagonizar', 'la', 'disputa', 'por', 'una', 'pedagogía', 'emancipatoria', 'y', 'a', 'esa', 'lucha', 'estamos', 'convocados', 'todos', 'padres', 'alumnos', 'trabajadores', 'de', 'la', 'educación', 'y', 'nuestro', 'pueblo', 'por', 'ello', 'la', 'participación', 'activa', 'en', 'el', 'movimiento', 'pedagógico', 'latinoamericano', 'nos', 'compromete', 'a', 'ser', 'parte', 'de', 'el', 'desafío', 'de', 'la', 'construcción', 'de', 'una', 'educación', 'pública', 'latinoamericana', 'al', 'servicio', 'de', 'nuestros', 'pueblos', 'una', 'educación', 'liberadora', 'para', 'ser', 'libres', 'en', 'el', 'marco', 'de', 'un', 'proyecto', 'de', 'provincia', 'de', 'país', 'y', 'de', 'una', 'latinoamérica', 'con', 'más', 'democracia', 'más', 'distribución', 'de', 'la', 'riqueza', 'más', 'inclusión', 'social', 'lo', 'que', 'ha', 'ocurrido', 'con', 'las', 'artes', 'y', 'las', 'letras', 'y', 'en', 'general', 'con', 'toda', 'la', 'vida', 'intelectual', 'ha', 'sucedido', 'también', 'con', 'el', 'sexo', 'la', 'civilización', 'de', 'el', 'espectáculo', 'no', 'sólo', 'ha', 'dado', 'el', 'puntillazo', 'a', 'la', 'vieja', 'cultura', 'asimismo', 'está', 'destruyendo', 'una', 'de', 'sus', 'manifestaciones', 'y', 'logros', 'más', 'excelsos', 'el', 'erotismo', 'un', 'ejemplo', 'entre', 'mil', 'a', 'finales', 'de', '2009', 'hubo', 'un', 'pequeño', 'alboroto', 'mediático', 'en', 'españa', 'a', 'el', 'descubrir', 'se', 'que', 'la', 'junta', 'de', 'extremadura', 'en', 'manos', 'de', 'los', 'socialistas', 'había', 'organizado', 'dentro', 'de', 'su', 'plan', 'de', 'educación', 'sexual', 'de', 'los', 'escolares', 'unos', 'tal', 'eres', 'de', 'masturbación', 'para', 'niños', 'y', 'niñas', 'a', 'partir', 'de', 'los', 'catorce', 'años', 'campaña', 'a', 'la', 'que', 'bautizó', 'no', 'sin', 'picardía', 'el', 'placer', 'está', 'en', 'tus', 'manos', 'ante', 'las', 'protestas', 'de', 'algunos', 'contribuyentes', 'de', 'que', 'se', 'invirtiera', 'de', 'este', 'modo', 'el', 'dinero', 'de', 'los', 'impuestos', 'los', 'voceros', 'de', 'la', 'junta', 'alegaron', 'que', 'la', 'educación', 'sexual', 'de', 'los', 'niños', 'era', 'indispensable', 'para', 'prevenir', 'embarazos', 'no', 'deseados', 'y', 'que', 'las', 'clases', 'de', 'masturbación', 'servirían', 'para', 'evitar', 'males', 'mayores', 'junta', 'de', 'extremadura', 'recibió', 'las', 'felicitaciones', 'y', 'el', 'apoyo', 'de', 'la', 'junta', 'de', 'andalucía', 'cuya', 'consejera', 'de', 'igualdad', 'y', 'bienestar', 'social', 'micaela', 'navarro', 'anunció', 'que', 'en', 'andalucía', 'comenzaría', 'en', 'breve', 'una', 'campaña', 'similar', 'a', 'la', 'extremeña', 'de', 'otro', 'lado', 'un', 'intento', 'de', 'acabar', 'con', 'los', 'tal', 'eres', 'de', 'masturbación', 'mediante', 'una', 'acción', 'judicial', 'que', 'puso', 'en', 'marcha', 'una', 'organización', 'afín', 'a', 'el', 'partido', 'popular', 'y', 'bautizada', 'con', 'no', 'menos', 'chispa', 'manos', 'limpias', 'fracasó', 'de', 'manera', 'estrepitosa', 'pues', 'la', 'fiscalíadeltribunaldejusticiadeextremadu', 'no', 'dio', 'curso', 'a', 'la', 'denuncia', 'y', 'la', 'archivó', '¡', 'a', 'masturbar', 'se', 'pues', 'niños', 'y', 'niñas', 'de', 'el', 'mundo', 'cuánta', 'agua', 'ha', 'corrido', 'en', 'este', 'planeta', 'que', 'todavía', 'nos', 'soporta', 'a', 'los', 'humanos', 'desde', 'que', 'en', 'mi', 'niñez', 'los', 'padres', 'salesianos', 'y', 'los', 'hermanos', 'de', 'la', 'sal', 'e', 'colegios', 'en', 'los', 'que', 'estudié', 'nos', 'asustaban', 'con', 'el', 'espantajo', 'de', 'que', 'los', 'malos', 'tocamientos', 'producían', 'la', 'ceguera', 'la', 'tuberculosis', 'y', 'la', 'imbecilidad', 'seis', 'décadas', 'después', 'clases', 'de', 'paja', 'en', 'las', 'escuelas', 'eso', 'es', 'el', 'progreso', 'señores', '¿', 'qué', 'de', 'excelencia', 'y', 'qué', 'fiascos', 'para', 'ser', 'desaprobados', 'dependerá', 'de', 'la', 'cantidad', 'de', 'conocimientos', 'que', 'su', 'memoria', 'retenga', 'o', 'de', 'la', 'velocidad', 'cantidad', 'y', 'consistencia', 'de', 'los', 'orgasmos', 'que', 'produzca', 'la', 'destreza', 'táctil', 'de', 'chicos', 'y', 'chicas', 'no', 'son', 'bromas', 'si', 'se', 'tiene', 'la', 'audacia', 'de', 'abrir', 'tal', 'eres', 'para', 'iluminar', 'a', 'la', 'puericia', 'en', 'las', 'técnicas', 'de', 'la', 'masturbación', 'estas', 'preguntas', 'son', 'pertinentes', 'no', 'tengo', 'el', 'menor', 'reparo', 'moral', 'que', 'oponer', 'a', 'la', 'iniciativa', 'el', 'placer', 'está', 'en', 'tus', 'manos', 'de', 'la', 'junta', 'de', 'extremadura', 'reconozco', 'las', 'buenas', 'intenciones', 'que', 'la', 'animan', 'y', 'admito', 'que', 'mediante', 'campañas', 'de', 'esta', 'índole', 'no', 'es', 'imposible', 'que', 'disminuyan', 'los', 'embarazos', 'no', 'queridos', 'mi', 'crítica', 'es', 'de', 'índole', 'sensual', 'y', 'sexual', 'me', 'temo', 'que', 'en', 'vez', 'de', 'liberar', 'a', 'los', 'niños', 'de', 'las', 'supersticiones', 'mentiras', 'y', 'prejuicios', 'que', 'tradicionalmente', 'han', 'rodeado', 'a', 'el', 'sexo', 'los', 'tal', 'eres', 'de', 'masturbación', 'lo', 'trivialicen', 'aún', 'más', 'de', 'lo', 'que', 'ya', 'lo', 'ha', 'trivializado', 'la', 'civilización', 'de', 'nuestro', 'tiempo', 'de', 'tal', 'modo', 'que', 'acaben', 'por', 'convertir', 'lo', 'en', 'un', 'ejercicio', 'sin', 'misterio', 'disociado', 'modo', 'a', 'las', 'futuras', 'generaciones', 'de', 'una', 'fuente', 'de', 'placer', 'que', 'irrigó', 'hasta', 'ahora', 'de', 'manera', 'tan', 'fecunda', 'la', 'imaginación', 'y', 'la', 'creatividad', 'de', 'los', 'seres', 'humanos', 'la', 'vacuidad', 'y', 'chabacanería', 'que', 'han', 'ido', 'socavando', 'la', 'cultura', 'han', 'estropeado', 'también', 'en', 'cierta', 'forma', 'otra', 'de', 'las', 'más', 'importantes', 'conquistas', 'de', 'nuestra', 'época', 'en', 'los', 'países', 'democráticos', 'la', 'liberación', 'sexual', 'el', 'eclipse', 'de', 'muchos', 'tabúes', 'y', 'prejuicios', 'que', 'rodeaban', 'la', 'vida', 'erótica', 'porque', 'a', 'el', 'igual', 'que', 'en', 'los', 'dominios', 'de', 'el', 'arte', 'y', 'la', 'literatura', 'la', 'desaparición', 'de', 'las', 'formas', 'en', 'la', 'vida', 'sexual', 'no', 'significa', 'un', 'progreso', 'sino', 'más', 'bien', 'un', 'retroceso', 'que', 'desnaturaliza', 'la', 'libertad', 'y', 'empobrece', 'el', 'sexo', 'rebajándo', 'lo', 'a', 'lo', 'puramente', 'instintivo', 'y', 'animal', 'la', 'masturbación', 'no', 'necesita', 'ser', 'enseñada', 'ella', 'se', 'descubre', 'en', 'la', 'intimidad', 'y', 'es', 'uno', 'de', 'los', 'quehaceres', 'que', 'fundan', 'la', 'vida', 'privada', 'ella', 'va', 'desgajando', 'a', 'el', 'niño', 'a', 'la', 'niña', 'de', 'su', 'entorno', 'familiar', 'individualizándo', 'los', 'y', 'sensibilizándo', 'los', 'a', 'el', 'revelar', 'les', 'el', 'mundo', 'secreto', 'de', 'los', 'deseos', 'e', 'instruyéndo', 'los', 'sobre', 'asuntos', 'capitales', 'como', 'placer', 'por', 'eso', 'destruir', 'los', 'ritos', 'privados', 'y', 'acabar', 'con', 'la', 'discreción', 'y', 'el', 'pudor', 'que', 'desde', 'que', 'la', 'sociedad', 'humana', 'alcanzó', 'la', 'civilización', 'han', 'acompañado', 'a', 'el', 'sexo', 'no', 'es', 'combatir', 'un', 'prejuicio', 'sino', 'amputar', 'de', 'la', 'vida', 'sexual', 'aquella', 'dimensión', 'que', 'fue', 'surgiendo', 'en', 'torno', 'suyo', 'a', 'medida', 'que', 'la', 'cultura', 'y', 'el', 'desarrollo', 'de', 'las', 'artes', 'y', 'las', 'letras', 'iban', 'enriqueciéndo', 'la', 'y', 'convirtiéndo', 'la', 'a', 'ella', 'misma', 'en', 'obra', 'de', 'arte', 'sacar', 'a', 'el', 'sexo', 'de', 'las', 'alcobas', 'para', 'exhibir', 'lo', 'en', 'la', 'plaza', 'pública', 'es', 'paradójicamente', 'no', 'liberalizar', 'lo', 'sino', 'regresar', 'lo', 'a', 'los', 'tiempos', 'de', 'la', 'caverna', 'cuando', 'como', 'los', 'monos', 'y', 'los', 'perros', 'las', 'parejas', 'no', 'habían', 'aprendido', 'todavía', 'a', 'hacer', 'el', 'amor', 'sólo', 'a', 'ayuntar', 'se', 'la', 'supuesta', 'liberación', 'de', 'el', 'sexo', 'uno', 'de', 'los', 'rasgos', 'más', 'acusados', 'de', 'la', 'modernidad', 'en', 'las', 'sociedades', 'occidentales', 'dentro', 'de', 'la', 'cual', 'se', 'inscribe', 'esta', 'idea', 'de', 'dar', 'clases', 'de', 'masturbación', 'en', 'las', 'escuelas', 'quizá', 'consiga', 'abolir', 'ciertos', 'prejuicios', 'tontos', 'sobre', 'el', 'onanismo', 'en', 'buena', 'hora', 'pero', 'también', 'podría', 'acaso', 'acabe', 'con', 'él', '¿', 'quién', 'saldría', 'ganando', 'no', 'los', 'libertarios', 'ni', 'los', 'libertinos', 'sino', 'los', 'puritanos', 'y', 'las', 'iglesias', 'y', 'continuaría', 'el', 'delirio', 'y', 'la', 'futilización', 'de', 'el', 'amor', 'que', 'caracterizan', 'a', 'la', 'civilización', 'contemporánea', 'en', 'el', 'mundo', 'occidental', 'la', 'idea', 'de', 'los', 'talleres', 'de', 'masturbación', 'es', 'un', 'nuevo', 'eslabón', 'en', 'el', 'movimiento', 'que', 'para', 'poner', 'le', 'una', 'fecha', 'de', 'nacimiento', 'aunque', 'en', 'verdad', 'es', 'anterior', 'comenzó', 'en', 'parís', 'en', 'mayo', 'de', '1968', 'y', 'pretende', 'poner', 'fin', 'a', 'los', 'obstáculos', 'y', 'prevenciones', 'de', 'carácter', 'religioso', 'e', 'ideológico', 'que', 'desde', 'tiempos', 'inveterados', 'han', 'reprimido', 'la', 'vida', 'sexual', 'provocando', 'innumerables', 'sufrimientos', 'sobre', 'todo', 'a', 'las', 'mujeres', 'y', 'a', 'las', 'minorías', 'sexuales', 'así', 'como', 'frustración', 'neurosis', 'y', 'otros', 'desequilibrios', 'psíquicos', 'en', 'quienes', 'debido', 'a', 'la', 'rigidez', 'de', 'la', 'moral', 'reinante', 'se', 'han', 'visto', 'discriminados', 'censurados', 'y', 'condenados', 'a', 'una', 'insegura', 'clandestinidad', 'este', 'movimiento', 'ha', 'tenido', 'saludables', 'consecuencias', 'desde', 'luego', 'en', 'los', 'países', 'occidentales', 'aunque', 'en', 'otras', 'culturas', 'como', 'la', 'islámica', 'ha', 'exacerbado', 'las', 'prohibiciones', 'y', 'la', 'represión', 'el', 'la', 'mujer', 'se', 'ha', 'evaporado', 'y', 'gracias', 'a', 'el', 'o', 'y', 'a', 'la', 'generalización', 'de', 'el', 'uso', 'de', 'la', 'píldora', 'las', 'mujeres', 'gozan', 'hoy', 'si', 'no', 'exactamente', 'de', 'la', 'misma', 'libertad', 'que', 'los', 'hombres', 'al', 'menos', 'de', 'un', 'margen', 'de', 'autonomía', 'sexual', 'infinitamente', 'más', 'ancho', 'que', 'sus', 'abuelas', 'y', 'bisabuelas', 'y', 'que', 'sus', 'congéneres', 'de', 'los', 'países', 'musulmanes', 'y', 'tercermundistas', 'de', 'otro', 'lado', 'aunque', 'sin', 'desaparecer', 'del', 'todo', 'han', 'ido', 'reduciéndo', 'se', 'los', 'prejuicios', 'y', 'anatemas', 'y', 'las', 'disposiciones', 'legales', 'que', 'hasta', 'hace', 'pocos', 'años', 'penaban', 'la', 'homosexualidad', 'por', 'considerar', 'la', 'una', 'práctica', 'perversa', 'poco', 'a', 'poco', 'va', 'admitiéndo', 'se', 'en', 'los', 'países', 'occidentales', 'el', 'matrimonio', 'entre', 'personas', 'de', 'el', 'mismo', 'sexo', 'con', 'los', 'mismos', 'derechos', 'que', 'los', 'de', 'las', 'parejas', 'heterosexuales', 'incluido', 'el', 'de', 'adoptar', 'niños', 'y', 'también', 'de', 'manera', 'paulatina', 'se', 'extiende', 'la', 'idea', 'de', 'que', 'en', 'materia', 'sexual', 'lo', 'que', 'hagan', 'o', 'dejen', 'de', 'hacer', 'entre', 'el', 'os', 'los', 'adultos', 'en', 'uso', 'de', 'razón', 'y', 'decisión', 'es', 'prerrogativa', 'suya', 'y', 'nadie', 'empezando', 'por', 'el', 'estado', 'y', 'terminando', 'por', 'las', 'iglesias', 'debe', 'inmiscuir', 'por', 'supuesto', 'pero', 'es', 'un', 'error', 'creer', 'como', 'los', 'promotores', 'de', 'este', 'movimiento', 'liberador', 'que', 'desacralizándo', 'lo', 'desvistiéndo', 'lo', 'de', 'las', 'veladuras', 'el', 'pudor', 'y', 'los', 'rituales', 'que', 'lo', 'acompañan', 'desde', 'hace', 'siglos', 'aboliendo', 'de', 'su', 'práctica', 'toda', 'forma', 'simbólica', 'de', 'transgresión', 'el', 'sexo', 'pasará', 'a', 'ser', 'una', 'práctica', 'sana', 'y', 'normal', 'en', 'la', 'ciudad', 'el', 'sexo', 'sólo', 'es', 'sano', 'y', 'normal', 'entre', 'los', 'animales', 'lo', 'fue', 'entre', 'los', 'bípedos', 'cuando', 'aún', 'no', 'éramos', 'humanos', 'del', 'todo', 'es', 'decir', 'cuando', 'el', 'sexo', 'era', 'en', 'nosotros', 'desfogue', 'de', 'el', 'instinto', 'y', 'poco', 'más', 'que', 'eso', 'una', 'descarga', 'física', 'de', 'energía', 'que', 'garantizaba', 'la', 'reproducción', 'la', 'desanimalización', 'de', 'la', 'especie', 'fue', 'un', 'largo', 'y', 'complicado', 'proceso', 'y', 'en', 'él', 'tuvo', 'papel', 'decisivo', 'lo', 'que', 'karl', 'popper', 'llama', 'el', 'mundo', 'tercero', 'el', 'de', 'la', 'cultura', 'y', 'la', 'invención', 'la', 'lenta', 'aparición', 'de', 'el', 'individuo', 'soberano', 'su', 'emancipación', 'de', 'la', 'tribu', 'con', 'tendencias', 'disposiciones', 'designios', 'anhelos', 'deseos', 'que', 'lo', 'diferenciaban', 'de', 'los', 'otros', 'y', 'lo', 'constituían', 'como', 'ser', 'único', 'e', 'intransferible', 'de', 'el', 'individuo', 'y', 'como', 'mostró', 'sigmund', 'freud', 'en', 'ese', 'dominio', 'el', 'más', 'recóndito', 'de', 'la', 'soberanía', 'individual', 'se', 'fraguan', 'los', 'rasgos', 'distintivos', 'de', 'cada', 'personalidad', 'lo', 'que', 'nos', 'pertenece', 'como', 'propio', 'y', 'nos', 'hace', 'diferentes', 'de', 'los', 'demás', 'ése', 'es', 'un', 'dominio', 'privado', 'y', 'secreto', 'y', 'deberíamos', 'procurar', 'que', 'siga', 'siéndo', 'lo', 'si', 'no', 'queremos', 'cegar', 'una', 'de', 'las', 'fuentes', 'más', 'intensas', 'de', 'el', 'placer', 'y', 'de', 'la', 'creatividad', 'es', 'decir', 'de', 'la', 'civilización', 'georges', 'bataille', 'no', 'se', 'equivocaba', 'cuando', 'alertó', 'contra', 'los', 'riesgos', 'de', 'una', 'permisividad', 'desenfrenada', 'en', 'materia', 'sexual', 'la', 'desaparición', 'de', 'los', 'prejuicios', 'algo', 'liberador', 'en', 'efecto', 'no', 'puede', 'significar', 'la', 'abolición', 'de', 'los', 'rituales', 'el', 'misterio', 'las', 'formas', 'y', 'la', 'discreción', 'gracias', 'a', 'los', 'cuales', 'el', 'sexo', 'se', 'civilizó', 'y', 'humanizó', 'con', 'sexo', 'público', 'sano', 'y', 'normal', 'la', 'vida', 'se', 'volvería', 'más', 'aburrida', 'mediocre', 'y', 'violenta', 'de', 'lo', 'que', 'es', 'hay', 'muchas', 'formas', 'de', 'definir', 'el', 'erotismo', 'pero', 'tal', 'vez', 'la', 'principal', 'sea', 'llamar', 'lo', 'la', 'desanimalización', 'de', 'el', 'amor', 'físico', 'su', 'a', 'el', 'progreso', 'de', 'la', 'libertad', 'y', 'la', 'influencia', 'de', 'la', 'cultura', 'en', 'la', 'vida', 'privada', 'de', 'mera', 'satisfacción', 'de', 'una', 'pulsión', 'instintiva', 'en', 'un', 'quehacer', 'creativo', 'y', 'compartido', 'que', 'prolonga', 'y', 'sublima', 'el', 'placer', 'físico', 'rodeándo', 'lo', 'de', 'una', 'puesta', 'en', 'escena', 'y', 'unos', 'refinamientos', 'que', 'lo', 'convierten', 'en', 'obra', 'de', 'arte', 'tal', 'vez', 'en', 'ninguna', 'otra', 'actividad', 'se', 'haya', 'ido', 'estableciendo', 'una', 'frontera', 'tan', 'evidente', 'entre', 'lo', 'animal', 'y', 'lo', 'humano', 'como', 'en', 'el', 'dominio', 'de', 'el', 'sexo', 'esta', 'diferencia', 'en', 'un', 'principio', 'en', 'la', 'noche', 'de', 'los', 'tiempos', 'no', 'existía', 'y', 'confundía', 'a', 'ambos', 'en', 'un', 'acoplamiento', 'carnal', 'sin', 'misterio', 'sin', 'gracia', 'sin', 'sutileza', 'y', 'sin', 'amor', 'la', 'humanización', 'de', 'la', 'vida', 'de', 'hombres', 'y', 'mujeres', 'es', 'un', 'largo', 'proceso', 'en', 'el', 'que', 'intervienen', 'el', 'avance', 'de', 'los', 'conocimientos', 'científicos', 'las', 'ideas', 'filosóficas', 'y', 'religiosas', 'el', 'desarrollo', 'de', 'las', 'artes', 'y', 'las', 'letras', 'en', 'esa', 'trayectoria', 'nada', 'cambia', 'tanto', 'como', 'la', 'vida', 'sexual', 'ésta', 'ha', 'sido', 'siempre', 'un', 'fermento', 'de', 'la', 'creación', 'artística', 'y', 'literaria', 'y', 'recíprocamente', 'pintura', 'literatura', 'música', 'escultura', 'humana', 'han', 'contribuido', 'a', 'el', 'enriquecimiento', 'de', 'el', 'placer', 'a', 'través', 'de', 'la', 'práctica', 'sexual', 'no', 'es', 'abusivo', 'decir', 'que', 'el', 'erotismo', 'representa', 'un', 'momento', 'elevado', 'de', 'la', 'civilización', 'y', 'que', 'es', 'uno', 'de', 'sus', 'componentes', 'determinantes', 'para', 'saber', 'cuán', 'primitiva', 'es', 'una', 'comunidad', 'o', 'cuánto', 'ha', 'avanzado', 'en', 'su', 'proceso', 'civilizador', 'nada', 'tan', 'útil', 'como', 'escrutar', 'sus', 'secretos', 'de', 'alcoba', 'y', 'averiguar', 'cómo', 'sus', 'miembros', 'hacen', 'el', 'amor', 'el', 'erotismo', 'no', 'sólo', 'tiene', 'la', 'función', 'positiva', 'y', 'ennoblecedora', 'de', 'embellecer', 'el', 'placer', 'físico', 'y', 'abrir', 'un', 'amplio', 'abanico', 'de', 'sugestiones', 'y', 'posibilidades', 'que', 'permitan', 'a', 'los', 'seres', 'humanos', 'satisfacer', 'sus', 'deseos', 'y', 'fantasías', 'es', 'también', 'una', 'actividad', 'que', 'saca', 'a', 'flote', 'aquel', 'os', 'fantasmas', 'escondidos', 'en', 'la', 'irracionalidad', 'que', 'son', 'de', 'índole', 'destructiva', 'y', 'mortífera', 'freud', 'los', 'l', 'amó', 'la', 'vocación', 'tanática', 'que', 'se', 'disputa', 'con', 'el', 'instinto', 'vital', 'y', 'creativo', 'el', 'eros', 'la', 'condición', 'humana', 'librados', 'a', 'sí', 'mismos', 'sin', 'freno', 'alguno', 'aquel', 'os', 'monstruos', 'de', 'el', 'inconsciente', 'que', 'asoman', 'en', 'la', 'vida', 'sexual', 'y', 'piden', 'derecho', 'de', 'ciudad', 'podrían', 'acarrear', 'una', 'violencia', 'vertiginosa', 'como', 'el', 'marqués', 'de', 'sade', 'y', 'hasta', 'la', 'desaparición', 'de', 'la', 'especie', 'por', 'eso', 'el', 'erotismo', 'no', 'sólo', 'encuentra', 'en', 'la', 'prohibición', 'un', 'acicate', 'voluptuoso', 'también', 'un', 'límite', 'violado', 'el', 'cual', 'se', 'vuelve', 'sufrimiento', 'y', 'muerte', 'yo', 'descubrí', 'que', 'el', 'erotismo', 'estaba', 'inseparablemente', 'unido', 'a', 'la', 'libertad', 'humana', 'pero', 'también', 'a', 'la', 'violencia', 'leyendo', 'a', 'los', 'grandes', 'maestros', 'de', 'la', 'literatura', 'erótica', 'que', 'reunió', 'guillaume', 'apollinaire', 'en', 'la', 'colección', 'que', 'dirigió', 'prologando', 'y', 'traduciendo', 'algunos', 'de', 'sus', 'volúmenes', 'con', 'el', 'título', 'les', 'maîtres', 'de', 'lamour', 'ocurrió', 'en', 'lima', 'hacia', '1955', 'acababa', 'de', 'casar', 'me', 'por', 'primera', 'vez', 'y', 'debí', 'acumular', 'varios', 'trabajos', 'a', 'fin', 'de', 'ganar', 'me', 'la', 'vida', 'llegué', 'a', 'tener', 'ocho', 'al', 'mismo', 'tiempo', 'que', 'continuaba', 'mis', 'estudios', 'universitarios', 'el', 'más', 'pintoresco', 'de', 'el', 'os', 'era', 'fichar', 'los', 'muertos', 'de', 'los', 'cuarteles', 'coloniales', 'de', 'el', 'cementerio', 'presbítero', 'maestro', 'de', 'lima', 'cuyos', 'nombres', 'habían', 'desaparecido', 'de', 'los', 'archivos', 'de', 'la', 'beneficencia', 'lo', 'hacía', 'domingos', 'y', 'días', 'feriados', 'yéndo', 'me', 'a', 'el', 'cementerio', 'equipado', 'con', 'una', 'escalerita', 'fichas', 'y', 'lápices', 'después', 'de', 'con', 'los', 'nombres', 'y', 'fechas', 'y', 'la', 'beneficencia', 'pública', 'de', 'lima', 'me', 'pagaba', 'por', 'muerto', 'pero', 'el', 'más', 'grato', 'de', 'mis', 'ocho', 'trabajos', 'alimenticios', 'no', 'fue', 'éste', 'sino', 'el', 'de', 'ayudante', 'de', 'bibliotecario', 'de', 'el', 'club', 'nacional', 'el', 'bibliotecario', 'era', 'mi', 'maestro', 'el', 'historiador', 'raúl', 'porras', 'barrenechea', 'mis', 'obligaciones', 'consistían', 'en', 'pasar', 'dos', 'horas', 'diarias', 'de', 'lunes', 'a', 'viernes', 'en', 'el', 'elegante', 'edificio', 'de', 'el', 'club', 'símbolo', 'de', 'la', 'oligarquía', 'peruana', 'que', 'por', 'aquel', 'os', 'años', 'celebraba', 'su', 'centenario', 'en', 'teoría', 'debía', 'dedicar', 'ese', 'par', 'de', 'horas', 'a', 'fichar', 'las', 'nuevas', 'adquisiciones', 'de', 'la', 'biblioteca', 'pero', 'no', 'sé', 'si', 'por', 'falta', 'de', 'presupuesto', 'o', 'por', 'negligencia', 'de', 'su', 'directiva', 'el', 'club', 'nacional', 'casi', 'no', 'adquiría', 'ya', 'libros', 'en', 'aquel', 'os', 'años', 'de', 'modo', 'que', 'podía', 'dedicar', 'aquellas', 'dos', 'horas', 'a', 'escribir', 'y', 'leer', 'eran', 'las', 'dos', 'horas', 'más', 'felices', 'de', 'aquel', 'os', 'días', 'en', 'que', 'desde', 'el', 'amanecer', 'hasta', 'la', 'noche', 'no', 'paraba', 'de', 'hacer', 'cosas', 'que', 'me', 'interesaban', 'poco', 'o', 'nada', 'no', 'trabajaba', 'en', 'la', 'bella', 'sala', 'de', 'lectura', 'de', 'la', 'planta', 'baja', 'de', 'el', 'allí', 'descubrí', 'con', 'felicidad', 'disimulados', 'detrás', 'de', 'unos', 'discretos', 'biombos', 'y', 'unas', 'cortinillas', 'pudibundas', 'una', 'espléndida', 'colección', 'de', 'libros', 'eróticos', 'casi', 'todos', 'franceses', 'allí', 'leí', 'las', 'cartas', 'y', 'fantasías', 'eróticas', 'de', 'diderot', 'y', 'de', 'mirabeau', 'a', 'el', 'marqués', 'de', 'sade', 'y', 'a', 'restif', 'de', 'la', 'bretonne', 'a', 'andréa', 'de', 'nerciat', 'a', 'el', 'aretino', 'las', 'memorias', 'de', 'una', 'cantante', 'alemana', 'la', 'autobiografía', 'de', 'un', 'inglés', 'las', 'memorias', 'de', 'casanova', 'las', 'amistades', 'peligrosas', 'de', 'choderlos', 'de', 'laclos', 'y', 'no', 'sé', 'cuántos', 'otros', 'libros', 'clásicos', 'y', 'emblemáticos', 'de', 'la', 'literatura', 'erótica', 'ella', 'tiene', 'antecedentes', 'clásicos', 'desde', 'luego', 'pero', 'irrumpe', 'de', 'verdad', 'en', 'europa', 'en', 'el', 'siglo', 'xvi', 'i', 'en', 'pleno', 'auge', 'de', 'los', 'philosophes', 'y', 'sus', 'grandes', 'teorías', 'renovadoras', 'de', 'la', 'moral', 'y', 'la', 'política', 'su', 'ofensiva', 'contra', 'el', 'oscurantismo', 'religioso', 'y', 'su', 'apasionada', 'defensa', 'de', 'la', 'libertad', 'filosofía', 'sedición', 'placer', 'y', 'libertad', 'era', 'lo', 'que', 'pedían', 'y', 'practicaban', 'en', 'sus', 'escritos', 'estos', 'pensadores', 'y', 'artistas', 'que', 'reivindicaban', 'orgullosos', 'el', 'apelativo', 'de', '«', 'libertinos', 'con', 'que', 'los', 'llamaban', 'recordando', 'que', 'el', 'sentido', 'primario', 'de', 'ese', 'o', 'desafía', 'a', 'dios', 'y', 'a', 'la', 'religión', 'en', 'nombre', 'de', 'la', 'libertad', 'la', 'literatura', 'libertina', 'es', 'muy', 'desigual', 'desde', 'luego', 'no', 'abundan', 'las', 'obras', 'maestras', 'entre', 'las', 'que', 'produjo', 'aunque', 'se', 'encuentran', 'algunas', 'novelas', 'o', 'textos', 'de', 'gran', 'valía', 'en', 'medio', 'de', 'muchas', 'otras', 'de', 'escasa', 'o', 'nula', 'significación', 'artística', 'la', 'limitación', 'principal', 'que', 'suele', 'empobrecer', 'la', 'es', 'que', 'concentrados', 'de', 'manera', 'obsesiva', 'y', 'excluyente', 'en', 'la', 'descripción', 'de', 'experiencias', 'sexuales', 'los', 'libros', 'sólo', 'eróticos', 'pronto', 'sucumben', 'a', 'la', 'repetición', 'y', 'a', 'la', 'monomanía', 'porque', 'la', 'actividad', 'sexual', 'aunque', 'intensa', 'y', 'fuente', 'maravillosa', 'de', 'goces', 'es', 'limitada', 'y', 'si', 'se', 'la', 'separa', 'de', 'el', 'resto', 'de', 'actividades', 'y', 'funciones', 'que', 'constituyen', 'la', 'vida', 'de', 'hombres', 'y', 'mujeres', 'pierde', 'vitalidad', 'y', 'ofrece', 'un', 'carácter', 'recortado', 'caricatural', 'e', 'inauténtico', 'de', 'la', 'condición', 'humana', 'pero', 'esto', 'no', 'es', 'óbice', 'para', 'que', 'en', 'la', 'literatura', 'libertina', 'resuene', 'siempre', 'un', 'grito', 'de', 'libertad', 'en', 'contra', 'de', 'todas', 'las', 'sujeciones', 'y', 'servidumbres', 'religiosas', 'morales', 'y', 'políticas', 'que', 'restringen', 'el', 'derecho', 'a', 'el', 'libre', 'albedrío', 'a', 'la', 'un', 'derecho', 'que', 'por', 'primera', 'vez', 'se', 'reclama', 'en', 'la', 'historia', 'de', 'la', 'civilización', 'el', 'de', 'poder', 'materializar', 'las', 'fantasías', 'y', 'deseos', 'que', 'el', 'sexo', 'despierta', 'en', 'los', 'seres', 'humanos', 'el', 'gran', 'mérito', 'de', 'las', 'monótonas', 'novelas', 'de', 'el', 'marqués', 'de', 'sade', 'es', 'mostrar', 'en', 'ellas', 'cómo', 'el', 'sexo', 'si', 'se', 'ejerce', 'sin', 'limitación', 'ni', 'freno', 'alguno', 'acarrea', 'enloquecidas', 'violencias', 'pues', 'es', 'el', 'vehículo', 'privilegiado', 'a', 'través', 'de', 'el', 'cual', 'se', 'manifiestan', 'los', 'instintos', 'más', 'destructivos', 'de', 'la', 'personalidad', 'lo', 'ideal', 'en', 'este', 'dominio', 'es', 'que', 'las', 'fronteras', 'dentro', 'de', 'las', 'cuales', 'se', 'despliega', 'la', 'vida', 'sexual', 'se', 'ensanchen', 'lo', 'suficiente', 'para', 'que', 'hombres', 'y', 'mujeres', 'puedan', 'actuar', 'con', 'libertad', 'volcando', 'en', 'ella', 'sus', 'deseos', 'y', 'fantasmas', 'sin', 'sentir', 'se', 'amenazados', 'ni', 'discriminados', 'pero', 'dentro', 'de', 'ciertas', 'formas', 'culturales', 'que', 'preserven', 'a', 'el', 'sexo', 'su', 'naturaleza', 'privada', 'e', 'íntima', 'de', 'manera', 'que', 'la', 'vida', 'sexual', 'no', 'se', 'banalice', 'ni', 'animalice', 'eso', 'es', 'el', 'erotismo', 'con', 'sus', 'rituales', 'fantasías', 'vocación', 'de', 'clandestinidad', 'amor', 'a', 'las', 'formas', 'y', 'a', 'la', 'teatralidad', 'nace', 'como', 'un', 'producto', 'de', 'la', 'alta', 'las', 'gentes', 'primitivas', 'y', 'bastas', 'pues', 'se', 'trata', 'de', 'un', 'quehacer', 'que', 'exige', 'sensibilidad', 'refinada', 'cultura', 'literaria', 'y', 'artística', 'y', 'cierta', 'vocación', 'transgresora', 'transgresora', 'es', 'una', 'palabra', 'que', 'en', 'este', 'caso', 'hay', 'que', 'tomar', 'con', 'pinzas', 'pues', 'dentro', 'de', 'el', 'contexto', 'erótico', 'no', 'significa', 'negación', 'de', 'la', 'regla', 'moral', 'o', 'religiosa', 'imperante', 'sino', 'ambas', 'cosas', 'a', 'la', 'vez', 'su', 'reconocimiento', 'y', 'su', 'rechazo', 'mezclados', 'de', 'manera', 'indisoluble', 'violando', 'la', 'norma', 'en', 'la', 'intimidad', 'con', 'discreción', 'y', 'de', 'común', 'acuerdo', 'la', 'pareja', 'o', 'el', 'grupo', 'llevan', 'a', 'cabo', 'una', 'representación', 'un', 'juego', 'teatral', 'que', 'inflama', 'su', 'placer', 'con', 'un', 'aderezo', 'de', 'desafío', 'y', 'libertad', 'a', 'la', 'vez', 'que', 'preserva', 'a', 'el', 'sexo', 'el', 'estatuto', 'de', 'quehacer', 'velado', 'confidencial', 'y', 'secreto', 'sin', 'el', 'cuidado', 'de', 'las', 'formas', 'de', 'ese', 'ritual', 'que', 'a', 'la', 'vez', 'que', 'enriquece', 'prolonga', 'y', 'sublima', 'el', 'placer', 'el', 'acto', 'sexual', 'retorna', 'a', 'ser', 'un', 'ejercicio', 'puramente', 'físico', 'una', 'pulsión', 'de', 'la', 'naturaleza', 'en', 'el', 'organismo', 'humano', 'de', 'la', 'que', 'el', 'hombre', 'y', 'la', 'mujer', 'son', 'meros', 'instrumentos', 'pasivos', 'el', 'o', 'nos', 'ilustra', 'sin', 'pretender', 'lo', 'ni', 'saber', 'lo', 'esa', 'literatura', 'de', 'pacotilla', 'que', 'pretendiendo', 'ser', 'erótica', 'sólo', 'llega', 'a', 'los', 'rudimentos', 'vulgares', 'de', 'el', 'género', 'la', 'pornografía', 'la', 'literatura', 'erótica', 'se', 'vuelve', 'pornografía', 'por', 'razones', 'estrictamente', 'literarias', 'el', 'descuido', 'de', 'las', 'formas', 'es', 'decir', 'cuando', 'la', 'negligencia', 'o', 'la', 'torpeza', 'de', 'el', 'escritor', 'a', 'el', 'utilizar', 'el', 'lenguaje', 'construir', 'una', 'historia', 'desarrollar', 'los', 'diálogos', 'describir', 'una', 'situación', 'desvela', 'involuntariamente', 'todo', 'lo', 'que', 'hay', 'de', 'soez', 'y', 'repulsivo', 'en', 'un', 'acoplamiento', 'sexual', 'exonerado', 'de', 'sentimiento', 'y', 'elegancia', 'de', 'mise', 'en', 'scène', 'y', 'de', 'rito', 'convertido', 'en', 'mera', 'satisfacción', 'de', 'el', 'instinto', 'reproductor', 'hacer', 'el', 'amor', 'en', 'nuestros', 'días', 'en', 'el', 'mundo', 'occidental', 'está', 'mucho', 'más', 'cerca', 'de', 'la', 'pornografía', 'que', 'de', 'el', 'erotismo', 'y', 'paradójicamente', 'el', 'o', 'ha', 'resultado', 'como', 'una', 'deriva', 'degradada', 'y', 'perversa', 'de', 'la', 'libertad', 'los', 'tal', 'eres', 'de', 'masturbación', 'a', 'los', 'que', 'asistirán', 'en', 'el', 'futuro', 'los', 'jóvenes', 'extremeños', 'y', 'andaluces', 'como', 'parte', 'de', 'el', 'currículo', 'escolar', 'tienen', 'la', 'apariencia', 'de', 'un', 'paso', 'audaz', 'el', 'dominio', 'sexual', 'en', 'la', 'realidad', 'es', 'probable', 'que', 'esta', 'y', 'otras', 'iniciativas', 'semejantes', 'destinadas', 'a', 'desacralizar', 'la', 'vida', 'sexual', 'convirtiéndo', 'la', 'en', 'una', 'práctica', 'tan', 'común', 'y', 'corriente', 'como', 'comer', 'dormir', 'e', 'ir', 'a', 'el', 'trabajo', 'tengan', 'como', 'consecuencia', 'desilusionar', 'precozmente', 'a', 'las', 'nuevas', 'generaciones', 'de', 'la', 'práctica', 'sexual', 'ésta', 'perderá', 'misterio', 'pasión', 'fantasía', 'y', 'creatividad', 'y', 'se', 'habrá', 'banalizado', 'hasta', 'confundir', 'se', 'con', 'una', 'mera', 'calistenia', 'con', 'el', 'resultado', 'de', 'inducir', 'a', 'los', 'jóvenes', 'a', 'buscar', 'el', 'placer', 'en', 'otra', 'parte', 'probablemente', 'en', 'el', 'alcohol', 'la', 'violencia', 'y', 'las', 'drogas', 'por', 'eso', 'si', 'queremos', 'que', 'el', 'amor', 'físico', 'contribuya', 'a', 'enriquecer', 'la', 'vida', 'de', 'las', 'gentes', 'liberémoslo', 'de', 'los', 'prejuicios', 'pero', 'no', 'de', 'las', 'formas', 'y', 'los', 'ritos', 'que', 'lo', 'embellecen', 'y', 'civilizan', 'y', 'en', 'vez', 'de', 'exhibir', 'lo', 'a', 'plena', 'luz', 'y', 'por', 'las', 'calles', 'preservemos', 'esa', 'privacidad', 'y', 'discreción', 'que', 'permiten', 'a', 'los', 'amantes', 'jugar', 'a', 'ser', 'dioses', 'y', 'sentir', 'que', 'lo', 'son', 'en', 'esos', 'instantes', 'intensos', 'y', 'únicos', 'de', 'la', 'pasión', 'y', 'el', 'deseo', 'compartidos', 'chatcrypt', 'salones', 'que', 'utiliza', 'la', 'encriptación', 'aes', '256', 'ctr', 'de', 'modo', 'que', 'los', 'intercambios', 'son', 'totalmente', 'seguros', 'basta', 'crear', 'un', 'salón', 'y', 'comparti', 'una', 'definición', 'que', 'permita', 'la', 'aplicación', 'integral', 'de', 'la', 'ley', 'de', 'servicios', 'de', 'comunicación', 'audiovisual', 'fue', 'requerida', 'desde', 'el', 'consejo', 'federal', 'de', 'comunicación', 'audiovisual', 'reclaman', 'que', 'la', 'corte', 'suprema', 'de', 'justicia', 'no', 'prolongue', 'más', 'tiempo', 'el', 'análisis', 'de', 'los', 'artículos', 'de', 'la', 'normativa', 'que', 'son', 'cuestionados', 'por', 'el', 'grupo', 'clarín', 'representantes', 'de', 'las', 'provincias', 'y', 'de', 'las', 'organizaciones', 'que', 'integran', 'el', 'c', 'manifestaron', 'mediante', 'un', 'comunicado', 'que', 'si', 'la', 'corte', 'considera', 'necesaria', 'una', 'audiencia', 'como', 'paso', 'previo', 'a', 'el', 'fallo', 'ésta', 'será', 'una', 'instancia', 'más', 'en', 'la', 'que', 'la', 'sociedad', 'defenderá', 'la', 'legalidad', 'legitimidad', 'y', 'el', 'espíritu', 'profundamente', 'democrático', 'de', 'la', 'ley', 'no', 'se', 'puede', 'seguir', 'dilatando', 'en', 'el', 'tiempo', 'una', 'definición', 'que', 'es', 'requerida', 'no', 'solo', 'por', 'todos', 'los', 'actores', 'de', 'la', 'comunicación', 'sino', 'por', 'todas', 'aquellas', 'organizaciones', 'y', 'foros', 'que', 'se', 'movilizaron', 'y', 'trabajaron', 'para', 'tener', 'una', 'legislación', 'de', 'avanzada', 'a', 'nivel', 'mundial', 'que', 'abarca', 'y', 'contiene', 'a', 'todos', 'los', 'sectores', 'sociales', 'que', 'quieren', 'vivir', 'en', 'un', 'país', 'más', 'justo', 'e', 'inclusivo', 'un', 'país', 'que', 'necesita', 'de', 'medios', 'democráticos', 'hoy', 'vemos', 'y', 'padecemos', 'salvaje', 'no', 'solo', 'a', 'el', 'gobierno', 'sino', 'a', 'todo', 'aquel', 'que', 'no', 'comulgue', 'con', 'sus', 'intereses', 'que', 'claro', 'está', 'no', 'son', 'los', 'de', 'el', 'pueblo', 'argentino', 'señaló', 'el', 'titular', 'de', 'el', 'cofeca', 'pedro', 'báez', 'los', 'integrantes', 'de', 'el', 'consejo', 'recordaron', 'que', 'la', 'ley', 'de', 'medios', 'es', 'el', 'fruto', 'de', 'un', 'proceso', 'de', 'profundo', 'debate', 'democrático', 'de', 'foros', 'audiencias', 'públicas', 'charlas', 'y', 'movilizaciones', 'que', 'tuvieron', 'la', 'participación', 'activa', 'y', 'comprometida', 'de', 'organizaciones', 'sociales', 'de', 'derechos', 'humanos', 'de', 'universidades', 'nacionales', 'de', 'pueblos', 'originarios', 'sindicatos', 'empresas', 'pymes', 'cooperativas', 'y', 'comunitarias', 'y', 'que', 'se', 'desarrollaron', 'en', 'todo', 'el', 'país', 'quienes', 'cuestionan', 'su', 'constitucionalidad', 'y', 'encuentran', 'en', 'la', 'justicia', 'cómplices', 'para', 'dilatar', 'su', 'aplicación', 'tienen', 'un', 'claro', 'y', 'único', 'objetivo', 'fortalecer', 'su', 'posición', 'de', 'poder', 'económico', 'dominante', 'el', 'cofeca', 'como', 'órgano', 'con', 'representación', 'federal', 'y', 'de', 'todos', 'los', 'sectores', 'involucrados', 'en', 'la', 'comunicación', 'audiovisual', 'reafirma', 'una', 'vez', 'más', 'su', 'plena', 'convicción', 'de', 'el', 'carácter', 'constitucional', 'y', 'democrático', 'de', 'todos', 'los', 'artículos', 'la', 'ley', 'esperando', 'una', 'pronta', 'resolución', 'por', 'parte', 'de', 'la', 'corte', 'suprema', 'de', 'justicia', ' ', 'entrada', 'fue', 'publicada', 'el', 'viernes', 'agosto', '23', '2013', 'a', 'las', '2059', 'pm', 'en', 'las', 'categorías', 'noticias', 'usted', 'puede', 'seguir', 'los', 'comentarios', 'usando', 'el', 'feed', 'rss', '20', 'los', 'comentarios', 'están', 'cerrados', 'pero', 'puede', 'dejar', 'un', 'trackback', 'desde', 'su', 'sitio', 'cuando', 'estábamos', 'en', 'el', 'colegio', 'secundario', 'en', 'lugar', 'de', 'escapar', 'nos', 'a', 'los', 'billares', 'o', 'a', 'la', 'plaza', 'nos', 'metíamos', 'en', 'el', 'cine', 'todas', 'las', 'películas', 'dos', 'en', 'esos', 'días', 'nos', 'caían', 'bien', 'la', 'ceremonia', 'y', 'la', 'felicidad', 'de', 'sentar', 'se', 'en', 'una', 'butaca', 'para', 'meter', 'se', 'en', 'una', 'historia', 'es', 'siempre', 'la', 'misma', 'domingo', '11', 'de', 'agosto', 'de', '2013', 'walt', 'y', 'el', 'grupo', 'walt', 'y', 'el', 'grupo', 'en', '1941', 'walt', 'elías', 'disney', 'se', 'embarca', 'en', 'un', 'avión', 'de', 'american', 'airlines', 'con', 'un', 'grupo', 'importante', 'de', 'colaboradores', 'de', 'su', 'empresa', 'había', 'estrenado', 'ya', 'blancanieves', 'y', 'por', 'primera', 'vez', 'contaba', 'sus', 'ingresos', 'en', 'cientos', 'de', 'miles', 'su', 'apuesta', 'había', 'dado', 'resultado', 'y', 'tenía', 'en', 'el', 'banco', 'unos', 'dos', 'millones', 'de', 'dólares', 'que', 'no', 'tardó', 'en', 'volcar', 'los', 'uno', 'arriba', 'de', 'el', 'otro', 'en', 'la', 'construcción', 'de', 'el', 'estudio', 'en', 'california', 'eran', 'momentos', 'complejos', 'para', 'el', 'mundo', 'y', 'walt', 'disfrutaba', 'de', 'el', 'éxito', 'de', 'su', 'largometraje', 'animado', 'que', 'era', 'el', 'comienzo', 'de', 'algo', 'grande', 'él', 'lo', 'sabía', 'pero', 'no', 'todo', 'era', 'camino', 'recto', 'la', 'no', 'representaba', 'a', 'nadie', 'pero', 'que', 'sabía', 'cómo', 'hacer', 'el', 'trabajo', 'sucio', 'y', 'la', 'paralización', 'de', 'el', 'estudio', 'en', 'medio', 'de', 'la', 'crisis', 'que', 'la', 'guerra', 'originaba', 'la', 'gran', 'guerra', 'ya', 'estaba', 'en', 'el', 'patio', 'trasero', 'aunque', 'todavía', 'no', 'había', 'sucedido', 'pearl', 'harbor', 'las', 'restricciones', 'a', 'los', 'insumos', 'los', 'problemas', 'económicos', 'la', 'hacían', 'sentir', 'de', 'manera', 'fuerte', 'y', 'continua', 'en', 'medio', 'de', 'toda', 'esa', 'convulsión', 'en', 'medio', 'de', 'la', 'huelga', 'que', 'paralizaba', 'todo', 'roosevelt', 'le', 'propone', 'a', 'walt', 'un', 'viaje', 'un', 'largo', 'viaje', 'por', 'el', 'patio', 'trasero', 'de', 'américa', 'para', 'hacer', 'un', 'programa', 'de', 'buenos', 'vecinos', 'el', 'departamento', 'de', 'estado', 'se', 'ocupará', 'de', 'todo', 'sobre', 'todo', 'de', 'los', 'altos', 'costos', 'de', 'un', 'viaje', 'de', 'más', 'de', 'tres', 'meses', 'recorriendo', 'el', 'abc', 'tan', 'famoso', 'argentina', 'brasil', 'y', 'chile', 'para', 'walt', 'y', 'el', 'equipo', 'de', 'dibujantes', 'músicos', 'guionistas', 'que', 'él', 'designara', 'había', 'que', 'ir', 'y', 'ver', 'había', 'que', 'traer', 'ideas', 'personajes', 'conocer', 'llevar', 'cultura', 'en', 'un', 'abrazo', 'político', 'sin', 'precedentes', 'y', 'el', 'bueno', 'de', 'walt', 'que', 'significaba', 'una', 'huelga', 'muy', 'difícil', 'el', 'viaje', 'fue', 'pagado', 'por', 'el', 'gobierno', 'que', 'también', 'controló', 'los', 'objetivos', 'políticos', 'y', 'de', 'comunicación', 'de', 'semejante', 'movida', 'que', 'también', 'tenía', 'un', 'correlato', 'industrial', 'ya', 'que', 'la', 'idea', 'era', 'producir', 'dos', 'películas', 'cuya', 'taquilla', 'o', 'ingresos', 'estarían', 'garantizados', 'vayan', 'o', 'no', 'los', 'espectadores', 'buen', 'negocio', 'para', 'disney', 'que', 'solo', 'tenía', 'que', 'ir', 'ver', 'conocer', 'llevar', 'su', 'sonrisa', 'y', 'sus', 'ideas', 'y', 'absorber', 'cultura', 'este', 'sensacional', 'documental', 'cuenta', 'con', 'detalles', 'domésticos', 'ese', 'viaje', 'extraordinario', 'la', 'producción', 'de', 'las', 'dos', 'películas', 'saludos', 'amigos', 'y', 'the', 'three', 'caballeros', 'y', 'todo', 'lo', 'que', 'encerró', 'el', 'viaje', 'en', 'términos', 'de', 'intercambio', 'cultural', 'y', 'político', 'está', 'plasmado', 'en', 'tono', 'parsimonioso', 'completo', 'atractivo', 'y', 'con', 'imágenes', 'increíbles', 'de', 'los', 'países', 'en', 'la', 'época', 'no', 'hay', 'dudas', 'que', 'lo', 'más', 'rico', 'desde', 'el', 'punto', 'de', 'vista', 'cinematográfico', 'fue', 'brasil', 'inspirador', 'de', 'personajes', 'el', 'grillo', 'malandro', 'y', 'que', 'los', 'ilustradores', 'quedaron', 'deslumbrados', 'por', 'los', 'colores', 'y', 'la', 'belleza', 'de', 'río', 'de', 'janeiro', 'pero', 'también', 'fulgencio', 'batista', 'y', 'su', 'despliegue', 'de', 'glamour', 'el', 'gaucho', 'no', 'el', 'tango', 'como', 'podría', 'pensar', 'se', 'a', 'el', 'haber', 'se', 'instalado', 'en', 'el', 'corazón', 'de', 'la', 'ciudad', 'armaron', 'un', 'estudio', 'completo', 'en', 'la', 'terraza', 'de', 'el', 'alvear', 'palace', 'y', 'se', 'reflejan', 'toda', 'suerte', 'de', 'asados', 'con', 'cuero', 'visitas', 'a', 'estancias', 'y', 'domas', 'de', 'caballos', 'que', 'fascinaron', 'a', 'walt', 'que', 'en', 'toda', 'la', 'película', 'se', 'muestra', 'como', 'un', 'chico', 'juguetón', 'y', 'amante', 'de', 'las', 'bromas', 'peor', 'más', 'allá', 'de', 'toda', 'la', 'pintura', 'de', 'época', 'de', 'el', 'momento', 'complejo', 'de', 'la', 'guerra', 'de', 'los', 'folcklores', 'típicos', 'de', 'los', 'países', 'la', 'potencia', 'la', 'lleva', 'el', 'eje', 'central', 'de', 'el', 'documental', 'la', 'decisión', 'de', 'el', 'gobierno', 'de', 'estados', 'unidos', 'de', 'evangelizar', 'con', 'sus', 'valores', 'a', 'el', 'resto', 'de', 'la', 'región', 'desde', 'una', 'posición', 'de', 'tutela', 'de', 'hermano', 'mayor', 'es', 'cierto', 'pero', 'con', 'fascinación', 'por', 'todo', 'lo', 'que', 'fueron', 'encontrando', 'un', 'gran', 'evento', 'de', 'relaciones', 'públicas', 'un', 'perfecto', 'engranaje', 'de', 'propaganda', 'de', 'comunicación', 'gubernamental', 'de', 'sofisticación', 'para', 'seducir', 'a', 'una', 'región', 'enorme', 'potente', 'dinámica', 'que', 'podría', 'ayudar', 'a', 'torcer', 'con', 'métodos', 'más', 'rudimentarios', 'igual', 'de', 'ricos', 'en', 'términos', 'de', 'dinero', 'pero', 'infinitamente', 'menos', 'complejos', 'la', 'cultura', 'la', 'comunicación', 'el', 'cine', 'y', 'su', 'potencia', 'la', 'creatividad', 'y', 'la', 'incipiente', 'industria', 'de', 'la', 'animación', 'como', 'en', 'este', 'caso', 'al', 'servicio', 'de', 'las', 'ideas', 'de', 'un', 'país', 'acaso', 'el', 'cine', 'no', 'busca', 'siempre', 'decir', 'cosas', 'aún', 'en', 'esas', 'películas', 'que', 'se', 'nos', 'presentan', 'como', 'inocentes', 'desde', 'el', 'punto', 'de', 'vista', 'ideológico', 'a', 'poco', 'que', 'alguien', 'nos', 'abre', 'los', 'ojos', 'y', 'vemos', 'sus', 'productores', 'sus', 'mensajes', 'sus', 'mensajes', 'no', 'dichos', 'comenzamos', 'a', 'entender', 'un', 'poco', 'más', 'de', 'sus', 'objetivos', 'y', 'de', 'el', 'ideario', 'que', 'tienen', 'detrás', 'la', 'gran', 'herramienta', 'cultural', 'junto', 'con', 'la', 'televisión', 'después', 'para', 'decir', 'lo', 'que', 'no', 'se', 'puede', 'decir', 'de', 'frente', 'mirando', 'a', 'los', 'ojos', 'para', 'emocionar', 'cuando', 'se', 'lo', 'dice', 'para', 'que', 'lo', 'diga', 'uno', 'que', 'es', 'más', 'atractivo', 'que', 'el', 'presidente', 'a', 'el', 'que', 'por', 'otro', 'lado', 'ya', 'nadie', 'le', 'cree', 'eso', 'puede', 'la', 'comunicación', 'a', 'través', 'de', 'el', 'arte', 'de', 'perón', 'que', 'tanto', 'mito', 'tejieron', 'alrededor', 'de', 'las', 'visitas', 'a', 'los', 'parques', 'en', 'bariloche', 'de', 'la', 'idea', 'para', 'los', 'parques', 'temáticos', 'cuando', 'visitaron', 'la', 'república', 'de', 'los', 'niños', 'este', 'viaje', 'transcurre', 'en', '1941', 'y', 'este', 'documental', 'lo', 'refleja', 'con', 'toda', 'su', 'complejidad', 'no', 'hay', 'comentarios', 'publicar', 'un', 'comentario', 'en', 'la', 'entrada', 'seguidores', 'datos', 'personales', 'dice', 'roland', 'barthes', 'en', 'crítica', 'y', 'verdad', 'la', 'crítica', 'es', 'una', 'lectura', 'profunda', 'o', 'mejor', 'dicho', 'perfilada', 'descubre', 'en', 'la', 'obra', 'cierto', 'inteligible', 'y', 'en', 'ello', 'es', 'verdad', 'descifra', 'y', 'participa', 'de', 'una', 'interpretación', 'es', 'decir', 'lo', 'que', 'hace', 'la', 'crítica', 'según', 'rb', 'es', 'desdoblar', 'los', 'sentidos', 'hacer', 'flotar', 'un', 'lenguaje', 'por', 'encima', 'de', 'el', 'primer', 'lenguaje', 'de', 'la', 'obra', 'es', 'decir', 'una', 'coherencia', 'de', 'signos', 'de', 'la', 'interesante', 'nota', 'en', 'adn', 'de', 'el', 'viernes', '17', 'de', 'febrero', 'de', '2012', 'tomo', 'los', 'cuatro', 'elementos', 'que', 'no', 'deberían', 'faltar', 'en', 'una', 'crítica', 'información', 'análisis', 'interpretación', 'y', 'evaluación', 'y', 'después', 'uno', 'lee', 'por', 'ahí', 'que', 'es', 'cómodo', 'fácil', 'de', 'artistas', 'frustrados', 'esto', 'de', 'mirar', 'y', 'compartir', 'evoque', 'estos', 'principios', 'y', 'deje', 'este', 'sabor', 'seguinos', 'la', 'piel', 'que', 'habito', 'crítica', 'ya', 'se', 'sabe', 'que', 'con', 'pedro', 'almodóvar', 'detrás', 'de', 'cámaras', 'uno', 'nunca', 'se', 'puede', 'estar', 'demasiado', 'cómodo', 'ni', 'tampoco', 'permanecer', 'indiferente', 'a', 'lo', 'que', 'nos', 'muestra', 'en', 'pantalla', 'podrán', 'gustar', 'les', 'sus', 'películas', 'en', 'mayor', 'o', 'menor', 'medida', 'pero', 'si', 'hay', 'algo', 'seguro', 'es', 'que', 'eso', 'que', 'verán', 'será', 'diferente', 'a', 'todo', 'la', 'piel', 'que', 'habito', 'es', 'la', 'primera', 'colaboración', 'de', 'el', 'director', 'con', 'antonio', 'banderas', 'en', '21', 'años', 'luego', 'de', 'átame', 'y', 'déjen', 'me', 'decir', 'les', 'que', 'la', 'dupla', 'volvió', 'a', 'lo', 'grande', 'con', 'un', 'film', 'impecablemente', 'ejecutado', 'que', 'va', 'construyendo', 'la', 'historia', 'lentamente', 'hasta', 'volar', 'nos', 'la', 'cabeza', 'con', 'un', 'giro', 'de', 'trama', 'tan', 'perverso', 'como', 'shockeante', 'que', 'uno', 'tarda', 'el', 'resto', 'de', 'la', 'película', 'en', 'asimilar', 'lo', 'impactante', 'bizarra', 'cruda', 'y', 'brillantemente', 'actuada', 'la', 'última', 'película', 'de', 'almodóvar', 'es', 'más', 'aterradora', 'que', 'cualquier', 'entrega', 'de', 'el', 'juego', 'de', 'el', 'miedo', 'por', 'una', 'única', 'y', 'simple', 'razón', 'es', 'espeluznantemente', 'real', 'nuestro', 'rostro', 'nos', 'identifica', 'nos', 'distingue', 'de', 'los', 'demás', 'esas', 'son', 'las', 'primeras', 'palabras', 'quien', 'obsesionado', 'luego', 'de', 'que', 'su', 'esposa', 'muriera', 'a', 'causa', 'de', 'graves', 'quemaduras', 'ha', 'inventado', 'un', 'nuevo', 'tipo', 'de', 'piel', 'más', 'resistente', 'que', 'lo', 'natural', 'para', 'este', 'nuevo', 'descubrimiento', 'hizo', 'falta', 'un', 'conejillo', 'de', 'indias', 'llamado', 'vera', 'la', 'bellísima', 'elena', 'anaya', 'quien', 'reside', 'hace', 'seis', 'años', 'en', 'contra', 'de', 'su', 'voluntad', 'en', 'la', 'mansión', 'el', 'cigarral', 'propiedad', 'de', 'ledgard', 'a', 'pesar', 'de', 'que', 'la', 'experimentación', 'en', 'humanos', 'está', 'prohibida', 'por', 'la', 'ley', 'para', 'el', 'doctor', 'ledgard', 'los', 'escrúpulos', 'nunca', 'representaron', 'un', 'problema', 'ya', 'que', 'pone', 'su', 'obsesión', 'por', 'encima', 'de', 'todo', 'es', 'por', 'eso', 'que', 'vemos', 'a', 'vera', 'en', 'un', 'traje', 'ajustado', 'que', 'es', 'como', 'una', 'segunda', 'piel', 'aparentemente', 'acostumbrada', 'a', 'el', 'cautiverio', '¿', 'pero', 'quién', 'es', 'cómo', 'llegó', 'allí', 'y', 'la', 'pregunta', 'más', 'importante', 'por', 'qué', 'ni', 'siquiera', 'intenta', 'escapar', 'vera', 'es', 'un', 'interrogante', 'en', 'sí', 'misma', 'una', 'pregunta', 'cuya', 'respuesta', 'almodóvar', 'irá', 'develando', 'sutilmente', 'y', 'con', 'maestría', 'todo', 'este', 'misterio', 'se', 'acrecienta', 'cuando', 'nos', 'enteramos', 'que', 'el', 'rostro', 'de', 'vera', 'es', 'igual', 'a', 'el', 'de', 'la', 'esposa', 'de', 'síndrome', 'de', 'estocolmo', 'a', 'el', 'enamorar', 'se', 'de', 'su', 'captor', 'luego', 'de', 'tomar', 'se', 'un', 'buen', 'tiempo', 'para', 'introducir', 'nos', 'a', 'los', 'personajes', 'la', 'historia', 'nos', 'remite', 'seis', 'años', 'atrás', 'y', 'nos', 'muestra', 'algunas', 'de', 'las', 'causas', 'de', 'porqué', 'robert', 'se', 'convirtió', 'en', 'un', 'monstruo', 'a', 'el', 'vengar', 'la', 'muerte', 'de', 'su', 'hija', 'este', 'flashback', 'no', 'solo', 'es', 'la', 'respuesta', 'a', 'todo', 'sino', 'que', 'lentamente', 'va', 'jugando', 'con', 'el', 'público', 'dándo', 'le', 'pequeñas', 'pistas', 'que', 'conducirán', 'a', 'una', 'aterradora', 'conclusión', 'esta', 'conclusión', 'quizá', 'podrá', 'resultar', 'previsible', 'para', 'algunos', 'pero', 'resulta', 'tan', 'descabellada', 'que', 'muy', 'pocos', 'se', 'atreverán', 'siquiera', 'a', 'pensar', 'la', 'un', 'giro', 'de', 'trama', 'que', 'dará', 'que', 'hablar', 'durante', 'mucho', 'tiempo', 'tal', 'como', 'pasara', 'con', 'aquel', 'de', 'sexto', 'sentido', 'aquí', 'almodóvar', 'utiliza', 'la', 'piel', 'como', 'metáfora', 'de', 'lo', 'que', 'nos', 'protege', 'nos', 'define', 'y', 'nos', 'da', 'identidad', 'esa', 'identidad', 'que', 'vera', 'luchará', 'por', 'no', 'perder', 'mientras', 'que', 'robert', 'lucha', 'con', 'su', 'enfermiza', 'obsesión', 'esto', 'sumado', 'a', 'la', 'utilización', 'de', 'los', 'constantes', 'espacios', 'cerrados', 'genera', 'una', 'atmósfera', 'asfixiante', 'como', 'el', 'tono', 'de', 'la', 'historia', 'además', 'las', 'interpretaciones', 'de', 'un', 'personaje', 'complejo', 'y', 'con', 'muchos', 'matices', 'pero', 'la', 'que', 'se', 'destaca', 'es', 'elena', 'anaya', 'con', 'el', 'papel', 'más', 'difícil', 'de', 'el', 'film', 'una', 'mujer', 'en', 'apariencia', 'sumisa', 'pero', 'que', 'es', 'una', 'sobreviviente', 'nata', 'que', 'hará', 'lo', 'que', 'sea', 'para', 'recuperar', 'su', 'libertad', 'la', 'piel', 'que', 'habito', 'es', 'uno', 'de', 'los', 'filmes', 'de', 'el', 'año', 'gracias', 'a', 'una', 'narración', 'perfecta', 'a', 'la', 'que', 'no', 'le', 'hace', 'falta', 'demasiado', 'diálogo', 'para', 'trasmitir', 'lo', 'que', 'sienten', 'sus', 'personajes', 'almodóvar', 'enciende', 'una', 'mecha', 'que', 'se', 'va', 'consumiendo', 'lentamente', 'hasta', 'hacer', 'implosión', 'en', 'el', 'momento', 'justo', 'y', 'de', 'la', 'mejor', 'manera', 'una', 'película', 'que', 'dura', 'más', 'de', 'lo', 'que', 'se', 'puede', 'ver', 'nace', 'el', 'chip', 'electrónico', 'que', 'se', 'autorrepara', 'sólo', 'los', 'chips', 'de', 'un', 'teléfono', 'inteligente', 'o', 'de', 'una', 'computadora', 'podrían', 'en', 'un', 'futuro', 'próximo', 'arreglar', 'se', 'solos', 'pudiendo', 'detectar', 'fallos', 'en', 'su', 'funcionamiento', 'y', 'recuperar', 'se', 'en', 'microsegundos', 'un', 'equipo', 'de', 'ingenieros', 'de', 'el', 'instituto', 'de', 'tecnología', 'de', 'california', 'caltech', 'en', 'eeuu', 'ha', 'desarrollado', 'chips', 'con', 'capacidades', 'autocurativas', 'en', 'los', 'experimentos', 'los', 'especialistas', 'utilizaron', 'pequeños', 'amplificadores', 'de', 'baja', 'potencia', 'que', 'contienen', 'un', 'total', 'de', '76', 'chips', 'y', 'destruían', 'varias', 'partes', 'de', 'el', 'dispositivo', 'con', 'un', 'láser', 'de', 'alta', 'potencia', 'los', 'chips', 'en', 'menos', 'de', 'un', 'segundo', 'solucionaban', 'el', 'problema', 'de', 'funcionamiento', 'de', 'forma', 'automática', 'hasta', 'casi', 'lograr', 'un', 'rendimiento', 'ideal', 'fue', 'increíble', 'ver', 'la', 'primera', 'vez', 'que', 'el', 'sistema', 'se', 'curó', 'a', 'sí', 'mismo', 'me', 'sentí', 'como', 'si', 'estuviésemos', 'presenciando', 'el', 'siguiente', 'paso', 'en', 'la', 'evolución', 'de', 'los', 'circuitos', 'integrados', 'indicó', 'ali', 'hajimiri', 'profesor', 'de', 'ingeniería', 'eléctrica', 'en', 'caltech', 'hasta', 'ahora', 'un', 'solo', 'fallo', 'en', 'un', 'chip', 'bastaba', 'para', 'que', 'el', 'circuito', 'integrado', 'quedara', 'completamente', 'inutilizado', 'razón', 'por', 'la', 'a', 'los', 'chips', 'de', 'circuitos', 'de', 'una', 'capacidad', 'de', 'curación', 'similar', 'a', 'la', 'de', 'nuestro', 'propio', 'sistema', 'inmunológico', 'pudiendo', 'detectar', 'y', 'responder', 'rápidamente', 'cualquier', 'número', 'de', 'ataques', 'posibles', 'a', 'fin', 'de', 'mantener', 'lo', 'en', 'óptimo', 'funcionamiento', 'el', 'amplificador', 'de', 'potencia', 'que', 'han', 'ideado', 'emplea', 'sensores', 'que', 'controlan', 'la', 'temperatura', 'la', 'corriente', 'la', 'tensión', 'y', 'la', 'potencia', 'también', 'consta', 'de', 'un', 'procesador', 'central', 'que', 'actúa', 'como', 'cerebro', 'de', 'el', 'sistema', 'analiza', 'el', 'rendimiento', 'general', 'de', 'el', 'amplificador', 'y', 'determina', 'si', 'alguna', 'parte', 'necesita', 'ser', 'ajustada', 'de', 'esa', 'forma', 'se', 'pueden', 'resolver', 'problemas', 'relacionados', 'con', 'el', 'envejecimiento', 'de', 'las', 'propiedades', 'internas', 'de', 'el', 'sistema', 'daños', 'provocados', 'por', 'condiciones', 'ambientales', 'o', 'la', 'destrucción', 'accidental', 'o', 'deliberada', 'de', 'las', 'partes', 'de', 'los', 'circuitos', 'los', 'chips', 'de', 'un', 'teléfono', 'inteligente', 'o', 'de', 'una', 'computadora', 'podrían', 'en', 'un', 'futuro', 'próximo', 'arreglar', 'se', 'solos', 'pudiendo', 'detectar', 'fallos', 'en', 'su', 'funcionamiento', 'y', 'recuperar', 'se', 'en', 'microsegundos', 'un', 'equipo', 'de', 'ingenieros', 'de', 'el', 'instituto', 'de', 'tecnología', 'de', 'california', 'caltech', 'en', 'eeuu', 'ha', 'desarrollado', 'chips', 'con', 'capacidades', 'autocurativas', 'en', 'los', 'experimentos', 'los', 'total', 'de', '76', 'chips', 'y', 'destruían', 'varias', 'partes', 'de', 'el', 'dispositivo', 'con', 'un', 'láser', 'de', 'alta', 'potencia', 'los', 'chips', 'en', 'menos', 'de', 'un', 'segundo', 'solucionaban', 'el', 'problema', 'de', 'funcionamiento', 'de', 'forma', 'automática', 'hasta', 'casi', 'lograr', 'un', 'rendimiento', 'ideal', 'fue', 'increíble', 'ver', 'la', 'primera', 'vez', 'que', 'el', 'sistema', 'se', 'curó', 'a', 'sí', 'mismo', 'me', 'sentí', 'como', 'si', 'estuviésemos', 'presenciando', 'el', 'siguiente', 'paso', 'en', 'la', 'evolución', 'de', 'los', 'circuitos', 'integrados', 'indicó', 'ali', 'hajimiri', 'profesor', 'de', 'ingeniería', 'eléctrica', 'en', 'caltech', 'hasta', 'ahora', 'un', 'solo', 'fallo', 'en', 'un', 'chip', 'bastaba', 'para', 'que', 'el', 'circuito', 'integrado', 'quedara', 'completamente', 'inutilizado', 'razón', 'por', 'la', 'que', 'los', 'ingenieros', 'de', 'caltech', 'concibieron', 'este', 'sistema', 'que', 'dota', 'a', 'los', 'chips', 'de', 'circuitos', 'de', 'una', 'capacidad', 'de', 'curación', 'similar', 'a', 'la', 'de', 'nuestro', 'propio', 'sistema', 'inmunológico', 'pudiendo', 'detectar', 'y', 'responder', 'rápidamente', 'cualquier', 'número', 'de', 'ataques', 'posibles', 'a', 'fin', 'de', 'mantener', 'lo', 'en', 'óptimo', 'funcionamiento', 'el', 'amplificador', 'de', 'potencia', 'que', 'han', 'ideado', 'emplea', 'sensores', 'que', 'controlan', 'la', 'temperatura', 'la', 'corriente', 'la', 'tensión', 'y', 'la', 'potencia', 'también', 'consta', 'de', 'un', 'procesador', 'central', 'que', 'actúa', 'como', 'cerebro', 'de', 'el', 'sistema', 'si', 'alguna', 'parte', 'necesita', 'ser', 'ajustada', 'de', 'esa', 'forma', 'se', 'pueden', 'resolver', 'problemas', 'relacionados', 'con', 'el', 'envejecimiento', 'de', 'las', 'propiedades', 'internas', 'de', 'el', 'sistema', 'daños', 'provocados', 'por', 'condiciones', 'ambientales', 'o', 'la', 'destrucción', 'accidental', 'o', 'deliberada', 'de', 'las', 'partes', 'de', 'los', 'circuitos', 'mapa', 'de', 'visitas', 'contador', 'twitter', 'facebook', 'suscribite', 'confirmación', 'requerida', 'una', 'vez', 'ingresado', 'su', 'email', 'le', 'llegará', 'de', 'manera', 'automática', 'e', 'instantánea', 'un', 'correo', 'a', 'la', 'dirección', 'colocada', 'es', 'necesario', 'que', 'confirme', 'haciendo', 'click', 'en', 'el', 'link', 'de', 'color', 'azul', 'si', 'no', 'lo', 'recibió', 'revise', 'la', 'bandeja', 'de', 'correo', 'no', 'deseado', 'spam', '¡', 'muchas', 'gracias', 'miércoles', '29', 'de', 'mayo', 'de', '2013', 'había', 'una', 'vez', 'una', 'rana', 'que', 'quería', 'ser', 'una', 'rana', 'auténtica', 'y', 'todos', 'los', 'días', 'se', 'esforzaba', 'en', 'ello', 'al', 'principio', 'se', 'compró', 'un', 'espejo', 'en', 'el', 'que', 'se', 'miraba', 'largamente', 'buscando', 'su', 'ansiada', 'autenticidad', 'unas', 'veces', 'parecía', 'encontrar', 'la', 'y', 'otras', 'no', 'según', 'el', 'humor', 'de', 'ese', 'día', 'o', 'de', 'la', 'hora', 'hasta', 'que', 'se', 'cansó', 'de', 'esto', 'y', 'guardó', 'el', 'espejo', 'en', 'un', 'baúl', 'por', 'fin', 'pensó', 'que', 'la', 'única', 'forma', 'de', 'conocer', 'su', 'propio', 'valor', 'estaba', 'en', 'la', 'opinión', 'de', 'la', 'gente', 'y', 'comenzó', 'a', 'peinar', 'se', 'y', 'a', 'vestir', 'se', 'y', 'a', 'desvestir', 'se', 'cuando', 'no', 'le', 'quedaba', 'otro', 'recurso', 'para', 'saber', 'si', 'los', 'demás', 'la', 'aprobaban', 'y', 'reconocían', 'que', 'era', 'una', 'rana', 'auténtica', 'un', 'día', 'observó', 'que', 'lo', 'que', 'más', 'admiraban', 'de', 'ella', 'era', 'su', 'cuerpo', 'especialmente', 'sus', 'piernas', 'de', 'manera', 'que', 'se', 'dedicó', 'a', 'hacer', 'sentadillas', 'y', 'a', 'saltar', 'para', 'tener', 'unas', 'ancas', 'cada', 'vez', 'mejores', 'y', 'sentía', 'que', 'todos', 'la', 'aplaudían', 'y', 'así', 'seguía', 'haciendo', 'esfuerzos', 'hasta', 'que', 'dispuesta', 'auténtica', 'se', 'dejaba', 'arrancar', 'las', 'ancas', 'y', 'los', 'otros', 'se', 'las', 'comían', 'y', 'ella', 'todavía', 'alcanzaba', 'a', 'oír', 'con', 'amargura', 'cuando', 'decían', 'que', 'qué', 'buena', 'rana', 'que', 'parecía', 'pollo', 'augusto', 'monterroso', '1921003', 'nació', 'en', 'honduras', 'pero', 'pasó', 'la', 'mayor', 'parte', 'de', 'su', 'vida', 'en', 'guatemala', 'recibió', 'numerosos', 'premios', 'nacionales', 'e', 'internacionales', 'su', 'producción', 'literaria', 'es', 'netamente', 'guatemalteca', 'su', 'cuento', 'cuando', 'despertó', 'el', 'dinosaurio', 'todavía', 'estaba', 'allí', 'está', 'considerado', 'como', 'el', 'relato', 'más', 'breve', 'de', 'la', 'literatura', 'universal', 'blog', 'independiente', 'que', 'impulsa', 'el', 'desarrollo', 'tecnológico', 'agropecuario', 'y', 'social', 'argentino', 'sin', 'inversión', 'no', 'hay', 'nueva', 'tecnología', 'sin', 'tecnología', 'no', 'hay', 'desarrollo', 'y', 'sin', 'desarrollo', 'no', 'hay', 'defensa', 'los', 'países', 'en', 'vías', 'de', 'desarrollo', 'tienen', 'grandes', 'ventajas', 'aprovechar', 'la', 'tecnología', 'disponible', 'para', 'hacer', 'con', 'menos', 'el', 'esfuerzo', 'y', 'sacrificio', 'que', 'hicieron', 'los', 'países', 'desarrollados', 'que', 'actuaron', 'como', 'pioneros', 'de', 'la', 'innovación', 'sábado', '16', 'de', 'marzo', 'de', '2013', 'mercedes', 'benz', 'presentó', 'camiones', 'que', 'comenzó', 'a', 'producir', 'en', 'el', 'país', 'débora', 'giorgi', 'ministra', 'de', 'industria', 'visitó', 'ayer', 'las', 'oficinas', 'de', 'la', 'empresa', 'allí', 'el', 'responsable', 'de', 'la', 'compañía', 'en', 'américa', 'latina', 'jurgen', 'ziegler', 'presentó', 'las', '2', 'primeras', 'unidades', 'de', 'los', 'nuevos', 'modelos', 'que', 'la', 'firma', 'comenzó', 'a', 'fabricar', 'en', 'argentina', 'la', 'ministra', 'de', 'industria', 'débora', 'giorgi', 'visitó', 'ayer', 'las', 'oficinas', 'de', 'mercedes', 'benz', 'donde', 'el', 'responsable', 'de', 'el', 'grupo', 'para', 'américa', 'latina', 'jurgen', 'ziegler', 'presentó', 'los', 'dos', 'primeros', 'camiones', 'de', 'los', 'nuevos', 'modelos', 'que', 'la', 'firma', 'comenzó', 'a', 'producir', 'en', 'el', 'país', 'para', 'fabricar', 'estos', 'modelos', 'que', 'hasta', 'de', 'pesos', 'y', 'sumó', '100', 'nuevos', 'empleados', 'informó', 'el', 'ministerio', 'a', 'través', 'de', 'un', 'comunicado', 'los', 'nuevos', 'modelos', 'son', 'el', 'atron', '1624', 'semipesado', 'y', 'atron', '1634', 'pesado', 'con', 'los', 'que', 'la', 'automotriz', 'de', 'origen', 'alemán', 'duplicará', 'el', 'volumen', 'de', 'producción', 'de', 'camiones', 'llegando', 'a', 'las', '2600', 'unidades', 'por', 'el', 'año', 'además', 'a', 'partir', 'de', 'abril', 'la', 'empresa', 'comenzará', 'a', 'producir', 'tres', 'nuevos', 'chasis', 'para', 'buses', 'completando', 'así', 'una', 'inversión', 'de', '80', 'millones', 'de', 'pesos', 'no', 'es', 'casualidad', 'que', 'líderes', 'mundiales', 'como', 'mercedesbenz', 'sigan', 'apostando', 'a', 'el', 'país', 'y', 'aumenten', 'su', 'producción', 'local', 'dijo', 'giorgi', 'y', 'aseguró', 'que', 'la', 'localización', 'de', 'estos', 'modelos', 'se', 'da', 'en', 'el', 'marco', 'de', 'las', 'fuertes', 'políticas', 'públicas', 'de', 'estímulo', 'a', 'el', 'sector', 'como', 'por', 'ejemplo', 'el', 'programaderenovacióndeflotadecarga', 'por', 'el', 'que', 'se', 'financia', 'la', 'compra', 'de', 'camiones', 'a', 'una', 'tasa', 'fija', 'en', 'pesos', 'de', 'entre', 'el', '5', 'y', 'el', '9', 'por', 'ciento', 'anual', 'con', 'fondos', 'de', 'el', 'banco', 'nación', 'en', '2011', 'mercedes', 'benz', 'volvió', 'a', 'producir', 'camiones', 'en', 'el', 'país', 'con', 'el', 'modelo', 'atron', '1720', 'pero', 'no', 'fabricaba', ' ', 'no', 'hay', 'comentarios', 'publicar', 'un', 'comentario', 'en', 'la', 'entrada', 'los', 'comentarios', 'mal', 'redactados', 'y', 'o', 'con', 'empleo', 'de', 'palabras', 'que', 'denoten', 'insultos', 'y', 'que', 'no', 'tienen', 'relación', 'con', 'el', 'tema', 'no', 'serán', 'publicados', 'los', 'mensajes', 'anonimos', 'sin', 'identificación', 'o', 'nick', 'no', 'seran', 'publicados', 'homenaje', 'a', 'el', 'perito', 'moreno', 'palabras', 'de', 'manuel', 'belgrano', 'busqueda', 'en', 'este', 'blog', 'translate', 'conceptos', 'la', 'potencia', 'de', 'un', 'país', 'se', 'puede', 'medir', 'por', 'su', 'capacidad', 'científicotecnológica', 'la', 'capacidad', 'económica', 'deudor', 'o', 'acreedor', 'su', 'capacidad', 'militar', 'ofensiva', 'y', 'defensiva', 'y', 'el', 'estado', 'psiquicoespiritual', 'de', 'sus', 'habitantes', ' ', 'las', '3p', 'de', 'el', 'poder', 'prudencia', 'proporcionalidad', 'y', 'perseverancia', ' ', 'las', 'nuevas', 'amenazas', 'son', 'el', 'terrorismo', 'la', 'delincuencia', 'organizada', 'transnacional', 'el', 'problema', 'mundial', 'de', 'las', 'drogas', 'la', 'corrupción', 'el', 'lavado', 'de', 'activos', 'el', 'tráfico', 'ilícito', 'de', 'armas', 'y', 'las', 'conexiones', 'entre', 'ellos', 'la', 'pobreza', 'extrema', 'y', 'la', 'exclusión', 'social', 'de', 'amplios', 'sectores', 'de', 'la', 'población', 'que', 'también', 'afectan', 'la', 'estabilidad', 'y', 'la', 'democracia', 'la', 'pobreza', 'extrema', 'erosiona', 'la', 'cohesión', 'social', 'y', 'vulnera', 'los', 'de', 'origen', 'humano', 'el', 'vih', 'sida', 'y', 'otras', 'enfermedades', 'paludismo', 'y', 'tuberculosis', 'otros', 'riesgos', 'a', 'la', 'salud', 'y', 'el', 'deterioro', 'de', 'el', 'medio', 'ambiente', 'la', 'trata', 'de', 'personas', 'los', 'ataques', 'a', 'la', 'seguridad', 'cibernética', 'la', 'posibilidad', 'de', 'que', 'surja', 'un', 'daño', 'en', 'el', 'caso', 'de', 'un', 'accidente', 'o', 'incidente', 'durante', 'el', 'transporte', 'marítimo', 'de', 'materiales', 'potencialmente', 'peligrosos', 'incluidos', 'el', 'petróleo', 'material', 'radioactivo', 'y', 'desechos', 'tóxicos', 'y', 'la', 'posibilidad', 'de', 'el', 'acceso', 'posesión', 'y', 'uso', 'de', 'armas', 'de', 'destrucción', 'en', 'masa', 'y', 'sus', 'medios', 'vectores', 'por', 'terroristas', ' ', 'existen', 'presidentes', 'que', 'se', 'aferran', 'a', 'el', 'pasado', 'por', 'ser', 'incapaces', 'de', 'planear', 'un', 'futuro', ' ', 'una', 'nación', 'no', 'se', 'transforma', 'mediante', 'leyes', 'sus', 'progresos', 'son', 'consecuencia', 'de', 'la', 'evolución', 'de', 'las', 'almas', 'el', 'poderío', 'de', 'un', 'pueblo', 'depende', 'de', 'la', 'duración', 'y', 'de', 'la', 'intensidad', 'de', 'su', 'esfuerzo', 'dentro', 'de', 'sí', 'mismo', 'y', 'no', 'fuera', 'es', 'donde', 'debe', 'encontrar', 'las', 'causas', 'de', 'su', 'grandeza', 'o', 'de', 'su', 'decadencia', ' ', 'lo', 'único', 'que', 'necesita', 'el', 'mal', 'para', 'triunfar', 'es', 'que', 'los', 'hombres', 'buenos', 'adversarios', 'con', 'rivales', 'ni', 'a', 'rivales', 'con', 'enemigos', ' ', 'el', 'mundo', 'es', 'como', 'és', 'porque', 'nosotros', 'somos', 'como', 'somos', ' ', 'son', 'los', 'actos', 'lo', 'que', 'definen', 'a', 'una', 'persona', 'el', 'que', 'hace', 'puede', 'equivocar', 'se', 'el', 'que', 'no', 'hace', 'solo', 'crítica', ' ', 'la', 'decencia', 'no', 'tiene', 'ideología', 'la', 'moral', 'no', 'es', 'patrimonio', 'de', 'ninguna', 'religión', 'dios', 'te', 'perdona', 'siempre', 'el', 'hombre', 'te', 'perdona', 'a', 'veces', 'la', 'naturaleza', 'no', 'te', 'perdona', 'nunca', 'cuidemos', 'el', 'medio', 'ambiente', ' ', 'ineptocracia', 'un', 'sistema', 'de', 'gobierno', 'donde', 'el', 'menos', 'capaz', 'de', 'liderar', 'es', 'elegido', 'por', 'la', 'clase', 'menos', 'capaz', 'de', 'pensar', 'y', 'producir', 'y', 'donde', 'los', 'miembros', 'de', 'la', 'sociedad', 'menos', 'capaz', 'de', 'sostener', 'se', 'a', 'si', 'misma', 'es', 'recompensada', 'con', 'productos', 'y', 'servicios', 'pagados', 'por', 'la', 'riqueza', 'confiscada', 'de', 'un', 'número', 'reducido', 'de', 'productores', 'el', 'desarrollo', 'se', 'expresa', 'mediante', 'la', 'capacidad', 'de', 'visualización', 'y', 'resolución', 'de', 'los', 'problemas', 'la', 'apropiada', 'división', 'de', 'el', 'trabajo', 'el', 'empleo', 'de', 'tecnología', 'adecuada', 'a', 'el', 'medio', 'y', 'a', 'las', 'necesidades', 'así', 'como', 'el', 'uso', 'racional', 'de', 'los', 'en', 'el', 'nivel', 'nacional', 'se', 'orienta', 'a', 'el', 'mejoramiento', 'de', 'las', 'condiciones', 'políticas', 'económicas', 'sociales', 'militares', 'ambientales', 'científicas', 'y', 'tecnológicas', 'de', 'la', 'comunidad', 'lucas', 'olmedo', 'y', 'juan', 'cruz', 'garzón', 'ceo', 'y', 'cfo', 'de', 'fligoo', 'respectivamente', '¿', 'cuántas', 'veces', 'nos', 'trabamos', 'a', 'la', 'hora', 'de', 'elegir', 'un', 'regalo', 'para', 'un', 'amigo', 'las', 'redes', 'sociales', 'y', 'un', 'grupo', 'de', 'emprendedores', 'tienen', 'una', 'posible', 'solución', 'conocer', 'los', 'gustos', 'a', 'través', 'de', 'las', 'actualizaciones', 'públicas', 'de', 'nuestro', 'amigo', 'cumpleañero', 'fligoo', 'es', 'una', 'herramienta', 'que', 'desde', 'la', 'web', 'nos', 'permite', 'conocer', 'qué', 'le', 'puede', 'gustar', 'a', 'nuestro', 'amigo', 'e', 'incluso', 'comprar', 'se', 'lo', 'online', 'lucas', 'olmedo', 'y', 'juan', 'cruz', 'garzón', 'ceo', 'y', 'cfo', 'de', 'fligoo', 'le', 'contaron', 'a', 'ítalo', 'daffra', 'cómo', 'funciona', 'la', 'herramienta', 'y', 'de', 'qué', 'manera', 'ganan', 'dinero', 'te', 'invitamos', 'a', 'escuchar', 'nuestro', 'podcast', 'de', 'el', '25', 'de', 'abril', 'de', '2013', 'para', 'suscribir', 'se', 'con', 'lector', 'de', 'rss', 'reproductor', 'de', 'audio', 'de', 'computadora', 'o', 'dispositivos', 'móviles', 'ingresá', 'la', 'dirección', 'httpfeedsfeedburnercomcdnpodcast', 'si', 'querés', 'saber', 'cómo', 'seguir', 'cada', 'semana', 'casos', 'de', 'negocios', 'con', 'tu', 'software', 'o', 'dispositivo', 'preferido', 'consultá', 'esta', 'página', 'donde', 'te', 'explicamos', 'cómo', 'hacer', 'lo', 'los', 'niños', 'y', 'las', 'tic', 'la', 'naturalidad', 'con', 'la', 'que', 'nuestros', 'alumnos', 'se', 'aproximan', 'a', 'las', 'tecnologías', 'de', 'la', 'información', 'y', 'la', 'comunicación', 'les', 'proporciona', 'innegables', 'beneficios', 'de', 'carácter', 'educativo', 'social', 'y', 'de', 'ocio', 'sin', 'embargo', 'también', 'existen', 'una', 'serie', 'de', 'riesgos', 'relacionados', 'con', 'las', 'tic', 'que', 'pueden', 'afectar', 'de', 'forma', 'especial', 'a', 'los', 'menores', 'por', 'ello', 'para', 'que', 'niños', 'y', 'adolescentes', 'puedan', 'disfrutar', 'de', 'las', 'tic', 'en', 'toda', 'su', 'extensión', 'y', 'aprovechar', 'las', 'múltiples', 'posibilidades', 'que', 'estas', 'les', 'ofrecen', 'es', 'clave', 'que', 'sepan', 'cuáles', 'son', 'sus', 'riesgos', 'y', 'conozcan', 'la', 'forma', 'de', 'afrontar', 'los', 'de', 'ese', 'modo', 'también', 'aumentará', 'la', 'confianza', 'de', 'sus', 'padres', 'hacia', 'las', 'tic', 'y', 'su', 'incorporación', 'a', 'la', 'sociedad', 'de', 'el', 'conocimiento', 'hoy', 'día', 'todos', 'y', 'todas', 'sabemos', 'que', 'internet', 'y', 'las', 'nuevas', 'tecnologías', 'de', 'la', 'información', 'y', 'la', 'comunicación', 'tic', 'tienen', 'una', 'presencia', 'muy', 'importante', 'en', 'nuestras', 'vidas', 'cotidianas', 'mucho', 'más', 'en', 'la', 'vida', 'de', 'los', 'niños', 'niñas', 'y', 'jóvenes', 'que', 'por', 'haber', 'nacido', 'en', 'un', 'entorno', 'dominado', 'por', 'la', 'presencia', 'tecnológica', 'acceden', 'con', 'más', 'facilidad', 'que', 'y', 'lo', 'hacen', 'con', 'tal', 'grado', 'de', 'pericia', 'destreza', 'y', 'adaptación', 'que', 'sugerencias', 'y', 'experiencias', 'a', 'ese', 'mundo', 'que', 'abren', 'las', 'nuevas', 'tic', 'y', 'que', 'tantas', 'posibilidades', 'educativas', 'nos', 'propone', '¿', 'qué', 'suelen', 'hacer', 'los', 'niños', 'y', 'jóvenes', 'con', 'las', 'tic', 'qué', 'hacen', 'con', 'internet', 'es', 'importante', 'partir', 'de', 'un', 'concepto', 'las', 'tic', 'hoy', 'día', 'son', 'un', 'medio', 'indispensable', 'de', 'la', 'socialización', 'y', 'de', 'la', 'construcción', 'identitaria', 'los', 'niños', 'niñas', 'y', 'jóvenes', 'se', 'construyen', 'a', 'ellos', 'mismos', 'de', 'forma', 'permanente', 'cuando', 'utilizan', 'las', 'tic', 'las', 'imágenes', 'que', 'deciden', 'mostrar', 'de', 'ellos', 'mismos', 'o', 'de', 'las', 'cosas', 'que', 'les', 'gustan', 'y', 'prefieren', 'los', 'relatos', 'que', 'deciden', 'resaltar', 'y', 'con', 'los', 'que', 'eligen', 'fragmentos', 'de', 'la', 'realidad', 'las', 'modas', 'que', 'publicitan', 'las', 'elecciones', 'estéticas', 'y', 'artísticas', 'sus', 'historias', 'de', 'amor', 'sus', 'aventuras', 'juveniles', 'y', 'hasta', 'sus', 'desventuras', 'de', 'crecimiento', 'los', 'aprendizajes', 'y', 'las', 'búsquedas', 'que', 'desarrollan', 'sus', 'recorridos', 'cotidianos', 'los', 'trayectos', 'que', 'realizan', 'sus', 'pasiones', 'y', 'sus', 'odios', 'sus', 'símbolos', 'preferidos', 'y', 'sus', 'formas', 'de', 'mirar', 'el', 'pasado', 'presente', 'y', 'el', 'futuro', 'chicas', 'juegan', 'charlan', 'investigan', 'o', 'simplemente', 'se', 'entregan', 'sin', 'aparentes', 'razones', 'explícitas', 'a', 'el', 'mundo', 'virtual', 'a', 'través', 'de', 'los', 'ordenadores', 'los', 'niños', 'las', 'niñas', 'y', 'los', 'jóvenes', 'chatean', 'conversan', 'con', 'amigos', 'y', 'desconocidos', 'buscan', 'información', 'referida', 'a', 'temas', 'de', 'su', 'interés', 'o', 'los', 'fanáticos', 'de', 'los', 'blogs', 'y', 'los', 'foros', 'cuando', 'eligen', 'algunos', 'de', 'los', 'cientos', 'que', 'hay', 'en', 'la', 'red', 'para', 'discutir', 'con', 'habitantes', 'de', 'lugares', 'remotos', 'sobre', 'un', 'tema', 'común', 'o', 'intercambiar', 'información', 'válida', 'sobre', 'el', 'mismo', 'las', 'tic', 'los', 'acompañan', 'como', 'tutores', 'celosos', 'en', 'sus', 'tareas', 'escolares', 'cotidianas', 'y', 'en', 'muchos', 'casos', 'los', 'niños', 'no', 'solo', 'aprovechan', 'la', 'facilidad', 'de', 'el', 'copiar', 'y', 'pegar', 'que', 'permite', 'la', 'web', 'sino', 'que', 'buscan', 'información', 'la', 'comparan', 'con', 'otra', 'seleccionan', 'editan', 'complementan', 'con', 'ideas', 'propias', 'etc', 'en', 'ese', 'trabajo', 'aun', 'cuando', 'no', 'le', 'pongan', 'ese', 'nombre', 'contrastan', 'fuentes', 'de', 'información', 'los', 'niños', 'las', 'niñas', 'y', 'los', 'jóvenes', 'juegan', 'en', 'red', 'o', 'con', 'juegos', 'en', 'de', 'soportes', 'técnicos', 'hay', 'miles', 'de', 'juegos', 'on', 'line', 'que', 'los', 'distraen', 'y', 'en', 'algunos', 'casos', 'estos', 'juegos', 'se', 'transforman', 'en', 'verdaderas', 'compañías', 'a', 'falta', 'de', 'amigos', 'cercanos', 'o', 'padres', 'sin', 'tiempo', 'a', 'causa', 'de', 'las', 'ocupaciones', 'cotidianas', 'incluso', 'son', 'refugio', 'para', 'los', 'chicos', 'a', 'los', 'que', 'no', 'les', 'dejan', 'salir', 'por', 'problemas', 'de', 'inseguridad', 'las', 'tic', 'permiten', 'también', 'mantener', 'encendida', 'la', 'llama', 'de', 'el', 'vínculo', 'familiar', 'sobre', 'todo', 'cuando', 'los', 'seres', 'queridos', 'y', 'muy', 'cercanos', 'están', 'separados', 'por', 'la', 'distancia', 'de', 'ciudades', 'o', 'países', 'los', 'jóvenes', 'también', 'se', 'dan', 'a', 'conocer', 'a', 'través', 'de', 'sus', 'propias', 'webs', 'blogs', 'o', 'fotologs', 'donde', 'aprovechan', 'para', 'subir', 'información', 'que', 'les', 'retrate', 'de', 'la', 'manera', 'más', 'fiel', 'posible', 'o', 'de', 'la', 'manera', 'que', 'ellos', 'desean', 'mostrar', 'se', 'y', 'qué', 'mejor', 'manera', 'que', 'una', 'web', 'que', 'uno', 'mismo', 'administre', 'y', 'a', 'la', 'que', 'uno', 'mismo', 'suba', 'la', 'selección', 'de', 'información', 'más', 'fiel', 'a', 'ese', 'perfil', 'que', 'se', 'desea', 'transmitir', 'y', 'en', 'algunos', 'casos', 'con', 'resultados', 'fantásticos', '¿', 'a', 'qué', 'clases', 'de', 'riesgos', 'nos', 'exponen', 'las', 'tic', 'las', 'nuevas', 'maneras', 'de', 'participar', 'de', 'entornos', 'de', 'diálogos', 'abiertos', 'a', 'través', 'de', 'las', 'nuevas', 'tic', 'ofrecen', 'muchas', 'ventajas', 'y', 'amedrentar', 'nos', 'tenemos', 'que', 'conocer', 'para', 'saber', 'prevenir', 'con', 'esto', 'nos', 'referimos', 'a', 'que', 'cuando', 'chateamos', 'o', 'utilizamos', 'el', 'correo', 'electrónico', 'estamos', 'dando', 'en', 'mayor', 'o', 'menor', 'medida', 'datos', 'personales', 'y', 'estos', 'pueden', 'ser', 'utilizados', 'por', 'desconocidos', 'para', 'averiguar', 'detalles', 'de', 'nuestra', 'intimidad', 'que', 'muchas', 'veces', 'no', 'estamos', 'dispuestos', 'a', 'compartir', 'con', 'otros', ' ', 'que', 'aunque', 'alguien', 'piense', 'que', 'su', 'imagen', 'y', 'las', 'imágenes', 'que', 'portan', 'las', 'fotos', 'que', 'se', 'suben', 'pueden', 'ser', 'utilizadas', 'con', 'fines', 'muy', 'determinados', 'a', 'menudo', 'en', 'la', 'práctica', 'se', 'terminan', 'utilizando', 'para', 'cosas', 'que', 'difieren', 'en', 'mucho', 'de', 'las', 'intenciones', 'de', 'sus', 'autores', 'y', 'es', 'extremadamente', 'difícil', 'quitar', 'de', 'la', 'web', 'contenidos', 'subidos', ' ', 'los', 'archivos', 'que', 'solemos', 'recibir', 'de', 'personas', 'desconocidas', 'pueden', 'contener', 'virus', 'o', 'datos', 'no', 'adecuados', ' ', 'que', 'es', 'relativamente', 'fácil', 'inventar', 'una', 'identidad', 'para', 'establecer', 'contactos', 'a', 'través', 'de', 'internet', 'tan', 'fácil', 'como', 'crear', 'una', 'cuenta', 'de', 'correo', 'o', 'un', 'usuario', 'de', 'chat', ' ', 'como', 'contrapartida', 'es', 'relativamente', 'difícil', 'saber', 'quién', 'es', 'el', 'que', 'nos', 'ha', 'escrito', 'desde', 'qué', 'máquina', 'y', 'cuándo', ' ', 'que', 'muchas', 'veces', 'donde', 'se', 'producen', 'relaciones', 'de', 'poder', 'y', 'abusos', 'esto', 'nos', 'lleva', 'a', 'estar', 'alertas', 'cuando', 'personas', 'que', 'desconocemos', 'nos', 'piden', 'fotos', 'personales', 'o', 'nos', 'hacen', 'preguntas', 'de', 'nuestro', 'entorno', 'y', 'nuestra', 'vida', 'familiar', 'o', 'nos', 'envían', 'fotos', 'personales', 'aunque', 'no', 'se', 'las', 'hayamos', 'solicitado', 'y', 'sobre', 'todo', 'cuando', 'insisten', 'en', 'encontrar', 'se', 'con', 'nosotros', 'en', 'algún', 'lugar', 'real', 'internet', 'un', 'mundo', 'peligroso', 'con', 'una', 'riqueza', 'enorme', 'la', 'escuela', 'es', 'una', 'de', 'las', 'pocas', 'instituciones', 'a', 'las', 'que', 'asisten', 'o', 'deberían', 'asistir', 'todos', 'los', 'niños', 'y', 'adolescentes', 'de', 'nuestra', 'sociedad', 'por', 'eso', 'es', 'un', 'lugar', 'privilegiado', 'de', 'encuentro', 'entre', 'adultos', 'y', 'jóvenes', 'donde', 'el', 'diálogo', 'puede', 'dar', 'se', 'verdaderamente', 'como', 'proceso', 'la', 'cantidad', 'de', 'horas', 'compartidas', 'la', 'existencia', 'de', 'un', 'lugar', 'común', 'por', 'la', 'repetición', 'de', 'rituales', 'cotidianos', 'y', 'la', 'cantidad', 'de', 'docentes', 'que', 'trabajan', 'desempeñan', 'en', 'cada', 'establecimiento', 'la', 'casa', 'por', 'su', 'parte', 'es', 'el', 'lugar', 'más', 'íntimo', 'donde', 'se', 'trazan', 'los', 'vínculos', 'primarios', 'y', 'de', 'socialización', 'inicial', 'de', 'las', 'personas', 'donde', 'vivimos', 'y', 'satisfacemos', 'muchas', 'necesidades', 'básicas', 'ambos', 'espacios', 'escuela', 'y', 'la', 'relación', 'entre', 'los', 'jóvenes', 'y', 'las', 'tic', 'ese', 'abordaje', 'debería', 'ser', 'desde', 'nuestro', 'punto', 'de', 'vista', 'un', 'acompañamiento', 'pero', 'un', 'camino', 'transitado', 'en', 'conjunto', 'donde', 'sin', 'borrar', 'nuestro', 'rol', 'como', 'adultos', 'responsables', 'maestros', 'padres', 'etc', ' ', 'aprendamos', 'a', 'aprender', 'de', 'los', 'chicos', 'aprendamos', 'a', 'compartir', 'conversaciones', 'y', 'prácticas', 'donde', 'valoremos', 'sus', 'propias', 'maneras', 'de', 'usar', 'las', 'tic', 'necesitamos', 'construir', 'una', 'relación', 'de', 'confianza', 'ni', 'intrusos', 'ni', 'indiferentes', 'con', 'nuestros', 'estudiantes', 'e', 'hijos', 'para', 'que', 'cuenten', 'con', 'nosotros', 'cuando', 'tengan', 'una', 'duda', 'cuando', 'se', 'sientan', 'incómodos', 'perciban', 'algún', 'riesgo', 'o', 'estén', 'siendo', 'víctimas', 'de', 'algún', 'tipo', 'de', 'acoso', 'abuso', 'etc', 'comencemos', 'por', 'un', 'principio', 'básico', 'de', 'la', 'época', 'que', 'nos', 'toca', 'vivir', 'un', 'principio', 'que', 'puede', 'verse', 'como', 'debilidad', 'aunque', 'en', 'realidad', 'se', 'trata', 'de', 'una', 'gran', 'fortaleza', 'ni', 'el', 'docente', 'ni', 'las', 'profesoras', 'ni', 'los', 'padres', 'lo', 'saben', 'todo', 'y', 'tampoco', 'están', 'en', 'condiciones', 'de', 'dar', 'respuesta', 'sobre', 'y', 'cada', 'uno', 'de', 'los', 'problemas', 'que', 'presentan', 'los', 'niños', 'las', 'niñas', 'y', 'jóvenes', 'ya', 'nadie', 'gran', 'alivio', 'comprender', 'que', 'se', 'puede', 'enseñar', 'se', 'puede', 'transmitir', 'valores', 'y', 'construir', 'conceptos', 'con', 'los', 'jóvenes', 'sin', 'que', 'sea', 'necesario', 'ser', 'el', 'dueño', 'de', 'los', 'saberes', 'legítimos', 'debemos', 'ser', 'capaces', 'de', 'establecer', 'una', 'nueva', 'relación', 'intergeneracional', 'basada', 'en', 'la', 'comunicación', 'la', 'reflexión', 'y', 'la', 'voluntad', 'de', 'escuchar', 'si', 'podemos', 'partir', 'de', 'ese', 'punto', 'ya', 'estaremos', 'dando', 'un', 'gran', 'paso', 'a', 'la', 'búsqueda', 'de', 'soluciones', 'compartidas', '¿', 'qué', 'podemos', 'hacer', 'los', 'docentes', 'estar', 'alertas', 'el', 'rol', 'de', 'el', 'docente', 'es', 'crucial', 'a', 'la', 'hora', 'de', 'detectar', 'o', 'reconocer', 'cuando', 'un', 'niño', 'o', 'una', 'niña', 'tiene', 'un', 'problema', 'emocional', 'o', 'de', 'comportamiento', 'que', 'puede', 'deber', 'se', 'a', 'un', 'posible', 'abuso', 'generar', 'las', 'condiciones', 'para', 'que', 'los', 'niños', 'se', 'animen', 'a', 'contar', 'lo', 'que', 'viven', 'es', 'un', 'paso', 'muy', 'importante', 'para', 'los', 'niños', 'y', 'niñas', 'se', 'trata', 'de', 'una', 'manera', 'de', 'comenzar', 'a', 'defender', 'se', 'a', 'crear', 'redes', 'de', 'apoyo', 'a', 'encontrar', 'a', 'personas', 'donde', 'depositar', 'esperanzas', 'de', 'solución', 'y', 'tener', 'en', 'cuenta', 'que', 'cuando', 'los', 'niños', 'cuentan', 'situaciones', 'de', 'abuso', 'casi', 'nunca', 'mienten', 'es', 'preferible', 'arriesgar', 'se', 'a', 'considerar', 'lo', 'a', 'priori', 'falso', 'porque', 'cuando', 'un', 'niño', 'deja', 'de', 'confiar', 'también', 'deja', 'de', 'contar', 'y', 'recordar', 'que', 'el', 'culpable', 'es', 'el', 'agresor', 'nunca', 'el', 'propio', 'niño', ' ', 'potenciar', 'la', 'autogestión', 'y', 'la', 'autoprotección', 'el', 'docente', 'tiene', 'que', 'trabajar', 'para', 'lograr', 'que', 'los', 'niños', 'y', 'las', 'niñas', 'adquieran', 'o', 'refuercen', 'su', 'seguridad', 'y', 'autoestima', 'el', 'niño', 'tiene', 'que', 'sentir', 'se', 'orgulloso', 'de', 'sí', 'mismo', 'si', 'quiere', 'superar', 'el', 'daño', 'que', 'le', 'ha', 'causado', 'el', 'abuso', 'tiene', 'que', 'volver', 'a', 'creer', 'en', 'su', 'inteligencia', 'en', 'su', 'astucia', 'y', 'en', 'su', 'capacidad', 'de', 'encontrar', 'salidas', 'aunque', 'se', 'encuentre', 'frente', 'a', 'verdaderos', 'callejones', 'oscuros', 'de', 'la', 'misma', 'manera', 'promover', 'la', 'autonomía', 'de', 'el', 'niño', 'en', 'la', 'toma', 'de', 'decisiones', 'el', 'docente', 'siempre', 'tiene', 'que', 'hacer', 'le', 'el', 'magnate', 'australiano', 'de', 'el', 'juego', 'james', 'packer', 'quiere', 'expandir', 'su', 'negocio', 'en', 'el', 'lucrativo', 'mercado', 'japonés', 'con', 'casinos', 'resort', 'aprovechando', 'la', 'gran', 'afición', 'de', 'la', 'población', 'de', 'ese', 'país', 'por', 'los', 'juegos', 'de', 'azar', 'para', 'su', 'empresa', 'que', 'opera', 'casinos', 'en', 'melbourne', 'perth', 'y', 'macao', 'y', 'está', 'planeando', 'complejos', 'en', 'manila', 'sydney', 'y', 'sri', 'lanka', 'el', 'territorio', 'nipón', 'es', 'su', 'próximo', 'gran', 'desafio', 'click', 'en', 'la', 'imagen', 'para', 'ver', 'en', 'tamaño', 'original', 'el', 'australiano', 'james', 'packer', 'packer', 'cree', 'que', 'japón', 'tiene', 'el', 'potencial', 'de', 'convertir', 'se', 'en', 'una', 'nación', 'top', 'de', 'el', 'juego', 'dada', 'la', 'buena', 'administración', 'y', 'por', 'ser', 'la', 'tercer', 'economía', 'mundial', 'el', 'magnate', 'australiano', 'propone', 'la', 'construcción', 'de', 'centros', 'turísticos', 'integrados', 'en', 'japón', 'para', 'mantener', 'las', 'cosas', 'equilibradas', 'hecho', 'mal', 'el', 'juego', 'puede', 'ser', 'parasitario', 'pero', 'hecho', 'bien', 'a', 'través', 'de', 'centros', 'integrados', 'puede', 'ser', 'enormemente', 'positivo', 'dijo', 'packer', 'también', 'alienta', 'a', 'japón', 'a', 'aprender', 'de', 'singapur', 'con', 'centros', 'integrados', 'bien', 'hechos', 'lo', 'bueno', 'supera', 'a', 'lo', 'malo', 'singapur', 'es', 'una', 'prueba', 'intensificará', 'el', 'tema', 'de', 'los', 'casinos', 'una', 'vez', 'que', 'se', 'permitan', 'en', 'el', 'territorio', 'ya', 'que', 'opinó', 'que', 'el', 'país', 'sólo', 'está', 'pasando', 'por', 'un', 'proceso', 'político', 'en', 'este', 'momento', 'japón', 'siempre', 'fue', 'visto', 'como', 'el', 'santo', 'grial', 'de', 'los', 'juegos', 'asiáticos', 'debido', 'a', 'su', 'población', 'adinerada', 'la', 'proximidad', 'a', 'china', 'y', 'el', 'apetito', 'para', 'otras', 'formas', 'de', 'juegos', 'de', 'azar', 'legales', 'como', 'las', 'carreras', 'de', 'caballos', 'y', 'el', 'pachinko', 'se', 'espera', 'que', 'un', 'proyecto', 'de', 'ley', 'que', 'se', 'presentará', 'a', 'finales', 'de', 'este', 'año', 'de', 'ser', 'aprobado', 'allanaría', 'el', 'camino', 'para', 'que', 'grandes', 'empresas', 'internacionales', 'de', 'el', 'sector', 'construyan', 'casinos', 'una', 'informe', 'preparado', 'por', 'la', 'firma', 'de', 'inversiones', 'clsa', 'señaló', 'a', 'principios', 'de', 'este', 'año', 'que', 'si', 'la', 'legislación', 'pasa', 'japón', 'podría', 'convertir', 'se', 'en', 'una', 'de', 'las', 'jurisdicciones', 'de', 'juego', 'más', 'grande', 'de', 'el', 'mundo', 'tal', 'vez', 'sólo', 'superada', 'por', 'macao', 'clsa', 'estimó', 'que', 'sólo', 'dos', 'establecimientos', 'de', 'juego', 'en', 'tokio', 'y', 'otro', 'en', 'la', 'ciudad', 'de', 'osaka', 'podrían', 'generar', 'ingresos', 'por', '10', 'mil', 'millones', 'de', 'dólares', 'escribir', 'un', 'comentario', 'importante', 'los', 'comentarios', 'publicados', 'derivadas', 'de', 'ellos', 'pueden', 'ser', 'pasibles', 'de', 'las', 'sanciones', 'legales', 'que', 'correspondan', 'aquel', 'usuario', 'que', 'incluya', 'en', 'sus', 'mensajes', 'algún', 'comentario', 'violatorio', 'de', 'el', 'reglamento', 'será', 'eliminado', 'e', 'inhabilitado', 'para', 'volver', 'a', 'comentar', 'la', 'publicación', 'de', 'los', 'mensajes', 'se', 'dará', 'luego', 'de', 'ser', 'verificados', 'por', 'un', 'moderador', 'hay', 'que', 'conformar', 'se', 'con', 'poco', 'a', 'esta', 'altura', 'aunque', 'no', 'resulte', 'un', 'pensamiento', 'demasiado', 'positivo', 'no', 'parece', 'exagerado', 'pensar', 'que', 'el', 'cine', 'apunta', 'mucho', 'más', 'hacia', 'atrás', 'que', 'hacia', 'adelante', 'que', 'el', 'artista', 'haya', 'ganado', 'el', 'oscar', 'como', 'mejor', 'película', 'de', 'el', '2011', 'fue', 'todo', 'un', 'síntoma', 'hollywood', 'se', 'miró', 'a', 'sí', 'mismo', 'porque', 'se', 'quedó', 'sin', 'ideas', 'algo', 'de', 'eso', 'también', 'pasa', 'con', 'el', 'espectador', 'despierto', 'que', 'quiere', 'más', 'prefiere', 'ir', 'hacia', 'la', 'historia', 'de', 'el', 'cine', 'que', 'hacia', 'lo', 'que', 'viene', 'o', 'va', 'venir', 'sencillamente', 'porque', 'por', 'diferentes', 'razones', 'las', 'diferencias', 'de', 'calidad', 'son', 'muy', 'grandes', 'el', 'cierre', 'de', 'el', 'cine', 'arteplex', 'belgrano', 'fue', 'un', 'golpe', 'duro', 'como', 'también', 'lo', 'había', 'sido', 'el', 'adiós', 'a', 'mi', 'videoclub', 'newfilm', 'el', 'año', 'anterior', 'no', 'parece', 'una', 'casualidad', 'que', 'dos', 'lugares', 'con', 'características', 'similares', 'ámbitos', 'con', 'público', 'bien', 'marcado', 'menor', 'pero', 'siempre', 'fiel', 'hayan', 'dejado', 'de', 'existir', 'en', 'menos', 'de', 'un', 'año', 'aunque', 'las', 'cifras', 'indican', 'que', 'el', '2012', 'fue', 'de', 'gran', 'éxito', 'en', 'cuanto', 'a', 'entradas', 'vendidas', 'la', 'no', 'cine', '¿', 'qué', 'quiere', 'decir', 'que', 'la', 'enorme', 'cantidad', 'de', 'público', 'que', 'fue', 'a', 'a', 'el', 'cine', 'el', 'año', 'pasado', 'se', 'reparte', 'en', 'no', 'más', 'de', 'diez', 'películas', 'de', 'esta', 'forma', 'el', 'mercado', 'se', 'achica', 'y', 'aburre', 'así', 'el', 'arteplex', 'belgrano', 'deja', 'de', 'existir', 'los', 'espacios', 'físicos', 'para', 'ver', 'cierto', 'tipo', 'de', 'filmes', 'son', 'cada', 'vez', 'menores', 'por', 'eso', 'es', 'que', 'hay', 'que', 'estar', 'atentos', 'y', 'saber', 'atrapar', 'a', 'esos', 'estrenos', 'que', 'brillan', 'por', 'su', 'maestría', 'suelen', 'estar', 'poco', 'tiempo', 'en', 'cartelera', 'y', 'son', 'ignorados', 'por', 'las', 'masas', 'este', 'post', 'es', 'un', 'humilde', 'intento', 'de', 'acercar', 'lo', 'mejor', 'de', 'el', '2012', 'para', 'crónicas', 'de', 'calle', 'a', 'aquellos', 'que', 'intentan', 'no', 'ser', 'devorados', 'por', 'una', 'industria', 'inflexible', 'e', 'intolerante', 'una', 'segunda', 'oportunidad', 'de', 'ver', 'lo', 'mejor', 'de', 'el', 'año', ' ', 'el', 'chico', 'de', 'la', 'bicicleta', 'jean', 'piere', 'dardenne', 'y', 'luc', 'dardenne', 'cyril', 'tiene', 'unos', '14', 'años', 'abandonado', 'por', 'su', 'padre', 'lo', 'único', 'que', 'tiene', 'es', 'una', 'bicicleta', 'en', 'realidad', 'ni', 'eso', 'su', 'papá', 'la', 'vendió', 'para', 'escapar', 'se', 'con', 'algo', 'más', 'de', 'está', 'solo', 'intenta', 'mostrar', 'se', 'duro', 'y', 'poco', 'amigable', 'pero', 'no', 'pretende', 'otra', 'cosa', 'más', 'que', 'hablar', 'con', 'alguien', 'y', 'que', 'lo', 'abracen', 'cyril', 'es', 'un', 'personaje', 'extraordinario', 'inmerso', 'en', 'una', 'historia', 'muy', 'bien', 'contada', 'dura', 'pero', 'no', 'empalagosa', 'el', 'espectador', 'sentirá', 'ganas', 'de', 'comprar', 'le', 'una', 'bicicleta', 'y', 'luego', 'acompañar', 'lo', 'en', 'el', 'camino', 'pero', 'la', 'vida', 'real', 'y', 'cruda', 'se', 'cruzará', 'en', 'todo', 'momento', 'y', 'dejará', 'un', 'mensaje', 'claro', 'esto', 'no', 'es', 'un', 'cuento', 'de', 'hadas', ' ', 'la', 'separación', 'asghar', 'farhadi', 'un', 'conflicto', 'familiar', 'en', 'una', 'sociedad', 'cerrada', 'y', 'prejuiciosa', 'un', 'mundo', 'repleto', 'de', 'miedos', 'intolerancia', 'y', 'falta', 'de', 'entendimiento', 'un', 'relato', 'vibrante', 'con', 'una', 'extraordinaria', 'denuncia', 'a', 'las', 'formas', 'de', 'vivir', 'en', 'irán', 'excelentes', 'actuaciones', 'esta', 'película', 'ganó', 'el', 'oscar', 'a', 'mejor', 'film', 'de', 'habla', 'no', 'inglesa', 'en', '2011', ' ', 'el', 'puerto', 'aki', 'kaurismaki', 'una', 'clase', 'perfecta', 'de', 'cómo', 'hacer', 'una', 'película', 'simple', 'sin', 'demasiadas', 'ambiciones', 'más', 'que', 'contar', 'una', 'historia', 'entretenida', 'y', 'que', 'deje', 'algún', 'tipo', 'de', 'enseñanza', 'en', 'este', 'caso', 'kaurismaki', 'bucea', 'sociedad', 'de', 'ese', 'país', 'con', 'respecto', 'a', 'el', 'perseguimiento', 'y', 'prejuicio', 'a', 'los', 'inmigrantes', 'por', 'otro', 'lado', 'también', 'muestra', 'la', 'solidaridad', 'y', 'unión', 'de', 'un', 'grupo', 'de', 'personas', 'que', 'debe', 'luchar', 'en', 'el', 'día', 'a', 'día', 'tierna', 'y', 'divertida', ' ', 'moonrise', 'kingdom', 'wes', 'anderson', 'una', 'historia', 'de', 'amor', 'entre', 'dos', 'chicos', '¿', 'existe', 'el', 'amor', 'entre', 'chicos', 'es', 'una', 'de', 'las', 'preguntas', 'que', 'parece', 'plantear', 'wes', 'anderson', 'que', 'con', 'esta', 'película', 'vuelve', 'a', 'mostrar', 'se', 'como', 'un', 'director', 'distinto', 'a', 'la', 'hora', 'de', 'filmar', 'pero', 'también', 'sensible', 'para', 'contar', 'algo', 'específico', 'y', 'sin', 'ir', 'se', 'de', 'foco', 'cada', 'plano', 'luce', 'lindo', 'y', 'perfecto', 'por', 'lo', 'que', 'cada', 'tanto', 'suena', 'algo', 'artificial', 'pero', 'no', 'por', 'eso', 'menos', 'emotivo', 'la', 'habitual', 'locura', 'de', 'los', 'personajes', 'de', 'anderson', 'queda', 'reducida', 'de', 'manera', 'brillante', 'a', 'dos', 'soñadores', 'entrañables', 'como', 'susy', 'y', 'sam', 'a', 'la', 'altura', 'de', 'los', 'excéntricos', 'tenenbaums', 'y', 'viaje', 'a', 'darjeeling', ' ', 'esto', 'no', 'es', 'un', 'film', 'jafar', 'panahi', 'una', 'verdadera', 'obra', 'maestra', 'panahi', 'es', 'un', 'director', 'iraní', 'que', 'acaba', 'de', 'salir', 'de', 'prisión', 'condenado', 'de', 'el', 'mundo', 'y', 'mostrar', 'aspectos', 'de', 'irán', 'no', 'permitidos', 'y', 'sólo', 'puede', 'recluir', 'se', 'en', 'su', 'casa', 'hasta', 'que', 'se', 'termine', 'de', 'resolver', 'su', 'situación', 'judicial', 'panahi', 'sueña', 'cómo', 'será', 'su', 'próxima', 'película', 'juega', 'a', 'ser', 'director', 'en', 'el', 'living', 'de', 'su', 'casa', 'mientras', 'aclara', 'a', 'quien', 'lo', 'filma', 'mojtaba', 'mirtahmasb', 'que', 'eso', 'no', 'es', 'un', 'film', 'da', 'un', 'sentido', 'extraordinario', 'de', 'lo', 'que', 'es', 'la', 'libertad', 'casi', 'nunca', 'se', 'puede', 'quitar', 'una', 'conmovedora', 'declaración', 'de', 'principios', ' ', 'argo', 'ben', 'affleck', 'sin', 'dudas', 'lo', 'mejor', 'que', 'salió', 'de', 'la', 'cantera', 'de', 'hollywood', 'pese', 'a', 'la', 'inexpresiva', 'actuación', 'de', 'ben', 'aflleck', 'con', 'esta', 'película', 'parece', 'más', 'que', 'obvio', 'que', 'debería', 'dedicar', 'se', 'sólo', 'a', 'la', 'dirección', 'la', 'película', 'es', 'fuerte', 'y', 'cierra', 'por', 'todas', 'partes', 'relata', 'un', 'conflicto', 'histórico', 'la', 'toma', 'de', 'la', 'embajada', 'de', 'estados', 'unidos', 'en', 'irán', 'en', '1980', 'con', 'detalles', 'que', 'valen', 'la', 'pena', 'mostrar', 'y', 'hacen', 'que', 'el', 'relato', 'sea', 'sólido', 'se', 'transmite', 'permanente', 'tensión', 'y', 'suspenso', 'una', 'película', 'bien', 'lograda', 'con', 'momentos', 'dramáticos', 'pero', 'solo', 'pretendo', 'ser', 'una', 'pequeña', 'baliza', 'que', 'titila', 'cuando', 'creo', 'que', 'erramos', 'el', 'sendero', 'por', 'el', 'cual', 'prometimos', 'caminar', 'c', 'on', 'la', 'redundante', 'y', 'fastidiosa', 'conferencia', 'de', 'prensa', 'junto', 'a', 'una', 'oculta', 'decepción', 'de', 'el', 'canciller', 'norteamericano', 'kerry', 'se', 'bajó', 'el', 'telón', 'a', 'la', 'enésima', 'edición', 'de', 'el', 'festival', 'mediático', 'de', 'la', 'credulidad', 'levantina', 'el', 'pesimismo', 'reinante', 'y', 'la', 'perspectiva', 'de', 'fracaso', 'de', 'reencaminar', 'las', 'conversaciones', 'de', 'paz', 'entre', 'israelíes', 'y', 'palestinos', 'tal', 'como', 'lo', 'vaticinan', 'la', 'mayoría', 'de', 'los', 'expertos', 'no', 'pudieron', 'evitar', 'que', 'nuevamente', 'se', 'escuchen', 'plegarias', 'y', 'hasta', 'el', 'convencimiento', 'que', 'la', 'paz', 'está', 'a', 'el', 'alcance', 'de', 'las', 'manos', 'yoel', 'markus', 'conocido', 'analista', 'de', 'la', 'actualidad', 'israelí', 'quedó', 'fascinado', 'de', 'las', 'circunstancias', 'hasta', 'que', 'trató', 'de', 'demostrar', 'que', 'todos', 'los', 'intentos', 'anteriores', 'fueron', 'bromas', 'de', 'mal', 'gusto', 'y', 'esta', 'vez', 'realmente', 'va', 'en', 'serio', 'su', 'ilimitada', 'imaginación', 'lo', 'llevó', 'a', 'delirar', 'que', 'para', 'netanyahu', 'ésta', 'es', 'su', 'oportunidad', 'de', 'completar', 'la', 'sharonización', 'y', 'para', 'acabar', 'lo', 'que', 'sharon', 'no', 'pudo', 'desarraigar', 'de', 'la', 'población', 'el', 'sueño', 'de', 'el', 'gran', 'israel', 'una', 'vez', 'por', 'todas', '1', 'o', 'tal', 'vez', 'de', 'viveza', 'fue', 'el', 'presidente', 'shimón', 'peres', 'no', 'solo', 'demostró', 'que', 'es', 'uno', 'de', 'los', 'pocos', 'que', 'todavía', 'cree', 'en', 'la', 'fantasía', 'de', 'la', 'única', 'solución', 'de', 'dos', 'estados', 'sino', 'que', 'tuvo', 'el', 'tupé', 'de', 'sermonear', 'desde', 'su', 'púlpito', 'que', 'toda', 'otra', 'propuesta', 'es', 'un', 'cuento', 'de', 'las', 'abuelas', '2', 'sería', 'prudente', 'aconsejar', 'le', 'a', 'peres', 'un', 'poco', 'mas', 'de', 'modestia', 'para', 'dejar', 'de', 'acusar', 'a', 'los', 'demás', 'de', 'ser', 'los', 'causantes', 'de', 'una', 'futura', 'tragedia', 'y', 'dedicar', 'se', 'a', 'reconocer', 'su', 'gran', 'culpa', 'de', 'la', 'situación', 'creada', '4', 'décadas', 'atrás', 'todos', 'aquellos', 'que', 'participamos', 'de', 'protestas', 'en', 'las', 'áridas', 'colinas', 'de', 'samaria', 'en', 'el', 'año', '1975', 'no', 'podemos', 'borrar', 'de', 'la', 'memoria', 'la', 'responsabilidad', 'directa', 'que', 'asumió', 'shimon', 'peres', 'como', 'ministro', 'de', 'defensa', 'de', 'el', 'gobierno', 'de', 'rabin', 'a', 'el', 'autorizar', 'los', 'primeros', 'actos', 'de', 'usurpación', 'colonial', 'en', 'ofra', 'y', 'sebastia', '3', 'quien', 'no', 'tuvo', 'agallas', 'de', 'frenar', 'el', 'principio', 'de', 'una', 'colonización', 'judía', 'civil', 'ilegal', 'y', 'desenfrenada', 'en', 'territorios', 'bajo', 'su', 'jurisdicción', 'y', 'responsabilidad', 'sería', 'más', 'sensato', 'que', 'se', 'dedique', 'a', 'una', 'profunda', 'autocritica', 'alerta', 'de', 'la', 'moral', 'democrática', 'nacional', 'cualquier', 'espectador', 'externo', 'se', 'siente', 'sorprendido', 'ante', 'la', 'imposibilidad', 'de', 'comenzar', 'negociaciones', 'entre', 'palestinos', 'e', 'israelíes', 'cuando', 'los', 'líderes', 'de', 'las', 'dos', 'partes', 'declaran', 'públicamente', 'estar', 'de', 'acuerdo', 'con', 'la', 'solución', 'propuesta', 'dos', 'estados', 'independientes', 'para', 'los', 'dos', 'pueblos', 'el', 'mismo', 'netanyahu', 'llegó', 'a', 'posicionar', 'se', 'como', 'un', 'auténtico', 'líder', 'de', 'la', 'izquierda', 'israelí', 'cuando', 'declaró', 'que', 'se', 'debe', 'llegar', 'a', 'un', 'compromiso', 'con', 'los', 'palestinos', 'que', 'evite', 'de', 'israel', 'convertir', 'se', 'en', 'un', 'estado', 'binacional', '4', 'para', 'ser', 'realista', 'se', 'debe', 'reconocer', 'que', 'las', 'declaraciones', 'públicas', 'de', 'netanyahu', 'y', 'mahamud', 'abbas', 'no', 'son', 'más', 'que', 'una', 'careta', 'de', 'niños', 'buenos', 'y', 'educados', 'que', 'esconde', 'otros', 'intereses', 'para', 'el', 'presidente', 'palestino', 'sobrevivir', 'las', 'amenazas', 'de', 'hammas', 'con', 'financiamiento', 'norteamericano', 'europeo', 'y', 'la', 'defensa', 'de', 'el', 'ejército', 'israelí', 'para', 'netanyhau', 'ganar', 'tiempo', 'que', 'le', 'permita', 'manipular', 'el', 'enfrentamiento', 'con', 'los', 'sectores', 'duros', 'de', 'los', 'colonos', 'y', 'su', 'partido', 'de', 'manera', 'que', 'se', 'continúe', 'con', 'la', 'colonización', 'civil', 'judía', 'en', 'cisjordania', 'aunque', 'a', 'un', 'ritmo', 'paulatino', 'y', 'no', 'desenfrenado', 'fuera', 'de', 'declaraciones', 'extravagantes', 'o', 'artículos', 'excéntricos', 'institución', 'de', 'un', 'estado', 'palestino', 'independiente', 'fue', 'sepultada', 'ya', 'hace', '4', 'años', 'atrás', 'en', 'todo', 'lo', 'que', 'respecta', 'a', 'el', 'destino', 'de', 'cisjordania', 'el', 'poder', 'de', 'israel', 'no', 'reside', 'en', 'el', 'gobierno', 'establecido', 'en', 'jerusalén', 'sino', 'en', 'los', 'colonos', 'judíos', 'de', 'la', 'región', 'y', 'sus', 'representantes', 'en', 'funciones', 'oficiales', 'y', 'extraoficiales', 'prácticamente', 'toda', 'la', 'representación', 'política', 'israelí', 'a', 'el', 'igual', 'que', 'peres', 'en', 'la', 'década', 'de', 'el', '70', 'tiene', 'pavor', 'de', 'interponer', 'se', 'en', 'el', 'camino', 'de', 'los', 'colonos', 'pese', 'a', 'que', 'se', 'trata', 'de', 'una', 'minoría', 'numérica', 'en', 'el', 'peor', 'de', 'los', 'casos', 'directamente', 'se', 'convierten', 'en', 'sus', 'representantes', 'oficiales', 'si', 'la', 'última', 'visita', 'de', 'kerry', 'se', 'podría', 'haber', 'interpretado', 'con', 'la', 'gran', 'posibilidad', 'de', 'un', 'verdadero', 'paso', 'adelante', 'hacia', 'un', 'arreglo', 'político', 'con', 'los', 'palestinos', 'es', 'de', 'suponer', 'que', 'medio', 'ejército', 'israelí', 'hubiese', 'sido', 'necesario', 'movilizar', 'para', 'trasladar', 'a', 'el', 'canciller', 'norteamericano', 'los', '30', 'kilómetros', 'que', 'separan', 'por', 'tierra', 'el', 'aeropuerto', 'ben', 'gurion', 'de', 'la', 'capital', 'de', 'israel', 'el', 'liderazgo', 'de', 'los', 'colonos', 'judíos', 'de', 'cisjordania', 'con', 'sus', 'colaboradores', 'y', 'representantes', 'no', 'se', 'ocupa', 'de', 'estupideces', 'como', 'las', 'de', 'un', 'estado', 'palestino', '5', 'ellos', 'ya', 'están', 'enfrascados', 'en', 'el', 'proyecto', 'de', 'diseñar', 'los', 'rasgos', 'de', 'la', 'próxima', 'etapa', 'la', 'institucionalización', 'de', 'el', 'poder', 'israelí', 'permanente', 'en', 'cisjordania', 'para', 'moshe', 'feiglin', 'judío', 'religioso', 'miembro', 'de', 'el', 'parlamento', 'por', 'el', 'likud', 'y', 'serio', 'aspirante', 'a', 'su', 'conducción', 'en', 'el', 'futuro', 'la', 'solución', 'mas', 'práctica', 'es', 'anexar', 'toda', 'cisjordania', 'a', 'israel', 'en', 'tanto', 'que', 'a', 'los', 'palestinos', 'residentes', 'en', 'la', 'región', 'se', 'les', 'condicionará', 'sus', 'derechos', 'humanos', 'sin', 'recibir', 'derechos', 'como', 'ciudadano', 'para', 'los', 'árabes', 'ciudadanos', 'de', 'israel', 'propone', 'retirar', 'les', 'la', 'ciudadanía', 'otorgándo', 'les', 'solamente', 'la', 'categoría', 'de', 'residente', 'legal', 'a', 'árabes', 'residentes', 'en', 'cisjordania', 'se', 'los', 'considerará', 'residentes', 'legales', 'y', 'si', 'prueban', 'lealtad', 'a', 'el', 'estado', 'judío', 'que', 'los', 'acepta', 'y', 'están', 'de', 'acuerdo', 'con', 'la', 'soberanía', 'judía', 'sobre', 'su', 'territorio', 'podrían', 'seguir', 'manejando', 'sus', 'intereses', 'particulares', 'sin', 'que', 'se', 'afecten', 'sus', 'derechos', 'humanos', 'no', 'tendrán', 'derecho', 'a', 'voto', 'su', 'movimiento', 'dentro', 'de', 'el', 'país', 'estará', 'condicionado', 'a', 'una', 'autorización', 'especial', '6', 'yair', 'shamir', 'ministro', 'de', 'agricultura', 'y', 'representante', 'de', 'el', 'likud', 'a', 'los', 'palestinos', 'disfrutar', 'de', 'lo', 'que', 'podemos', 'dar', 'le', 'de', 'el', 'lado', 'culturalnacional', 'de', 'ellos', 'lengua', 'cultura', 'elección', 'de', 'autoridades', 'municipales', 'todo', 'sin', 'ningún', 'símbolo', 'de', 'nación', 'sus', 'derechos', 'a', 'voto', 'serán', 'solamente', 'a', 'instituciones', 'municipales', 'internas', 'de', 'ellos', 'no', 'tengo', 'problemas', 'que', 'manejen', 'su', 'comunidad', 'es', 'una', 'comunidad', 'relativamente', 'chica', 'no', 'todo', 'millón', 'o', 'dos', 'crea', 'un', 'estado', 'en', 'este', 'mundo', 'hay', 'que', 'otorgar', 'les', 'lo', 'mínimo', 'necesario', 'para', 'que', 'esa', 'población', 'pueda', 'mantener', 'se', 'que', 'festejen', 'sus', 'fiestas', '7', 'la', 'idea', 'más', 'interesante', 'la', 'plantea', 'moshe', 'arens', 'el', 'veterano', 'ideólogo', 'de', 'el', 'likud', 'para', 'este', 'ex', 'ministro', 'de', 'defensa', 'de', 'israel', 'no', 'queda', 'otra', 'alternativa', 'más', 'que', 'anexar', 'los', 'territorios', 'de', 'cisjordania', 'pero', 'a', 'diferencia', 'de', 'las', 'típicas', 'posiciones', 'extremas', 'de', 'derecha', 'en', 'este', 'caso', 'se', 'propone', 'otorgar', 'plena', 'ciudadanía', 'israelí', 'a', 'la', 'población', 'palestina', 'para', 'arens', 'en', 'contraposición', 'a', 'pronósticos', 'pesimistas', 'extender', 'la', 'soberanía', 'israelí', 'a', 'el', 'territorio', 'de', 'cisjordania', 'incorporando', '15', 'millón', 'de', 'musulmanes', 'como', 'ciudadanos', 'no', 'acarreará', 'la', 'aniquilación', 'de', 'el', 'estado', 'de', 'se', 'trata', 'de', 'un', 'desafío', 'que', 'la', 'sociedad', 'podrá', 'enfrentar', 'lo', 'exitosamente', 'no', 'cabe', 'duda', 'que', 'la', 'propuesta', 'de', 'arens', 'tiene', 'visos', 'mucho', 'más', 'democráticos', 'aunque', 'no', 'se', 'debe', 'dejar', 'de', 'lado', 'que', 'el', 'autor', 'comete', 'un', 'grave', 'error', 'a', 'el', 'basar', 'se', 'en', 'sus', 'amigos', 'norteamericanos', 'en', 'la', 'estimación', 'de', 'la', 'población', 'palestina', 'actual', 'de', 'cisjordania', 'según', 'documentación', 'de', 'la', 'administracióncivildecisjordaniadelejérci', 'en', 'cisjordania', 'vivían', 'en', 'el', 'año', '2012', 'cerca', 'de', '27', 'millones', 'de', 'habitantes', '9', 'o', 'sea', 'que', 'la', 'idea', 'de', 'arens', 'implica', 'una', 'democracia', 'que', 'desea', 'mantener', 'su', 'carácter', 'de', 'judía', 'con', 'un', '40', 'de', 'musulmanes', 'con', 'derecho', 'a', 'voto', 'la', 'solución', 'democrática', 'y', 'judía', 'a', 'el', 'embrollo', 'propuesto', 'por', 'arens', 'la', 'aporta', 'uri', 'ariel', 'ministro', 'de', 'vivienda', 'por', 'el', 'partido', 'la', 'casa', 'judía', 'este', 'importante', 'funcionario', 'estatal', 'tiene', 'claro', 'que', 'no', 'se', 'puede', 'anexar', 'cisjordania', 'a', 'israel', 'dejando', 'a', 'sus', 'habitantes', 'sin', 'ciudadanía', 'ni', 'pertenencia', 'es', 'de', 'suponer', 'que', 'rápidamente', 'israel', 'seria', 'declarada', 'estado', 'apartheid', 'con', 'la', 'consiguiente', 'necesidad', 'de', 'enfrentar', 'un', 'aislamiento', 'internacional', 'boicot', 'económico', 'internacional', 'para', 'finalmente', 'terminar', 'como', 'sud', 'áfrica', 'tenemos', 'otorgar', 'ciudadanía', 'israelí', 'a', 'los', 'palestinos', 'aunque', 'paralelamente', 'debemos', 'modificar', 'las', 'leyes', 'electorales', 'de', 'manera', 'que', 'se', 'de', 'expresión', 'a', 'distintas', 'regiones', 'desarmando', 'totalmente', 'cisjordania', 'en', 'sub', 'zonas', 'y', 'anexándo', 'las', 'a', 'zonas', 'judías', 'cercanas', '10', 'en', 'el', 'vulgar', 'lunfardo', 'hecha', 'la', 'ley', 'hecha', 'la', 'trampa', 'democráticamente', 'le', 'damos', 'derecho', 'a', 'voto', 'aunque', 'prácticamente', 'no', 'van', 'a', 'conseguir', 'ninguna', 'representación', 'este', 'repaso', 'de', 'los', 'proyectos', 'israelíes', 'en', 'cisjordania', 'no', 'puede', 'finalizar', 'sin', 'mencionar', 'la', 'apertura', 'de', 'un', 'nuevo', 'e', 'inesperado', 'dialogo', 'que', 'por', 'desconsideración', 'infundada', 'hasta', 'el', 'momento', 'no', 'se', 'le', 'dio', 'la', 'importancia', 'que', 'se', 'merece', 'al', 'mismo', 'tiempo', 'que', 'el', 'canciller', 'kerry', 'desparramaba', 'todo', 'tipo', 'de', 'expectativas', 'falsas', 'respecto', 'de', 'las', 'futuras', 'negociaciones', 'entre', 'palestinos', 'e', 'israelíes', 'en', 'su', 'conferencia', 'de', 'prensa', 'antes', 'de', 'abandonar', 'la', 'región', 'altas', 'esferas', 'de', 'la', 'administración', 'de', 'obama', 'dotadas', 'de', 'buen', 'olfato', 'político', 'que', 'les', 'permite', 'identificar', 'centros', 'de', 'poder', 'mantenían', 'reuniones', 'de', 'entendimiento', 'y', 'comprensión', 'con', 'danny', 'dayan', '11', 'dayan', 'es', 'un', 'veterano', 'activista', 'político', 'de', 'merecidos', 'meritos', 'por', 'sus', 'significativos', 'éxitos', 'los', 'últimos', 'años', 'cumplió', 'la', 'función', 'de', 'presidente', 'del', 'consejo', 'de', 'administración', 'de', 'las', 'colonias', 'judías', 'en', 'cisjordania', 'recientemente', 'tomó', 'a', 'su', 'cargo', 'la', 'difusión', 'a', 'nivel', 'internacional', 'de', 'las', 'posiciones', 'de', 'los', 'colonos', 'judíos', 'por', 'ese', 'motivo', 'los', 'medios', 'ya', 'le', 'otorgaron', 'el', 'titulo', 'de', 'canciller', 'de', 'los', 'os', 'si', 'bien', 'hasta', 'hace', 'muy', 'poco', 'tiempo', 'dayan', 'y', 'sus', 'colegas', 'ideológicos', 'eran', 'considerados', 'en', 'el', 'exterior', 'personas', 'no', 'gratas', 'actualmente', 'pasaron', 'a', 'ser', 'visitas', 'honorables', 'en', 'los', 'pasillos', 'de', 'la', 'administración', 'norteamericana', 'en', 'el', 'último', 'tiempo', 'dayan', 'es', 'un', 'asiduo', 'invitado', 'a', 'cenas', 'en', 'la', 'casa', 'de', 'el', 'embajador', 'de', 'ee', 'uu', 'en', 'israel', 'y', 'semanas', 'atrás', 'cuando', 'un', 'alto', 'asesor', 'de', 'obama', 'visitó', 'israel', 'éste', 'mantuvo', 'una', 'reunión', 'de', 'dos', 'horas', 'con', 'dayan', '12', 'para', 'que', 'no', 'se', 'especule', 'que', 'dayan', 'programa', 'atravesar', 'las', 'líneas', 'vale', 'la', 'pena', 'acentuar', 'que', 'su', 'idea', 'central', 'de', 'el', 'proyecto', 'israelí', 'en', 'cisjordania', 'se', 'basa', 'en', 'el', 'control', 'eterno', 'de', 'israel', 'en', 'cisjordania', 'sin', 'ningún', 'tipo', 'de', 'soberanía', 'extranjera', 'entre', 'el', 'mediterráneo', 'y', 'el', 'rio', 'jordán', 'durante', 'los', 'próximos', 'de', 'los', 'palestinos', 'en', 'algo', 'más', 'soportable', 'invertir', 'en', 'su', 'economía', 'reducir', 'a', 'el', 'mínimo', 'el', 'deterioro', 'de', 'sus', 'derechos', 'humanos', 'e', 'inclusive', 'tirar', 'abajo', 'la', 'valla', 'de', 'separación', 'sus', 'demandas', 'de', 'autodeterminación', 'y', 'aspiraciones', 'nacionales', 'que', 'se', 'la', 'busquen', 'en', 'jordania', '13', 'la', 'experiencia', 'de', 'el', 'pasado', 'nos', 'demuestra', 'que', 'como', 'en', 'el', 'caso', 'de', 'la', 'fábrica', 'textil', 'de', 'dimona', 'también', 'en', 'esta', 'ocasión', 'la', 'primera', 'democracia', 'de', 'el', 'mundo', 'no', 'va', 'a', 'tener', 'ningún', 'problema', 'en', 'hacer', 'de', 'israel', 'un', 'caso', 'especial', 'para', 'apoyar', 'inquebrantablemente', 'este', 'singular', 'ejemplo', 'de', 'defensa', 'de', 'derechos', 'humanos', 'igualdad', 'y', 'participación', 'sin', 'lugar', 'a', 'dudas', 'el', 'pueblo', 'judío', 'esta', 'agregando', 'un', 'aberrante', 'versículo', 'a', 'su', 'torá', 'de', 'la', 'que', 'tanto', 'se', 'jacta', 'de', 'haber', 'aportado', 'a', 'el', 'mundo', ' ', '4', 'netanyahu', 'se', 'debe', 'llegar', 'a', 'un', 'acuerdo', 'con', 'los', 'palestinos', 'haaretz', '15013', '5', 'ministro', 'benet', 'el', 'estado', 'palestino', 'no', 'se', 'va', 'a', 'crear', 'maariv', '84013', 'danny', 'danon', 'vice', 'ministro', 'de', 'defensa', 'este', 'gobierno', 'no', 'permitirá', 'la', 'solución', 'de', '6', 'el', 'día', 'después', 'programa', 'político', 'moshe', 'feiglin', 'el', 'grupo', 'de', 'liderazgo', 'judío', 'de', 'el', 'likud', '2003', 'categoria', 'home', 'compartí', 'en', 'así', 'lo', 'aseguró', 'mirta', 'petrocini', 'secretaria', 'general', 'de', 'la', 'dac', 'en', 'conferencia', 'de', 'prensa', 'quien', 'además', 'destacó', 'que', 'para', 'la', 'confederación', 'la', 'única', 'voz', 'válida', 'es', 'la', 'de', 'los', 'docentes', 'durante', 'el', 'evento', 'más', 'de', '200', 'personas', 'debatieron', 'sobre', 'temáticas', 'referidas', 'a', 'los', 'derechos', 'laborales', 'y', 'la', 'representación', 'gremial', 'la', 'secretaria', 'general', 'de', 'docentes', 'argentinos', 'confederados', 'mirta', 'petrocini', 'brindó', 'hoy', 'una', 'conferencia', 'de', 'prensa', 'en', 'el', 'marco', 'de', 'el', '1er', 'congreso', 'de', 'políticas', 'educativas', 'sindicales', 'en', 'la', 'provincia', 'de', 'santiago', 'del', 'estero', 'realizado', 'entre', 'el', '23', 'y', '24', 'de', 'el', 'corriente', 'en', 'la', 'escuelatécnicanº3', 'petrocini', 'subrayó', 'que', 'docentes', 'argentinos', 'confederados', 'tiene', 'que', 'ver', 'con', 'el', 'compromiso', 'de', 'lucha', 'de', 'los', 'docentes', 'y', 'con', 'un', 'sindicalismo', 'federal', 'plural', 'y', 'participativo', 'la', 'única', 'voz', 'la', 'única', 'válida', 'es', 'la', 'nuestra', 'la', 'de', 'los', 'docentes', 'destacó', 'la', 'titular', 'de', 'dac', 'y', 'agregó', 'que', 'el', 'objetivo', 'de', 'este', 'primer', 'congreso', 'es', 'encontrar', 'nos', 'docentes', 'con', 'docentes', 'para', 'llevar', 'esas', 'voces', 'a', 'los', 'ámbitos', 'correspondientes', 'y', 'hacer', 'las', 'escuchar', 'docentes', 'argentinos', 'confederados', 'el', 'sindicato', 'santiagueño', 'de', 'docentes', 'sisadoc', 'y', 'la', 'unión', 'argentina', 'de', 'maestros', 'y', 'profesores', 'camyp', 'petrocini', 'quien', 'es', 'además', 'titular', 'de', 'la', 'feb', 'destacó', 'que', 'cerca', 'de', 'el', 'año', 'de', 'vida', 'la', 'dac', 'ya', 'está', 'en', 'en', 'diálogo', 'con', 'gremios', 'de', 'distintas', 'provincias', 'para', 'sumar', 'los', 'a', 'la', 'propuesta', 'federal', 'explicó', 'que', 'la', 'entidad', 'busca', 'reivindicar', 'derechos', 'que', 'más', 'allá', 'que', 'aparezcan', 'enunciados', 'y', 'anunciados', 'en', 'las', 'leyes', 'le', 'son', 'esquivos', 'a', 'los', 'docentes', 'tanto', 'en', 'lo', 'salarial', 'como', 'en', 'el', 'gremial', 'por', 'su', 'parte', 'eduardo', 'müller', 'secretario', 'adjunto', 'de', 'la', 'dac', 'y', 'titular', 'de', 'camyp', 'recordó', 'que', 'hay', 'reclamos', 'que', 'son', 'exigencias', 'de', 'la', 'dac', 'como', 'la', 'derogación', 'de', 'el', 'impuesto', 'a', 'las', 'ganancias', 'la', 'asignación', 'familiar', 'universal', 'el', '82', 'móvil', 'para', 'los', 'jubilados', 'y', 'la', 'participación', 'de', 'la', 'confederación', 'que', 'es', 'la', 'segunda', 'en', 'cantidad', 'de', 'afiliados', 'en', 'el', 'país', 'en', 'las', 'negociaciones', 'nacionales', 'en', 'ese', 'sentido', 'petrocini', 'explicó', 'que', 'a', 'nivel', 'nacional', 'no', 'hay', 'paritarias', 'docentes', 'sino', 'una', 'negociación', 'un', 'diferencia', 'de', 'lo', 'que', 'sucede', 'cuando', 'hay', 'una', 'ley', 'de', 'paritarias', 'donde', 'si', 'una', 'de', 'las', 'partes', 'incumple', 'la', 'otra', 'puede', 'ir', 'a', 'la', 'justicia', 'en', 'tanto', 'santiago', 'coronel', 'secretario', 'general', 'de', 'sisadoc', 'y', 'secretario', 'gremial', 'de', 'dac', 'aseguró', 'que', 'no', 'hay', 'nada', 'más', 'federal', 'que', 'docentes', 'argentinos', 'confederados', 'e', 'hizo', 'referencia', 'a', 'la', 'realidad', 'de', 'su', 'provincia', 'el', 'problema', 'es', 'las', 'cifras', 'en', 'negro', 'en', 'nuestro', 'sueldo', 'que', 'conspiran', 'contra', 'la', 'carrera', 'profesional', 'de', 'los', 'docentes', 'y', 'con', 'sus', 'jubilaciones', 'y', 'que', 'deben', 'desaparecer', '¿', 'qué', 'tuitearía', 'ben', 'franklin', 'fue', 'el', 'comunicador', 'más', 'agudo', 'de', 'su', 'tiempo', 'tan', 'profundo', 'que', 'muchas', 'de', 'sus', 'frases', 'siguen', 'en', 'uso', 'a', 'día', 'de', 'hoy', 'no', 'hay', 'duda', 'de', 'que', 'habría', 'sido', 'un', 'entusiasta', 'usuario', 'de', 'los', 'métodos', 'de', 'comunicación', 'modernos', 'y', 'quizá', 'incluso', 'habría', 'inventado', 'algunos', 'nuevos', 'en', 'la', 'edición', 'más', 'reciente', 'de', 'la', 'serie', 'makers', 'of', 'american', 'political', 'thought', 'forjadores', 'de', 'el', 'pensamiento', 'político', 'americano', 'steven', 'forde', 'denomina', 'a', 'franklin', 'como', 'el', 'sabio', 'de', 'estados', 'unidos', 'un', 'hombre', 'que', 'tenía', 'mucho', 'que', 'decir', 'a', 'sus', 'compatriotas', 'y', 'cuyos', 'consejos', 'aún', 'nos', 'son', 'útiles', 'hoy', 'en', 'día', 'siempre', 'y', 'cuando', 'estamos', 'dispuestos', 'a', 'escuchar', 'los', 'franklin', 'hizo', 'fortuna', 'en', 'lo', 'que', 'entonces', 'se', 'habrían', 'considerado', 'los', 'nuevos', 'medios', 'de', 'comunicación', 'periódicos', 'y', 'panfletos', 'impresos', 'franklin', 'creó', 'el', 'almanaque', 'del', 'pobre', 'richard', 'y', 'lo', 'publicó', 'durante', 'un', 'cuarto', 'de', 'siglo', 'se', 'trataba', 'de', 'un', 'precursor', 'de', 'los', 'modernos', 'blogs', 'y', 'estaba', 'repleto', 'de', 'lecciones', 'y', 'consejos', 'prácticos', 'mientras', 'los', 'otros', 'fundadores', 'apuntaban', 'con', 'sus', 'escritos', 'a', 'la', 'realeza', 'y', 'a', 'los', 'ofrecer', 'consejos', 'para', 'el', 'hombre', 'común', 'franklin', 'alentó', 'a', 'los', 'americanos', 'a', 'esforzar', 'se', 'en', 'la', 'búsqueda', 'de', 'el', 'éxito', 'pero', 'también', 'era', 'consciente', 'de', 'que', 'había', 'más', 'cosas', 'en', 'la', 'vida', 'aparte', 'de', 'ganar', 'dinero', 'para', 'guiar', 'a', 'los', 'americanos', 'en', 'su', 'ascenso', 'por', 'la', 'escalera', 'de', 'el', 'éxito', 'su', 'autobiografía', 'ofrecía', 'una', 'lista', 'de', '13', 'virtudes', 'cualquiera', 'que', 'tratase', 'de', 'vivir', 'según', 'éstas', 'entre', 'las', 'que', 'se', 'incluyen', 'la', 'templanza', 'la', 'frugalidad', 'la', 'moderación', 'y', 'la', 'humildad', 'haría', 'de', 'sí', 'mismo', 'un', 'ciudadano', 'autosuficiente', 'todas', 'las', 'virtudes', 'requieren', 'empeño', 'pero', 'su', 'recompensa', 'es', 'la', 'creación', 'de', 'un', 'nuevo', 'tipo', 'de', 'persona', 'el', 'americano', 'independiente', 'que', 'no', 'pide', 'limosnas', 'y', 'que', 'sin', 'embargo', 'está', 'dispuesto', 'a', 'echar', 'una', 'mano', 'para', 'ayudar', 'a', 'otros', 'cuando', 'es', 'necesario', 'en', 'el', 'transcurso', 'de', 'su', 'vida', 'franklin', 'se', 'interesó', 'también', 'por', 'los', 'experimentos', 'científicos', 'es', 'recordado', 'por', 'sus', 'inventos', 'prácticos', 'como', 'el', 'pararrayos', 'y', 'el', 'horno', 'franklin', 'pero', 'además', 'fundó', 'la', 'universidad', 'de', 'pensilvania', 'y', 'la', 'sociedad', 'filosófica', 'americana', 'al', 'final', 'de', 'su', 'vida', 'pensilvania', 'para', 'promover', 'la', 'abolición', 'de', 'la', 'esclavitud', 'se', 'dedicó', 'a', 'dar', 'forma', 'a', 'la', 'ciudadanía', 'durante', 'su', 'larga', 'vida', 'el', 'principio', 'de', 'franklin', 'era', 'nunca', 'pediré', 'nunca', 'rehusaré', 'y', 'nunca', 'abandonaré', 'un', 'puesto', 'y', 'sirvió', 'con', 'lealtad', 'de', 'múltiples', 'formas', 'creía', 'en', 'la', 'ayuda', 'a', 'sus', 'congéneres', 'no', 'se', 'muestre', 'falto', 'de', 'caridad', 'con', 'quienes', 'parecen', 'necesitar', 'la', 'en', 'cambio', 'confortelos', 'y', 'ayúde', 'los', 'escribió', 'en', 'la', 'edición', 'final', 'de', 'su', 'almanaque', 'como', 'observa', 'forde', 'vio', 'que', 'la', 'salud', 'de', 'una', 'sociedad', 'democrática', 'depende', 'de', 'la', 'predisposición', 'de', 'las', 'personas', 'para', 'dedicar', 'su', 'tiempo', 'a', 'el', 'bien', 'púbico', 'aun', 'así', 'franklin', 'no', 'habría', 'aprobado', 'el', 'moderno', 'estado', 'del', 'bienestar', 'una', 'red', 'de', 'seguridad', 'excesivamente', 'generosa', 'tiende', 'a', 'favorecer', 'nuestra', 'natural', 'indolencia', 'a', 'alentar', 'la', 'ociosidad', 'y', 'la', 'prodigalidad', 'y', 'de', 'ese', 'modo', 'a', 'fomentar', 'y', 'aumentar', 'la', 'pobreza', 'escribió', 'puede', 'que', 'hubiese', 'opinado', 'en', 'su', 'cuenta', 'de', 'twitter', 'que', 'la', 'gente', 'necesita', 'ayuda', 'pero', 'una', 'limosna', 'tiende', 'únicamente', 'a', 'mantener', 'la', 'en', 'lo', 'más', 'bajo', 'sus', 'escritos', 'nos', 'siguen', 'ofreciendo', 'esa', 'ayuda', 'el', 'presidente', 'de', 'la', 'unión', 'industrial', 'argentina', 'héctor', 'méndez', 'ratificó', 'hoy', 'su', 'participación', 'en', 'la', 'convocatoria', 'a', 'el', 'diálogo', 'por', 'cristina', 'kirchner', 'a', 'el', 'sector', 'empresario', 'y', 'a', 'sindicalistas', 'aunque', 'cuestionó', 'su', 'reacción', 'a', 'el', 'afirmar', 'que', 'hay', 'que', 'hacer', 'le', 'ver', 'que', 'la', 'realidad', 'es', 'distinta', 'a', 'la', 'que', 've', 'tras', 'los', 'magros', 'conseguidos', 'por', 'el', 'oficialismo', 'en', 'las', 'elecciones', 'primarias', 'consultado', 'sobre', 'las', 'causas', 'de', 'la', 'derrota', 'de', 'el', 'kirchnerismo', 'dijo', 'que', 'es', 'muy', 'difícil', 'echar', 'le', 'la', 'culpa', 'a', 'una', 'sola', 'cosa', 'se', 'han', 'sumado', 'una', 'serie', 'de', 'circunstancias', 'entre', 'las', 'que', 'citó', 'el', 'poco', 'diálogo', 'la', 'inflación', 'el', 'cepo', 'bancario', 'y', 'remató', 'hay', 'que', 'hacer', 'le', 'ver', 'a', 'la', 'presidente', 'que', 'la', 'realidad', 'es', 'distinta', 'de', 'la', 'que', 've', 'al', 'respecto', 'méndez', 'afirmó', 'que', 'vio', 'un', 'poquito', 'dura', 'a', 'cristina', 'kirchner', 'durante', 'su', 'discurso', 'en', 'tecnópolis', 'no', 'me', 'sorprende', 'porque', 'su', 'estilo', 'ha', 'sido', 'bastante', 'combativo', 'incluso', 'cuando', 'fuera', 'senadora', 'añadió', 'y', 'mostró', 'su', 'disconformidad', 'con', 'la', 'reacción', 'que', 'tuvo', 'la', 'mandataria', 'tras', 'las', 'paso', ' ', 'pierde', 'hay', 'que', 'saber', 'perder', 'en', 'la', 'vida', 'se', 'gana', 'y', 'se', 'pierde', 'hay', 'que', 'saber', 'perder', 'sintetizó', 'en', 'diálogo', 'con', 'radio', 'mitre', 'se', 'refirió', 'a', 'las', 'chicanas', 'de', 'la', 'mandataria', 'con', 'los', 'candidatos', 'de', 'la', 'oposición', 'quien', 'los', 'acusó', 'de', 'ser', 'el', 'banco', 'de', 'suplentes', 'y', 'representar', 'intereses', 'ajenos', 'no', 'es', 'así', 'pero', 'no', 'importa', 'nosotros', 'no', 'manejamos', 'a', 'nadie', 'la', 'uia', 'es', 'sólo', 'una', 'entidad', 'empresaria', 'lanzó', 'méndez', 'tal', 'como', 'había', 'anticipado', 'en', 'la', 'megamuestra', 'de', 'ciencia', 'y', 'tecnología', 'cristina', 'kirchner', 'convocó', 'este', 'miércoles', 'a', 'el', 'diálogo', 'con', 'empresarios', 'e', 'industriales', 'en', 'río', 'gallegos', 'con', 'la', 'excusa', 'de', 'la', 'conclusión', 'de', 'el', 'proceso', 'de', 'licitación', 'para', 'construir', 'las', 'represas', 'néstor', 'kirchner', 'y', 'jorge', 'cepernic', 'en', 'este', 'sentido', 'el', 'presidente', 'de', 'la', 'uia', 'reiteró', 'que', 'participará', 'de', 'el', 'encuentro', 'y', 'aclaró', 'que', 'ya', 'se', 'han', 'empezado', 'ha', 'tratar', 'temas', 'de', 'la', 'lista', 'aunque', 'hay', 'otros', 'que', 'permanecen', 'pendientes', 'en', 'tanto', 'el', 'dirigente', 'empresario', 'coincidió', 'con', 'algunas', 'críticas', 'realizadas', 'por', 'la', 'asociación', 'empresaria', 'argentina', 'aea', 'contra', 'la', 'ley', 'de', 'permite', 'intervenir', 'casi', 'de', 'oficio', 'a', 'las', 'sociedades', 'que', 'cotizan', 'en', 'bolsa', 'sino', 'que', 'también', 'a', 'aquellos', 'grupos', 'de', 'inversores', 'colocan', 'capitales', 'en', 'fondos', 'de', 'inversión', 'ningún', 'niño', 'debería', 'llorar', 'más', 'que', 'por', 'su', 'enfermedad', 'entrevista', 'a', 'esther', 'peinado', 'la', 'madre', 'que', 'logró', 'ucis', 'abiertas', 'las', '24', 'horas', 'hace', 'escasos', 'días', 'os', 'explicamos', 'que', 'los', 'padres', 'podrán', 'por', 'fin', 'acompañar', 'a', 'sus', 'hijos', 'en', 'las', 'uci', 's', 'tanto', 'tiempo', 'como', 'quieran', 'a', 'el', 'permanecer', 'abiertas', 'las', '24', 'horas', 'de', 'el', 'día', 'algunos', 'hospitales', 'ya', 'lo', 'hacían', 'pero', 'otros', 'tenían', 'horarios', 'muy', 'restrictivos', 'que', 'hacían', 'que', 'los', 'niños', 'allí', 'ingresados', 'pasaran', 'la', 'mayor', 'parte', 'de', 'el', 'día', 'solos', 'uno', 'de', 'estos', 'hospitales', 'era', 'el', 'hospital', 'la', 'fe', 'de', 'valencia', 'donde', 'esther', 'peinado', 'madre', 'de', 'héctor', 'ha', 'tenido', 'que', 'pasar', 'mucho', 'tiempo', 'apartada', 'de', 'su', 'hijo', 'contra', 'la', 'voluntad', 'de', 'ambos', 'un', 'buen', 'día', 'esther', 'empezó', 'a', 'luchar', 'y', 'sus', 'palabras', 'acabaron', 'por', 'llegar', 'hasta', 'la', 'ministra', 'ana', 'mato', 'siendo', 'la', 'semilla', 'de', 'lo', 'que', 'ahora', 'se', 'ha', 'conseguido', 'ahora', 'que', 'se', 'ha', 'conseguido', 'aquello', 'por', 'lo', 'que', 'ella', 'y', 'tantos', 'padres', 'han', 'luchado', 'hemos', 'querido', 'entrevistar', 'la', 'para', 'que', 'nos', 'explique', 'un', 'poco', 'el', 'proceso', 'que', 'ha', 'vivido', 'y', 'nos', 'pediátricas', 'os', 'recomiendo', 'que', 'busquéis', 'un', 'momento', 'de', 'tranquilidad', 'unos', 'minutos', 'de', 'soledad', 'y', 'calma', 'y', 'un', 'pañuelo', 'porque', 'sus', 'palabras', 'lo', 'requieren', 'hola', 'esther', 'lo', 'primero', 'dar', 'te', 'la', 'enhorabuena', 'por', 'lo', 'conseguido', '¿', 'cómo', 'te', 'sientes', 'ahora', 'que', 'parece', 'que', 'por', 'fin', 'todo', 'va', 'a', 'cambiar', 'no', 'sé', 'si', 'me', 'vas', 'a', 'creer', 'pero', 'después', 'de', 'casi', '3', 'años', 'luchando', 'por', 'modificar', 'algo', 'tan', 'injusto', 'los', 'primeros', 'días', 'después', 'de', 'haber', 'sido', 'aprobada', 'la', 'ley', 'han', 'sido', 'días', 'muy', 'difíciles', 'me', 'ha', 'venido', 'a', 'la', 'cabeza', 'de', 'golpe', 'todo', 'lo', 'malo', 'que', 'hemos', 'vivido', 'las', 'noches', 'sin', 'dormir', 'los', 'lloros', 'las', 'puertas', 'que', 'se', 'cerraban', 'el', 'sufrimiento', 'las', 'represalias', 'luego', 'poquito', 'a', 'poquito', 'me', 'he', 'dado', 'cuenta', 'de', 'lo', 'que', 'hemos', 'conseguido', 'la', 'página', 'que', 'hemos', 'escrito', 'en', 'la', 'historia', 'mi', 'meta', 'que', 'ningún', 'niño', 'tenga', 'que', 'llorar', 'jamás', 'más', 'que', 'por', 'su', 'enfermedad', '¿', 'puedes', 'contar', 'nos', 'un', 'poco', 'la', 'historia', 'de', 'héctor', 'héctor', 'es', 'un', 'niño', 'de', '3', 'añitos', 'con', 'una', 'enfermedad', 'llamada', 'esclerosis', '16', 'veces', 'por', 'un', 'quirófano', 'en', 'su', 'cortita', 'vida', 'le', 'dieron', 'un', 'año', 'de', 'vida', 'y', 'llevamos', 'ya', '2', 'de', 'prestado', 'como', 'digo', 'yo', 'y', 'los', 'que', 'nos', 'quedan', 'un', 'niño', 'milagro', 'como', 'lo', 'llaman', 'sus', 'médicos', 'un', 'campeón', 'una', 'pequeña', 'gran', 'persona', 'que', 'nunca', 'pierde', 'la', 'sonrisa', 'y', 'las', 'ganas', 'de', 'vivir', 'un', 'ejemplo', 'de', 'vida', 'mi', 'orgullo', 'mi', 'trocito', 'de', 'corazón', 'ese', 'es', 'héctor', '¿', 'qué', 'sentías', 'cuando', 'veías', 'que', 'no', 'podías', 'estar', 'con', 'él', 'te', 'parecía', 'normal', 'estar', 'detrás', 'de', 'una', 'puerta', 'cerrada', 'saber', 'que', 'tu', 'pequeño', 'llora', 'de', 'desesperación', 'que', 'tiene', 'miedo', 'que', 'no', 'quiere', 'estar', 'solo', 'que', 'te', 'necesita', 'y', 'que', 'tan', 'solo', 'nos', 'separan', 'unos', 'metros', 'y', 'que', 'nos', 'impiden', 'estar', 'juntos', 'sólo', 'necesitaba', 'dar', 'le', 'la', 'mano', 'calmar', 'lo', 'es', 'lo', 'más', 'duro', 'que', 'he', 'vivido', 'jamás', 'más', 'que', 'sus', 'operaciones', 'a', 'vida', 'o', 'muerte', 'un', 'pequeñín', 'que', 'no', 'tiene', 'la', 'culpa', 'de', 'nada', 'que', 'encima', 'ya', 'tiene', 'bastante', 'con', 'tener', 'su', 'cruel', 'enfermedad', 'que', 'normal', 'no', 'tuvieron', 'piedad', 'ni', 'humanidad', 'me', 'rompieron', 'el', 'corazón', 'y', 'el', 'alma', 'la', 'atención', 'médica', 'y', 'que', 'un', 'papá', 'o', 'una', 'mamña', 'le', 'demos', 'la', 'mano', 'a', 'nuestro', 'niño', 'cuando', 'más', 'nos', 'necesita', 'no', 'somos', 'incompatibles', 'el', 'amor', 'cura', 'yo', 'lo', 'he', 'demostrado', '¿', 'qué', 'decían', 'los', 'padres', 'de', 'los', 'otros', 'niños', 'ingresados', 'llegasteis', 'a', 'compartir', 'las', 'mismas', 'inquietudes', 'estar', 'en', 'la', 'sala', 'de', 'espera', 'de', 'una', 'uci', 'pediátrica', 'es', 'algo', 'que', 'te', 'cambia', 'la', 'vida', 'para', 'siempre', 'inquietudes', 'los', 'papas', 'las', 'mismas', 'y', 'por', 'supuesto', 'unanimidad', 'en', 'querer', 'estar', 'con', 'ellos', 'todo', 'el', 'tiempo', 'por', 'eso', 'cuando', 'la', 'excusa', 'final', 'en', 'el', 'hospital', 'de', 'no', 'dejar', 'nos', 'estar', '24', 'horas', 'con', 'nuestros', 'hijos', 'fue', 'la', 'de', 'que', 'era', 'la', 'única', 'persona', 'que', 'en', 'un', 'año', 'le', 'había', 'parecido', 'mal', 'el', 'horario', 'que', 'a', 'todas', 'las', 'demás', 'familias', 'les', 'parecía', 'bien', 'y', 'por', 'lo', 'tanto', 'yo', 'no', 'era', 'porcentaje', 'me', 'dio', 'tanta', 'rabia', 'que', 'me', 'dije', 'lucharé', 'hasta', 'el', 'final', 'sea', 'como', 'sea', 'iré', 'a', 'el', 'tribunal', 'pararé', 'nunca', 'al', 'principio', 'de', 'tu', 'camino', 'tus', 'palabras', 'se', 'cruzaron', 'con', 'las', 'mías', 'recuerdo', 'que', 'te', 'expliqué', 'que', 'tu', 'hijo', 'tenía', 'derecho', 'a', 'estar', 'con', 'tí', 'y', 'que', 'un', 'buen', 'inicio', 'para', 'tu', 'lucha', 'sería', 'acudir', 'a', 'el', 'síndic', 'de', 'greuges', 'nos', 'cuentas', 'un', 'poco', 'cómo', 'fue', 'todo', 'el', 'proceso', 'una', 'amiga', 'en', 'el', 'parque', 'me', 'habló', 'de', 'ti', 'y', 'que', 'tu', 'defendías', 'ese', 'derecho', 'y', 'me', 'lancé', 'a', 'escribir', 'te', 'nunca', 'olvidaré', 'tus', 'consejos', 'y', 'cómo', 'me', 'indicaste', 'el', 'camino', 'a', 'seguir', 'también', 'recuerdo', 'que', 'lo', 'veías', 'difícil', 'jajaja', 'pero', 'lo', 'hemos', 'conseguido', 'y', 'tú', 'formas', 'parte', 'de', 'esto', 'armando', 'esto', 'se', 'ha', 'conseguido', 'por', 'muchas', 'personas', 'es', 'cierto', 'que', 'he', 'puesto', 'la', 'cara', 'yo', 'pero', 'somos', 'un', 'pequeño', 'gran', 'equipo', 'de', 'mucha', 'gente', 'que', 'he', 'ido', 'encontrando', 'en', 'el', 'camino', 'y', 'que', 'se', 'ha', 'unido', 'a', 'esta', 'lucha', 'me', 'dirigí', 'a', 'el', 'sindic', 'de', 'greuges', 'y', 'la', 'verdad', 'es', 'que', 'desde', 'el', 'principio', 'se', 'volcaron', 'a', 'el', 'cien', 'por', 'cien', 'en', 'mi', 'queja', 'no', 'entendían', 'por', 'qué', 'no', 'me', 'consta', 'así', 'que', 'nunca', 'voy', 'a', 'poder', 'agradecer', 'les', 'todo', 'lo', 'que', 'hicieron', 'recogí', 'firmas', 'la', 'verdad', 'que', 'detrás', 'de', 'héctor', 'hay', 'una', 'gran', 'familia', 'cibernética', 'que', 'no', 'dejó', 'nunca', 'de', 'mostrar', 'me', 'su', 'apoyo', 'incondicional', 'también', 'los', 'papas', 'de', 'otros', 'niños', 'malitos', 'que', 'siempre', 'estaban', 'a', 'mi', 'lado', 'escribí', 'hasta', 'a', 'la', 'reina', 'a', 'el', 'conseller', 'de', 'sanidad', 'incluso', 'me', 'llamaron', 'de', 'conselleria', 'y', 'me', 'reuní', 'con', 'ellos', 'allí', 'en', 'un', 'despacho', 'yo', 'sola', 'la', 'mama', 'de', 'héctor', 'redactando', 'un', 'texto', 'en', 'el', 'que', 'les', 'resolvíamos', 'todas', 'y', 'cada', 'una', 'de', 'las', 'trabas', 'por', 'las', 'que', 'decían', 'que', 'no', 'a', 'que', 'estuviéramos', 'los', 'papas', 'con', 'nuestros', 'niños', 'en', 'la', 'uci', 'para', 'mí', 'excusas', 'absurdas', 'y', 'nada', 'intentábamos', 'que', 'al', 'menos', 'ampliasen', 'el', 'horario', 'y', 'nada', 'el', 'hospital', 'seguía', 'sin', 'dar', 'su', 'brazo', 'a', 'torcer', 'pero', 'noté', 'el', 'apoyo', 'de', 'todas', 'las', 'personas', 'y', 'también', 'la', 'pena', 'de', 'sentir', 'que', 'no', 'podían', 'hacer', 'más', 'de', 'lo', 'que', 'estaban', 'haciendo', 'ya', 'que', 'precisamente', 'la', 'uci', 'de', 'mi', 'hospital', 'se', 'negaba', 'no', 'es', 'una', 'crítica', 'para', 'el', 'hospital', 'de', 'mi', 'hijo', 'de', 'el', 'que', 'estoy', 'orgullosa', 'de', 'sus', 'médicos', 'de', 'sus', 'enfermeras', 'y', 'auxiliares', 'y', 'de', 'la', 'subdirección', 'médica', 'de', 'la', 'fe', 'si', 'hay', 'calidad', 'humana', 'en', 'el', 'mundo', 'ahí', 'este', 'el', 'fiel', 'reflejo', 'de', 'ella', 'de', 'corazón', 'lo', 'digo', 'también', 'quiero', 'aprovechar', 'y', 'que', 'todo', 'el', 'mundo', 'sepa', 'que', 'alce', 'asociación', 'de', 'epilepsia', 'de', 'la', 'comunidad', 'valenciana', 'me', 'ha', 'acompañado', 'en', 'esta', 'batalla', 'siempre', 'a', 'la', 'sombra', 'pero', 'velando', 'por', 'mí', 'siempre', 'y', 'sobretodo', 'a', 'aspanion', 'asociación', 'de', 'padres', 'de', 'niños', 'con', 'cáncer', 'en', 'mi', 'desesperación', 'cuando', 'ya', 'pensé', 'que', 'no', 'podía', 'más', 'que', 'era', 'un', 'david', 'contra', 'goliat', 'tuve', 'la', 'idea', 'de', 'pedir', 'ayuda', 'a', 'todas', 'la', 'asociaciones', 'de', 'niños', 'enfermos', 'que', 'se', 'me', 'ocurrieron', 'nosotros', 'somos', 'los', 'que', 'estamos', 'en', 'la', 'uci', 'una', 'y', 'otra', 'vez', 'desgraciadamente', 'y', 'un', 'día', 'recibí', 'una', 'carta', 'preciosa', 'de', 'ellos', 'en', 'la', 'que', 'se', 'unían', 'a', 'mi', 'lucha', 'ellos', 'fueron', 'los', 'que', 'hicieron', 'el', 'estudio', 'a', 'nivel', 'nacional', 'de', 'para', 'después', 'mandar', 'la', 'a', 'todas', 'las', 'consejerías', 'de', 'sanidad', 'españolas', 'junto', 'con', 'mi', 'carta', 'desesperada', 'esa', 'carta', 'llegó', 'a', 'madrid', 'y', 'alguien', 'se', 'la', 'hizo', 'llegar', 'a', 'la', 'ministra', 'ana', 'mato', 'por', 'fin', 'alguien', 'se', 'puso', 'de', 'el', 'lado', 'de', 'el', 'débil', 'nos', 'comprendió', 'y', 'decidió', 'cambiar', 'el', 'plan', 'de', 'infancia', 'en', 'el', 'último', 'momento', 'y', 'bueno', 'con', 'el', 'resultado', 'que', 'ya', 'conocemos', 'mientras', 'seguías', 'con', 'tu', 'lucha', 'qué', 'tal', 'los', 'niños', 'en', 'la', 'uci', 'he', 'oído', 'algún', 'ejemplo', 'tuyo', 'de', 'un', 'niño', 'que', 'no', 'hacía', 'más', 'que', 'pedir', 'yogures', 'porque', 'sabía', 'que', 'cuando', 'acabara', 'de', 'comer', 'su', 'madre', 'se', 'marcharía', 'yo', 'después', 'de', 'la', 'primera', 'estancia', 'en', 'la', 'uci', 'tardé', 'muchas', 'noches', 'en', 'poder', 'volver', 'a', 'dormir', 'sin', 'escuchar', 'aquellos', 'gritos', 'sí', 'es', 'cierto', 'que', 'hay', 'niños', 'en', 'coma', 'sedados', 'pero', 'desgraciadamente', 'hay', 'otros', 'muchos', 'que', 'están', 'despiertos', '¿', 'tú', 'sabes', 'qué', 'es', 'ir', 'te', 'de', 'allí', 'y', 'gritar', 'mamá', 'no', 'te', 'vayas', 'no', 'me', 'dejes', '»', 'por', 'favor', 'porque', 'queda', 'humanidad', 'en', 'el', 'mundo', 'es', 'que', 'nadie', 'se', 'va', 'a', 'poner', 'de', 'el', 'lado', 'de', 'quien', 'más', 'lo', 'necesita', 'yo', 'sé', 'que', 'será', 'duro', 'para', 'los', 'trabajadores', 'de', 'el', 'hospital', 'pero', 'no', 'han', 'pensado', 'que', 'será', 'menos', 'estresante', 'tener', 'a', 'los', 'niños', 'calmado', 'sin', 'atar', 'de', 'la', 'mano', 'de', 'mamá', 'o', 'de', 'papá', 'está', 'funcionando', 'en', 'todos', 'los', 'hospitales', 'con', 'uci', 's', 'de', 'puertas', 'abiertas', 'imagino', 'que', 'de', 'esto', 'hablaste', 'con', 'los', 'profesionales', 'de', 'la', 'uci', 'en', 'algún', 'momento', 'cuáles', 'eran', 'los', 'argumentos', 'que', 'esgrimían', 'para', 'defender', 'que', 'los', 'niños', 'pasaran', 'gran', 'parte', 'de', 'el', 'día', 'solos', 'bueno', 'excusas', 'todas', 'por', 'ejemplo', 'la', 'intimidad', 'de', 'el', 'paciente', 'ya', 'ves', 'que', 'cuando', 'estás', 'en', 'una', 'sala', 'de', 'observación', 'en', 'la', 'que', 'puedes', 'pasar', 'hasta', '48', 'horas', 'pegado', 'cama', 'con', 'cama', 'ahí', 'no', 'prima', 'la', 'intimidad', 'qué', 'cosas', 'que', 'si', 'la', 'hora', 'de', 'el', 'baño', 'debe', 'ser', 'que', 'es', 'muy', 'caro', 'comprar', 'un', 'paraban', 'y', 'la', 'excusa', 'mas', 'cruel', 'que', 'allí', 'hay', 'niños', 'abandonados', 'a', 'los', 'que', 'no', 'va', 'nadie', 'a', 'ver', 'los', 'que', 'tienen', 'que', 'velar', 'por', 'esos', 'niños', 'a', 'los', 'que', 'nadie', 'visita', 'era', 'muy', 'indignante', 'cada', 'vez', 'que', 'me', 'contestaban', 'con', 'sus', 'excusas', 'de', 'verdad', 'ha', 'sido', 'duro', 'muy', 'duro', 'agradecemos', 'a', 'esther', 'que', 'nos', 'haya', 'dedicado', 'su', 'tiempo', 'y', 'nos', 'haya', 'contado', 'su', 'experiencia', 'y', 'su', 'lucha', 'y', 'le', 'agradecemos', 'también', 'que', 'haya', 'tenido', 'el', 'detalle', 'de', 'ofrecer', 'nos', 'aún', 'más', 'información', 'acerca', 'de', 'el', 'proceso', 'y', 'acerca', 'de', 'su', 'hijo', 'héctor', 'nos', 'ha', 'prestado', 'la', 'carta', 'que', 'escribió', 'y', 'que', 'llegó', 'a', 'todas', 'las', 'consejerías', 'de', 'sanidad', 'de', 'españa', 'y', 'finalmente', 'a', 'manos', 'de', 'ana', 'mato', 'que', 'podéis', 'leer', 'aquí', 'y', 'nos', 'ha', 'enviado', 'también', 'una', 'carta', 'dedicada', 'a', 'su', 'hijo', 'héctor', 'que', 'no', 'puedo', 'resumir', 'en', 'palabras', 'porque', 'no', 'merece', 'ser', 'resumida', 'sino', 'leída', 'de', 'principio', 'a', 'fin', 'podéis', 'leer', 'la', 'aquí', 'como', 'madre', 'y', 'profesional', 'de', 'la', 'educación', 'infantil', 'estoy', 'interesada', 'en', 'todo', 'lo', 'relacionado', 'con', 'la', 'estimulación', 'temprana', 'y', 'el', 'neurodesarrollo', 'infantil', 'sobre', 'prevención', 'conflicto', 'con', 'botniaupm', 'la', 'realidad', 'es', 'que', 'más', 'de', 'uno', 'quiere', 'volver', 'a', 'la', 'ruta', 'indicaron', 'los', 'asambleístas', 'publicado', 'el', '27', 'agosto', 'a', 'las', '1100horas', 'el', 'ambiente', 'en', 'gualeguaychú', 'se', 'va', 'tornando', 'preocupante', 'después', 'de', 'los', 'anuncios', 'desde', 'el', 'uruguay', 'en', 'cuanto', 'a', 'la', 'posibilidad', 'de', 'instalar', 'una', 'nueva', 'pastera', 'sobre', 'el', 'río', 'que', 'une', 'a', 'ambos', 'países', 'tenemos', 'que', 'profundizar', 'la', 'lucha', 'no', 'tenemos', 'que', 'quedar', 'nos', 'pasivos', 'muchos', 'piensan', 'que', 'es', 'hora', 'de', 'volver', 'a', 'la', 'ruta', 'estos', 'fueron', 'algunas', 'de', 'las', 'frases', 'vinculadas', 'a', 'la', 'lucha', 'contra', 'la', 'pastera', 'botnia', 'upm', 'que', 'dejaron', 'anoche', 'los', 'asambleístas', 'ana', 'angelini', 'y', 'oscar', 'bargas', 'en', 'el', 'programa', 'de', 'televisión', 'fuera', 'de', 'juego', 'que', 'se', 'emite', 'por', 'el', 'canal', 'somos', 'gualeguaychú', 'donde', 'también', 'se', 'anunció', 'que', 'próximamente', 'se', 'convocará', 'a', 'una', 'caravana', 'a', 'la', 'ruta', '136', 'en', 'repudio', 'a', 'el', 'avance', 'pastero', 'uruguayo', 'veníamos', 'muy', 'arriba', 'con', 'el', 'tema', 'de', 'la', 'respuesta', 'de', 'ratificación', 'de', 'la', 'denuncia', 'contra', 'botnia', 'que', 'en', '2005', 'se', 'realizó', 'ante', 'la', 'corte', 'interamericana', 'de', 'derechos', 'humanos', 'cidh', 'gobernador', 'pedro', 'busti', 'y', 'el', 'vicegobernador', 'y', 'actual', 'senador', 'nacional', 'guillermo', 'guastavino', 'estábamos', 'en', 'este', 'tema', 'cuando', 'el', 'jueves', 'de', 'la', 'semana', 'pasada', 'se', 'difunde', 'las', 'declaraciones', 'de', 'el', 'presidente', 'uruguayo', 'por', 'josé', 'mujica', 'de', 'que', 'se', 'quiere', 'instalar', 'una', 'tercera', 'pastera', 'y', 'la', 'necesidad', 'de', 'que', 'botnia', 'aumente', 'su', 'producción', 'esto', 'nos', 'moviliza', 'nos', 'preocupa', 'y', 'nos', 'inquieta', 'expresó', 'bargas', 'y', 'hoy', 'por', 'ayer', 'botnia', 'llegó', 'a', 'el', 'límite', 'de', 'su', 'producción', 'anual', 'permitida', 'que', 'es', 'de', '1002480', 'toneladas', 'de', 'acuerdo', 'a', 'los', 'datos', 'oficiales', 'de', 'la', 'aduana', 'uruguaya', 'que', 'registra', 'ese', 'movimiento', 'desde', 'la', 'zona', 'franca', 'de', 'botnia', 'hacia', 'el', 'puerto', 'de', 'ontur', 'nueva', 'palmira', 'destacó', 'el', 'asambleísta', 'como', 'motivo', 'de', 'preocupación', 'y', 'en', 'ese', 'marco', 'se', 'preguntó', 'qué', 'hará', 'la', 'empresa', 'de', 'aquí', 'a', 'enero', 'de', '2014', 'porque', 'ya', 'se', 'llegó', 'a', 'el', 'límite', 'de', 'producción', 'autorizado', 'tanto', 'por', 'la', 'dirección', 'nacional', 'de', 'medioambiente', 'dinama', 'y', 'la', 'propia', 'corteinternacionaldejusticiadelahaya', 'que', 'se', 'refirió', 'a', 'ese', 'volumen', 'para', 'ordenar', 'el', 'monitoreo', 'ambiental', 'botnia', 'parará', 'su', 'producción', 'hasta', 'enero', 'y', 'con', 'la', 'consecuencia', 'de', 'la', 'contaminación', 'en', 'ese', 'contexto', 'bargas', 'confirmó', 'que', 'este', 'miércoles', 'se', 'llevará', 'a', 'la', 'habitual', 'reunión', 'de', 'la', 'asamblea', 'una', 'propuesta', 'de', 'movilización', 'y', 'que', 'podría', 'materializar', 'se', 'en', 'una', 'caravana', 'hacia', 'la', 'ruta', '136', 'la', 'necesidad', 'de', 'movilización', 'también', 'la', 'justificó', 'por', 'la', 'falta', 'de', 'información', 'por', 'parte', 'de', 'la', 'comisión', 'administradora', 'del', 'río', 'uruguay', 'caru', 'con', 'respecto', 'a', 'el', 'monitoreo', 'ambiental', 'que', 'se', 'realiza', 'en', 'la', 'pastera', 'y', 'por', 'estos', 'últimos', 'acontecimientos', 'que', 'hablan', 'de', 'una', 'tercera', 'pastera', 'a', 'instalar', 'se', 'el', 'gobierno', 'uruguayo', 'sigue', 'violando', 'el', 'estatuto', 'del', 'río', 'uruguay', 'siguen', 'actuando', 'de', 'mala', 'fe', 'a', 'pesar', 'de', 'el', 'pedido', 'de', 'la', 'haya', 'que', 'les', 'recomendó', 'cooperación', 'y', 'buena', 'voluntad', 'para', 'manejar', 'este', 'conflicto', 'apuntó', 'angelini', 'que', 'además', 'es', 'abogada', 'de', 'la', 'asamblea', 'ciudadana', 'ambiental', 'cooperar', 'implica', 'no', 'agravar', 'el', 'conflicto', 'y', 'uruguay', 'hace', 'todo', 'lo', 'contrario', 'sostuvo', 'el', 'haber', 'llegado', 'a', 'el', 'límite', 'de', 'su', 'producción', 'el', 'anuncio', 'de', 'la', 'instalación', 'de', 'otra', 'pastera', 'a', 'pesar', 'de', 'todos', 'los', 'daños', 'que', 'están', 'causando', 'en', 'nuestra', 'salud', 'es', 'programa', 'fuera', 'de', 'juego', 'se', 'informó', 'que', 'el', 'gobernador', 'sergio', 'urribarri', 'había', 'confirmado', 'que', 'iba', 'a', 'solicitar', 'una', 'audiencia', 'urgente', 'a', 'el', 'canciller', 'héctor', 'timerman', 'a', 'raíz', 'de', 'estos', 'hechos', 'y', 'se', 'adelantó', 'que', 'el', 'senador', 'nacional', 'guastavino', 'iba', 'a', 'canalizar', 'a', 'través', 'de', 'su', 'par', 'daniel', 'filmus', 'titular', 'de', 'la', 'comisión', 'de', 'relaciones', 'exteriores', 'de', 'la', 'cámara', 'alta', 'que', 'comparezca', 'a', 'ese', 'recinto', 'el', 'jefe', 'de', 'la', 'diplomacia', 'argentina', 'frente', 'a', 'este', 'nuevo', 'escenario', 'los', 'asambleístas', 'coincidieron', 'que', 'está', 'muy', 'bien', 'desde', 'el', 'año', 'pasado', 'que', 'venimos', 'solicitando', 'tener', 'una', 'audiencia', 'con', 'el', 'canciller', 'y', 'hasta', 'ahora', 'no', 'hemos', 'tenido', 'respuesta', 'en', 'octubre', 'estamos', 'cumpliendo', 'diez', 'años', 'de', 'esta', 'lucha', 'y', 'hasta', 'ahora', 'se', 'han', 'negado', 'a', 'hablar', 'con', 'la', 'ciudadanía', 'observó', 'bargas', 'uruguay', 'permanentemente', 'está', 'obstaculizando', 'el', 'monitoreo', 'que', 'ordenó', 'la', 'haya', 'no', 'deja', 'que', 'se', 'coloquen', 'medidores', 'de', 'gases', 'y', 'tampoco', 'deja', 'colocar', 'las', 'boyas', 'inteligentes', 'recordó', 'bargas', 'y', 'contó', 'un', 'hecho', 'delictivo', 'grave', 'hace', 'poco', 'nos', 'enteramos', 'que', 'una', 'boya', 'inteligente', 'que', 'estaba', 'frente', 'a', 'botnia', 'y', 'que', 'contenía', 'instrumental', 'científico', 'sensible', 'por', 'valor', 'de', 'más', 'la', 'deriva', 'una', 'semana', 'esa', 'boya', 'tiene', 'una', 'ubicación', 'satelital', 'que', 'le', 'permitió', 'a', 'la', 'caru', 'localizar', 'la', 'pero', 'es', 'evidente', 'que', 'fue', 'saboteada', 'y', 'sospechamos', 'de', 'botnia', 'porque', 'registra', 'datos', 'que', 'van', 'en', 'contra', 'de', 'lo', 'que', 'dice', 'esa', 'empresa', 'y', 'de', 'los', 'intereses', 'de', 'el', 'gobierno', 'uruguayo', 'denunció', 'bargas', 'los', 'dos', 'asambleístas', 'valoraron', 'el', 'gesto', 'de', 'urribarri', 'y', 'de', 'guastavino', 'pero', 'advirtieron', 'que', 'no', 'sea', 'una', 'cosa', 'de', 'campaña', 'electoral', 'sino', 'que', 'se', 'ocupen', 'de', 'verdad', 'porque', 'el', 'problema', 'es', 'muy', 'serio', 'y', 'grave', 'desde', 'diciembre', 'de', 'el', 'año', 'pasado', 'que', 'estamos', 'gestionando', 'una', 'reunión', 'con', 'cancillería', 'pero', 'hasta', 'el', 'momento', 'ha', 'prevalecido', 'el', 'silencio', 'hace', 'un', 'mes', 'la', 'hemos', 'vuelto', 'a', 'gestionar', 'ante', 'el', 'intendente', 'juan', 'josé', 'bahillo', 'y', 'no', 'ha', 'pasado', 'nada', 'de', 'nada', 'recordaron', 'también', 'recordaron', 'que', 'no', 'se', 'ha', 'cumplido', 'la', 'promesa', 'de', 'la', 'presidenta', 'cristina', 'fernández', 'de', 'kirchner', 'de', 'instalar', 'pantallas', 'on', 'line', 'para', 'que', 'la', 'población', 'ribereña', 'sepa', 'en', 'tiempo', 'real', 'lo', 'que', 'está', 'ocurriendo', 'en', 'el', 'río', 'uruguay', 'bargas', 'contó', 'el', 'caso', 'de', 'el', 'sensor', 'ubicado', 'en', 'la', 'chimenea', 'de', 'el', 'uruguay', 'pero', 'ese', 'sensor', 'es', 'desactivado', 'cada', 'vez', 'que', 'en', 'la', 'planta', 'existe', 'un', 'episodio', 'o', 'un', 'accidente', 'o', 'se', 'sale', 'de', 'parámetro', 'por', 'eso', 'hemos', 'ratificado', 'la', 'denuncia', 'de', 'la', 'violación', 'de', 'derechos', 'humanos', 'ante', 'la', 'cidh', '»', 'destacó', 'angelini', 'explicó', 'que', 'el', 'reglamento', 'de', 'la', 'cidh', 'ordena', 'que', 'antes', 'de', 'archivar', 'una', 'causa', 'se', 'pide', 'a', 'los', 'denunciantes', 'que', 'ratifiquen', 'o', 'no', 'la', 'denuncia', 'original', 'por', 'eso', 'hemos', 'ratificado', 'la', 'denuncia', 'formulada', 'en', 'su', 'momento', 'porque', 'en', 'la', 'actualidad', 'incluso', 'está', 'agravada', 'por', 'el', 'funcionamiento', 'de', 'la', 'planta', 'porque', 'esa', 'denuncia', 'se', 'realizó', 'en', '2005', 'y', 'botnia', 'comenzó', 'a', 'producir', 'en', '2007', 'aportó', 'angelini', 'quien', 'entendió', 'que', 'existen', 'elementos', 'más', 'que', 'suficientes', 'incluso', 'para', 'volver', 'a', 'la', 'corte', 'de', 'la', 'haya', 'aunque', 'no', 'visualizó', 'vocación', 'de', 'el', 'gobierno', 'argentino', 'para', 'acudir', 'a', 'esa', 'instancia', 'a', 'el', 'ser', 'consultados', 'si', 'hay', 'margen', 'para', 'volver', 'a', 'la', 'ruta', 'los', 'asambleístas', 'reconocieron', 'que', 'existen', 'muchos', 'vecinos', 'dispuesto', 'a', 'hacer', 'lo', 'si', 'bien', 'por', 'ahora', 'no', 'se', 'ha', 'hablado', 'de', 'manera', 'concreta', 'se', 'está', 'madurando', 'la', 'idea', 'de', 'la', 'realidad', 'es', 'que', 'más', 'de', 'uno', 'quiere', 'volver', 'a', 'la', 'ruta', 'resaltó', 'angelini', 'quien', 'aclaró', 'que', 'esa', 'decisión', 'se', 'tomará', 'en', 'la', 'asamblea', 'como', 'ha', 'sido', 'siempre', 'analisis', 'estacionpluscomar', 'no', 'es', 'responsable', 'de', 'los', 'comentarios', 'realizados', 'por', 'los', 'lectores', 'los', 'mismos', 'son', 'de', 'exclusiva', 'responsabilidad', 'de', 'el', 'que', 'los', 'emite', 'estacionpluscomar', 'se', 'reserva', 'esperan', 'tratar', 'el', 'código', 'contravencional', 'en', 'la', 'próxima', 'sesión', 'legislativa', 'en', 'un', 'nuevo', 'encuentro', 'de', 'la', 'comisiónnº', '6', 'de', 'seguridad', 'y', 'justicia', 'obtuvo', 'dictamen', 'favorable', 'el', 'proyecto', 'de', 'ley', 'del', 'código', 'contravencional', 'que', 'se', 'debate', 'en', 'el', 'seno', 'de', 'la', 'legislatura', 'tras', 'varios', 'encuentros', 'con', 'los', 'distintos', 'sectores', 'que', 'infieren', 'en', 'la', 'cuestión', 'de', 'debate', 'se', 'prevé', 'que', 'en', 'la', 'próxima', 'sesión', 'de', 'la', 'cámara', 'el', 'proyecto', 'se', 'convierta', 'en', 'ley', 'el', 'presidente', 'de', 'la', 'comisiónnº', '6', 'de', 'seguridad', 'y', 'justicia', 'pablo', 'blanco', 'ucr', 'explicó', 'los', 'alcances', 'de', 'el', 'proyecto', 'que', 'será', 'parte', 'de', 'la', 'nueva', 'sesión', 'legislativa', 'de', 'fecha', 'a', 'confirmar', 'próximamente', 'el', 'código', 'contravencional', 'se', 'viene', 'trabajando', 'hace', 'mucho', 'tiempo', 'se', 'formó', 'una', 'subcomisión', 'donde', 'participaron', 'técnicos', 'y', 'profesionales', 'que', 'fueron', 'convocados', 'por', 'los', 'legisladores', 'representantes', 'de', 'el', 'poder', 'judicial', 'de', 'el', 'ejecutivo', 'y', 'de', 'los', 'colegios', 'de', 'abogados', 'para', 'tratar', 'el', 'proyecto', 'de', 'el', 'que', 'hoy', 'elaboramos', 'el', 'dictamen', 'definitivo', 'expresó', 'a', 'prensa', 'legislativa', 'además', 'se', 'refirió', 'a', 'los', 'proyectos', 'que', 'se', 'analizaron', 'por', 'más', 'de', 'un', 'esto', 'se', 'forma', 'una', 'subcomisión', 'técnica', 'para', 'debatir', 'con', 'todos', 'los', 'sectores', 'y', 'lograr', 'el', 'mejor', 'proyecto', 'detalló', 'el', 'dictamen', 'logrado', 'compensa', 'la', 'mayoría', 'de', 'las', 'observaciones', 'realizadas', 'por', 'todos', 'los', 'sectores', 'seguramente', 'no', 'se', 'verán', 'volcadas', 'la', 'totalidad', 'de', 'las', 'objeciones', 'pero', 'es', 'lo', 'que', 'se', 'acordó', 'con', 'el', 'consenso', 'y', 'que', 'daremos', 'tratamiento', 'en', 'la', 'próxima', 'sesión', 'ordinaria', 'relató', 'el', 'presidente', 'de', 'la', 'comisión', 'sobre', 'lo', 'discutido', 'en', 'los', 'numerosos', 'encuentros', 'de', 'ese', 'espacio', 'de', 'análisis', 'el', 'parlamentario', 'radical', 'dijo', 'que', 'mantuvimos', 'encuentros', 'con', 'los', 'distintos', 'actores', 'entre', 'los', 'puntos', 'más', 'importantes', 'destacamos', 'la', 'creación', 'de', 'un', 'juzgado', 'contravencional', 'que', 'será', 'parte', 'de', 'la', 'justicia', 'provincial', 'contará', 'con', 'instancias', 'de', 'mediación', 'explicó', 'que', 'con', 'la', 'nueva', 'normativa', 'se', 'derogan', 'los', 'edictos', 'policiales', 'por', 'último', 'blanco', 'subrayó', 'que', 'hay', 'idea', 'de', 'bajar', 'la', 'edad', 'de', 'imputabilidad', 'este', 'proyecto', 'prevé', 'la', 'edad', 'de', '18', 'años', 'aunque', 'hay', 'sectores', 'que', 'pretenden', 'que', 'se', 'baje', 'a', '16', 'esto', 'aún', 'no', 'tiene', 'consenso', 'habrá', 'que', 'seguir', 'con', 'la', 'discusión', 'al', 'respecto', 'finalizó', 'algunas', 'consideraciones', 'sobre', 'el', 'desempleo', 'en', 'argentina', 'la', 'creación', 'de', 'empleo', 'privado', 'y', 'su', 'posible', 'impacto', 'en', 'la', 'tasa', 'de', 'desempleo', 'es', 'un', 'tema', 'que', 'se', 'viene', 'debatiendo', 'mucho', 'entre', 'los', 'economistas', 'especialmente', 'en', 'los', 'últimos', 'meses', 'en', 'esta', 'entrada', 'buscamos', 'hacer', 'nuestro', 'aporte', 'a', 'el', 'debate', 'sobre', 'el', 'mercado', 'laboral', 'enfocándo', 'nos', 'particularmente', 'sobre', 'el', 'desempleo', 'la', 'tasa', 'de', 'desempleo', 'en', 'el', 'largo', 'plazo', 'como', 'primer', 'punto', 'analizamos', 'la', 'tendencia', 'de', 'largo', 'plazo', 'de', 'la', 'tasa', 'de', 'desempleo', 'argentina', 'armamos', 'una', 'serie', 'larga', 'de', 'la', 'encuesta', 'permanente', 'de', 'hogares', 'desde', '1992', 'tomamos', 'todos', 'los', 'aglomerados', 'para', 'los', 'que', 'contamos', 'con', 'los', 'microdatos', 'en', 'forma', 'continua', 'la', 'figura', 'i', 'muestra', 'la', 'evolución', 'de', 'el', 'desempleo', 'debido', 'a', 'que', 'cambio', 'la', 'metodología', 'de', 'medición', 'en', '2003', 'las', 'tasas', 'no', 'son', 'estrictamente', 'comparables', 'a', 'lo', 'largo', 'de', 'el', 'tiempo', 'no', 'sería', 'raro', 'que', 'la', 'metodología', 'actual', 'diese', 'una', 'tasa', '1', 'punto', 'porcentual', 'por', 'arriba', 'de', 'la', 'que', 'arrojaría', 'la', 'metodología', 'anterior', 'lo', 'cual', 'es', 'aproximadamente', 'igual', 'a', 'la', 'diferencia', 'de', 'tasas', 'existente', 'entre', 'puntas', 'de', 'actual', 'es', 'similar', 'a', 'la', 'de', '1992', 'en', 'torno', 'de', 'el', '7', 'con', 'la', 'medición', 'actual', 'dicha', 'tasa', 'se', 'ha', 'mantenido', 'estable', 'desde', '2008', 'lo', 'cual', 'no', 'es', 'sorprendente', 'si', 'entendemos', 'que', 'es', 'difícil', 'bajar', 'la', 'tasa', 'de', 'desempleo', 'por', 'debajo', 'de', 'cierto', 'nivel', 'solamente', 'estimulando', 'el', 'crecimiento', 'de', 'la', 'economía', 'en', 'nuestra', 'opinión', 'para', 'bajar', 'el', 'desempleo', 'significativamente', 'es', 'necesario', 'hacer', 'más', 'competitiva', 'la', 'economía', 'y', 'mejorar', 'el', 'nivel', 'de', 'calificación', 'de', 'la', 'fuerza', 'laboral', 'esta', 'representación', 'de', 'el', 'funcionamiento', 'de', 'el', 'mercado', 'laboral', 'tiene', 'por', 'detrás', 'un', 'modelo', 'de', 'desempleo', 'el', 'desempleo', 'sería', 'entonces', 'el', 'resultado', 'de', 'un', 'equilibrio', 'descentralizado', 'de', 'la', 'economía', 'que', 'puede', 'o', 'no', 'ser', 'óptimo', 'pensemos', 'simplemente', 'que', 'es', 'la', 'tasa', 'de', 'desempleo', 'a', 'la', 'que', 'se', 'retorna', 'después', 'de', 'que', 'la', 'economía', 'ajusta', 'a', 'shocks', 'ver', 'entre', 'otros', 'pissarides', '2010', 'este', 'nivel', 'de', 'desempleo', 'captura', 'fricciones', 'en', 'el', 'mercado', 'laboral', 'ver', 'esta', 'entrada', 'de', 'iván', 'werning', 'acá', 'la', 'idea', 'es', 'que', 'encontrar', 'una', 'buena', 'combinación', 'toma', 'tiempo', 'que', 'este', 'tiempo', 'vacantes', 'disponibles', 'o', 'menos', 'trabajadores', 'buscando', 'empleo', 'en', 'promedio', 'los', 'trabajadores', 'desocupados', 'encontrarían', 'trabajo', 'más', 'rápido', 'asociar', 'la', 'tasa', 'de', 'desempleo', 'a', 'el', 'ciclo', 'económico', 'es', 'como', 'mínimo', 'una', 'visión', 'incompleta', 'cierto', 'es', 'que', 'variaciones', 'en', 'la', 'demanda', 'agregada', 'habitualmente', 'afectan', 'la', 'tasa', 'de', 'desempleo', 'pero', 'pensamos', 'que', 'lo', 'hacen', 'en', 'torno', 'a', 'esta', 'tasa', 'de', 'desempleo', 'de', 'largo', 'plazo', 'la', 'cual', 'también', 'puede', 'cambiar', 'en', 'el', 'tiempo', 'durante', 'los', 'años', 'üùcar60s', 'el', 'desempleo', 'en', 'europa', 'era', 'aún', 'más', 'bajo', 'que', 'en', 'estados', 'unidos', 'un', 'país', 'que', 'se', 'caracteriza', 'por', 'tener', 'un', 'mercado', 'de', 'trabajo', 'altamente', 'desregulado', 'y', 'flexible', 'en', 'los', 'üùcar70s', 'el', 'shock', 'petrolero', 'de', 'principios', 'de', 'la', 'década', 'indujo', 'una', 'suba', 'importante', 'en', 'el', 'desempleo', 'en', 'todos', 'los', 'países', 'de', 'la', 'oecd', 'a', 'comienzos', 'de', 'los', 'años', '80', 'el', 'desempleo', 'aumentó', 'aún', 'más', 'como', 'resultado', 'de', 'las', 'políticas', 'antiinflacionarias', 'adoptadas', 'en', 'los', 'países', 'desarrollados', 'sin', 'embargo', 'cuando', 'ocurrió', 'la', 'recuperación', 'de', 'el', 'ciclo', 'económico', 'las', 'tasas', 'de', 'desempleo', 'de', 'las', 'diferentes', 'regiones', 'convergieron', 'a', 'diferentes', 'valores', 'en', 'estados', 'unidos', 'volvió', 'a', 'bajar', 'a', 'los', 'niveles', 'existentes', 'antes', 'de', 'el', 'shock', 'de', 'oferta', 'adverso', 'de', 'comienzos', 'de', 'los', 'años', '70', 'mientras', 'que', 'en', 'una', 'gran', 'parte', 'de', 'europa', 'el', 'desempleo', 'permaneció', 'en', 'niveles', 'muy', 'elevados', 'hasta', 'al', 'menos', 'fines', 'de', 'los', 'años', '90', 'lo', 'que', 'es', 'peor', 'en', 'los', 'cuatro', 'grandes', 'países', 'europeos', 'alemania', 'españa', 'francia', 'e', 'italia', 'el', 'desempleo', 'se', 'ha', 'mantenido', 'muy', 'alto', 'aun', 'hasta', 'hoy', 'día', '¿', 'por', 'qué', 'ocurrió', 'esto', 'consistente', 'con', 'el', 'modelo', 'que', 'describimos', 'anteriormente', 'existe', 'evidencia', 'econométrica', 'que', 'sugiere', 'que', 'ello', 'se', 'debió', 'a', 'que', 'los', 'gobiernos', 'respondieron', 'a', 'los', 'shocks', 'de', 'los', 'años', 'üùcar70s', 'y', 'a', 'el', 'desempleo', 'subsecuente', 'modificando', 'las', 'instituciones', 'laborales', 'de', 'forma', 'tal', 'que', 'se', 'redujeron', 'los', 'incentivos', 'de', 'la', 'oferta', 'de', 'trabajo', 'ver', 'nickell', 'nunziata', 'y', 'ochel', '2005', 'analizando', 'las', 'figura', '1', 'observamos', 'que', 'la', 'tasa', 'de', 'desempleo', 'fue', 'variando', 'sensiblemente', 'ante', 'los', 'fuertes', 'shocks', 'que', 'sufrió', 'la', 'economía', 'argentina', 'en', 'las', 'últimas', 'décadas', 'sin', 'embargo', 'la', 'tasa', 'de', 'desempleo', 'pareció', 'retornar', 'siempre', 'a', 'una', 'tasa', 'de', 'desempleo', 'más', 'o', 'menos', 'estable', 'salarios', 'reales', 'la', 'figura', 'ii', 'muestra', 'una', 'serie', 'larga', 'de', 'salarios', 'reales', 'por', 'hora', 'salarios', 'computados', 'para', 'una', 'composición', 'dada', 'de', 'el', 'empleo', 'y', 'producto', 'por', 'trabajador', 'ocupado', 'es', 'razonable', 'esperar', 'que', 'en', 'el', 'mediano', 'plazo', 'el', 'salario', 'real', 'siga', 'la', 'serie', 'de', 'producto', 'por', 'trabajador', 'ocupado', 'miramos', 'este', 'salario', 'pues', 'queremos', 'medir', 'algo', 'que', 'se', 'aproxime', 'a', 'un', 'precio', 'de', 'el', 'trabajo', 'para', 'una', 'unidad', 'homogénea', 'de', 'empleo', 'vemos', 'que', 'ello', 'tendió', 'a', 'ser', 'así', 'durante', 'el', 'periodo', 'considerado', 'sin', 'embargo', 'desde', 'la', 'crisis', 'de', 'el', 'tequila', 'hasta', 'la', 'crisis', 'de', 'la', 'convertibilidad', 'y', 'particularmente', 'durante', 'este', 'último', 'episodio', 'los', 'salarios', 'cayeron', 'significativamente', 'más', 'que', 'el', 'producto', 'medio', 'por', 'trabajador', 'ocupado', 'creemos', 'que', 'esto', 'refleja', 'en', 'buena', 'medida', 'cambios', 'estructurales', 'en', 'la', 'economía', 'es', 'interesante', 'notar', 'tres', 'fenómenos', 'importantes', '1', 'la', 'recuperación', 'postcrisis', 'de', 'los', 'salarios', 'formales', 'ha', 'sido', 'más', 'pronunciada', 'que', 'la', 'de', 'los', 'salarios', 'promedio', 'formales', 'e', 'informales', 'mostrando', 'un', 'mercado', 'laboral', 'probablemente', 'menos', 'competitivo', 'lo', 'cual', 'no', 'es', 'una', 'buena', 'noticia', 'en', 'términos', 'de', 'desempleo', '2', '2001', 'no', 'parece', 'haber', 'sido', 'mayor', 'a', 'el', 'crecimiento', 'de', 'el', 'producto', 'por', 'empleado', 'ocupado', '3', 'los', 'salaries', 'reales', 'han', 'crecido', 'durante', 'toda', 'la', 'recuperación', 'incluso', 'en', 'los', 'últimos', 'años', 'cuando', 'el', 'desempleo', 'se', 'estancó', 'empleo', 'la', 'figura', 'iii', 'muestra', 'la', 'tasa', 'de', 'empleo', 'que', 'no', 'se', 'ha', 'incrementado', 'significativamente', 'durante', 'todo', 'el', 'período', 'aunque', 'cayó', 'bastante', 'durante', 'los', 'años', '90', 'y', 'se', 'recuperó', 'fuertemente', 'luego', 'de', 'la', 'crisis', 'de', 'la', 'convertibilidad', 'sin', 'embargo', 'en', 'los', 'últimos', 'años', 'especialmente', 'desde', '2008', 'no', 'muestra', 'variabilidad', 'significativa', 'finalmente', 'en', 'la', 'figura', 'iv', 'notamos', 'que', 'durante', 'el', 'periodo', 'de', 'recuperación', 'de', 'el', 'empleo', 'también', 'hubo', 'un', 'gran', 'crecimiento', 'de', 'el', 'empleo', 'público', 'probablemente', 'este', 'también', 'sea', 'un', 'indicador', 'de', 'un', 'mercado', 'de', 'trabajo', 'menos', 'competitivo', 'conclusión', 'mirando', 'estos', 'datos', 'y', 'teniendo', 'en', 'consideración', 'un', 'modelo', 'sobre', 'cómo', 'podría', 'funcionar', 'el', 'mercado', 'de', 'trabajo', 'pensamos', 'que', 'simplemente', 'estimulando', 'la', 'demanda', 'agregada', 'algo', 'que', 'además', 'ha', 'encontrado', 'sus', 'límites', 'reales', 'hace', 'tiempo', 'ya', 'no', 'se', 'lograran', 'bajas', 'importantes', 'en', 'la', 'tasa', 'de', 'desempleo', 'de', 'su', 'tasa', 'de', 'largo', 'plazo', 'dada', 'la', 'estructura', 'actual', 'de', 'la', 'economía', 'argentina', ' ', 'asumiendo', 'que', 'no', 'se', 'modificara', 'la', 'forma', 'en', 'que', 'se', 'mide', 'el', 'desempleo', 'federico', 'si', 'entiendo', 'vos', 'planteas', 'que', 'es', 'raro', 'que', 'la', 'tasa', 'de', 'empleo', 'no', 'haya', 'variado', 'en', 'los', 'últimos', 'años', 'primero', 'digamos', 'que', 'presenta', 'variaciones', 'pero', 'estas', 'son', 'pequeñas', 'dentro', 'de', 'el', 'margen', 'de', 'variación', 'estadística', 'a', 'partir', 'de', 'ahí', 'no', 'me', 'animaría', 'a', 'decir', 'que', 'ello', 'implica', 'que', 'estos', 'datos', 'están', 'manipulados', 'vos', 'quizás', 'estás', 'viendo', 'otra', 'cosa', '¿', 'no', 'hubieses', 'esperado', 'acaso', 'que', 'si', 'estas', 'estadísticas', 'estuviesen', 'manipuladas', 'la', 'tasa', 'de', 'desempleo', 'fuese', 'menor', 'digamos', '5', 'yo', 'al', 'menos', 'ayer', 'pensé', 'que', 'ello', 'podría', 'ocurrir', 'en', 'el', 'futuro', 'mientras', 'escribía', 'la', 'entrada', 'hace', 'tiempo', 'que', 'no', 'hago', 'investigación', 'con', 'los', 'datos', 'de', 'la', 'encuesta', 'de', 'hogares', 'así', 'que', 'tampoco', 'estoy', 'a', 'el', 'tanto', 'de', 'todas', 'sus', 'aristas', 'más', 'bien', 'he', 'estado', 'consumiendo', 'los', 'números', 'que', 'se', 'publican', 'a', 'partir', 'de', 'la', 'misma', 'que', 'viene', 'aumentado', 'desde', '2004', 'pero', 'en', 'niveles', 'no', 'parece', 'haber', 'recuperando', 'su', 'nivel', 'máximo', 'anterior', 'alrededor', 'de', 'el', '1994', 'según', 'tu', 'figura', 'durante', 'la', 'recuperación', '2002008', 'el', 'salario', 'real', 'esta', 'deprimido', 'respecto', 'a', '1998', 'y', 'aun', 'hoy', 'no', 'parece', 'estar', 'a', 'el', 'mismo', 'nivel', 'que', 'en', '1994', 'entonces', 'quizás', 'vale', 'la', 'pena', 'hacer', 'alguna', 'consideración', 'adicional', 'para', 'beneficio', 'de', 'los', 'lectores', 'a', 'nosotros', 'nos', 'interesaba', 'mirar', 'un', 'precio', 'para', 'una', 'unidad', 'de', 'trabajo', 'homogénea', 'por', 'ello', 'el', 'salario', 'computado', 'es', 'horario', 'como', 'las', 'horas', 'trabajadas', 'subieron', 'mucho', 'desde', 'la', 'crisis', 'el', 'salario', 'real', 'computado', 'en', 'otro', 'contexto', 'seguramente', 'mostraría', 'una', 'suba', 'mayor', 'desde', '2002', 'a', 'el', 'de', 'la', 'figura', '2', 'habría', 'que', 'ver', 'con', 'respecto', 'a', '1994', 'además', 'como', 'decimos', 'en', 'la', 'entrada', 'es', 'también', 'un', 'salario', 'computado', 'para', 'una', 'composición', 'fija', 'de', 'el', 'empleo', 'si', 'en', 'el', 'tiempo', 'por', 'ejemplo', 'el', 'nivel', 'educativo', 'de', 'la', 'fuerza', 'laboral', 'aumenta', 'y', 'esto', 'sube', 'los', 'salarios', 'nosotros', 'no', 'captaremos', 'esa', 'suba', 'aunque', 'si', 'el', 'producto', 'medio', 'lo', 'mismo', 'para', 'las', 'horas', 'que', 'el', 'salario', 'seguiría', 'a', 'esta', 'serie', 'solo', 'en', 'el', 'mediano', 'plazo', 'me', 'surge', 'la', 'siguiente', 'incógnita', 'si', 'tomáramos', 'los', '3', 'puntos', 'porcentuales', 'de', 'diferencia', 'en', 'el', 'share', 'de', 'empleo', 'público', 'entre', 'la', 'década', 'de', 'el', 'noventa', 'y', 'la', 'década', '2002013', 'y', 'los', 'elimináramos', 'asumiendo', 'que', 'se', 'transforman', 'en', 'desempleo', 'a', 'cuánto', 'ascendería', 'este', 'último', 'en', 'lugar', 'de', '7', 'en', '2012', 'sinceramente', 'no', 'creo', 'que', 'esa', 'sea', 'una', 'forma', 'útil', 'de', 'pensar', 'cómo', 'funciona', 'el', 'mercado', 'de', 'trabajo', 'no', 'digo', 'que', 'en', 'el', 'corto', 'plazo', 'no', 'pueda', 'reducir', 'se', 'el', 'desempleo', 'aumento', 'el', 'empleo', 'público', 'pero', 'la', 'idea', 'es', 'que', 'en', 'un', 'plazo', 'más', 'largo', 'las', 'fuerzas', 'que', 'determinan', 'el', 'desempleo', 'son', 'otras', 'y', 'esos', 'empleos', 'públicos', 'principalmente', 'sustituirán', 'otros', 'empleos', 'por', 'lo', 'que', 'he', 'conversado', 'con', 'algunas', 'personas', 'en', 'la', 'uba', 'que', 'trabajan', 'en', 'el', 'ministerio', 'de', 'economia', 'es', 'muy', 'probable', 'que', 'exista', 'una', 'manipulacion', 'en', 'los', 'expansores', 'utilizados', 'para', 'medir', 'el', 'desempleo', 'en', 'argentina', 'dicho', 'por', 'personas', 'oficialistas', 'aclaro', 'es', 'solo', 'un', 'comentario', 'pero', 'quizas', 'alli', 'pueda', 'haber', 'una', 'explicacion', 'tecnica', 'el', 'aumento', '2004', 'es', 'el', 'plan', 'jefes', 'y', 'jefas', 'de', 'hogar', 'jjh', 'en', 'la', 'recuperación', 'la', 'mayoría', 'transita', 'hacia', 'la', 'ocupación', 'en', 'el', 'mercado', 'de', 'trabajo', 'por', 'eso', 'cae', 'el', 'share', 'de', 'empleo', 'público', 'habría', 'que', 'aclarar', 'si', 'el', 'plan', 'jjh', 'se', 'tuvo', 'o', 'no', 'en', 'cuenta', 'aquí', 'como', 'empleo', 'público', 'sebastían', 'super', 'interesante', 'la', 'nota', 'seria', 'interesante', 'saber', 'si', 'el', 'empleo', 'público', 'en', '1992', 'incluye', 'el', 'empleo', 'en', 'empresas', 'públicas', 'y', 'cuanto', 'de', 'el', 'desempleo', 'a', 'el', 'inicio', 'de', 'los', 'noventas', 'es', 'por', 'el', 'shock', 'de', 'las', 'privatizaciones', 'también', 'cuanto', 'de', 'el', 'empleo', 'público', 'ahora', 'es', 'un', 'seguro', 'de', 'desempleo', 'encubierto', 'como', 'los', 'planes', 'sociales', 'respecto', 'a', 'el', 'efecto', 'de', 'las', 'privatizaciones', 'en', 'el', 'desempleo', 'la', 'verdad', 'es', 'una', 'cuestión', 'compleja', 'como', 'señale', 'en', 'un', 'comentario', 'más', 'arriba', 'no', 'soy', 'muy', 'amigo', 'de', 'pensar', 'a', 'el', 'mercado', 'laboral', 'de', 'esa', 'forma', 'aun', 'si', 'uno', 'lo', 'hiciese', 'los', 'datos', 'no', 'son', 'tan', 'buenos', 'como', 'para', 'poder', 'hacer', 'lo', 'exactamente', 'en', 'cualquier', 'caso', 'si', 'uno', 'ignora', 'estas', 'consideración', 'teóricas', 'y', 'prácticas', 'directamente', 'en', 'el', 'peor', 'de', 'los', 'casos', 'podrían', 'explicar', 'entre', '10', 'y', '15', 'de', 'una', 'tasa', 'de', 'desempleo', 'de', '18', '1995', 'ya', 'están', 'repavimentando', 'primera', 'junta', 'el', 'gobierno', 'local', 'comenzó', 'con', 'los', 'trabajos', 'de', 'repavimentación', 'en', 'las', 'tres', 'primeros', 'cuadras', 'de', 'primera', 'junta', 'luego', 'de', 'un', 'trabajo', 'de', 'base', 'muy', 'intenso', 'que', 'permitirá', 'la', 'durabilidad', 'de', 'el', 'mismo', 'y', 'dejar', 'en', 'condiciones', 'una', 'importante', 'avenida', 'de', 'nuestra', 'ciudad', 'con', 'el', 'objetivo', 'de', 'preparar', 'la', 'calle', 'para', 'la', 'repavimentación', 'personal', 'de', 'la', 'secretaría', 'de', 'obras', 'públicas', 'realizó', 'en', 'estas', 'primeras', 'cuadras', 'diferentes', 'trabajos', 'en', 'la', 'av', 'primera', 'junta', 'por', 'tal', 'motivo', 'se', 'está', 'refaccionando', 'esta', 'arteria', 'que', 'tiene', 'un', 'carpeta', 'asfáltica', 'flexible', 'y', 'que', 'presentaban', 'un', 'gran', 'deterioro', 'la', 'repavimentación', 'de', 'la', 'avenida', 'primera', 'junta', 'es', 'una', 'obra', 'clave', 'que', 'permitirá', 'un', 'fácil', 'acceso', 'a', 'distintos', 'barrios', 'mejor', 'transitabilidad', 'y', 'mayor', 'seguridad', 'sobre', 'estos', 'trabajos', 'el', 'subsecretario', 'de', 'obras', 'públicas', 'gastón', 'blanc', 'sostuvo', 'que', 'sacamos', 'la', 'carpeta', 'asfáltica', 'envejecida', 'en', 'calle', 'primera', 'junta', 'entre', 'av', 'arias', 'e', 'h', 'yrigoyen', 'también', 'se', 'acomodó', 'la', 'base', 'de', 'balasto', 'con', 'un', 'material', 'granular', 'más', 'fino', 'para', 'poder', 'lograr', 'un', 'perfil', 'transversal', 'mucho', 'mejor', 'de', 'el', 'que', 'tenía', 'ahora', 'estamos', 'haciendo', 'equipo', 'que', 'te', 'mide', 'el', 'valor', 'soporte', 'por', 'coloración', 'de', 'una', 'curva', 'que', 'tenemos', 'graficada', 'además', 'blanc', 'agregó', 'en', 'estos', 'días', 'estamos', 'colocando', 'el', 'riego', 'de', 'emulsión', 'asfáltica', 'para', 'comenzar', 'luego', 'con', 'la', 'colocación', 'de', 'la', 'nueva', 'carpeta', 'asfáltica', 'la', 'idea', 'es', 'colocar', 'una', 'carpeta', 'de', '6', 'cm', 'ya', 'que', 'esta', 'es', 'una', 'avenida', 'de', 'mucho', 'tránsito', 'sobre', 'el', 'empedrado', 'hacemos', 'una', 'carpeta', 'de', '4', 'cm', 'ya', 'que', 'es', 'una', 'base', 'excelente', 'para', 'pavimentar', 'en', 'el', 'empedrado', 'hay', 'que', 'limpiar', 'las', 'juntas', 'restituir', 'las', 'flechas', 'y', 'acomodar', 'sectores', 'puntuales', 'de', 'el', 'empedrado', 'son', 'trabajos', 'para', 'los', 'que', 'hay', 'que', 'cortar', 'las', 'calles', 'pero', 'luego', 'los', 'vecinos', 'ven', 'las', 'mejoras', 'y', 'por', 'tal', 'motivo', 'le', 'pedimos', 'paciencia', 'y', 'prudencia', 'a', 'el', 'conducir', 'por', 'estos', 'sectores', 'importante', 'cada', 'comentario', 'va', 'ser', 'revisado', 'antes', 'de', 'ser', 'aprobado', 'por', 'lo', 'tanto', 'la', 'publicación', 'de', 'los', 'comentarios', 'no', 'es', 'instantánea', 'y', 'podría', 'tardar', 'cierto', 'tiempo', 'en', 'aparecer', 'por', 'favor', 'no', 'otra', 'mirada', 'sobre', 'la', 'paternidad', 'la', 'paternidad', 'la', 'invención', 'de', 'la', 'soledad', 'lectura', 'recomendada', 'la', 'reflexión', 'de', 'un', 'hombre', 'a', 'raíz', 'de', 'la', 'muerte', 'de', 'su', 'padre', 'mirta', 'nuñez', 'un', 'interesante', 'abordaje', 'de', 'el', 'lugar', 'de', 'el', 'padre', 'guillermo', 'vilaseca', 'el', 'viernes', '11', 'de', 'mayo', 'a', 'las', '1230', 'hs', 'en', 'el', 'espacio', 'reciclarte', 'julián', 'alvarez', 'y', 'juncal', 'se', 'realizará', 'un', 'encuentro', 'informativo', 'con', 'inscripción', 'previa', 'para', 'todos', 'aquellos', 'varones', 'que', 'deseen', 'intercambiar', 'y', 'compartir', 'junto', 'a', 'otros', 'inquietudes', 'expectativas', 'sus', 'crisis', 'y', 'reflexiones', 'de', 'la', 'vida', 'cotidiana', 'acerca', 'de', 'los', 'varones', 'ante', 'la', 'paternidad', 'el', 'lic', 'guillermo', 'vilaseca', 'coordinador', 'de', 'los', 'grupos', 'propone', 'un', 'espacio', 'descontracturado', 'ideado', 'especialmente', 'para', 'la', 'interacción', 'de', 'hasta', '12', 'participantes', 'que', 'aspiren', 'a', 'mejorar', 'su', 'calidad', 'de', 'vida', 'para', 'informes', 'e', 'inscripción', 'comunicar', 'se', 'a', '54', '11', '4804', '5811', 'ó', 'por', 'mail', 'a', 'vilasecaretinaar', 'aún', 'no', 'hay', 'comentarios', 'aún', 'no', 'hay', 'trackbacks', 'fui', 'entrevistado', 'por', 'eduardo', 'serenellini', 'en', 'el', 'programa', 'al', 'despertar', 'que', 'se', 'emite', 'los', 'sábados', 'por', 'canal', '26', 'durante', 'el', 'programa', 'varones', 'y', 'cómo', 'surgió', 'la', 'idea', 'de', 'escribir', 'este', 'libro', 'por', 'qué', 'los', 'hombres', 'no', 'entendemos', 'a', 'las', 'mujeres', 'en', 'este', 'enlace', 'pueden', 'ver', 'en', 'propongo', 'este', 'espacio', 'abierto', 'a', 'todos', 'y', 'todas', 'para', 'intercambiar', 'debatir', 'dialogar', 'a', 'el', 'estilo', 'que', 'le', 'podamos', 'dar', 'a', 'una', 'tertulia', 'internética', 'en', 'la', 'que', 'cada', 'uno', 'puede', 'aportar', 'su', 'opinión', 'en', 'su', 'momento', 'y', 'desde', 'su', 'lugar', 'con', 'la', 'intención', 'de', 'abrir', 'lo', 'más', 'posible', 'el', 'abanico', 'de', 'miradas', 'desde', 'una', 'perspectiva', 'inclusiva', 'y', 'para', 'guillermo', 'vilaseca', 'psicólogo', 'clínico', 'y', 'social', 'que', 'viene', 'trabajando', 'con', 'grupos', 'de', 'varones', 'desde', 'la', 'década', 'de', 'el', '80', 'al', 'principio', 'de', 'cualquier', 'abordaje', 'de', 'campo', 'los', 'hombres', 'dicen', 'lo', 'que', 'les', 'parece', 'que', 'tiene', 'que', 'ser', 'elaboran', 'una', 'enunciación', 'de', 'cómo', 'deben', 'ser', 'las', 'cosas', 'o', 'de', 'sus', 'ideales', 'el', 'varón', 'no', 'dice', 'lo', 'este', 'artículo', 'fue', 'publicado', 'en', 'la', 'edición', 'aniversario', 'n°', '157', 'de', 'la', 'revista', 'campo', 'grupal', 'muchas', 'parejas', 'deciden', 'tener', 'un', 'hijo', 'como', 'expresión', 'de', 'el', 'compromiso', 'de', 'el', 'vínculo', 'que', 'han', 'establecido', 'también', 'ocurre', 'que', 'en', 'muchos', 'casos', 'el', 'embarazo', 'los', 'sorprende', 'en', 'el', 'camino', 'de', 'compartir', 'intensidades', 'diversas', 'ya', 'muchas', 'parejas', 'deciden', 'tener', 'un', 'hijo', 'como', 'expresión', 'de', 'el', 'compromiso', 'de', 'el', 'vínculo', 'que', 'han', 'establecido', 'como', 'fruto', 'de', 'el', 'amor', 'que', 'los', 'une', 'aunque', 'también', 'ocurre', 'que', 'en', 'muchos', 'casos', 'el', 'embarazo', 'los', 'sorprende', 'en', 'el', 'camino', 'de', 'compartir', 'intensidades', 'diversas', 'ya', 'sea', 'que', 'la', 'llegada', 'de', 'un', 'hijo', 'sea', 'algo', 'planificado', 'o', 'tenga', 'un', 'matiz', 'las', 'sillas', 'de', 'plástico', 'forman', 'un', 'círculo', 'sentados', 'están', 'ellos', 'hay', 'alguien', 'que', 'dice', 'que', 'levantó', 'a', 'su', 'mujer', 'de', 'el', 'cuello', 'y', 'la', 'mantuvo', 'así', 'acorralada', 'apretando', 'y', 'soltando', 'mientras', 'su', 'hijo', 'se', 'le', 'colgaba', 'de', 'el', 'brazo', 'y', 'le', 'rogaba', 'dejala', 'a', 'mi', 'mamá', 'dejala', 'y', 'que', 'después', 'dice', 'sólo', 'cuando', 'le', 'piden', 'que', 'intente', 'el', 'sábado', '29', 'de', 'junio', 'a', 'las', '14', 'hs', 'estaré', 'brindando', 'esta', 'actividad', 'gratuita', 'con', 'inscripción', 'previa', 'dialogando', 'con', 'juegos', 'y', 'propuestas', 'interactivas', 'los', 'invito', 'a', 'reflexionar', 'sobre', 'los', 'roles', 'estereotipados', 'la', 'igualdad', 'de', 'oportunidades', 'está', 'abierto', 'a', 'quienes', 'deseen', 'intercambiar', 'y', 'compartir', 'tanto', 'inquietudes', 'expectativas', 'y', 'experiencias', 'de', 'la', 'vida', 'cotidiana', 'con', 'el', 'sábado', '29', 'de', 'junio', 'a', 'las', '14', 'hs', 'estaré', 'brindando', 'esta', 'actividad', 'gratuita', 'con', 'inscripción', 'previa', 'dialogando', 'con', 'juegos', 'y', 'propuestas', 'interactivas', 'los', 'invito', 'a', 'reflexionar', 'sobre', 'los', 'roles', 'estereotipados', 'y', 'la', 'posibilidad', 'de', 'transitar', 'a', 'el', 'protagonismo', 'creativo', 'en', 'la', 'igualdad', 'de', 'oportunidades', 'está', 'abierto', 'a', 'quienes', 'deseen', 'intercambiar', 'y', 'compartir', 'tanto', 'inquietudes', 'expectativas', 'y', 'experiencias', 'de', 'la', 'vida', 'cotidiana', 'con', 'hombres', 'y', 'mujeres', 'son', 'tan', 'diferentes', 'que', 'bien', 'podrían', 'proceder', 'de', 'planetas', 'distintos', 'según', 'la', 'teoría', 'de', 'los', 'sexos', 'que', 'planteaba', 'el', 'bestseller', 'de', 'john', 'gray', 'los', 'hombres', 'son', 'de', 'marte', 'las', 'mujeres', 'son', 'de', 'venus', 'de', '1992', 'las', 'diferencias', 'entre', 'los', 'sexos', 'es', 'un', 'tema', 'en', 'extremo', 'popular', 'en', 'la', 'ciencia', 'de', 'la', 'conducta', ' ', 'qué', 'es', 'un', 'grupo', 'de', 'reflexión', 'entre', 'varones', 'sabado', '18', 'de', 'mayo', 'a', 'las', '14', 'hs', 'dialogando', 'con', 'juegos', 'y', 'propuestas', 'interactivas', 'los', 'roles', 'estereotipados', 'y', 'la', 'posibilidad', 'de', 'transitar', 'a', 'el', 'protagonismo', 'creativo', 'en', 'la', 'igualdad', 'de', 'oportunidades', 'está', 'abierto', 'a', 'quienes', 'deseen', 'intercambiar', 'y', 'compartir', 'tanto', 'inquietudes', 'expectativas', 'y', 'experiencias', 'de', 'la', 'vida', 'cotidiana', 'con', 'acerca', 'de', 'actualización', 'permanente', 'este', 'espacio', 'tiene', 'como', 'propósito', 'compartir', 'los', 'emprendimientos', 'desafíos', 'y', 'utopías', 'en', 'que', 'estoy', 'embarcado', 'integrando', 'mi', 'experiencia', 'de', 'mis', 'últimos', '40', 'años', 'como', 'maestro', 'profesor', 'terapeuta', 'y', 'coordinador', 'de', 'grupos', 'martes', 'febrero', '28', '2012', 'pasó', 'media', 'hora', 'y', 'no', 'sé', 'qué', 'más', 'hacer', 'tengo', 'que', 'atender', 'el', 'teléfono', 'para', 'decir', 'que', 'estoy', 'vivo', 'tengo', 'que', 'avisar', 'a', 'familiares', 'que', 'cuando', 'los', 'llamen', 'es', 'por', 'que', 'en', 'tn', 'la', 'página', 'algún', 'gil', 'dice', 'que', 'estoy', 'muerto', 'no', 'entiendo', 'el', 'chiste', 'no', 'sé', 'a', 'quién', 'pedir', 'le', 'que', 'saquen', 'eso', 'la', 'verdad', 'son', 'una', 'porquería', '¿', 'cómo', 'pasa', 'ésto', 'quién', 'es', 'el', 'responsable', 'qué', 'tengo', 'que', 'hacer', 'nunca', 'me', 'sentí', 'tan', 'impotente', 'desde', 'el', 'primer', 'llamado', 'preguntándome', 'si', 'estaba', 'vivo', 'no', 'sé', 'qué', 'hacér', 'no', 'sé', 'cómo', 'contrarrestar', 'esto', 'son', 'unos', 'miserables', 'nada', 'más', 'y', 'saquen', 'eso', 'cuanto', 'antes', 'por', 'favor', 'que', 'detrás', 'de', 'sus', 'chistes', 'de', 'dudoso', 'gusto', 'yo', 'tengo', 'familiares', 'amigos', 'qu', 'se', 'preocupan', 'no', 'es', 'una', 'página', 'falsa', 'es', 'la', 'página', 'de', 'tn', 'no', 'piensan', 'que', 'uno', 'tambien', 'tiene', 'padres', 'amigos', ' ', 'en', 'fin', 'ya', 'te', 'escribi', 'en', 'tw', ' ', 'que', 'aunque', 'alla', 'en', 'tw', 'no', 'lo', 'parezca', 'soy', 'sf', 'no', 'es', 'necesario', 'que', 'me', 'publiques', 'aca', 'este', 'mensaje', 'besos', 'again', 'bueno', 'lucas', 'algunos', 'que', 'se', 'creen', 'graciosos', 'insinuaron', 'que', 'justo', 'te', 'habías', 'muerto', 'luego', 'de', 'escribir', 'algunas', 'notas', 'críticas', 'a', 'el', 'gobierno', 'aunque', 'ahora', 'se', 'pueda', 'bromear', 'no', 'debe', 'ser', 'lindo', 'que', 'tu', 'gente', 'querida', 'te', 'llame', 'para', 'preguntar', 'te', 'si', 'estás', 'vivo', 'un', 'abrazo', 'cerrado', 'por', 'maternidad', 'hasta', 'nuevo', 'post', 'bueno', 'la', 'verdad', 'que', 'hace', 'mucho', 'tiempo', 'que', 'no', 'escribo', 'no', 'escribia', 'por', 'varios', 'motivos', 'fiaca', 'no', 'poder', 'ordenar', 'pensamientos', 'concretos', 'para', 'escribir', 'sobre', 'carlo', 'seminara', 'y', 'la', 'barricada', 'del', 'ritmo', 'en', 'el', 'trabajo', 'de', 'montaje', 'edición', 'post', 'producción', 'se', 'tiene', 'en', 'ocasiones', 'la', 'oportunidad', 'de', 'acceder', 'a', 'determinados', 'lujos', 'este', 'ha', 'sido', 'un', 'lujo', 'que', 'he', 'pod', 'filosofía', 'de', 'la', 'destrucción', 'de', 'el', 'planeta', 'una', 'posible', 'explicación', 'al', 'desprecio', 'por', 'el', 'entorno', 'por', 'luisalbertomartínezexagero', 'un', 'poco', 'con', 'el', 'título', 'lo', 'hago', 'para', 'adherir', 'a', 'la', 'prensa', 'amarilla', 'que', 'me', 'gusta', 'mucho', 'su', 'forma', 'de', 'cantar', 'me', 'dijeron', 'hay', 'que', 'hacer', 'un', 'comentario', 'para', 'el', 'nuevo', 'long', 'play', 'de', 'maria', 'helena', 'dije', 'que', 'sí', 'y', 'luego', 'de', 'decir', 'que', 'si', 'me', 'puse', 'a', 'pensar', 'yo', 'soy', 'músico', 'no', 'comentarista', 'de', 'discos', '¿', 'qué', 'digo', '¿', 'qué', 'escribo', 'sé', 'que', 'es', 'una', 'chica', 'buena', 'simpática', 'agradable', 'la', 'he', 'acompañado', 'ya', 'en', 'muchas', 'oportunidades', 'con', 'mi', 'orquesta', 'sé', 'que', 'canta', 'bien', 'tiene', 'angel', 'a', 'ver', 'es', 'más', 'bien', 'flaquita', 'bueno', 'eso', 'no', 'importa', 'ya', 'que', 'en', 'el', 'disco', 'no', 'se', 'nota', '¿', 'qué', 'más', 'ah', 'usa', 'flequillo', 'es', 'nerviosa', 'se', 'mueve', 'mucho', 'cuando', 'grabamos', 'en', 'el', 'estudio', 'trae', 'muchos', 'caramelos', 'chocolates', 'esto', 'parece', 'un', 'inventario', 'de', 'las', 'características', 'de', 'uno', 'de', 'los', 'tantos', 'artistas', 'de', 'cbs', 'con', 'los', 'cuales', 'me', 'pues', 'todo', 'eso', 'forma', 'parte', 'de', 'una', 'personalidad', 'fresca', 'espontánea', 'casi', 'aniñada', 'y', 'con', 'un', 'no', 'sé', 'qué', 'que', 'le', 'ha', 'proporcionado', 'tantos', 'admiradores', 'en', 'poco', 'tiempo', 'yo', 'personalmente', 'si', 'es', 'que', 'vale', 'mi', 'opinión', 'de', 'müsico', 'creo', 'que', 'una', 'de', 'sus', 'más', 'preciadas', 'cualidades', 'es', 'la', 'ductilidad', 'que', 'posee', 'para', 'interpretar', 'cualquier', 'tema', 'musical', 'puede', 'ser', 'agresiva', 'dulce', 'soñadora', 'tierna', 'en', 'fin', 'tiene', 'todo', 'lo', 'que', 'puede', 'llegar', 'a', 'formar', 'una', 'buena', 'cantante', 'lo', 'cual', 'es', 'mucho', 'decir', 'pero', 'creo', 'que', 'se', 'merece', 'el', 'elogio', 'o', 'no', 'si', 'si', ' ', 'se', 'lo', 'merece', 'me', 'gusta', 'mucho', 'su', 'forma', 'de', 'cantar', 'y', 'creo', 'que', 'a', 'sus', 'admiradores', 'también', 'en', 'este', 'nuevo', 'long', 'play', 'de', 'maria', 'helena', 'se', 'darán', 'cuenta', 'de', 'cómo', 'hace', 'las', 'cosas', 'martes', '1', 'de', 'febrero', 'de', '2011', 'ya', 'sé', 'que', 'todo', 'ese', 'bla', 'bla', 'te', 'parece', 'chotísimo', 'querés', 'saber', 'de', 'mí', 'y', 'mis', 'miserias', 'ok', 'te', 'lo', 'tomo', 'pero', 'no', 'tengo', 'taaaaaanto', 'para', 'contar', 'fui', 'espléndida', 'a', 'la', 'psico', 'no', 'psico', 'y', 'salí', 'un', 'cacho', 'vapuleada', 'ella', 'no', 'parecía', 'querer', 'me', 'tanto', 'como', 'otras', 'veces', 'y', 'me', 'dediqué', 'a', 'no', 'hablar', 'de', 'mí', 'un', 'buen', 'rato', 'apa', 'pero', 'estoy', 'bien', 'eso', 'estoy', 'bien', 'me', 'siento', 'bien', 'valoro', 'mucho', 'lo', 'que', 'tengo', 'en', 'el', 'sentido', 'amplísimo', 'de', 'el', 'término', 'y', 'lo', 'que', 'soy', '¿', 'qué', 'más', 'puedo', 'pedir', 'brillar', 'bueno', 'sí', 'posiblemente', 'llegue', 'tarde', 'o', 'no', 'llegue', 'nunca', 'son', 'elecciones', 'me', 'hubiera', 'encantado', 'el', 'reconocimiento', 'el', 'mimo', 'a', 'el', 'ego', 'etc', 'etc', 'pero', 'yo', 'no', 'puedo', 'todo', 'como', 'alguna', 'vez', 'me', 'dijo', 'ile', 'pero', 'tenés', 'un', 'marido', 'fue', 'gracioso', 'y', 'ahora', 'pienso', 'que', 'tenía', 'más', 'razón', 'de', 'lo', 'que', 'pensé', 'en', 'el', 'momento', 'amar', 'a', 'tu', 'marido', 'es', 'cuasi', 'un', 'milagro', 'sauna', 'sola', 'envuelta', 'en', 'bolsas', 'eso', 'mejor', 'ni', 'lo', 'cuento', 'o', 'lo', 'cuento', 'otro', 'día', 'cantando', 'el', 'amor', 'después', 'de', 'el', 'amor', 'de', 'paez', 'sí', 'matame', 'ya', 'sé', 'pero', 'el', 'pibe', 'la', 'tenía', 'clara', 'eh', '¿', 'qué', 'hay', 'después', 'de', 'el', 'enamoramiento', 'amor', 'además', 'mi', 'amiga', 'de', 'el', 'locker', 'la', 'viuda', 'está', 'por', 'casar', 'se', 'con', 'el', 'novio', 'ella', 'sí', 'que', 'está', 'espléndida', 'hiper', 'arreglada', 'más', 'flaca', 'mientras', 'nos', 'desnudábamos', 'me', 'enteré', 'de', 'que', 'su', 'difunto', 'marido', 'era', 'el', 'segundo', 'de', 'el', 'primero', 'se', 'separó', 'con', 'la', 'hija', 'mayor', 'chiquita', 'ah', 'mirá', 'le', 'dije', 'esa', 'no', 'la', 'tenía', 'rió', 'después', 'me', 'encontré', 'con', 'mi', 'compa', 'la', 'dentista', 'y', 'hablamos', 'de', 'peso', 'y', 'de', 'pasar', 'la', 'bien', 'pareciera', 'que', 'en', 'mi', 'pasillo', 'de', 'el', 'vestuario', 'todas', 'tuviéramos', 'el', 'mismo', 'goal', 'para', 'este', '2011', 'después', 'de', 'un', '2010', 'sufrido', 'también', 'pensé', 'que', 'la', 'vida', 'erotizada', 'es', 'tanto', 'mejor', 'tiene', 'ese', 'resplandor', 'que', 'pierde', 'cuando', 'estás', 'opaco', 'y', 'no', 'hablo', 'de', 'garchar', ' ', 'vida', 'la', 'comida', 'las', 'relaciones', 'hasta', 'los', 'mails', 'yo', 'te', 'erotizo', 'lo', 'que', 'sea', 'con', 'una', 'facilidad', 'pasmosa', 'me', 'erotizo', 'debería', 'decir', 'fui', 'a', 'la', 'elíptico', 'marido', 'vino', 'a', 'el', 'club', 'a', 'buscar', 'un', 'comprobante', 'de', 'domicilio', 'para', 'poder', 'hacer', 'la', 'licencia', 'de', 'conducir', 'porque', 'perdió', 'la', 'billetera', 'en', 'miami', 'pasó', 'a', 'dar', 'me', 'un', 'beso', 'después', 'se', 'quedó', 'laburando', 'en', 'la', 'cafetería', 'porque', 'se', 'había', 'caído', 'el', 'sistema', 'y', 'cuando', 'bajé', 'de', 'la', 'máquina', 'fui', 'yo', 'a', 'despedir', 'me', 'me', 'copa', 'tener', 'lo', 'cerca', 'ayer', 'llegó', 'temprano', 'hizo', 'unos', 'fideos', 'ricos', 'estuvo', 'un', 'rato', 'con', 'los', 'chicos', 'que', 'por', 'cierto', 'estaban', 'un', 'poco', 'demasiado', 'intense', 'y', 'después', 'vimos', 'la', 'última', 'de', 'woody', 'pero', 'no', 'pudimos', 'terminar', 'la', 'porque', 'no', 'conectamos', 'la', 'compu', 'sí', 'bobis', 'de', 'toda', 'bobes', 'igual', 'nos', 'estaba', 'gustando', 'en', 'el', 'medio', 'a', 'las', '10', 'pm', 'llamó', 'la', 'vecina', 'que', 'está', 'internada', 'para', 'pedir', 'me', 'que', 'fuera', 'a', 'la', 'casa', 'porque', 'no', 'le', 'atendían', 'el', 'tel', 'y', 'necesitaba', 'algo', 'sí', 'allí', 'fui', 'obvio', ' ', 'debería', 'ir', 'a', 'hacer', 'los', 'cristales', 'de', 'mis', 'muy', 'divinos', 'anteojos', 'nuevos', 'tengo', 'que', 'pasar', 'por', 'el', 'banco', 'llevar', 'un', 'vestido', 'a', 'la', 'tintorería', 'vacunar', 'a', 'milo', 'y', 'algún', 'otro', 'etcétera', 'que', 'me', 'da', 'una', 'fiaca', 'atroz', 'pero', 'hoy', 'parece', 'que', 'no', 'es', 'el', 'día', 'para', 'ninguna', 'de', 'las', 'actividades', 'descritas', 'en', 'fin', 'chicos', 'así', 'las', 'cosas', 'necesito', 'decir', 'les', 'esto', 'xime', 'es', 'la', 'persona', 'más', 'enfocada', 'y', 'decidida', 'que', 'conocí', 'en', 'mi', 'vida', 'posta', 'su', 'determinación', 'y', 'capacidad', 'para', 'lograr', 'lo', 'que', 'se', 'propone', 'no', 'se', 'la', 'conozco', 'a', 'nadie', 'más', 'congrats', 'amiga', 'sos', 'grossa', 'niños', 'consentidos', 'sin', 'conciencia', 'de', 'los', 'límites', 'que', 'organizan', 'la', 'vida', 'familiar', 'dan', 'órdenes', 'a', 'sus', 'padres', 'y', 'chantajean', 'a', 'todo', 'aquel', 'que', 'intenta', 'frenar', 'los', '¿', 'qué', 'es', 'lo', 'que', 'no', 'hay', 'que', 'consentir', 'le', 'los', 'padres', 'con', 'niños', 'consentidos', 'producen', 'adolescentes', 'agresivos', 'ambos', 'se', 'convierten', 'en', 'víctimas', 'si', 'a', 'estas', 'edades', 'le', 'consentís', 'caprichos', 'contestaciones', 'malos', 'modos', 'imposiciones', 'porque', 'están', 'cansados', 'porque', 'no', 'es', 'para', 'tanto', 'todavía', 'es', 'pequeño', 'o', 'porque', 'tienen', 'miedo', 'a', 'que', 'tenga', 'un', 'trauma', 'estáin', 'equivocados', 'si', 'piensan', 'que', 'ya', 'se', 'cambiará', 'cuando', 'sea', 'más', 'mayor', 'con', 'esta', 'actitud', 'los', 'están', 'ayudando', 'a', 'ser', 'un', 'adolescente', 'agresivo', 'violento', 'y', 'maltratador', 'tanto', 'hacia', 'sus', 'padres', 'como', 'hermanos', 'tutores', 'y', 'compañeros', 'en', 'definitiva', 'se', 'convertirá', 'en', 'un', 'hijo', 'desafiante', 'que', 'terminará', 'imponiendo', 'su', 'propia', 'ley', 'y', 'lo', 'que', 'es', 'peor', 'no', 'será', 'feliz', 'tu', 'hijo', 'es', 'tirano', 'si', 'si', 'abusa', 'de', 'su', 'poder', 'superioridad', 'o', 'fuerza', 'en', 'cualquier', 'concepto', 'o', 'materia', 'consigue', 'que', 'se', 'sin', 'límites', 'que', 'dan', 'órdenes', 'a', 'los', 'padres', 'organizan', 'la', 'vida', 'familiar', 'y', 'chantajean', 'a', 'todo', 'aquel', 'que', 'intenta', 'frenar', 'los', 'quieren', 'ser', 'constantemente', 'el', 'centro', 'de', 'atención', 'son', 'niños', 'desobedientes', 'desafiantes', 'que', 'no', 'aceptan', 'la', 'frustración', 'no', 'saben', 'escuchar', 'qué', 'es', 'lo', 'que', 'no', 'hay', 'que', 'consentir', 'le', 'que', 'no', 'cumpla', 'las', 'normas', 'de', 'casa', 'tener', 'una', 'disciplina', 'no', 'significa', 'traumatizar', 'le', 'significa', 'enseñar', ' ', 'que', 'siempre', 'se', 'salga', 'con', 'la', 'suya', 'alguna', 'concesión', 'es', 'sinónimo', 'de', 'alegría', 'pero', 'un', 'no', 'es', 'un', 'no', ' ', 'resolver', 'siempre', 'sus', 'problemas', 'no', 'sé', 'doblar', 'me', 'la', 'camisa', 'me', 'la', 'doblas', 'tú', ' ', 'malos', 'modos', 'o', 'falta', 'de', 'respeto', 'a', 'los', 'padres', 'siempre', 'se', 'le', 'dice', 'que', 'ese', 'modo', 'de', 'comportar', 'se', 'no', 'se', 'le', 'consiente', 'y', 'de', 'manera', 'enérgica', 'que', 'es', 'distinta', 'a', 'chillar', ' ', 'dar', 'le', 'todo', 'lo', 'que', 'pide', 'las', 'chiches', 'los', 'regalos', 'los', 'caprichos', 'nunca', 'saciarán', 'su', 'hambre', 'de', 'tener', 'más', 'si', 'le', 'dices', 'no', 'le', 'ayudarás', 'a', 'enfrentar', 'se', 'a', 'las', 'le', 'obediencia', 'le', 'estarás', 'ayudando', 'a', 'luchar', 'por', 'imponer', 'su', 'poder', 'y', 'crecerá', 'pensando', 'que', 'las', 'normas', 'no', 'son', 'para', 'él', 'no', 'le', 'consientas', 'los', 'chantajes', 'las', 'causas', 'de', 'la', 'tiranía', 'residen', 'en', 'una', 'sociedad', 'permisiva', 'que', 'educa', 'a', 'los', 'niños', 'en', 'sus', 'derechos', 'pero', 'no', 'en', 'sus', 'deberes', 'donde', 'ha', 'calado', 'de', 'forma', 'equívoca', 'el', 'lema', 'no', 'poner', 'límites', 'y', 'dejar', 'hacer', 'abortando', 'una', 'correcta', 'maduración', 'los', 'roles', 'parentales', 'clásicamente', 'definidos', 'se', 'han', 'diluido', 'lo', 'cual', 'es', 'positivo', 'si', 'se', 'comparten', 'obligaciones', 'y', 'pautas', 'educativas', 'pero', 'resulta', 'pernicioso', 'desde', 'el', 'posicionamiento', 'de', 'abandono', 'y', 'el', 'desplazamiento', 'de', 'responsabilidades', 'hemos', 'de', 'educar', 'a', 'nuestros', 'jóvenes', 'y', 'ya', 'desde', 'su', 'más', 'tierna', 'infancia', 'hay', 'que', 'enseñar', 'les', 'a', 'vivir', 'en', 'sociedad', 'por', 'ello', 'han', 'de', 'ver', 'captar', 'y', 'sentir', 'afecto', 'es', 'preciso', 'transmitir', 'les', 'valores', 'entendemos', 'esencial', 'formar', 'en', 'la', 'empatía', 'haciéndo', 'les', 'que', 'aprendan', 'a', 'poner', 'se', 'en', 'el', 'lugar', 'de', 'el', 'otro', 'en', 'lo', 'que', 'siente', 'en', 'lo', 'que', 'piensa', 'instaurar', 'un', 'modelo', 'de', 'ética', 'utilizando', 'el', 'razonamiento', 'la', 'propia', 'conducta', 'tendrá', 'para', 'los', 'demás', 'acrecentar', 'su', 'capacidad', 'de', 'diferir', 'las', 'gratificaciones', 'de', 'tolerar', 'frustraciones', 'de', 'controlar', 'los', 'impulsos', 'de', 'relacionar', 'se', 'con', 'los', 'otros', 'para', 'pensar', ' ', 'la', 'expresión', 'mi', 'hijo', 'me', 'ha', 'salido', 'así', 'no', 'es', 'válida', 'los', 'hijos', 'no', 'salen', 'como', 'la', 'fruta', 'sino', 'que', 'se', 'forman', ' ', 'es', 'fundamental', 'poner', 'unas', 'normas', 'de', 'disciplina', 'durante', 'los', 'tres', 'primeros', 'años', 'de', 'vida', ' ', 'no', 'te', 'creas', 'que', 'te', 'va', 'a', 'querer', 'más', 'si', 'le', 'consientes', 'todo', 'en', 'la', 'medida', 'en', 'que', 'le', 'exijas', 'te', 'querrá', 'más', 'y', 'acuérda', 'te', 'después', 'de', 'decir', 'le', 'que', 'le', 'quieres', 'mucho', 'con', 'un', 'abrazo', ' ', 'por', 'más', 'que', 'le', 'digo', 'no', 'seriamente', 'a', 'muchos', 'de', 'sus', 'caprichos', 'sigue', 'agarrándo', 'se', 'rabietas', 'y', 'enfados', 'no', 'te', 'preocupes', 'la', 'maduración', 'lleva', 'su', 'tiempo', 'pero', 'no', 'cedas', ' ', 'siempre', 'que', 'se', 'dirija', 'a', 'ustedes', 'de', 'malas', 'maneras', 'debe', 'recibir', 'una', 'sanción', 'y', 'siempre', 'pedirá', 'perdón', ' ', 'pensar', 'si', 'en', 'sus', 'planes', 'y', 'actividades', 'su', 'hijo', 'sigue', 'siendo', 'el', 'rey', ' ', 'de', 'lo', 'que', 'quiera', 'el', 'niño', 'los', 'padres', 'con', 'niños', 'consentidos', 'producen', 'adolescentes', 'agresivos', 'ambos', 'se', 'convierten', 'en', 'víctimas', 'malos', 'padres', 'malos', 'hijos', 'como', 'formar', 'a', 'los', 'hijos', 'sin', 'tener', 'que', 'consentir', 'los', 'de', 'una', 'manera', 'que', 'los', 'lleve', 'a', 'ser', 'agresivos', 'teniendo', 'una', 'educación', 'contraproducente', '¿', 'los', 'padres', 'que', 'soluciones', 'tienen', 'para', 'sobrevivir', 'con', 'hijos', 'adolescentes', 'agresivos', 'y', 'desafiantes', 'son', 'los', 'padres', 'responsables', 'o', 'víctimas', 'de', 'los', 'hijos', 'consentidos', 'y', 'mal', 'educados', 'se', 'puede', 'educar', 'en', 'el', 'respeto', 'familiar', 'la', 'transmisión', 'de', 'valores', 'religiosos', 'cívicos', 'y', 'humanos', 'estas', 'preguntas', 'me', 'las', 'ha', 'hecho', 'mi', 'amigo', 'cumbrero', 'que', 'tiene', 'tres', 'hijos', 'casados', 'y', 'siete', 'nietos', 'todos', 'marchan', 'normalmente', 'a', 'excepción', 'de', 'dos', 'adolescentes', 'de', '15', 'y', '14', 'años', 'chico', 'y', 'chica', 'respectivamente', 'que', 'están', 'haciendo', 'la', 'vida', 'imposible', 'a', 'sus', 'padres', 'hermanos', 'e', 'incluso', 'a', 'los', 'familiares', 'mi', 'amigo', 'esta', 'desesperado', 'por', 'lo', 'que', 'sufre', 'y', 'lo', 'que', 've', 'sufrir', 'a', 'sus', 'hijos', 'por', 'el', 'agresivo', 'comportamiento', 'de', 'esos', 'dos', 'nietos', 'es', 'cierto', 'que', 'ambos', 'padres', 'les', 'han', 'dado', 'todo', 'lo', 'que', 'los', 'había', 'ninguna', 'negativa', 'a', 'los', 'caprichos', 'de', 'los', 'niños', 'por', 'muy', 'disparatados', 'que', 'fueran', 'todo', 'lo', 'que', 'querían', 'se', 'lo', 'daban', 'inmediatamente', 'aunque', 'los', 'padres', 'se', 'lo', 'tuvieran', 'que', 'quitar', 'de', 'la', 'boca', 'incluso', 'les', 'reían', 'las', 'gracias', 'de', 'sus', 'peticiones', 'seguramente', 'era', 'para', 'disipar', 'remordimientos', 'de', 'la', 'falta', 'de', 'dedicación', 'u', 'otras', 'actividades', 'menos', 'claras', 'pero', 'el', 'caso', 'es', 'que', 'los', 'niños', 'se', 'han', 'criado', 'a', 'todo', 'lujo', 'y', 'con', 'todos', 'los', 'caprichos', 'resueltos', 'ahora', 'no', 'hay', 'quien', 'aguante', 'a', 'esos', 'adolescentes', 'castigos', 'reprimendas', 'o', 'recomendaciones', 'no', 'había', 'ninguno', 'es', 'mas', 'aunque', 'hubieran', 'hecho', 'una', 'barrabasada', 'nunca', 'les', 'dejaban', 'sin', 'ir', 'a', 'buenos', 'restaurantes', 'con', 'los', 'padres', 'y', 'allí', 'escoger', 'los', 'platos', 'mas', 'caros', 'e', 'incluso', 'sabiendo', 'que', 'solamente', 'los', 'iban', 'a', 'probar', 'e', 'iban', 'a', 'dejar', 'la', 'mayoría', 'sin', 'comer', 'veían', 'todas', 'las', 'películas', 'de', 'estreno', 'que', 'los', 'niños', 'querían', 'los', 'padres', 'creían', 'que', 'así', 'les', 'estaban', 'educando', 'en', 'la', 'libertad', 'de', 'elección', 'las', 'ropas', 'y', 'zapatos', 'de', 'marca', 'los', 'elegían', 'los', 'niños', 'y', 'normalmente', 'eran', 'los', 'más', 'caros', 'porque', 'eran', 'los', 'de', 'moda', 'en', 'de', 'verano', 'viajes', 'con', 'el', 'colegio', 'viajes', 'a', 'visitar', 'a', 'familiares', 'y', 'otras', 'gratificaciones', 'eran', 'lo', 'normal', 'aunque', 'hubieran', 'tenido', 'un', 'mal', 'comportamiento', 'en', 'casa', 'y', 'en', 'el', 'colegio', 'ellos', 'tenían', 'que', 'tener', 'lo', 'que', 'los', 'padres', 'no', 'habían', 'podido', 'tener', 'la', 'vida', 'ya', 'les', 'enseñará', 'decían', 'los', 'padres', '¡', 'pobrecitos', 'estos', 'jóvenes', 'están', 'acosando', 'continuamente', 'a', 'sus', 'padres', 'y', 'chantajeándo', 'les', 'con', 'las', 'cosas', 'más', 'inverosímiles', 'desde', 'pedir', 'un', 'regalo', 'para', 'no', 'portar', 'se', 'mal', 'en', 'una', 'futura', 'reunión', 'familiar', 'o', 'para', 'no', 'faltar', 'a', 'la', 'escuela', 'con', 'excusas', 'pasando', 'por', 'exigir', 'premios', 'por', 'el', 'aprovechamiento', 'en', 'los', 'estudios', 'y', 'por', 'el', 'mantenimiento', 'de', 'el', 'poco', 'orden', 'que', 'hay', 'en', 'la', 'casa', 'estos', 'nietos', 'imponen', 'sus', 'propias', 'leyes', 'en', 'la', 'vida', 'familiar', 'dan', 'órdenes', 'a', 'sus', 'propios', 'padres', 'los', 'padres', 'tienen', 'que', 'pensar', 'que', 'aunque', 'hayan', 'tenido', 'y', 'tengan', 'una', 'política', 'de', 'consentimiento', 'total', 'de', 'sus', 'hijos', 'siempre', 'están', 'a', 'tiempo', 'de', 'pensar', 'en', 'nuevas', 'alternativas', 'a', 'el', 'desastre', 'educacional', 'en', 'el', 'que', 'están', 'metidos', 'no', 'hay', 'recetas', 'mágicas', 'solamente', 'hay', 'una', 'voluntad', 'a', 'los', 'profesionales', 'y', 'tener', 'el', 'firme', 'propósito', 'de', 'enfrentar', 'se', 'a', 'la', 'realidad', 'de', 'la', 'educación', 'que', 'han', 'dado', 'a', 'los', 'hijos', 'para', 'evitar', 'que', 'los', 'desastres', 'que', 'ya', 'han', 'creado', 'tengan', 'las', 'menores', 'consecuencias', 'en', 'la', 'vida', 'pública', 'futura', 'de', 'sus', 'hijos', 'ahora', 'casi', 'el', '100', 'de', 'los', 'problemas', 'que', 'produce', 'esa', 'mala', 'educación', 'dada', 'se', 'queda', 'dentro', 'de', 'la', 'familia', 'pero', 'dentro', 'de', 'muy', 'pocos', 'años', 'las', 'consecuencias', 'de', 'la', 'mala', 'educación', 'las', 'tendrán', 'que', 'enfrentar', 'frente', 'a', 'la', 'sociedad', 'una', 'sociedad', 'que', 'a', 'la', 'larga', 'no', 'perdona', 'el', 'mal', 'comportamiento', 'ya', 'que', 'muchas', 'veces', 'se', 'enfrentan', 'personas', 'de', 'las', 'mismas', 'malas', 'condiciones', 'educacionales', 'las', 'consecuencias', 'ante', 'la', 'sociedad', 'son', 'en', 'muchos', 'casos', 'irreversibles', 'y', 'no', 'vale', 'decir', 'que', 'la', 'culpa', 'la', 'tuvieron', 'los', 'padres', 'por', 'haber', 'me', 'educado', 'lleno', 'de', 'consentimientos', 'sin', 'ninguna', 'responsabilidad', 'los', 'embarazos', 'prematuros', 'la', 'entrada', 'en', 'las', 'drogas', 'el', 'abandono', 'escolar', 'los', 'robos', 'en', 'la', 'familia', 'y', 'las', 'bandas', 'juveniles', 'solo', 'son', 'unas', 'pocas', 'consecuencias', 'de', 'lo', 'que', 'ya', 'se', 've', 'venir', 'cada', 'vez', 'conocen', 'sus', 'puntos', 'débiles', 'son', 'niños', 'que', 'siempre', 'fueron', 'consentidos', 'en', 'hacer', 'lo', 'que', 'quisieron', 'y', 'que', 'no', 'tiene', 'conciencia', 'de', 'los', 'límites', 'han', 'de', 'tener', 'en', 'una', 'convivencia', 'familiar', 'son', 'desafiantes', 'continuamente', 'dan', 'órdenes', 'a', 'sus', 'padres', 'o', 'les', 'ridiculizan', 'delante', 'de', 'otras', 'personas', 'quieren', 'continuar', 'imponiendo', 'sus', 'propias', 'leyes', 'incluso', 'llegando', 'a', 'la', 'violencia', 'cuantas', 'veces', 'se', 'acordarán', 'los', 'padres', 'que', 'no', 'educaron', 'a', 'sus', 'hijos', 'en', 'el', 'respeto', 'y', 'en', 'el', 'afecto', 'que', 'no', 'les', 'transmitieron', 'los', 'valores', 'morales', 'que', 'no', 'escuchaban', 'a', 'los', 'hijos', 'que', 'no', 'les', 'enseñaron', 'a', 'aprender', 'a', 'distinguir', 'entre', 'lo', 'que', 'es', 'la', 'obligación', 'de', 'la', 'manutención', 'familiar', 'y', 'el', 'exigir', 'los', 'regalos', 'desmesurados', 'soluciones', 'enseñar', 'con', 'el', 'ejemplo', 'muchos', 'padres', 'no', 'han', 'enseñado', 'estas', 'cosas', 'a', 'sus', 'hijos', 'por', 'que', 'para', 'enseñar', 'les', 'hay', 'que', 'predicar', 'con', 'el', 'ejemplo', 'para', 'transmitir', 'valores', 'hay', 'que', 'practicar', 'los', 'previamente', 'y', 'si', 'estaban', 'llevando', 'una', 'vida', 'desordenada', 'moral', 'familiar', 'y', 'económicamente', '¿', 'cómo', 'van', 'a', 'ensañar', 'nada', 'si', 'derrochaban', 'el', 'dinero', 'en', 'ropas', 'restaurantes', 'viajes', 'innecesarios', 'placer', 'de', 'la', 'gratificación', 'de', 'la', 'compra', '¿', 'cómo', 'iban', 'a', 'enseñar', 'la', 'virtud', 'de', 'el', 'ahorro', 'de', 'la', 'responsabilidad', 'de', 'la', 'moderación', 'de', 'la', 'paciencia', 'de', 'la', 'tolerancia', 'de', 'el', 'sufrimiento', 'de', 'todo', 'lo', 'que', 'supone', 'la', 'austeridad', 'respeto', 'con', 'los', 'mayores', 'si', 'los', 'padres', 'ignoraban', 'a', 'los', 'abuelos', 'y', 'hacían', 'comentarios', 'jocosos', 'sobre', 'ellos', '¿', 'que', 'es', 'lo', 'que', 'sus', 'hijos', 'iban', 'a', 'aprender', 'si', 'bebían', 'y', 'comían', 'demasiado', 'como', 'les', 'iban', 'a', 'dar', 'ejemplo', 'de', 'templanza', 'y', 'así', 'sucesivamente', ' ', 'unidad', 'familiar', 'si', 'los', 'padres', 'hacen', 'cada', 'uno', 'lo', 'que', 'le', 'apetece', 'procurando', 'no', 'coincidir', 'en', 'la', 'casa', 'a', 'el', 'alegar', 'visitas', 'a', 'amigos', 'o', 'a', 'familiares', 'o', 'compras', 'urgentes', '¿', 'como', 'iban', 'a', 'enseñar', 'a', 'sus', 'hijos', 'el', 'concepto', 'de', 'unidad', 'de', 'una', 'familia', 'orden', 'si', 'los', 'padres', 'son', 'desordenados', 'y', 'tienen', 'la', 'casa', 'desordenada', 'que', 'es', 'lo', 'que', 'pueden', 'enseñar', 'sobre', 'ordenar', 'las', 'habitaciones', 'a', 'los', 'hijos', 'los', 'horarios', 'y', 'tareas', 'escolares', 'y', 'familiares', 'el', 'ahorro', 'familiar', 'y', 'gastan', 'mas', 'de', 'lo', 'que', 'ganan', 'teniendo', 'problemas', 'con', 'las', 'deudas', 'en', 'las', 'tarjetas', 'de', 'crédito', '¿', 'cómo', 'les', 'van', 'a', 'enseñar', 'a', 'los', 'hijos', 'a', 'ser', 'ahorradores', 'y', 'el', 'valor', 'de', 'lo', 'que', 'cuestan', 'las', 'cosas', 'diferencias', 'matrimoniales', 'si', 'los', 'padres', 'no', 'negociaban', 'sus', 'conflictos', 'matrimoniales', 'en', 'el', 'silencio', 'de', 'su', 'intimidad', 'y', 'siempre', 'lo', 'hacen', 'a', 'grito', 'limpio', 'en', 'presencia', 'de', 'los', 'hijos', 'van', 'a', 'dejar', 'una', 'huella', 'indeleble', 'de', 'la', 'forma', 'de', 'actuar', 'en', 'los', 'enfados', '¿', 'por', 'qué', 'no', 'van', 'a', 'ser', 'irascibles', 'cuando', 'son', 'contrariados', 'educación', 'positiva', 'basada', 'en', 'los', 'siguientes', 'pilares', 'afecto', 'y', 'reconocimiento', 'diálogo', 'escucha', 'y', 'compresión', 'director', 'investigador', 'científico', 'periodista', 'y', 'escritor', 'argentino', 'ha', 'realizado', 'investigaciones', 'en', 'química', 'física', 'y', 'electrónica', 'especializado', 'en', 'historia', 'y', 'museología', 'ha', 'publicado', 'seis', 'libros', 'y', 'realizado', 'diecinueve', 'documentales', 'sus', 'investigaciones', 'históricas', 'se', 'orientaron', 'a', 'preservar', 'y', 'develar', 'la', 'historia', 'de', 'la', 'ciudad', 'de', 'ituzaingó', 'y', 'de', 'la', 'zona', 'oeste', 'del', 'conurbano', 'bonaerense', 'ha', 'fundado', 'el', 'museo', 'de', 'ituzaingó', 'actualmente', 'es', 'director', 'de', 'este', 'museo', 'y', 'asesor', 'cultural', 'de', 'la', 'municipalidad', 'de', 'ituzaingó', 'rolando', 'goyaud', 'en', 'yo', 'no', 'sé', 'qué', 'me', 'han', 'hecho', 'tus', 'ojos', 'sergio', 'wolf', 'entrevista', 'a', 'rolando', 'goyaud', 'en', 'su', 'película', 'yo', 'no', 'sé', 'qué', 'me', 'han', 'hecho', 'tus', 'ojos', 'lorena', 'muñozsergiowolf', '2003', 'sobre', 'la', 'vida', 'de', 'la', 'cantante', 'ada', 'falcón', 'en', 'este', 'fragmento', 'buscan', 'la', 'casa', 'natal', 'de', 'ada', 'falcón', 'en', 'la', 'ciudad', 'de', 'ituzaingó', 'periódico', 'entre', 'ríos', 'menú', 'el', 'gobernador', 'de', 'entre', 'ríos', 'sergio', 'urribarri', 'encabezó', 'el', 'acto', 'de', 'unidos', 'y', 'organizados', 'en', 'paraná', 'argentina', 'cambió', 'definitivamente', 'para', 'más', 'igualdad', 'y', 'equidad', 'sostuvo', 'y', 'aseguró', 'que', 'los', 'responsables', 'de', 'esa', 'transformación', 'son', 'néstor', 'kirchner', 'y', 'cristina', 'fernández', 'el', 'mandatario', 'entrerriano', 'fue', 'el', 'orador', 'de', 'fondo', 'en', 'el', 'lanzamiento', 'de', 'el', 'agrupamiento', 'unidos', 'y', 'organizados', 'en', 'la', 'provincia', 'el', 'mismo', 'compromiso', 'que', 'tenemos', 'expresamos', 'y', 'ratificamos', 'nosotros', 'es', 'el', 'que', 'vemos', 'en', 'millones', 'y', 'millones', 'de', 'jóvenes', 'que', 'han', 'vuelto', 'a', 'creer', 'en', 'la', 'dignidad', 'nacional', 'la', 'justicia', 'social', 'la', 'política', 'y', 'que', 'creen', 'que', 'otro', 'país', 'es', 'posible', 'ese', 'mismo', 'compromiso', 'de', 'los', 'jóvenes', 'argentinos', 'nos', 'llena', 'de', 'orgullo', 'a', 'quienes', 'militamos', 'en', 'este', 'frente', 'para', 'la', 'victoria', 'expresó', 'es', 'también', 'el', 'mismo', 'compromiso', 'que', 'vemos', 'en', 'los', 'millones', 'y', 'millones', 'de', 'trabajadores', 'que', 'han', 'recuperado', 'su', 'trabajo', 'en', 'la', 'argentina', 'no', 'sólo', 'eso', 'han', 'recuperado', 'sus', 'derechos', 'laborales', 'que', 'habían', 'sido', 'cercenados', 'en', 'las', 'últimas', 'décadas', 'es', 'mismo', 'compromiso', 'que', 'vemos', 'en', 'lo', 'elemental', 'que', 'este', 'país', 'no', 'es', 'el', 'mismo', 'que', 'hace', 'nueve', 'años', 'no', 'sólo', 'es', 'distinto', 'es', 'un', 'país', 'mucho', 'mejor', 'que', 'el', 'país', 'de', 'hace', 'nuevo', 'años', 'atrás', 'lo', 'es', 'porque', 'entre', 'otras', 'cosas', 'no', 'sólo', 'néstor', 'y', 'cristina', 'ese', 'tremendo', 'corazón', 'de', 'néstor', 'que', 'inspiró', 'este', 'modelo', 'nacional', 'popular', 'y', 'democrático', 'que', 'transformó', 'y', 'lo', 'profundizó', 'cristina', 'no', 'sólo', 'la', 'dignidad', 'nacional', 'si', 'no', 'también', 'generó', 'el', 'mayor', 'programa', 'de', 'cobertura', 'social', 'que', 'se', 'pueda', 'reconocer', 'en', 'latinoamérica', 'también', 'por', 'primera', 'vez', 'en', 'la', 'historia', 'argentina', 'los', 'poderosos', 'y', 'el', 'poder', 'oculto', 'tienen', 'límites', 'eso', 'se', 'lo', 'debemos', 'a', 'néstor', 'y', 'cristina', 'este', 'proceso', 'fue', 'tan', 'tremendo', 'continuó', 'diciendo', 'el', 'gobernador', 'los', 'intereses', 'que', 'se', 'tocaron', 'fueron', 'tan', 'fuertes', 'que', 'se', 'llevó', 'la', 'vida', 'de', 'quien', 'ideó', 'el', 'corazón', 'y', 'el', 'espíritu', 'de', 'este', 'proyecto', 'nacional', 'popular', 'y', 'democrático', 'que', 'va', 'a', 'quedar', 'en', 'la', 'memoria', 'por', 'el', 'resto', 'de', 'nuestras', 'vidas', 'él', 'en', 'reiteradas', 'oportunidades', 'nos', 'decía', 'a', 'algunos', 'de', 'nosotros', 'cristina', 'hay', 'que', 'cuidar', 'la', 'acompañar', 'la', 'y', 'apuntalar', 'la', 'la', 'pérdida', 'fue', 'tremenda', 'pero', 'dejó', 'un', 'legado', 'en', 'el', 'pueblo', 'en', 'la', 'memoria', 'afectiva', 'de', 'todos', 'los', 'argentinos', 'y', 'la', 'única', 'manera', 'de', 'llenar', 'ese', 'vacío', 'es', 'movilizados', 'unidos', 'y', 'organizados', 'según', 'sostuvo', 'lo', 'que', 'se', 'expresa', 'en', 'entre', 'ríos', 'en', 'paraná', 'se', 'expresa', 'en', 'todo', 'el', 'país', 'millones', 'y', 'millones', 'de', 'argentinos', 'donde', 'la', 'acción', 'de', 'néstor', 'y', 'cristina', 'gracias', 'a', 'la', 'ayuda', 'de', 'todos', 'nosotros', 'acortó', 'la', 'brecha', 'que', 'el', 'neoliberalismo', 'de', 'los', '90', 'había', 'echo', 'entre', 'los', 'más', 'pobres', 'y', 'los', 'más', 'ricos', 'en', 'la', 'argentina', 'argentina', 'cambió', 'definitivamente', 'para', 'más', 'igualdad', 'y', 'equidad', 'nosotros', 'los', 'que', 'estamos', 'militando', 'en', 'el', 'campo', 'nacional', 'y', 'popular', 'somos', 'los', 'principales', 'responsables', 'de', 'que', 'esos', 'cambios', 'se', 'incorporen', 'definitivamente', 'a', 'la', 'cultura', 'social', 'y', 'política', 'de', 'la', 'argentina', 'para', 'establecer', 'un', 'nivel', 'para', 'las', 'generaciones', 'que', 'vienen', 'esa', 'es', 'la', 'tarea', 'esa', 'es', 'nuestra', 'tarea', 'esa', 'tarea', 'es', 'de', 'todos', 'los', 'militantes', 'pero', 'es', 'más', 'grande', 'estamos', 'ocupando', 'un', 'cargo', 'entonces', 'se', 'debe', 'manifestar', 'trabajando', 'todos', 'los', 'días', 'y', 'más', 'que', 'nada', 'en', 'aquellos', 'sectores', 'a', 'los', 'que', 'todavía', 'no', 'les', 'ha', 'llegado', 'una', 'solución', 'y', 'la', 'mirada', 'reparadora', 'de', 'el', 'estado', 'tiene', 'que', 'llegar', 'de', 'la', 'mano', 'de', 'un', 'gobernador', 'un', 'intendente', 'un', 'diputado', 'un', 'senador', 'trabajando', 'mucho', 'no', 'vamos', 'a', 'dar', 'un', 'paso', 'atrás', 'vamos', 'a', 'defender', 'nos', 'en', 'todos', 'los', 'terrenos', 'que', 'tengamos', 'que', 'defender', 'nos', 'afirmó', 'urribarri', 'pero', 'también', 'abrazar', 'a', 'aquellos', 'que', 'no', 'nos', 'rechazan', 'y', 'que', 'no', 'van', 'a', 'ir', 'a', 'otro', 'lado', 'agrandar', 'y', 'fortalecer', 'defendiendo', 'la', 'tarea', 'que', 'viene', 'defender', 'se', 'y', 'crecer', 'defender', 'se', 'y', 'ser', 'más', 'defender', 'se', 'y', 'lograr', 'lo', 'que', 'falta', 'en', 'la', 'argentina', 'en', 'la', 'democracia', 'moderna', 'de', 'la', 'argentina', 'como', 'nunca', 'antes', 'tenemos', 'con', 'que', 'salir', 'a', 'defender', 'nos', 'y', 'con', 'que', 'salir', 'a', 'acrecentar', 'nuestra', 'fuerza', 'entre', 'otros', 'con', 'esta', 'maravillosa', 'juventud', 'que', 'irrumpe', 'volcánicamente', 'en', 'el', 'país', 'y', 'que', 'entre', 'ríos', 'es', 'una', 'fiel', 'expresión', 'de', 'lo', 'que', 'falta', 'todavía', 'en', 'la', 'provincia', 'y', 'en', 'el', 'país']\n"
     ]
    }
   ],
   "source": [
    "## hacemos una lista de los tokens de las primeras 1000 oraciones del texto\n",
    "tokens1000=[]\n",
    "for oracion in oraciones_final[:1000]:\n",
    "    doc = nlp(oracion)\n",
    "    for token in doc:\n",
    "        tokens1000 += [token.text]\n",
    "print(tokens1000)"
   ]
  },
  {
   "cell_type": "code",
   "execution_count": 18,
   "id": "45d69f7c",
   "metadata": {},
   "outputs": [
    {
     "name": "stdout",
     "output_type": "stream",
     "text": [
      "24613\n"
     ]
    }
   ],
   "source": [
    "## contamos la cantidad de tokens de las primeras 1000 oraciones del texto\n",
    "print(len(tokens1000))"
   ]
  },
  {
   "cell_type": "code",
   "execution_count": 19,
   "id": "7c70ec14",
   "metadata": {
    "scrolled": false
   },
   "outputs": [
    {
     "name": "stdout",
     "output_type": "stream",
     "text": [
      "['gran', 'convocatoria', 'para', 'el', 'concurso', 'docente', 'que', 'se', 'realiza', 'en', 'la', 'escuela', 'normal', 'con', 'una', 'inmensa', 'de', 'docentes', 'convocada', 'desde', '730', 'este', 'lunes', 'salón', 'actos', 'mariano', 'moreno', 'realizó', 'primera', 'jornada']\n"
     ]
    }
   ],
   "source": [
    "## armamos una lista con los types de las primeras 1000 oraciones \n",
    "pal_unicas1000=[]\n",
    "for palabra in tokens1000:\n",
    "    if palabra not in pal_unicas1000:\n",
    "        pal_unicas1000 += [palabra]\n",
    "print(pal_unicas1000[:30])"
   ]
  },
  {
   "cell_type": "code",
   "execution_count": 20,
   "id": "a125265c",
   "metadata": {},
   "outputs": [
    {
     "data": {
      "text/plain": [
       "5726"
      ]
     },
     "execution_count": 20,
     "metadata": {},
     "output_type": "execute_result"
    }
   ],
   "source": [
    "## contamos cant types de esas oraciones\n",
    "len (pal_unicas1000)"
   ]
  },
  {
   "cell_type": "code",
   "execution_count": 21,
   "id": "2a9a8f02",
   "metadata": {
    "scrolled": false
   },
   "outputs": [
    {
     "name": "stdout",
     "output_type": "stream",
     "text": [
      "gran gran ADJ ADJ amod xxxx True True\n",
      "convocatoria convocatoria NOUN NOUN nsubj xxxx True False\n",
      "para para ADP ADP case xxxx True True\n",
      "el el DET DET det xx True True\n",
      "concurso concurso NOUN NOUN nmod xxxx True False\n",
      "docente docente ADJ ADJ amod xxxx True False\n",
      "que que PRON PRON nsubj xxx True True\n",
      "se él PRON PRON obj xx True True\n",
      "realiza realizar VERB VERB acl xxxx True False\n",
      "en en ADP ADP case xx True True\n",
      "la el DET DET det xx True True\n",
      "escuela escuela NOUN NOUN obl xxxx True False\n",
      "normal normal ADJ ADJ amod xxxx True False\n",
      "con con ADP ADP case xxx True True\n",
      "una uno DET DET det xxx True True\n",
      "inmensa inmenso ADJ ADJ amod xxxx True False\n",
      "convocatoria convocatoria NOUN NOUN obl xxxx True False\n",
      "de de ADP ADP case xx True True\n",
      "docentes docente NOUN NOUN amod xxxx True False\n",
      "convocada convocado ADJ ADJ amod xxxx True False\n",
      "desde desde ADP ADP case xxxx True True\n",
      "la el DET DET det xx True True\n",
      "730 730 NUM NUM obl ddd False False\n",
      "de de ADP ADP case xx True True\n",
      "este este DET DET det xxxx True True\n",
      "lunes lunes NOUN NOUN nmod xxxx True False\n",
      "en en ADP ADP case xx True True\n",
      "el el DET DET det xx True True\n",
      "salón salón NOUN NOUN obl xxxx True False\n",
      "de de ADP ADP case xx True True\n",
      "actos acto NOUN NOUN nmod xxxx True False\n",
      "de de ADP ADP case xx True True\n",
      "la el DET DET det xx True True\n",
      "escuela escuela NOUN NOUN nmod xxxx True False\n",
      "normal normal ADJ ADJ amod xxxx True False\n",
      "mariano mariano PROPN PROPN appos xxxx True False\n",
      "moreno moreno PROPN PROPN flat xxxx True False\n",
      "se él PRON PRON obj xx True True\n",
      "realizó realizar VERB VERB ROOT xxxx True True\n",
      "la el DET DET det xx True True\n",
      "primera primero ADJ ADJ amod xxxx True True\n",
      "jornada jornada NOUN NOUN nsubj xxxx True False\n",
      "de de ADP ADP case xx True True\n",
      "el el DET DET det xx True True\n",
      "concurso concurso NOUN NOUN nmod xxxx True False\n",
      "para para ADP ADP case xxxx True True\n",
      "titularización titularización NOUN NOUN nmod xxxx True False\n",
      "de de ADP ADP case xx True True\n",
      "los el DET DET det xxx True True\n",
      "cargos cargo NOUN NOUN nmod xxxx True False\n",
      "el el DET DET det xx True True\n",
      "día día NOUN NOUN nsubj xxx True True\n",
      "comenzó comenzar VERB VERB ROOT xxxx True False\n",
      "con con ADP ADP case xxx True True\n",
      "las el DET DET det xxx True True\n",
      "palabras palabra NOUN NOUN obl xxxx True False\n",
      "de de ADP ADP case xx True True\n",
      "bienvenidas bienvenida NOUN NOUN nmod xxxx True False\n",
      "de de ADP ADP case xx True True\n",
      "las el DET DET det xxx True True\n",
      "autoridades autoridad NOUN NOUN nmod xxxx True False\n",
      "quienes quien PRON PRON nsubj xxxx True True\n",
      "hablaron hablar VERB VERB acl xxxx True False\n",
      "de de ADP ADP case xx True True\n",
      "cientos ciento NUM NUM nummod xxxx True False\n",
      "de de ADP ADP case xx True True\n",
      "docentes docente NOUN NOUN obj xxxx True False\n",
      "que que PRON PRON nsubj xxx True True\n",
      "presentaron presentar VERB VERB acl xxxx True False\n",
      "sus su DET DET det xxx True True\n",
      "documentos documento NOUN NOUN obj xxxx True False\n",
      "que que PRON PRON nsubj xxx True True\n",
      "deben deber AUX AUX aux xxxx True True\n",
      "ser ser AUX AUX aux xxx True True\n",
      "analizados analizar VERB VERB acl xxxx True False\n",
      "por por ADP ADP case xxx True True\n",
      "las el DET DET det xxx True True\n",
      "autoridades autoridad NOUN NOUN obj xxxx True False\n",
      "los el DET DET det xxx True True\n",
      "cargos cargo NOUN NOUN nsubj xxxx True False\n",
      "fueron ser AUX AUX cop xxxx True True\n",
      "138 138 NUM NUM ROOT ddd False False\n",
      "pero pero CCONJ CCONJ cc xxxx True True\n",
      "esa ese DET DET det xxx True True\n",
      "suma suma NOUN NOUN nsubj xxxx True False\n",
      "se él PRON PRON iobj xx True True\n",
      "incrementó incrementar VERB VERB conj xxxx True False\n",
      "debido debido ADJ ADJ mark xxxx True True\n",
      "a a ADP ADP fixed x True False\n",
      "que que SCONJ SCONJ mark xxx True True\n",
      "muchos mucho PRON PRON nsubj xxxx True True\n",
      "realizaron realizar VERB VERB advcl xxxx True False\n",
      "cambio cambio NOUN NOUN obj xxxx True False\n",
      "de de ADP ADP case xx True True\n",
      "escuelas escuela NOUN NOUN nmod xxxx True False\n",
      "abriendo abrir VERB VERB advcl xxxx True False\n",
      "otras otro DET DET det xxxx True True\n",
      "oportunidades oportunidad NOUN NOUN obj xxxx True False\n"
     ]
    }
   ],
   "source": [
    "## pruebo ahora con el POS tagger para las primeras 4 oraciones del archivo\n",
    "nlp = spacy.load(\"es_core_news_sm\")\n",
    "for oracion in oraciones_final[:3]:\n",
    "    doc = nlp(oracion)\n",
    "\n",
    "    for token in doc:\n",
    "        print(token.text, token.lemma_, token.pos_, token.tag_, token.dep_,\n",
    "                token.shape_, token.is_alpha, token.is_stop)"
   ]
  },
  {
   "cell_type": "code",
   "execution_count": 22,
   "id": "e05ea473",
   "metadata": {},
   "outputs": [
    {
     "name": "stdout",
     "output_type": "stream",
     "text": [
      "gran gran ADJ Number=Sing\n",
      "convocatoria convocatoria NOUN Gender=Fem|Number=Sing\n",
      "para para ADP AdpType=Prep\n",
      "el el DET Definite=Def|Gender=Masc|Number=Sing|PronType=Art\n",
      "concurso concurso NOUN Gender=Masc|Number=Sing\n",
      "docente docente ADJ Number=Sing\n",
      "que que PRON PronType=Int,Rel\n",
      "se él PRON Case=Acc,Dat|Person=3|PrepCase=Npr|PronType=Prs|Reflex=Yes\n",
      "realiza realizar VERB Mood=Ind|Number=Sing|Person=3|Tense=Pres|VerbForm=Fin\n",
      "en en ADP AdpType=Prep\n",
      "la el DET Definite=Def|Gender=Fem|Number=Sing|PronType=Art\n",
      "escuela escuela NOUN Gender=Fem|Number=Sing\n",
      "normal normal ADJ Number=Sing\n",
      "con con ADP AdpType=Prep\n",
      "una uno DET Definite=Ind|Gender=Fem|Number=Sing|PronType=Art\n",
      "inmensa inmenso ADJ Gender=Fem|Number=Sing\n",
      "convocatoria convocatoria NOUN Gender=Fem|Number=Sing\n",
      "de de ADP AdpType=Prep\n",
      "docentes docente NOUN Number=Plur\n",
      "convocada convocado ADJ Gender=Fem|Number=Sing|VerbForm=Part\n",
      "desde desde ADP AdpType=Prep\n",
      "la el DET Definite=Def|Gender=Fem|Number=Sing|PronType=Art\n",
      "730 730 NUM NumForm=Digit|NumType=Card\n",
      "de de ADP AdpType=Prep\n",
      "este este DET Gender=Masc|Number=Sing|PronType=Dem\n",
      "lunes lunes NOUN AdvType=Tim\n",
      "en en ADP AdpType=Prep\n",
      "el el DET Definite=Def|Gender=Masc|Number=Sing|PronType=Art\n",
      "salón salón NOUN Gender=Masc|Number=Sing\n",
      "de de ADP AdpType=Prep\n",
      "actos acto NOUN Gender=Masc|Number=Plur\n",
      "de de ADP AdpType=Prep\n",
      "la el DET Definite=Def|Gender=Fem|Number=Sing|PronType=Art\n",
      "escuela escuela NOUN Gender=Fem|Number=Sing\n",
      "normal normal ADJ Number=Sing\n",
      "mariano mariano PROPN \n",
      "moreno moreno PROPN \n",
      "se él PRON Case=Acc,Dat|Person=3|PrepCase=Npr|PronType=Prs|Reflex=Yes\n",
      "realizó realizar VERB Mood=Ind|Number=Sing|Person=3|Tense=Past|VerbForm=Fin\n",
      "la el DET Definite=Def|Gender=Fem|Number=Sing|PronType=Art\n",
      "primera primero ADJ Gender=Fem|NumType=Ord|Number=Sing\n",
      "jornada jornada NOUN Gender=Fem|Number=Sing\n",
      "de de ADP AdpType=Prep\n",
      "el el DET Definite=Def|Gender=Masc|Number=Sing|PronType=Art\n",
      "concurso concurso NOUN Gender=Masc|Number=Sing\n",
      "para para ADP AdpType=Prep\n",
      "titularización titularización NOUN Gender=Fem|Number=Sing\n",
      "de de ADP AdpType=Prep\n",
      "los el DET Definite=Def|Gender=Masc|Number=Plur|PronType=Art\n",
      "cargos cargo NOUN Gender=Masc|Number=Plur\n",
      "el el DET Definite=Def|Gender=Masc|Number=Sing|PronType=Art\n",
      "día día NOUN Gender=Masc|Number=Sing\n",
      "comenzó comenzar VERB Mood=Ind|Number=Sing|Person=3|Tense=Past|VerbForm=Fin\n",
      "con con ADP AdpType=Prep\n",
      "las el DET Definite=Def|Gender=Fem|Number=Plur|PronType=Art\n",
      "palabras palabra NOUN Gender=Fem|Number=Plur\n",
      "de de ADP AdpType=Prep\n",
      "bienvenidas bienvenida NOUN Gender=Fem|Number=Plur\n",
      "de de ADP AdpType=Prep\n",
      "las el DET Definite=Def|Gender=Fem|Number=Plur|PronType=Art\n",
      "autoridades autoridad NOUN Gender=Fem|Number=Plur\n",
      "quienes quien PRON Number=Plur|PronType=Int,Rel\n",
      "hablaron hablar VERB Mood=Ind|Number=Plur|Person=3|Tense=Past|VerbForm=Fin\n",
      "de de ADP AdpType=Prep\n",
      "cientos ciento NUM NumType=Card|Number=Plur\n",
      "de de ADP AdpType=Prep\n",
      "docentes docente NOUN Number=Plur\n",
      "que que PRON PronType=Int,Rel\n",
      "presentaron presentar VERB Mood=Ind|Number=Plur|Person=3|Tense=Past|VerbForm=Fin\n",
      "sus su DET Number=Plur|Person=3|Poss=Yes|PronType=Prs\n",
      "documentos documento NOUN Gender=Masc|Number=Plur\n",
      "que que PRON PronType=Int,Rel\n",
      "deben deber AUX Mood=Ind|Number=Plur|Person=3|Tense=Pres|VerbForm=Fin\n",
      "ser ser AUX VerbForm=Inf\n",
      "analizados analizar VERB Gender=Masc|Number=Plur|Tense=Past|VerbForm=Part\n",
      "por por ADP AdpType=Prep\n",
      "las el DET Definite=Def|Gender=Fem|Number=Plur|PronType=Art\n",
      "autoridades autoridad NOUN Gender=Fem|Number=Plur\n",
      "los el DET Definite=Def|Gender=Masc|Number=Plur|PronType=Art\n",
      "cargos cargo NOUN Gender=Masc|Number=Plur\n",
      "fueron ser AUX Mood=Ind|Number=Plur|Person=3|Tense=Past|VerbForm=Fin\n",
      "138 138 NUM NumForm=Digit|NumType=Card\n",
      "pero pero CCONJ \n",
      "esa ese DET Gender=Fem|Number=Sing|PronType=Dem\n",
      "suma suma NOUN Gender=Fem|Number=Sing\n",
      "se él PRON Case=Acc,Dat|Person=3|PrepCase=Npr|PronType=Prs|Reflex=Yes\n",
      "incrementó incrementar VERB Mood=Ind|Number=Sing|Person=3|Tense=Past|VerbForm=Fin\n",
      "debido debido ADJ AdpType=Prep\n",
      "a a ADP AdpType=Prep\n",
      "que que SCONJ \n",
      "muchos mucho PRON Gender=Masc|NumType=Card|Number=Plur|PronType=Ind\n",
      "realizaron realizar VERB Mood=Ind|Number=Plur|Person=3|Tense=Past|VerbForm=Fin\n",
      "cambio cambio NOUN Gender=Masc|Number=Sing\n",
      "de de ADP AdpType=Prep\n",
      "escuelas escuela NOUN Gender=Fem|Number=Plur\n",
      "abriendo abrir VERB VerbForm=Ger\n",
      "otras otro DET Gender=Fem|Number=Plur|PronType=Ind\n",
      "oportunidades oportunidad NOUN Gender=Fem|Number=Plur\n"
     ]
    }
   ],
   "source": [
    "## agrego info morfológica\n",
    "for oracion in oraciones_final[:3]:\n",
    "    doc = nlp(oracion)\n",
    "    for token in doc:\n",
    "        print(token.text, token.lemma_, token.pos_, token.morph)"
   ]
  },
  {
   "cell_type": "code",
   "execution_count": 23,
   "id": "98c5a9e3",
   "metadata": {},
   "outputs": [
    {
     "name": "stdout",
     "output_type": "stream",
     "text": [
      "[['gran', 'gran', 'ADJ', Number=Sing], ['convocatoria', 'convocatoria', 'NOUN', Gender=Fem|Number=Sing], ['para', 'para', 'ADP', AdpType=Prep], ['el', 'el', 'DET', Definite=Def|Gender=Masc|Number=Sing|PronType=Art], ['concurso', 'concurso', 'NOUN', Gender=Masc|Number=Sing], ['docente', 'docente', 'ADJ', Number=Sing], ['que', 'que', 'PRON', PronType=Int,Rel], ['se', 'él', 'PRON', Case=Acc,Dat|Person=3|PrepCase=Npr|PronType=Prs|Reflex=Yes], ['realiza', 'realizar', 'VERB', Mood=Ind|Number=Sing|Person=3|Tense=Pres|VerbForm=Fin], ['en', 'en', 'ADP', AdpType=Prep]]\n"
     ]
    }
   ],
   "source": [
    "##lista de listas con los rasgos de palabras de las primeras 1000 oraciones\n",
    "lista_lista_rasgos=[]\n",
    "for oracion in oraciones_final[:1000]:\n",
    "    doc = nlp(oracion)\n",
    "    for token in doc:\n",
    "          lista_lista_rasgos += [[token.text, token.lemma_, token.pos_, token.morph]]\n",
    "print(lista_lista_rasgos[:10])"
   ]
  },
  {
   "cell_type": "code",
   "execution_count": 24,
   "id": "49a62260",
   "metadata": {},
   "outputs": [],
   "source": [
    "import csv\n",
    "##creo el archivo cvs con la lista de listas (cada lista tiene la palabra con sus rasgos)\n",
    "f = open('muestra_archivogrande.csv', 'w', encoding=\"utf-8\")\n",
    "with f:\n",
    "    writer = csv.writer(f)\n",
    "    writer.writerows(lista_lista_rasgos)"
   ]
  },
  {
   "cell_type": "code",
   "execution_count": 25,
   "id": "0e2850b5",
   "metadata": {},
   "outputs": [],
   "source": [
    "import pandas as pd"
   ]
  },
  {
   "cell_type": "code",
   "execution_count": 26,
   "id": "87cc8190",
   "metadata": {},
   "outputs": [
    {
     "data": {
      "text/html": [
       "<div>\n",
       "<style scoped>\n",
       "    .dataframe tbody tr th:only-of-type {\n",
       "        vertical-align: middle;\n",
       "    }\n",
       "\n",
       "    .dataframe tbody tr th {\n",
       "        vertical-align: top;\n",
       "    }\n",
       "\n",
       "    .dataframe thead th {\n",
       "        text-align: right;\n",
       "    }\n",
       "</style>\n",
       "<table border=\"1\" class=\"dataframe\">\n",
       "  <thead>\n",
       "    <tr style=\"text-align: right;\">\n",
       "      <th></th>\n",
       "      <th>Palabra</th>\n",
       "      <th>Lema</th>\n",
       "      <th>POS</th>\n",
       "      <th>Morfologia</th>\n",
       "    </tr>\n",
       "  </thead>\n",
       "  <tbody>\n",
       "    <tr>\n",
       "      <th>0</th>\n",
       "      <td>gran</td>\n",
       "      <td>gran</td>\n",
       "      <td>ADJ</td>\n",
       "      <td>Number=Sing</td>\n",
       "    </tr>\n",
       "    <tr>\n",
       "      <th>1</th>\n",
       "      <td>convocatoria</td>\n",
       "      <td>convocatoria</td>\n",
       "      <td>NOUN</td>\n",
       "      <td>Gender=Fem|Number=Sing</td>\n",
       "    </tr>\n",
       "    <tr>\n",
       "      <th>2</th>\n",
       "      <td>para</td>\n",
       "      <td>para</td>\n",
       "      <td>ADP</td>\n",
       "      <td>AdpType=Prep</td>\n",
       "    </tr>\n",
       "    <tr>\n",
       "      <th>3</th>\n",
       "      <td>el</td>\n",
       "      <td>el</td>\n",
       "      <td>DET</td>\n",
       "      <td>Definite=Def|Gender=Masc|Number=Sing|PronType=Art</td>\n",
       "    </tr>\n",
       "    <tr>\n",
       "      <th>4</th>\n",
       "      <td>concurso</td>\n",
       "      <td>concurso</td>\n",
       "      <td>NOUN</td>\n",
       "      <td>Gender=Masc|Number=Sing</td>\n",
       "    </tr>\n",
       "    <tr>\n",
       "      <th>...</th>\n",
       "      <td>...</td>\n",
       "      <td>...</td>\n",
       "      <td>...</td>\n",
       "      <td>...</td>\n",
       "    </tr>\n",
       "    <tr>\n",
       "      <th>24608</th>\n",
       "      <td>provincia</td>\n",
       "      <td>provincia</td>\n",
       "      <td>NOUN</td>\n",
       "      <td>Gender=Fem|Number=Sing</td>\n",
       "    </tr>\n",
       "    <tr>\n",
       "      <th>24609</th>\n",
       "      <td>y</td>\n",
       "      <td>y</td>\n",
       "      <td>CCONJ</td>\n",
       "      <td>NaN</td>\n",
       "    </tr>\n",
       "    <tr>\n",
       "      <th>24610</th>\n",
       "      <td>en</td>\n",
       "      <td>en</td>\n",
       "      <td>ADP</td>\n",
       "      <td>AdpType=Prep</td>\n",
       "    </tr>\n",
       "    <tr>\n",
       "      <th>24611</th>\n",
       "      <td>el</td>\n",
       "      <td>el</td>\n",
       "      <td>DET</td>\n",
       "      <td>Definite=Def|Gender=Masc|Number=Sing|PronType=Art</td>\n",
       "    </tr>\n",
       "    <tr>\n",
       "      <th>24612</th>\n",
       "      <td>país</td>\n",
       "      <td>país</td>\n",
       "      <td>NOUN</td>\n",
       "      <td>Gender=Masc|Number=Sing</td>\n",
       "    </tr>\n",
       "  </tbody>\n",
       "</table>\n",
       "<p>24613 rows × 4 columns</p>\n",
       "</div>"
      ],
      "text/plain": [
       "            Palabra          Lema    POS  \\\n",
       "0              gran          gran    ADJ   \n",
       "1      convocatoria  convocatoria   NOUN   \n",
       "2              para          para    ADP   \n",
       "3                el            el    DET   \n",
       "4          concurso      concurso   NOUN   \n",
       "...             ...           ...    ...   \n",
       "24608     provincia     provincia   NOUN   \n",
       "24609             y             y  CCONJ   \n",
       "24610            en            en    ADP   \n",
       "24611            el            el    DET   \n",
       "24612          país          país   NOUN   \n",
       "\n",
       "                                              Morfologia  \n",
       "0                                            Number=Sing  \n",
       "1                                 Gender=Fem|Number=Sing  \n",
       "2                                           AdpType=Prep  \n",
       "3      Definite=Def|Gender=Masc|Number=Sing|PronType=Art  \n",
       "4                                Gender=Masc|Number=Sing  \n",
       "...                                                  ...  \n",
       "24608                             Gender=Fem|Number=Sing  \n",
       "24609                                                NaN  \n",
       "24610                                       AdpType=Prep  \n",
       "24611  Definite=Def|Gender=Masc|Number=Sing|PronType=Art  \n",
       "24612                            Gender=Masc|Number=Sing  \n",
       "\n",
       "[24613 rows x 4 columns]"
      ]
     },
     "execution_count": 26,
     "metadata": {},
     "output_type": "execute_result"
    }
   ],
   "source": [
    "## creo un data frame con los datos de rasgos del archivo csv\n",
    "cuadro_rasgos = pd.read_csv('muestra_archivogrande.csv',encoding=\"utf-8\", sep=',',header=None) ## header=none para que no tome como nombre de columna la primera lista\n",
    "cuadro_rasgos.columns= [\"Palabra\",\"Lema\",\"POS\",\"Morfologia\"] ## agrego nombre de columnas\n",
    "cuadro_rasgos"
   ]
  },
  {
   "cell_type": "code",
   "execution_count": 27,
   "id": "2f0a4b89",
   "metadata": {},
   "outputs": [
    {
     "data": {
      "text/html": [
       "<div>\n",
       "<style scoped>\n",
       "    .dataframe tbody tr th:only-of-type {\n",
       "        vertical-align: middle;\n",
       "    }\n",
       "\n",
       "    .dataframe tbody tr th {\n",
       "        vertical-align: top;\n",
       "    }\n",
       "\n",
       "    .dataframe thead th {\n",
       "        text-align: right;\n",
       "    }\n",
       "</style>\n",
       "<table border=\"1\" class=\"dataframe\">\n",
       "  <thead>\n",
       "    <tr style=\"text-align: right;\">\n",
       "      <th></th>\n",
       "      <th>Palabra</th>\n",
       "      <th>Lema</th>\n",
       "      <th>POS</th>\n",
       "      <th>Morfologia</th>\n",
       "    </tr>\n",
       "  </thead>\n",
       "  <tbody>\n",
       "    <tr>\n",
       "      <th>8</th>\n",
       "      <td>realiza</td>\n",
       "      <td>realizar</td>\n",
       "      <td>VERB</td>\n",
       "      <td>Mood=Ind|Number=Sing|Person=3|Tense=Pres|VerbF...</td>\n",
       "    </tr>\n",
       "    <tr>\n",
       "      <th>38</th>\n",
       "      <td>realizó</td>\n",
       "      <td>realizar</td>\n",
       "      <td>VERB</td>\n",
       "      <td>Mood=Ind|Number=Sing|Person=3|Tense=Past|VerbF...</td>\n",
       "    </tr>\n",
       "    <tr>\n",
       "      <th>52</th>\n",
       "      <td>comenzó</td>\n",
       "      <td>comenzar</td>\n",
       "      <td>VERB</td>\n",
       "      <td>Mood=Ind|Number=Sing|Person=3|Tense=Past|VerbF...</td>\n",
       "    </tr>\n",
       "    <tr>\n",
       "      <th>62</th>\n",
       "      <td>hablaron</td>\n",
       "      <td>hablar</td>\n",
       "      <td>VERB</td>\n",
       "      <td>Mood=Ind|Number=Plur|Person=3|Tense=Past|VerbF...</td>\n",
       "    </tr>\n",
       "    <tr>\n",
       "      <th>68</th>\n",
       "      <td>presentaron</td>\n",
       "      <td>presentar</td>\n",
       "      <td>VERB</td>\n",
       "      <td>Mood=Ind|Number=Plur|Person=3|Tense=Past|VerbF...</td>\n",
       "    </tr>\n",
       "    <tr>\n",
       "      <th>...</th>\n",
       "      <td>...</td>\n",
       "      <td>...</td>\n",
       "      <td>...</td>\n",
       "      <td>...</td>\n",
       "    </tr>\n",
       "    <tr>\n",
       "      <th>24571</th>\n",
       "      <td>defender</td>\n",
       "      <td>defender</td>\n",
       "      <td>VERB</td>\n",
       "      <td>VerbForm=Inf</td>\n",
       "    </tr>\n",
       "    <tr>\n",
       "      <th>24576</th>\n",
       "      <td>salir</td>\n",
       "      <td>salir</td>\n",
       "      <td>VERB</td>\n",
       "      <td>VerbForm=Inf</td>\n",
       "    </tr>\n",
       "    <tr>\n",
       "      <th>24578</th>\n",
       "      <td>acrecentar</td>\n",
       "      <td>acrecentar</td>\n",
       "      <td>VERB</td>\n",
       "      <td>VerbForm=Inf</td>\n",
       "    </tr>\n",
       "    <tr>\n",
       "      <th>24588</th>\n",
       "      <td>irrumpe</td>\n",
       "      <td>irrumpir</td>\n",
       "      <td>VERB</td>\n",
       "      <td>Mood=Ind|Number=Sing|Person=3|Tense=Pres|VerbF...</td>\n",
       "    </tr>\n",
       "    <tr>\n",
       "      <th>24604</th>\n",
       "      <td>falta</td>\n",
       "      <td>faltar</td>\n",
       "      <td>VERB</td>\n",
       "      <td>Mood=Ind|Number=Sing|Person=3|Tense=Pres|VerbF...</td>\n",
       "    </tr>\n",
       "  </tbody>\n",
       "</table>\n",
       "<p>2750 rows × 4 columns</p>\n",
       "</div>"
      ],
      "text/plain": [
       "           Palabra        Lema   POS  \\\n",
       "8          realiza    realizar  VERB   \n",
       "38         realizó    realizar  VERB   \n",
       "52         comenzó    comenzar  VERB   \n",
       "62        hablaron      hablar  VERB   \n",
       "68     presentaron   presentar  VERB   \n",
       "...            ...         ...   ...   \n",
       "24571     defender    defender  VERB   \n",
       "24576        salir       salir  VERB   \n",
       "24578   acrecentar  acrecentar  VERB   \n",
       "24588      irrumpe    irrumpir  VERB   \n",
       "24604        falta      faltar  VERB   \n",
       "\n",
       "                                              Morfologia  \n",
       "8      Mood=Ind|Number=Sing|Person=3|Tense=Pres|VerbF...  \n",
       "38     Mood=Ind|Number=Sing|Person=3|Tense=Past|VerbF...  \n",
       "52     Mood=Ind|Number=Sing|Person=3|Tense=Past|VerbF...  \n",
       "62     Mood=Ind|Number=Plur|Person=3|Tense=Past|VerbF...  \n",
       "68     Mood=Ind|Number=Plur|Person=3|Tense=Past|VerbF...  \n",
       "...                                                  ...  \n",
       "24571                                       VerbForm=Inf  \n",
       "24576                                       VerbForm=Inf  \n",
       "24578                                       VerbForm=Inf  \n",
       "24588  Mood=Ind|Number=Sing|Person=3|Tense=Pres|VerbF...  \n",
       "24604  Mood=Ind|Number=Sing|Person=3|Tense=Pres|VerbF...  \n",
       "\n",
       "[2750 rows x 4 columns]"
      ]
     },
     "execution_count": 27,
     "metadata": {},
     "output_type": "execute_result"
    }
   ],
   "source": [
    "## filtramos las filas que en la columna POS tengan el valor \"VERB\" para quedarnos solo con los verbos\n",
    "## es fundamental conservar la posición (columna 1) para luego buscar verbos contiguos\n",
    "verbos= cuadro_rasgos[cuadro_rasgos.POS == 'VERB']\n",
    "verbos"
   ]
  },
  {
   "cell_type": "code",
   "execution_count": 28,
   "id": "554a0885",
   "metadata": {
    "scrolled": true
   },
   "outputs": [
    {
     "data": {
      "text/html": [
       "<div>\n",
       "<style scoped>\n",
       "    .dataframe tbody tr th:only-of-type {\n",
       "        vertical-align: middle;\n",
       "    }\n",
       "\n",
       "    .dataframe tbody tr th {\n",
       "        vertical-align: top;\n",
       "    }\n",
       "\n",
       "    .dataframe thead th {\n",
       "        text-align: right;\n",
       "    }\n",
       "</style>\n",
       "<table border=\"1\" class=\"dataframe\">\n",
       "  <thead>\n",
       "    <tr style=\"text-align: right;\">\n",
       "      <th></th>\n",
       "      <th>Palabra</th>\n",
       "      <th>Lema</th>\n",
       "      <th>POS</th>\n",
       "      <th>Morfologia</th>\n",
       "    </tr>\n",
       "  </thead>\n",
       "  <tbody>\n",
       "    <tr>\n",
       "      <th>8</th>\n",
       "      <td>realiza</td>\n",
       "      <td>realizar</td>\n",
       "      <td>VERB</td>\n",
       "      <td>Mood=Ind|Number=Sing|Person=3|Tense=Pres|VerbF...</td>\n",
       "    </tr>\n",
       "    <tr>\n",
       "      <th>19</th>\n",
       "      <td>convocada</td>\n",
       "      <td>convocado</td>\n",
       "      <td>ADJ</td>\n",
       "      <td>Gender=Fem|Number=Sing|VerbForm=Part</td>\n",
       "    </tr>\n",
       "    <tr>\n",
       "      <th>38</th>\n",
       "      <td>realizó</td>\n",
       "      <td>realizar</td>\n",
       "      <td>VERB</td>\n",
       "      <td>Mood=Ind|Number=Sing|Person=3|Tense=Past|VerbF...</td>\n",
       "    </tr>\n",
       "    <tr>\n",
       "      <th>52</th>\n",
       "      <td>comenzó</td>\n",
       "      <td>comenzar</td>\n",
       "      <td>VERB</td>\n",
       "      <td>Mood=Ind|Number=Sing|Person=3|Tense=Past|VerbF...</td>\n",
       "    </tr>\n",
       "    <tr>\n",
       "      <th>62</th>\n",
       "      <td>hablaron</td>\n",
       "      <td>hablar</td>\n",
       "      <td>VERB</td>\n",
       "      <td>Mood=Ind|Number=Plur|Person=3|Tense=Past|VerbF...</td>\n",
       "    </tr>\n",
       "    <tr>\n",
       "      <th>...</th>\n",
       "      <td>...</td>\n",
       "      <td>...</td>\n",
       "      <td>...</td>\n",
       "      <td>...</td>\n",
       "    </tr>\n",
       "    <tr>\n",
       "      <th>24576</th>\n",
       "      <td>salir</td>\n",
       "      <td>salir</td>\n",
       "      <td>VERB</td>\n",
       "      <td>VerbForm=Inf</td>\n",
       "    </tr>\n",
       "    <tr>\n",
       "      <th>24578</th>\n",
       "      <td>acrecentar</td>\n",
       "      <td>acrecentar</td>\n",
       "      <td>VERB</td>\n",
       "      <td>VerbForm=Inf</td>\n",
       "    </tr>\n",
       "    <tr>\n",
       "      <th>24588</th>\n",
       "      <td>irrumpe</td>\n",
       "      <td>irrumpir</td>\n",
       "      <td>VERB</td>\n",
       "      <td>Mood=Ind|Number=Sing|Person=3|Tense=Pres|VerbF...</td>\n",
       "    </tr>\n",
       "    <tr>\n",
       "      <th>24597</th>\n",
       "      <td>es</td>\n",
       "      <td>ser</td>\n",
       "      <td>AUX</td>\n",
       "      <td>Mood=Ind|Number=Sing|Person=3|Tense=Pres|VerbF...</td>\n",
       "    </tr>\n",
       "    <tr>\n",
       "      <th>24604</th>\n",
       "      <td>falta</td>\n",
       "      <td>faltar</td>\n",
       "      <td>VERB</td>\n",
       "      <td>Mood=Ind|Number=Sing|Person=3|Tense=Pres|VerbF...</td>\n",
       "    </tr>\n",
       "  </tbody>\n",
       "</table>\n",
       "<p>4024 rows × 4 columns</p>\n",
       "</div>"
      ],
      "text/plain": [
       "          Palabra        Lema   POS  \\\n",
       "8         realiza    realizar  VERB   \n",
       "19      convocada   convocado   ADJ   \n",
       "38        realizó    realizar  VERB   \n",
       "52        comenzó    comenzar  VERB   \n",
       "62       hablaron      hablar  VERB   \n",
       "...           ...         ...   ...   \n",
       "24576       salir       salir  VERB   \n",
       "24578  acrecentar  acrecentar  VERB   \n",
       "24588     irrumpe    irrumpir  VERB   \n",
       "24597          es         ser   AUX   \n",
       "24604       falta      faltar  VERB   \n",
       "\n",
       "                                              Morfologia  \n",
       "8      Mood=Ind|Number=Sing|Person=3|Tense=Pres|VerbF...  \n",
       "19                  Gender=Fem|Number=Sing|VerbForm=Part  \n",
       "38     Mood=Ind|Number=Sing|Person=3|Tense=Past|VerbF...  \n",
       "52     Mood=Ind|Number=Sing|Person=3|Tense=Past|VerbF...  \n",
       "62     Mood=Ind|Number=Plur|Person=3|Tense=Past|VerbF...  \n",
       "...                                                  ...  \n",
       "24576                                       VerbForm=Inf  \n",
       "24578                                       VerbForm=Inf  \n",
       "24588  Mood=Ind|Number=Sing|Person=3|Tense=Pres|VerbF...  \n",
       "24597  Mood=Ind|Number=Sing|Person=3|Tense=Pres|VerbF...  \n",
       "24604  Mood=Ind|Number=Sing|Person=3|Tense=Pres|VerbF...  \n",
       "\n",
       "[4024 rows x 4 columns]"
      ]
     },
     "execution_count": 28,
     "metadata": {},
     "output_type": "execute_result"
    }
   ],
   "source": [
    "## filtramos las palabras con el rasgo \"VerbForm\" (para no dejar fuera los participios, que se etiquetan como ADJ, ni los AUX)\n",
    "verbosfinal=cuadro_rasgos[cuadro_rasgos['Morfologia'].str.contains(\"VerbForm\", na=False)]\n",
    "## una forma alternativa: verbosfinal=cuadro_rasgos[cuadro_rasgos['Morfologia'].str.contains(\"VerbForm=Inf|VerbForm=Ger|VerbForm=Part\", na=False)]\n",
    "verbosfinal"
   ]
  },
  {
   "cell_type": "code",
   "execution_count": 29,
   "id": "38a1ff3c",
   "metadata": {},
   "outputs": [],
   "source": [
    "## creo un csv con el dataframe de verbos filtrados\n",
    "verbosfinal.to_csv('verbos.csv')"
   ]
  },
  {
   "cell_type": "code",
   "execution_count": 30,
   "id": "3ed0c250",
   "metadata": {
    "scrolled": true
   },
   "outputs": [
    {
     "data": {
      "text/html": [
       "<div>\n",
       "<style scoped>\n",
       "    .dataframe tbody tr th:only-of-type {\n",
       "        vertical-align: middle;\n",
       "    }\n",
       "\n",
       "    .dataframe tbody tr th {\n",
       "        vertical-align: top;\n",
       "    }\n",
       "\n",
       "    .dataframe thead th {\n",
       "        text-align: right;\n",
       "    }\n",
       "</style>\n",
       "<table border=\"1\" class=\"dataframe\">\n",
       "  <thead>\n",
       "    <tr style=\"text-align: right;\">\n",
       "      <th></th>\n",
       "      <th>Unnamed: 0</th>\n",
       "      <th>Palabra</th>\n",
       "      <th>Lema</th>\n",
       "      <th>POS</th>\n",
       "      <th>Morfologia</th>\n",
       "    </tr>\n",
       "  </thead>\n",
       "  <tbody>\n",
       "    <tr>\n",
       "      <th>0</th>\n",
       "      <td>8</td>\n",
       "      <td>realiza</td>\n",
       "      <td>realizar</td>\n",
       "      <td>VERB</td>\n",
       "      <td>Mood=Ind|Number=Sing|Person=3|Tense=Pres|VerbF...</td>\n",
       "    </tr>\n",
       "    <tr>\n",
       "      <th>1</th>\n",
       "      <td>19</td>\n",
       "      <td>convocada</td>\n",
       "      <td>convocado</td>\n",
       "      <td>ADJ</td>\n",
       "      <td>Gender=Fem|Number=Sing|VerbForm=Part</td>\n",
       "    </tr>\n",
       "    <tr>\n",
       "      <th>2</th>\n",
       "      <td>38</td>\n",
       "      <td>realizó</td>\n",
       "      <td>realizar</td>\n",
       "      <td>VERB</td>\n",
       "      <td>Mood=Ind|Number=Sing|Person=3|Tense=Past|VerbF...</td>\n",
       "    </tr>\n",
       "    <tr>\n",
       "      <th>3</th>\n",
       "      <td>52</td>\n",
       "      <td>comenzó</td>\n",
       "      <td>comenzar</td>\n",
       "      <td>VERB</td>\n",
       "      <td>Mood=Ind|Number=Sing|Person=3|Tense=Past|VerbF...</td>\n",
       "    </tr>\n",
       "    <tr>\n",
       "      <th>4</th>\n",
       "      <td>62</td>\n",
       "      <td>hablaron</td>\n",
       "      <td>hablar</td>\n",
       "      <td>VERB</td>\n",
       "      <td>Mood=Ind|Number=Plur|Person=3|Tense=Past|VerbF...</td>\n",
       "    </tr>\n",
       "    <tr>\n",
       "      <th>...</th>\n",
       "      <td>...</td>\n",
       "      <td>...</td>\n",
       "      <td>...</td>\n",
       "      <td>...</td>\n",
       "      <td>...</td>\n",
       "    </tr>\n",
       "    <tr>\n",
       "      <th>4019</th>\n",
       "      <td>24576</td>\n",
       "      <td>salir</td>\n",
       "      <td>salir</td>\n",
       "      <td>VERB</td>\n",
       "      <td>VerbForm=Inf</td>\n",
       "    </tr>\n",
       "    <tr>\n",
       "      <th>4020</th>\n",
       "      <td>24578</td>\n",
       "      <td>acrecentar</td>\n",
       "      <td>acrecentar</td>\n",
       "      <td>VERB</td>\n",
       "      <td>VerbForm=Inf</td>\n",
       "    </tr>\n",
       "    <tr>\n",
       "      <th>4021</th>\n",
       "      <td>24588</td>\n",
       "      <td>irrumpe</td>\n",
       "      <td>irrumpir</td>\n",
       "      <td>VERB</td>\n",
       "      <td>Mood=Ind|Number=Sing|Person=3|Tense=Pres|VerbF...</td>\n",
       "    </tr>\n",
       "    <tr>\n",
       "      <th>4022</th>\n",
       "      <td>24597</td>\n",
       "      <td>es</td>\n",
       "      <td>ser</td>\n",
       "      <td>AUX</td>\n",
       "      <td>Mood=Ind|Number=Sing|Person=3|Tense=Pres|VerbF...</td>\n",
       "    </tr>\n",
       "    <tr>\n",
       "      <th>4023</th>\n",
       "      <td>24604</td>\n",
       "      <td>falta</td>\n",
       "      <td>faltar</td>\n",
       "      <td>VERB</td>\n",
       "      <td>Mood=Ind|Number=Sing|Person=3|Tense=Pres|VerbF...</td>\n",
       "    </tr>\n",
       "  </tbody>\n",
       "</table>\n",
       "<p>4024 rows × 5 columns</p>\n",
       "</div>"
      ],
      "text/plain": [
       "      Unnamed: 0     Palabra        Lema   POS  \\\n",
       "0              8     realiza    realizar  VERB   \n",
       "1             19   convocada   convocado   ADJ   \n",
       "2             38     realizó    realizar  VERB   \n",
       "3             52     comenzó    comenzar  VERB   \n",
       "4             62    hablaron      hablar  VERB   \n",
       "...          ...         ...         ...   ...   \n",
       "4019       24576       salir       salir  VERB   \n",
       "4020       24578  acrecentar  acrecentar  VERB   \n",
       "4021       24588     irrumpe    irrumpir  VERB   \n",
       "4022       24597          es         ser   AUX   \n",
       "4023       24604       falta      faltar  VERB   \n",
       "\n",
       "                                             Morfologia  \n",
       "0     Mood=Ind|Number=Sing|Person=3|Tense=Pres|VerbF...  \n",
       "1                  Gender=Fem|Number=Sing|VerbForm=Part  \n",
       "2     Mood=Ind|Number=Sing|Person=3|Tense=Past|VerbF...  \n",
       "3     Mood=Ind|Number=Sing|Person=3|Tense=Past|VerbF...  \n",
       "4     Mood=Ind|Number=Plur|Person=3|Tense=Past|VerbF...  \n",
       "...                                                 ...  \n",
       "4019                                       VerbForm=Inf  \n",
       "4020                                       VerbForm=Inf  \n",
       "4021  Mood=Ind|Number=Sing|Person=3|Tense=Pres|VerbF...  \n",
       "4022  Mood=Ind|Number=Sing|Person=3|Tense=Pres|VerbF...  \n",
       "4023  Mood=Ind|Number=Sing|Person=3|Tense=Pres|VerbF...  \n",
       "\n",
       "[4024 rows x 5 columns]"
      ]
     },
     "execution_count": 30,
     "metadata": {},
     "output_type": "execute_result"
    }
   ],
   "source": [
    "##creo un nuevo dataframe en donde me aparezcan en una nueva columna los datos de posición del csv para poder comparar esos valores\n",
    "comparacion = pd.read_csv('verbos.csv',encoding=\"utf-8\", sep=',')\n",
    "comparacion"
   ]
  },
  {
   "cell_type": "code",
   "execution_count": 31,
   "id": "889c8409",
   "metadata": {
    "scrolled": true
   },
   "outputs": [
    {
     "data": {
      "text/html": [
       "<div>\n",
       "<style scoped>\n",
       "    .dataframe tbody tr th:only-of-type {\n",
       "        vertical-align: middle;\n",
       "    }\n",
       "\n",
       "    .dataframe tbody tr th {\n",
       "        vertical-align: top;\n",
       "    }\n",
       "\n",
       "    .dataframe thead th {\n",
       "        text-align: right;\n",
       "    }\n",
       "</style>\n",
       "<table border=\"1\" class=\"dataframe\">\n",
       "  <thead>\n",
       "    <tr style=\"text-align: right;\">\n",
       "      <th></th>\n",
       "      <th>Posicion</th>\n",
       "      <th>Palabra</th>\n",
       "      <th>Lema</th>\n",
       "      <th>POS</th>\n",
       "      <th>Morfologia</th>\n",
       "    </tr>\n",
       "  </thead>\n",
       "  <tbody>\n",
       "    <tr>\n",
       "      <th>0</th>\n",
       "      <td>8</td>\n",
       "      <td>realiza</td>\n",
       "      <td>realizar</td>\n",
       "      <td>VERB</td>\n",
       "      <td>Mood=Ind|Number=Sing|Person=3|Tense=Pres|VerbF...</td>\n",
       "    </tr>\n",
       "    <tr>\n",
       "      <th>1</th>\n",
       "      <td>19</td>\n",
       "      <td>convocada</td>\n",
       "      <td>convocado</td>\n",
       "      <td>ADJ</td>\n",
       "      <td>Gender=Fem|Number=Sing|VerbForm=Part</td>\n",
       "    </tr>\n",
       "    <tr>\n",
       "      <th>2</th>\n",
       "      <td>38</td>\n",
       "      <td>realizó</td>\n",
       "      <td>realizar</td>\n",
       "      <td>VERB</td>\n",
       "      <td>Mood=Ind|Number=Sing|Person=3|Tense=Past|VerbF...</td>\n",
       "    </tr>\n",
       "    <tr>\n",
       "      <th>3</th>\n",
       "      <td>52</td>\n",
       "      <td>comenzó</td>\n",
       "      <td>comenzar</td>\n",
       "      <td>VERB</td>\n",
       "      <td>Mood=Ind|Number=Sing|Person=3|Tense=Past|VerbF...</td>\n",
       "    </tr>\n",
       "    <tr>\n",
       "      <th>4</th>\n",
       "      <td>62</td>\n",
       "      <td>hablaron</td>\n",
       "      <td>hablar</td>\n",
       "      <td>VERB</td>\n",
       "      <td>Mood=Ind|Number=Plur|Person=3|Tense=Past|VerbF...</td>\n",
       "    </tr>\n",
       "    <tr>\n",
       "      <th>...</th>\n",
       "      <td>...</td>\n",
       "      <td>...</td>\n",
       "      <td>...</td>\n",
       "      <td>...</td>\n",
       "      <td>...</td>\n",
       "    </tr>\n",
       "    <tr>\n",
       "      <th>4019</th>\n",
       "      <td>24576</td>\n",
       "      <td>salir</td>\n",
       "      <td>salir</td>\n",
       "      <td>VERB</td>\n",
       "      <td>VerbForm=Inf</td>\n",
       "    </tr>\n",
       "    <tr>\n",
       "      <th>4020</th>\n",
       "      <td>24578</td>\n",
       "      <td>acrecentar</td>\n",
       "      <td>acrecentar</td>\n",
       "      <td>VERB</td>\n",
       "      <td>VerbForm=Inf</td>\n",
       "    </tr>\n",
       "    <tr>\n",
       "      <th>4021</th>\n",
       "      <td>24588</td>\n",
       "      <td>irrumpe</td>\n",
       "      <td>irrumpir</td>\n",
       "      <td>VERB</td>\n",
       "      <td>Mood=Ind|Number=Sing|Person=3|Tense=Pres|VerbF...</td>\n",
       "    </tr>\n",
       "    <tr>\n",
       "      <th>4022</th>\n",
       "      <td>24597</td>\n",
       "      <td>es</td>\n",
       "      <td>ser</td>\n",
       "      <td>AUX</td>\n",
       "      <td>Mood=Ind|Number=Sing|Person=3|Tense=Pres|VerbF...</td>\n",
       "    </tr>\n",
       "    <tr>\n",
       "      <th>4023</th>\n",
       "      <td>24604</td>\n",
       "      <td>falta</td>\n",
       "      <td>faltar</td>\n",
       "      <td>VERB</td>\n",
       "      <td>Mood=Ind|Number=Sing|Person=3|Tense=Pres|VerbF...</td>\n",
       "    </tr>\n",
       "  </tbody>\n",
       "</table>\n",
       "<p>4024 rows × 5 columns</p>\n",
       "</div>"
      ],
      "text/plain": [
       "      Posicion     Palabra        Lema   POS  \\\n",
       "0            8     realiza    realizar  VERB   \n",
       "1           19   convocada   convocado   ADJ   \n",
       "2           38     realizó    realizar  VERB   \n",
       "3           52     comenzó    comenzar  VERB   \n",
       "4           62    hablaron      hablar  VERB   \n",
       "...        ...         ...         ...   ...   \n",
       "4019     24576       salir       salir  VERB   \n",
       "4020     24578  acrecentar  acrecentar  VERB   \n",
       "4021     24588     irrumpe    irrumpir  VERB   \n",
       "4022     24597          es         ser   AUX   \n",
       "4023     24604       falta      faltar  VERB   \n",
       "\n",
       "                                             Morfologia  \n",
       "0     Mood=Ind|Number=Sing|Person=3|Tense=Pres|VerbF...  \n",
       "1                  Gender=Fem|Number=Sing|VerbForm=Part  \n",
       "2     Mood=Ind|Number=Sing|Person=3|Tense=Past|VerbF...  \n",
       "3     Mood=Ind|Number=Sing|Person=3|Tense=Past|VerbF...  \n",
       "4     Mood=Ind|Number=Plur|Person=3|Tense=Past|VerbF...  \n",
       "...                                                 ...  \n",
       "4019                                       VerbForm=Inf  \n",
       "4020                                       VerbForm=Inf  \n",
       "4021  Mood=Ind|Number=Sing|Person=3|Tense=Pres|VerbF...  \n",
       "4022  Mood=Ind|Number=Sing|Person=3|Tense=Pres|VerbF...  \n",
       "4023  Mood=Ind|Number=Sing|Person=3|Tense=Pres|VerbF...  \n",
       "\n",
       "[4024 rows x 5 columns]"
      ]
     },
     "execution_count": 31,
     "metadata": {},
     "output_type": "execute_result"
    }
   ],
   "source": [
    "## cambiamos el nombre de la primera columna a \"posicion\"\n",
    "comparacion.rename(columns={'Unnamed: 0': 'Posicion'}, inplace=True)\n",
    "comparacion"
   ]
  }
 ],
 "metadata": {
  "kernelspec": {
   "display_name": "Python 3",
   "language": "python",
   "name": "python3"
  },
  "language_info": {
   "codemirror_mode": {
    "name": "ipython",
    "version": 3
   },
   "file_extension": ".py",
   "mimetype": "text/x-python",
   "name": "python",
   "nbconvert_exporter": "python",
   "pygments_lexer": "ipython3",
   "version": "3.8.8"
  }
 },
 "nbformat": 4,
 "nbformat_minor": 5
}
