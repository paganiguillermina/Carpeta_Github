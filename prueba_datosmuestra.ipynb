{
 "cells": [
  {
   "cell_type": "code",
   "execution_count": 2,
   "id": "ab5d24ad",
   "metadata": {},
   "outputs": [],
   "source": [
    "## lectura del archivo y división del texto a partir de los saltos de línea\n",
    "file=open ('corpusespanol_prueba.txt', 'r', encoding=\"utf-8\")  \n",
    "text=file.read()\n",
    "texto=text.split(\"\\n\")"
   ]
  },
  {
   "cell_type": "code",
   "execution_count": 3,
   "id": "ab2bec02",
   "metadata": {
    "scrolled": false
   },
   "outputs": [
    {
     "name": "stdout",
     "output_type": "stream",
     "text": [
      "['textID\\ttext', '----\\t----', '', '@@124 Gran convocatoria para el concurso docente que se realiza en la Escuela Normal Con una inmensa convocatoria de docentes , convocada desde la 7.30 de este lunes en el salón de actos de la Escuela Normal Mariano Moreno , se realizó la primera jornada de el concurso para titularización de los cargos . El día comenzó con las palabras de bienvenidas de las autoridades , quienes hablaron de cientos de docentes que presentaron sus documentos que deben ser analizados por las autoridades . Los cargos fueron 138 , pero esa suma se incrementó debido a que muchos realizaron cambio de escuelas , abriendo otras oportunidades . Las jornadas continuaran este martes debido , precisamente , a el enorme número de docentes presentes . Estuvieron , la presidenta de el CGE , Graciela Bar , el profesor Héctor de la Fuente , vocal de presidencia , el secretario general de Agmer Fabián Peccín y la directora Departamental de Escuela , María del Carmen Tourfini de Córdoba . Más allá de esta actividad , desde AGMER Uruguay , se comunicó el cronograma de próximas actividades : Miércoles 31 de Julio @ @ @ @ @ @ @ @ @ @ entrega de material . Miércoles 31 de Julio : Asamblea de dos horas por turno para las escuelas nocturnas . Jueves 1 de Agosto : Asamblea de dos horas por turno en las Escuelas de los Turnos Mañana y Tarde . Jueves 1 de Agosto a las 18:00 : Asamblea Resolutiva en la Seccional . Viernes 2 de Agosto a las 09:00 : Congreso Provincial en Colón , donde se tratará la contra propuesta realizada por el Gobierno de la Provincia , que llevó a la suspensión de el para programado para el reinicio de clases , tras las vacaciones invernales . ']\n"
     ]
    }
   ],
   "source": [
    "print(texto[:4])"
   ]
  },
  {
   "cell_type": "code",
   "execution_count": 4,
   "id": "903d6707",
   "metadata": {},
   "outputs": [],
   "source": [
    "##elimino las tres primeras líneas, que constituyen un encabezado\n",
    "texto=texto[3:]"
   ]
  },
  {
   "cell_type": "code",
   "execution_count": 5,
   "id": "884281de",
   "metadata": {
    "scrolled": false
   },
   "outputs": [
    {
     "name": "stdout",
     "output_type": "stream",
     "text": [
      "['@@124 Gran convocatoria para el concurso docente que se realiza en la Escuela Normal Con una inmensa convocatoria de docentes , convocada desde la 7.30 de este lunes en el salón de actos de la Escuela Normal Mariano Moreno , se realizó la primera jornada de el concurso para titularización de los cargos . El día comenzó con las palabras de bienvenidas de las autoridades , quienes hablaron de cientos de docentes que presentaron sus documentos que deben ser analizados por las autoridades . Los cargos fueron 138 , pero esa suma se incrementó debido a que muchos realizaron cambio de escuelas , abriendo otras oportunidades . Las jornadas continuaran este martes debido , precisamente , a el enorme número de docentes presentes . Estuvieron , la presidenta de el CGE , Graciela Bar , el profesor Héctor de la Fuente , vocal de presidencia , el secretario general de Agmer Fabián Peccín y la directora Departamental de Escuela , María del Carmen Tourfini de Córdoba . Más allá de esta actividad , desde AGMER Uruguay , se comunicó el cronograma de próximas actividades : Miércoles 31 de Julio @ @ @ @ @ @ @ @ @ @ entrega de material . Miércoles 31 de Julio : Asamblea de dos horas por turno para las escuelas nocturnas . Jueves 1 de Agosto : Asamblea de dos horas por turno en las Escuelas de los Turnos Mañana y Tarde . Jueves 1 de Agosto a las 18:00 : Asamblea Resolutiva en la Seccional . Viernes 2 de Agosto a las 09:00 : Congreso Provincial en Colón , donde se tratará la contra propuesta realizada por el Gobierno de la Provincia , que llevó a la suspensión de el para programado para el reinicio de clases , tras las vacaciones invernales . ']\n"
     ]
    }
   ],
   "source": [
    "print(texto[0:1])"
   ]
  },
  {
   "cell_type": "code",
   "execution_count": 6,
   "id": "c4e45f27",
   "metadata": {},
   "outputs": [],
   "source": [
    "## quiero eliminar las indicaciones a principio de párrafo de @@número. ¿Cómo hago? Si elimino todos los números\n",
    "## voy a tener el problema de que van a aparecer como sucesivas palabras que no estaban una detrás de la otra, y como busco\n",
    "## construcciones eso me puede generar desvíos\n",
    "## trabajo con expresiones regulares. Para eso importo el módulo re de Python\n",
    "\n",
    "import re"
   ]
  },
  {
   "cell_type": "code",
   "execution_count": 7,
   "id": "c785d65e",
   "metadata": {},
   "outputs": [
    {
     "name": "stdout",
     "output_type": "stream",
     "text": [
      "['Gran convocatoria para el concurso docente que se realiza en la Escuela Normal Con una inmensa convocatoria de docentes , convocada desde la 7.30 de este lunes en el salón de actos de la Escuela Normal Mariano Moreno , se realizó la primera jornada de el concurso para titularización de los cargos . El día comenzó con las palabras de bienvenidas de las autoridades , quienes hablaron de cientos de docentes que presentaron sus documentos que deben ser analizados por las autoridades . Los cargos fueron 138 , pero esa suma se incrementó debido a que muchos realizaron cambio de escuelas , abriendo otras oportunidades . Las jornadas continuaran este martes debido , precisamente , a el enorme número de docentes presentes . Estuvieron , la presidenta de el CGE , Graciela Bar , el profesor Héctor de la Fuente , vocal de presidencia , el secretario general de Agmer Fabián Peccín y la directora Departamental de Escuela , María del Carmen Tourfini de Córdoba . Más allá de esta actividad , desde AGMER Uruguay , se comunicó el cronograma de próximas actividades : Miércoles 31 de Julio @ @ @ @ @ @ @ @ @ @ entrega de material . Miércoles 31 de Julio : Asamblea de dos horas por turno para las escuelas nocturnas . Jueves 1 de Agosto : Asamblea de dos horas por turno en las Escuelas de los Turnos Mañana y Tarde . Jueves 1 de Agosto a las 18:00 : Asamblea Resolutiva en la Seccional . Viernes 2 de Agosto a las 09:00 : Congreso Provincial en Colón , donde se tratará la contra propuesta realizada por el Gobierno de la Provincia , que llevó a la suspensión de el para programado para el reinicio de clases , tras las vacaciones invernales . ', 'Weretilneck anunció que se reforzará la seguridad en Sierra Grande Sierra Grande . - El gobernador de Río Negro , Alberto Weretilneck , anunció esta tarde que se trabajará para refuncionalizar el destacamento vial de Sierra Grande , reemplazando el actual por uno que cumpla con todas las características necesarias para mejorar el control de las rutas . Además , confirmó que se dotará a la fuerza de dos nuevos vehículos y se sumarán más agentes a las tareas de prevención . Luego de encabezar el acto de colación de 56 nuevos policías egresados de la Escuela de Suboficiales y Agentes de Sierra Grande , el mandatario dialogó con la prensa local . En ese marco , Weretilneck anunció que se retirará el destacamento vial que actualmente posee la Provincia a el sur de Sierra Grande . Paralelamente se tramitará la construcción de un nuevo puesto que cumpla con todas la necesidades de el personal para realizar sus tareas . Creemos que la lucha contra la droga y el delito tiene mucho que ver con el control de las rutas y los caminos , remarcó el mandatario . @ @ @ @ @ @ @ @ @ @ dos nuevos vehículos para la fuerza policial serrana . Se ha traído un vehículo y estamos también trayendo otra camioneta en las próximas horas , dijo al respecto . Además , confirmó que algunos de los efectivos que hoy se graduaron se quedarán en Sierra Grande para fortalecer el trabajo de prevención de el delito en la ciudad . Agenda Por otra parte , el titular de el Ejecutivo provincial anunció que el próximo martes a las 18 se realizará la teleconferencia con la Presidenta de la Nación , Cristina Fernández , que fue suspendida esta semana por el trágico accidente ocurrido a pocos kilómetros Puerto Madryn . En ese marco se inaugurará la Ruta=Nacional=Nº 232 en el segmento que une Chelforó con La Japonesa ( La Pampa ) . Además , detalló que su agenda incluye otro acto de egreso de efectivos policiales previsto para mañana a las 10 en General Roca y actividades en el Valle Medio en horas de el mediodía . Asimismo , adelantó que el lunes participará de el lanzamiento de los Juegos Evita en Cinco Saltos y el jueves encabezará la presentación de un nuevo @ @ @ @ @ @ @ @ @ @ Vivienda ( IPPV ) en Cipolletti . En esa misma jornada , pero en horas de la tarde , recibirá a los referentes de las ligas de fútbol de la provincia para avanzar en diversos temas comunes . Finalmente , anunció que a fines de la semana próxima encabezará los actos de lanzamiento de la temporada invernal en el cerro Perito Moreno de El Bolsón y también en Bariloche , donde recibirá el primer vuelo de Aerolíneas Argentinas con turistas proveniente de San Pablo ( Brasil ) . Para poder tomar las decisiones justas y correctas hay que estar en el lugar . La propia gente es la que nos dice si estamos trabajando bien o mal . Por eso es esencial tomar contacto con la mayor cantidad de gente posible , dijo el gobernador . Acompañamiento Por otra parte , señaló que se reunió con familiares de Aldo Pil y Paola Alegría , dos personas que perdieron la vida trágicamente en los últimos días en esa localidad . Me reuní con las familias . Les transmití todo mi apoyo y el acompañamiento de el Estado provincial , dijo el mandatario @ @ @ @ @ @ @ @ @ @ y dirán qué pasó en verdad serán los jueces . Educación Finalmente , el gobernador destacó que están muy avanzados los arreglos que se ejecutan en el Centro=de=Educación=Técnica=Nº 12 de la localidad . Nos habíamos comprometido a resolver el problema de el techo . Hoy vinimos y verificamos las obras que están en marcha y muy avanzadas , dijo el mandatario , quien además anunció que luego se trabajará en el reacondicionamiento de la instalación eléctrica de el edificio . Días pasados la Casa de Gobierno provincial fue testigo de el enojo de el gobernador , quien no dudó en retar a su ministro de Gobierno , el psiquiatra Luis Di Giáccomo , y a el secretario General de la Gobernación , el ex pichetista Hugo Lastra . Todo sucedió luego de que Alberto leyera una carta de Ampliar ', 'Peccín : No hay un solo paso atrás Documento consensuado por la mayoría y minoría de la CDC de AGMER , leído por el Secretario General de AGMER , Fabián Peccín , en el acto central de la movilización docente . Compañeras / Compañeros : Desde AGMER venimos protagonizando desde hace muchos años una lucha inclaudicable con la firme convicción de que con la unidad , la organización yla lucha somos capaces de avanzar en nuestras reivindicaciones . Y en esto hemos sido muy claros frente a nuestra patronal : vamos a avanzar con el diálogo , la negociación , la discusión paritaria , la movilización , las huelgas , acciones todas que , según el momento e integralmente , vamos evaluando como correctas de aplicar en función de avanzar en nuestros legítimos reclamos . Venimos de vivir unas jornadas históricas de lucha con este paro de 72 horas que nos fortalece en la disputa por un salario digno , acción que tiene la legitimidad de la organización colectiva , basada en la unidad y en la toma de decisiones participativa y democrática , que es el acumulado @ @ @ @ @ @ @ @ @ @ desde este lugar , esta conducción viene a plantear a el Gobierno provincial que no hay un solo paso atrás , que no estamos dispuestos a retroceder un milímetro en las conquistas que hemos conseguido y que vamos a defender este proceso histórico en marcha que fuimos capaces de construir los trabajadores y el pueblo argentino . Venimos a decir que somos los trabajadores los que bancamos y demandamos las transformaciones que como pueblo necesitamos , en la construcción de la utopía colectiva de una sociedad justa , democrática , con inclusión social , libre y soberana . Desde esta convicción las jornadas vividas nos demuestran a los trabajadores que sólo con la certeza de el reclamo justo , con la unidad en la pelea y la organización puesta en acciones podremos defender los derechos adquiridos y avanzar , fundamentalmente , por aquellos que aún nos faltan conquistar . Es desde esta perspectiva de ofensiva y en este escenario actual que le decimos a el gobernador que : - Rechazamos la decisión unilateral de el Ministerio de Educación de cerrar la discusión paritaria y fijar un piso salarial lejano a la @ @ @ @ @ @ @ @ @ @ de el gobierno provincial por considerar la insuficiente y por no estar a la altura de una recomposición que supere el retroceso sufrido estos últimos años . - Reclamamos un salario digno que recomponga el salario docente que , desde el 2008 viene en caída libre , para ubicar a el salario docente en Entre Ríos por encima de el costo de vida , que permita vivir acorde a nuestras necesidades como trabajadores y a la de nuestras familias . - Exigimos el incremento de el mínimo no imponible y modificación de el impuesto a las ganancias para transformar lo en un impuesto a los altos ingresos para que no lo paguemos los trabajadores . - Solicitamos la universalidad de las asignaciones familiares . - Solicitamos una fuerte intervención de el Estado en defensa de el salario y de el consumo popular con políticas eficaces a la hora de intervenir en el control de los formadores de precios , a las empresas oligopólicas que , en resguardo de su rentabilidad trasladan a los precios , cualquier pauta de incremento salarial licuando nuestros salarios y empujando a profundizar el proceso inflacionario que @ @ @ @ @ @ @ @ @ @ el aumento de la inversión en infraestructura escolar que resuelva el problema de las condiciones de enseñar y aprender de nuestros compañeros docentes y de nuestros alumnos . - Defendemos de manera irrestricta de la Ley 8732 de jubilaciones y Pensiones . Le decimos NO a la armonización con el Estado nacional . - Repudiamos la decisión política de el descuento de los días de huelga , entendiendo que coartan el legítimo derecho a la huelga y a todo el andamiaje normativo de el CGE montado para penalizar la decisión de lucha de los docentes . - Defendemos el derecho histórico conseguido por la lucha sindical de el Decreto 1318 / 96 y exigimos la plena vigencia de el mismo . - Solicitamos la implementación de la propuesta de reforma tributaria de la CTA Entre Ríos que plantea profundizar los impuestos más progresivos , desactivar aquellos que son regresivos , recaudar entre los que más ganan y por ende los que más tienen . - Exigimos un mayor incremento de el presupuesto educativo que sostenga las políticas públicas que deben garantizar el derecho social a la educación de todas y todos @ @ @ @ @ @ @ @ @ @ extractivas que afectan el medio ambiente como el frackin y a el modelo de explotación agrícola sojero que fumiga hasta nuestras escuelas . - Exigimos la inmediata convocatoria a el diálogo y una propuesta superadora que contenga la demanda de los trabajadores . Por esto , junto a la CTERA , estamos de pie , celosos de lo conquistado , firmes a la hora de pelear por el derecho social a la educación , conscientes de que no hay que retroceder porque esto significaría volver a los nefastos años de los noventa de destrucción de el sistema educativo público y , en este sentido , planteamos la defensa de la paritaria nacional , la responsabilidad de el Estado nacional y de los estados provinciales en el sostenimiento económico de la escuela pública argentina y la necesidad de avanzar en una nueva ley de financiamiento nacional que fortalezca la inversión educativa desde el Estado nacional en un aumento a el 8 % de el PIB para la educación obligatoria . En este marco , con estas reivindicaciones y desde esta plaza , convocamos a la participación en la movilización nacional convocada por @ @ @ @ @ @ @ @ @ @ le a el gobierno nacional la inmediata reapertura de la paritaria , donde podamos discutir un salario digno para todos los trabajadores de la educación de el país . Así , reafirmamos una vez más , nuestro compromiso histórico en defensa de la Escuela pública y el derecho social a la educación , nuestra lucha reivindicativa tiene como centralidad la defensa de la escuela pública para la liberación de nuestro pueblo . No es una consigna vacía , es la convicción de que la principal batalla a librar es cultural y pedagógica , estamos convocados a protagonizar la disputa por una pedagogía emancipatoria y a esa lucha estamos convocados todos , padres , alumnos , trabajadores de la educación y nuestro pueblo . Por ello , la participación activa en el movimiento pedagógico latinoamericano nos compromete a ser parte de el desafío de la construcción de una educación pública latinoamericana al servicio de nuestros pueblos . Una educación liberadora para ser libres en el marco de un proyecto de provincia , de país y de una latinoamérica con más democracia , más distribución de la riqueza , más inclusión social ; @ @ @ @ @ @ @ @ @ @ ']\n"
     ]
    }
   ],
   "source": [
    "##creo una nueva lista donde voy a guardar el texto nuevo limpio de @@número\n",
    "texto_limpio =[]\n",
    "for oracion in texto:\n",
    "    expresion_por_reemplazar = re.compile(r'@@\\d+\\s') ##esto va a buscar cualquier secuencia que comience con dos @ y uno o más números\n",
    "    texto_limpio += [expresion_por_reemplazar.sub(\"\", oracion)]\n",
    "print(texto_limpio[:3])"
   ]
  },
  {
   "cell_type": "code",
   "execution_count": 8,
   "id": "ef5b0b7c",
   "metadata": {},
   "outputs": [
    {
     "name": "stdout",
     "output_type": "stream",
     "text": [
      "['Gran convocatoria para el concurso docente que se realiza en la Escuela Normal Con una inmensa convocatoria de docentes , convocada desde la 7.30 de este lunes en el salón de actos de la Escuela Normal Mariano Moreno , se realizó la primera jornada de el concurso para titularización de los cargos', 'El día comenzó con las palabras de bienvenidas de las autoridades , quienes hablaron de cientos de docentes que presentaron sus documentos que deben ser analizados por las autoridades', 'Los cargos fueron 138 , pero esa suma se incrementó debido a que muchos realizaron cambio de escuelas , abriendo otras oportunidades', 'Las jornadas continuaran este martes debido , precisamente , a el enorme número de docentes presentes', 'Estuvieron , la presidenta de el CGE , Graciela Bar , el profesor Héctor de la Fuente , vocal de presidencia , el secretario general de Agmer Fabián Peccín y la directora Departamental de Escuela , María del Carmen Tourfini de Córdoba']\n"
     ]
    }
   ],
   "source": [
    "##armo una lista y guardo alli las oraciones en que divido el texto. Necesito usar un for para ingresar a cada salto de línea de la lista \"texto\"\n",
    "oraciones=[]\n",
    "for oracion in texto_limpio:\n",
    "    oraciones += oracion.split(\" . \") ##pido que divida por punto con espacio atrás y adelante para que no tome en cuenta puntos como los del horario 7.30\n",
    "\n",
    "print(oraciones[:5])\n",
    "##ahora tengo una lista de oraciones"
   ]
  },
  {
   "cell_type": "code",
   "execution_count": 9,
   "id": "b585525d",
   "metadata": {},
   "outputs": [
    {
     "data": {
      "text/plain": [
       "84373"
      ]
     },
     "execution_count": 9,
     "metadata": {},
     "output_type": "execute_result"
    }
   ],
   "source": [
    "len(oraciones)"
   ]
  },
  {
   "cell_type": "code",
   "execution_count": 10,
   "id": "2ba86bb0",
   "metadata": {},
   "outputs": [],
   "source": [
    "import string\n",
    "\n",
    "## ponemos todo en minúsculas\n",
    "oraciones_min=[]\n",
    "for palabra in oraciones:\n",
    "    oraciones_min+= [palabra.lower()]   "
   ]
  },
  {
   "cell_type": "code",
   "execution_count": 11,
   "id": "fb57635e",
   "metadata": {
    "scrolled": false
   },
   "outputs": [
    {
     "name": "stdout",
     "output_type": "stream",
     "text": [
      "['gran convocatoria para el concurso docente que se realiza en la escuela normal con una inmensa convocatoria de docentes , convocada desde la 7.30 de este lunes en el salón de actos de la escuela normal mariano moreno , se realizó la primera jornada de el concurso para titularización de los cargos', 'el día comenzó con las palabras de bienvenidas de las autoridades , quienes hablaron de cientos de docentes que presentaron sus documentos que deben ser analizados por las autoridades', 'los cargos fueron 138 , pero esa suma se incrementó debido a que muchos realizaron cambio de escuelas , abriendo otras oportunidades', 'las jornadas continuaran este martes debido , precisamente , a el enorme número de docentes presentes', 'estuvieron , la presidenta de el cge , graciela bar , el profesor héctor de la fuente , vocal de presidencia , el secretario general de agmer fabián peccín y la directora departamental de escuela , maría del carmen tourfini de córdoba', 'más allá de esta actividad , desde agmer uruguay , se comunicó el cronograma de próximas actividades : miércoles 31 de julio @ @ @ @ @ @ @ @ @ @ entrega de material', 'miércoles 31 de julio : asamblea de dos horas por turno para las escuelas nocturnas', 'jueves 1 de agosto : asamblea de dos horas por turno en las escuelas de los turnos mañana y tarde', 'jueves 1 de agosto a las 18:00 : asamblea resolutiva en la seccional', 'viernes 2 de agosto a las 09:00 : congreso provincial en colón , donde se tratará la contra propuesta realizada por el gobierno de la provincia , que llevó a la suspensión de el para programado para el reinicio de clases , tras las vacaciones invernales', '', 'weretilneck anunció que se reforzará la seguridad en sierra grande sierra grande', '- el gobernador de río negro , alberto weretilneck , anunció esta tarde que se trabajará para refuncionalizar el destacamento vial de sierra grande , reemplazando el actual por uno que cumpla con todas las características necesarias para mejorar el control de las rutas', 'además , confirmó que se dotará a la fuerza de dos nuevos vehículos y se sumarán más agentes a las tareas de prevención', 'luego de encabezar el acto de colación de 56 nuevos policías egresados de la escuela de suboficiales y agentes de sierra grande , el mandatario dialogó con la prensa local']\n"
     ]
    }
   ],
   "source": [
    "print(oraciones_min[:15])"
   ]
  },
  {
   "cell_type": "code",
   "execution_count": 12,
   "id": "e237d9e7",
   "metadata": {},
   "outputs": [],
   "source": [
    "## creo una función para eliminar puntuación\n",
    "def remover_puntuacion(s): \n",
    "    for c in string.punctuation:\n",
    "        s=s.replace(c,\"\")\n",
    "    return s"
   ]
  },
  {
   "cell_type": "code",
   "execution_count": 13,
   "id": "a02933de",
   "metadata": {},
   "outputs": [],
   "source": [
    "## armo lista \"oraciones_min_sin_punt\" para guardar allí las oraciones sin puntuación\n",
    "oraciones_min_sin_punt =[]\n",
    "for oracion in oraciones_min:\n",
    "    oraciones_min_sin_punt += [remover_puntuacion(oracion)]"
   ]
  },
  {
   "cell_type": "code",
   "execution_count": 14,
   "id": "c2495454",
   "metadata": {
    "scrolled": false
   },
   "outputs": [
    {
     "name": "stdout",
     "output_type": "stream",
     "text": [
      "['gran convocatoria para el concurso docente que se realiza en la escuela normal con una inmensa convocatoria de docentes  convocada desde la 730 de este lunes en el salón de actos de la escuela normal mariano moreno  se realizó la primera jornada de el concurso para titularización de los cargos', 'el día comenzó con las palabras de bienvenidas de las autoridades  quienes hablaron de cientos de docentes que presentaron sus documentos que deben ser analizados por las autoridades', 'los cargos fueron 138  pero esa suma se incrementó debido a que muchos realizaron cambio de escuelas  abriendo otras oportunidades']\n"
     ]
    }
   ],
   "source": [
    "## reviso si funciona el código con un print\n",
    "print(oraciones_min_sin_punt[:3])"
   ]
  },
  {
   "cell_type": "code",
   "execution_count": 15,
   "id": "d70b899b",
   "metadata": {},
   "outputs": [
    {
     "name": "stdout",
     "output_type": "stream",
     "text": [
      "['gran convocatoria para el concurso docente que se realiza en la escuela normal con una inmensa convocatoria de docentes convocada desde la 730 de este lunes en el salón de actos de la escuela normal mariano moreno se realizó la primera jornada de el concurso para titularización de los cargos', 'el día comenzó con las palabras de bienvenidas de las autoridades quienes hablaron de cientos de docentes que presentaron sus documentos que deben ser analizados por las autoridades', 'los cargos fueron 138 pero esa suma se incrementó debido a que muchos realizaron cambio de escuelas abriendo otras oportunidades']\n"
     ]
    }
   ],
   "source": [
    "##elimino espacios sobrantes\n",
    "## creo una lista que contenga las oraciones limpias de doble espacio \"oraciones_final\"\n",
    "oraciones_final =[]\n",
    "for oracion in oraciones_min_sin_punt:\n",
    "    espacios_dobles = re.compile(r'\\s\\s') ##busca dos espacios en blanco seguidos\n",
    "    oraciones_final += [espacios_dobles.sub(\" \", oracion)]\n",
    "print(oraciones_final[:3])"
   ]
  },
  {
   "cell_type": "code",
   "execution_count": 11,
   "id": "229df4ac",
   "metadata": {},
   "outputs": [
    {
     "name": "stdout",
     "output_type": "stream",
     "text": [
      "Requirement already satisfied: pip in c:\\users\\pa_gu\\documents\\uchile\\python\\lib\\site-packages (21.0.1)\n",
      "Collecting pip\n",
      "  Downloading pip-21.3.1-py3-none-any.whl (1.7 MB)\n",
      "Requirement already satisfied: setuptools in c:\\users\\pa_gu\\documents\\uchile\\python\\lib\\site-packages (52.0.0.post20210125)\n",
      "Collecting setuptools\n",
      "  Downloading setuptools-58.3.0-py3-none-any.whl (946 kB)\n",
      "Requirement already satisfied: wheel in c:\\users\\pa_gu\\documents\\uchile\\python\\lib\\site-packages (0.36.2)\n",
      "Collecting wheel\n",
      "  Downloading wheel-0.37.0-py2.py3-none-any.whl (35 kB)\n",
      "Installing collected packages: wheel, setuptools, pip\n",
      "  Attempting uninstall: wheel\n",
      "    Found existing installation: wheel 0.36.2\n",
      "    Uninstalling wheel-0.36.2:\n",
      "      Successfully uninstalled wheel-0.36.2\n",
      "  Attempting uninstall: setuptools\n",
      "    Found existing installation: setuptools 52.0.0.post20210125\n",
      "    Uninstalling setuptools-52.0.0.post20210125:\n",
      "      Successfully uninstalled setuptools-52.0.0.post20210125\n",
      "  Attempting uninstall: pip\n",
      "    Found existing installation: pip 21.0.1\n",
      "    Uninstalling pip-21.0.1:\n",
      "      Successfully uninstalled pip-21.0.1\n"
     ]
    },
    {
     "name": "stderr",
     "output_type": "stream",
     "text": [
      "ERROR: Could not install packages due to an OSError: [WinError 5] Acceso denegado: 'C:\\\\Users\\\\pa_gu\\\\AppData\\\\Local\\\\Temp\\\\pip-uninstall-grvk2wva\\\\pip.exe'\n",
      "Consider using the `--user` option or check the permissions.\n",
      "\n"
     ]
    },
    {
     "name": "stdout",
     "output_type": "stream",
     "text": [
      "Collecting spacy\n",
      "  Downloading spacy-3.1.3-cp38-cp38-win_amd64.whl (12.0 MB)\n",
      "Collecting murmurhash<1.1.0,>=0.28.0\n",
      "  Downloading murmurhash-1.0.6-cp38-cp38-win_amd64.whl (21 kB)\n",
      "Requirement already satisfied: tqdm<5.0.0,>=4.38.0 in c:\\users\\pa_gu\\documents\\uchile\\python\\lib\\site-packages (from spacy) (4.59.0)\n",
      "Collecting cymem<2.1.0,>=2.0.2\n",
      "  Downloading cymem-2.0.6-cp38-cp38-win_amd64.whl (36 kB)\n",
      "Requirement already satisfied: packaging>=20.0 in c:\\users\\pa_gu\\documents\\uchile\\python\\lib\\site-packages (from spacy) (20.9)\n",
      "Collecting srsly<3.0.0,>=2.4.1\n",
      "  Downloading srsly-2.4.2-cp38-cp38-win_amd64.whl (452 kB)\n",
      "Collecting catalogue<2.1.0,>=2.0.6\n",
      "  Downloading catalogue-2.0.6-py3-none-any.whl (17 kB)\n",
      "Collecting pathy>=0.3.5\n",
      "  Downloading pathy-0.6.0-py3-none-any.whl (42 kB)\n",
      "Requirement already satisfied: requests<3.0.0,>=2.13.0 in c:\\users\\pa_gu\\documents\\uchile\\python\\lib\\site-packages (from spacy) (2.25.1)\n",
      "Collecting blis<0.8.0,>=0.4.0\n",
      "  Downloading blis-0.7.5-cp38-cp38-win_amd64.whl (6.6 MB)\n",
      "Collecting wasabi<1.1.0,>=0.8.1\n",
      "  Downloading wasabi-0.8.2-py3-none-any.whl (23 kB)\n",
      "Collecting typer<0.5.0,>=0.3.0\n",
      "  Downloading typer-0.4.0-py3-none-any.whl (27 kB)\n",
      "Collecting thinc<8.1.0,>=8.0.9\n",
      "  Downloading thinc-8.0.11-cp38-cp38-win_amd64.whl (1.0 MB)\n",
      "Requirement already satisfied: numpy>=1.15.0 in c:\\users\\pa_gu\\documents\\uchile\\python\\lib\\site-packages (from spacy) (1.20.1)\n",
      "Requirement already satisfied: jinja2 in c:\\users\\pa_gu\\documents\\uchile\\python\\lib\\site-packages (from spacy) (2.11.3)\n",
      "Requirement already satisfied: setuptools in c:\\users\\pa_gu\\documents\\uchile\\python\\lib\\site-packages (from spacy) (58.3.0)\n",
      "Collecting pydantic!=1.8,!=1.8.1,<1.9.0,>=1.7.4\n",
      "  Downloading pydantic-1.8.2-cp38-cp38-win_amd64.whl (2.0 MB)\n",
      "Collecting preshed<3.1.0,>=3.0.2\n",
      "  Downloading preshed-3.0.6-cp38-cp38-win_amd64.whl (113 kB)\n",
      "Collecting spacy-legacy<3.1.0,>=3.0.8\n",
      "  Downloading spacy_legacy-3.0.8-py2.py3-none-any.whl (14 kB)\n",
      "Requirement already satisfied: pyparsing>=2.0.2 in c:\\users\\pa_gu\\documents\\uchile\\python\\lib\\site-packages (from packaging>=20.0->spacy) (2.4.7)\n",
      "Collecting smart-open<6.0.0,>=5.0.0\n",
      "  Downloading smart_open-5.2.1-py3-none-any.whl (58 kB)\n",
      "Requirement already satisfied: typing-extensions>=3.7.4.3 in c:\\users\\pa_gu\\documents\\uchile\\python\\lib\\site-packages (from pydantic!=1.8,!=1.8.1,<1.9.0,>=1.7.4->spacy) (3.7.4.3)\n",
      "Requirement already satisfied: idna<3,>=2.5 in c:\\users\\pa_gu\\documents\\uchile\\python\\lib\\site-packages (from requests<3.0.0,>=2.13.0->spacy) (2.10)\n",
      "Requirement already satisfied: urllib3<1.27,>=1.21.1 in c:\\users\\pa_gu\\documents\\uchile\\python\\lib\\site-packages (from requests<3.0.0,>=2.13.0->spacy) (1.26.4)\n",
      "Requirement already satisfied: chardet<5,>=3.0.2 in c:\\users\\pa_gu\\documents\\uchile\\python\\lib\\site-packages (from requests<3.0.0,>=2.13.0->spacy) (4.0.0)\n",
      "Requirement already satisfied: certifi>=2017.4.17 in c:\\users\\pa_gu\\documents\\uchile\\python\\lib\\site-packages (from requests<3.0.0,>=2.13.0->spacy) (2020.12.5)\n",
      "Requirement already satisfied: click<9.0.0,>=7.1.1 in c:\\users\\pa_gu\\documents\\uchile\\python\\lib\\site-packages (from typer<0.5.0,>=0.3.0->spacy) (7.1.2)\n",
      "Requirement already satisfied: MarkupSafe>=0.23 in c:\\users\\pa_gu\\documents\\uchile\\python\\lib\\site-packages (from jinja2->spacy) (1.1.1)\n",
      "Installing collected packages: murmurhash, cymem, catalogue, wasabi, typer, srsly, smart-open, pydantic, preshed, blis, thinc, spacy-legacy, pathy, spacy\n",
      "Successfully installed blis-0.7.5 catalogue-2.0.6 cymem-2.0.6 murmurhash-1.0.6 pathy-0.6.0 preshed-3.0.6 pydantic-1.8.2 smart-open-5.2.1 spacy-3.1.3 spacy-legacy-3.0.8 srsly-2.4.2 thinc-8.0.11 typer-0.4.0 wasabi-0.8.2\n",
      "Collecting es-core-news-sm==3.1.0\n",
      "  Downloading https://github.com/explosion/spacy-models/releases/download/es_core_news_sm-3.1.0/es_core_news_sm-3.1.0-py3-none-any.whl (13.7 MB)\n",
      "Requirement already satisfied: spacy<3.2.0,>=3.1.0 in c:\\users\\pa_gu\\documents\\uchile\\python\\lib\\site-packages (from es-core-news-sm==3.1.0) (3.1.3)\n",
      "Requirement already satisfied: pathy>=0.3.5 in c:\\users\\pa_gu\\documents\\uchile\\python\\lib\\site-packages (from spacy<3.2.0,>=3.1.0->es-core-news-sm==3.1.0) (0.6.0)\n",
      "Requirement already satisfied: jinja2 in c:\\users\\pa_gu\\documents\\uchile\\python\\lib\\site-packages (from spacy<3.2.0,>=3.1.0->es-core-news-sm==3.1.0) (2.11.3)\n",
      "Requirement already satisfied: thinc<8.1.0,>=8.0.9 in c:\\users\\pa_gu\\documents\\uchile\\python\\lib\\site-packages (from spacy<3.2.0,>=3.1.0->es-core-news-sm==3.1.0) (8.0.11)\n",
      "Requirement already satisfied: blis<0.8.0,>=0.4.0 in c:\\users\\pa_gu\\documents\\uchile\\python\\lib\\site-packages (from spacy<3.2.0,>=3.1.0->es-core-news-sm==3.1.0) (0.7.5)\n",
      "Requirement already satisfied: requests<3.0.0,>=2.13.0 in c:\\users\\pa_gu\\documents\\uchile\\python\\lib\\site-packages (from spacy<3.2.0,>=3.1.0->es-core-news-sm==3.1.0) (2.25.1)\n",
      "Requirement already satisfied: spacy-legacy<3.1.0,>=3.0.8 in c:\\users\\pa_gu\\documents\\uchile\\python\\lib\\site-packages (from spacy<3.2.0,>=3.1.0->es-core-news-sm==3.1.0) (3.0.8)\n",
      "Requirement already satisfied: wasabi<1.1.0,>=0.8.1 in c:\\users\\pa_gu\\documents\\uchile\\python\\lib\\site-packages (from spacy<3.2.0,>=3.1.0->es-core-news-sm==3.1.0) (0.8.2)\n",
      "Requirement already satisfied: typer<0.5.0,>=0.3.0 in c:\\users\\pa_gu\\documents\\uchile\\python\\lib\\site-packages (from spacy<3.2.0,>=3.1.0->es-core-news-sm==3.1.0) (0.4.0)\n",
      "Requirement already satisfied: srsly<3.0.0,>=2.4.1 in c:\\users\\pa_gu\\documents\\uchile\\python\\lib\\site-packages (from spacy<3.2.0,>=3.1.0->es-core-news-sm==3.1.0) (2.4.2)\n",
      "Requirement already satisfied: catalogue<2.1.0,>=2.0.6 in c:\\users\\pa_gu\\documents\\uchile\\python\\lib\\site-packages (from spacy<3.2.0,>=3.1.0->es-core-news-sm==3.1.0) (2.0.6)\n",
      "Requirement already satisfied: pydantic!=1.8,!=1.8.1,<1.9.0,>=1.7.4 in c:\\users\\pa_gu\\documents\\uchile\\python\\lib\\site-packages (from spacy<3.2.0,>=3.1.0->es-core-news-sm==3.1.0) (1.8.2)\n",
      "Requirement already satisfied: packaging>=20.0 in c:\\users\\pa_gu\\documents\\uchile\\python\\lib\\site-packages (from spacy<3.2.0,>=3.1.0->es-core-news-sm==3.1.0) (20.9)\n",
      "Requirement already satisfied: tqdm<5.0.0,>=4.38.0 in c:\\users\\pa_gu\\documents\\uchile\\python\\lib\\site-packages (from spacy<3.2.0,>=3.1.0->es-core-news-sm==3.1.0) (4.59.0)\n",
      "Requirement already satisfied: numpy>=1.15.0 in c:\\users\\pa_gu\\documents\\uchile\\python\\lib\\site-packages (from spacy<3.2.0,>=3.1.0->es-core-news-sm==3.1.0) (1.20.1)\n",
      "Requirement already satisfied: cymem<2.1.0,>=2.0.2 in c:\\users\\pa_gu\\documents\\uchile\\python\\lib\\site-packages (from spacy<3.2.0,>=3.1.0->es-core-news-sm==3.1.0) (2.0.6)\n",
      "Requirement already satisfied: setuptools in c:\\users\\pa_gu\\documents\\uchile\\python\\lib\\site-packages (from spacy<3.2.0,>=3.1.0->es-core-news-sm==3.1.0) (58.3.0)\n",
      "Requirement already satisfied: murmurhash<1.1.0,>=0.28.0 in c:\\users\\pa_gu\\documents\\uchile\\python\\lib\\site-packages (from spacy<3.2.0,>=3.1.0->es-core-news-sm==3.1.0) (1.0.6)\n",
      "Requirement already satisfied: preshed<3.1.0,>=3.0.2 in c:\\users\\pa_gu\\documents\\uchile\\python\\lib\\site-packages (from spacy<3.2.0,>=3.1.0->es-core-news-sm==3.1.0) (3.0.6)\n",
      "Requirement already satisfied: pyparsing>=2.0.2 in c:\\users\\pa_gu\\documents\\uchile\\python\\lib\\site-packages (from packaging>=20.0->spacy<3.2.0,>=3.1.0->es-core-news-sm==3.1.0) (2.4.7)\n",
      "Requirement already satisfied: smart-open<6.0.0,>=5.0.0 in c:\\users\\pa_gu\\documents\\uchile\\python\\lib\\site-packages (from pathy>=0.3.5->spacy<3.2.0,>=3.1.0->es-core-news-sm==3.1.0) (5.2.1)\n",
      "Requirement already satisfied: typing-extensions>=3.7.4.3 in c:\\users\\pa_gu\\documents\\uchile\\python\\lib\\site-packages (from pydantic!=1.8,!=1.8.1,<1.9.0,>=1.7.4->spacy<3.2.0,>=3.1.0->es-core-news-sm==3.1.0) (3.7.4.3)\n",
      "Requirement already satisfied: idna<3,>=2.5 in c:\\users\\pa_gu\\documents\\uchile\\python\\lib\\site-packages (from requests<3.0.0,>=2.13.0->spacy<3.2.0,>=3.1.0->es-core-news-sm==3.1.0) (2.10)\n",
      "Requirement already satisfied: certifi>=2017.4.17 in c:\\users\\pa_gu\\documents\\uchile\\python\\lib\\site-packages (from requests<3.0.0,>=2.13.0->spacy<3.2.0,>=3.1.0->es-core-news-sm==3.1.0) (2020.12.5)\n",
      "Requirement already satisfied: chardet<5,>=3.0.2 in c:\\users\\pa_gu\\documents\\uchile\\python\\lib\\site-packages (from requests<3.0.0,>=2.13.0->spacy<3.2.0,>=3.1.0->es-core-news-sm==3.1.0) (4.0.0)\n",
      "Requirement already satisfied: urllib3<1.27,>=1.21.1 in c:\\users\\pa_gu\\documents\\uchile\\python\\lib\\site-packages (from requests<3.0.0,>=2.13.0->spacy<3.2.0,>=3.1.0->es-core-news-sm==3.1.0) (1.26.4)\n",
      "Requirement already satisfied: click<9.0.0,>=7.1.1 in c:\\users\\pa_gu\\documents\\uchile\\python\\lib\\site-packages (from typer<0.5.0,>=0.3.0->spacy<3.2.0,>=3.1.0->es-core-news-sm==3.1.0) (7.1.2)\n",
      "Requirement already satisfied: MarkupSafe>=0.23 in c:\\users\\pa_gu\\documents\\uchile\\python\\lib\\site-packages (from jinja2->spacy<3.2.0,>=3.1.0->es-core-news-sm==3.1.0) (1.1.1)\n",
      "Installing collected packages: es-core-news-sm\n",
      "Successfully installed es-core-news-sm-3.1.0\n",
      "[+] Download and installation successful\n",
      "You can now load the package via spacy.load('es_core_news_sm')\n"
     ]
    }
   ],
   "source": [
    "##instalo spacy para hacer análisis gramatical\n",
    "!pip install -U pip setuptools wheel\n",
    "!pip install -U spacy\n",
    "!python -m spacy download es_core_news_sm"
   ]
  },
  {
   "cell_type": "code",
   "execution_count": 16,
   "id": "b24ddabe",
   "metadata": {},
   "outputs": [],
   "source": [
    "import spacy"
   ]
  },
  {
   "cell_type": "code",
   "execution_count": 17,
   "id": "49a38995",
   "metadata": {},
   "outputs": [
    {
     "data": {
      "text/plain": [
       "84373"
      ]
     },
     "execution_count": 17,
     "metadata": {},
     "output_type": "execute_result"
    }
   ],
   "source": [
    "## para describir la muestra de corpus, veo la cantidad de oraciones\n",
    "len(oraciones_final)"
   ]
  },
  {
   "cell_type": "code",
   "execution_count": 18,
   "id": "556368a9",
   "metadata": {},
   "outputs": [
    {
     "name": "stdout",
     "output_type": "stream",
     "text": [
      "rule\n",
      "['gran', 'convocatoria', 'para', 'el', 'concurso', 'docente', 'que', 'él', 'realizar', 'en', 'el', 'escuela', 'normal', 'con', 'uno', 'inmenso', 'convocatoria', 'de', 'docente', 'convocado', 'desde', 'el', '730', 'de', 'este', 'lunes', 'en', 'el', 'salón', 'de', 'acto', 'de', 'el', 'escuela', 'normal', 'mariano', 'moreno', 'él', 'realizar', 'el', 'primero', 'jornada', 'de', 'el', 'concurso', 'para', 'titularización', 'de', 'el', 'cargo']\n",
      "['el', 'día', 'comenzar', 'con', 'el', 'palabra', 'de', 'bienvenida', 'de', 'el', 'autoridad', 'quien', 'hablar', 'de', 'ciento', 'de', 'docente', 'que', 'presentar', 'su', 'documento', 'que', 'deber', 'ser', 'analizar', 'por', 'el', 'autoridad']\n",
      "['el', 'cargo', 'ser', '138', 'pero', 'ese', 'suma', 'él', 'incrementar', 'debido', 'a', 'que', 'mucho', 'realizar', 'cambio', 'de', 'escuela', 'abrir', 'otro', 'oportunidad']\n",
      "['el', 'jornada', 'continuar', 'este', 'martes', 'debido', 'precisamente', 'a', 'el', 'enorme', 'número', 'de', 'docente', 'presente']\n",
      "['estar', 'el', 'presidenta', 'de', 'el', 'cge', 'graciela', 'bar', 'el', 'profesor', 'héctor', 'de', 'el', 'fuente', 'vocal', 'de', 'presidencia', 'el', 'secretario', 'general', 'de', 'agmer', 'fabián', 'peccín', 'y', 'el', 'directora', 'departamental', 'de', 'escuela', 'maría', 'del', 'carmen', 'tourfini', 'de', 'córdoba']\n",
      "['más', 'allá', 'de', 'este', 'actividad', 'desde', 'agmer', 'uruguay', 'él', 'comunicar', 'el', 'cronograma', 'de', 'próximo', 'actividad', 'miércoles', '31', 'de', 'julio', '     ', 'entrega', 'de', 'material']\n",
      "['miércoles', '31', 'de', 'julio', 'asamblea', 'de', 'dos', 'hora', 'por', 'turno', 'para', 'el', 'escuela', 'nocturno']\n",
      "['jueves', '1', 'de', 'agosto', 'asamblea', 'de', 'dos', 'hora', 'por', 'turno', 'en', 'el', 'escuela', 'de', 'el', 'turno', 'mañana', 'y', 'tarde']\n",
      "['jueves', '1', 'de', 'agosto', 'a', 'el', '1800', 'asamblear', 'resolutivo', 'en', 'el', 'seccional']\n",
      "['viernes', '2', 'de', 'agosto', 'a', 'el', '0900', 'congreso', 'provincial', 'en', 'colón', 'donde', 'él', 'tratar', 'el', 'contra', 'propuesta', 'realizado', 'por', 'el', 'gobierno', 'de', 'el', 'provincia', 'que', 'llevar', 'a', 'el', 'suspensión', 'de', 'el', 'para', 'programado', 'para', 'el', 'reinicio', 'de', 'clase', 'tras', 'el', 'vacación', 'invernal']\n"
     ]
    }
   ],
   "source": [
    "## primero pruebo el lematizador\n",
    "nlp = spacy.load(\"es_core_news_sm\")\n",
    "lemmatizer = nlp.get_pipe(\"lemmatizer\")\n",
    "print(lemmatizer.mode)  \n",
    "\n",
    "for oracion in oraciones_final[:10]:\n",
    "    doc = nlp(oracion)\n",
    "    print([token.lemma_ for token in doc])"
   ]
  },
  {
   "cell_type": "code",
   "execution_count": 19,
   "id": "2a9a8f02",
   "metadata": {
    "scrolled": false
   },
   "outputs": [
    {
     "name": "stdout",
     "output_type": "stream",
     "text": [
      "gran gran ADJ ADJ amod xxxx True True\n",
      "convocatoria convocatoria NOUN NOUN nsubj xxxx True False\n",
      "para para ADP ADP case xxxx True True\n",
      "el el DET DET det xx True True\n",
      "concurso concurso NOUN NOUN nmod xxxx True False\n",
      "docente docente ADJ ADJ amod xxxx True False\n",
      "que que PRON PRON nsubj xxx True True\n",
      "se él PRON PRON obj xx True True\n",
      "realiza realizar VERB VERB acl xxxx True False\n",
      "en en ADP ADP case xx True True\n",
      "la el DET DET det xx True True\n",
      "escuela escuela NOUN NOUN obl xxxx True False\n",
      "normal normal ADJ ADJ amod xxxx True False\n",
      "con con ADP ADP case xxx True True\n",
      "una uno DET DET det xxx True True\n",
      "inmensa inmenso ADJ ADJ amod xxxx True False\n",
      "convocatoria convocatoria NOUN NOUN obl xxxx True False\n",
      "de de ADP ADP case xx True True\n",
      "docentes docente NOUN NOUN amod xxxx True False\n",
      "convocada convocado ADJ ADJ amod xxxx True False\n",
      "desde desde ADP ADP case xxxx True True\n",
      "la el DET DET det xx True True\n",
      "730 730 NUM NUM obl ddd False False\n",
      "de de ADP ADP case xx True True\n",
      "este este DET DET det xxxx True True\n",
      "lunes lunes NOUN NOUN nmod xxxx True False\n",
      "en en ADP ADP case xx True True\n",
      "el el DET DET det xx True True\n",
      "salón salón NOUN NOUN obl xxxx True False\n",
      "de de ADP ADP case xx True True\n",
      "actos acto NOUN NOUN nmod xxxx True False\n",
      "de de ADP ADP case xx True True\n",
      "la el DET DET det xx True True\n",
      "escuela escuela NOUN NOUN nmod xxxx True False\n",
      "normal normal ADJ ADJ amod xxxx True False\n",
      "mariano mariano PROPN PROPN appos xxxx True False\n",
      "moreno moreno PROPN PROPN flat xxxx True False\n",
      "se él PRON PRON obj xx True True\n",
      "realizó realizar VERB VERB ROOT xxxx True True\n",
      "la el DET DET det xx True True\n",
      "primera primero ADJ ADJ amod xxxx True True\n",
      "jornada jornada NOUN NOUN nsubj xxxx True False\n",
      "de de ADP ADP case xx True True\n",
      "el el DET DET det xx True True\n",
      "concurso concurso NOUN NOUN nmod xxxx True False\n",
      "para para ADP ADP case xxxx True True\n",
      "titularización titularización NOUN NOUN nmod xxxx True False\n",
      "de de ADP ADP case xx True True\n",
      "los el DET DET det xxx True True\n",
      "cargos cargo NOUN NOUN nmod xxxx True False\n",
      "el el DET DET det xx True True\n",
      "día día NOUN NOUN nsubj xxx True True\n",
      "comenzó comenzar VERB VERB ROOT xxxx True False\n",
      "con con ADP ADP case xxx True True\n",
      "las el DET DET det xxx True True\n",
      "palabras palabra NOUN NOUN obl xxxx True False\n",
      "de de ADP ADP case xx True True\n",
      "bienvenidas bienvenida NOUN NOUN nmod xxxx True False\n",
      "de de ADP ADP case xx True True\n",
      "las el DET DET det xxx True True\n",
      "autoridades autoridad NOUN NOUN nmod xxxx True False\n",
      "quienes quien PRON PRON nsubj xxxx True True\n",
      "hablaron hablar VERB VERB acl xxxx True False\n",
      "de de ADP ADP case xx True True\n",
      "cientos ciento NUM NUM nummod xxxx True False\n",
      "de de ADP ADP case xx True True\n",
      "docentes docente NOUN NOUN obj xxxx True False\n",
      "que que PRON PRON nsubj xxx True True\n",
      "presentaron presentar VERB VERB acl xxxx True False\n",
      "sus su DET DET det xxx True True\n",
      "documentos documento NOUN NOUN obj xxxx True False\n",
      "que que PRON PRON nsubj xxx True True\n",
      "deben deber AUX AUX aux xxxx True True\n",
      "ser ser AUX AUX aux xxx True True\n",
      "analizados analizar VERB VERB acl xxxx True False\n",
      "por por ADP ADP case xxx True True\n",
      "las el DET DET det xxx True True\n",
      "autoridades autoridad NOUN NOUN obj xxxx True False\n",
      "los el DET DET det xxx True True\n",
      "cargos cargo NOUN NOUN nsubj xxxx True False\n",
      "fueron ser AUX AUX cop xxxx True True\n",
      "138 138 NUM NUM ROOT ddd False False\n",
      "pero pero CCONJ CCONJ cc xxxx True True\n",
      "esa ese DET DET det xxx True True\n",
      "suma suma NOUN NOUN nsubj xxxx True False\n",
      "se él PRON PRON iobj xx True True\n",
      "incrementó incrementar VERB VERB conj xxxx True False\n",
      "debido debido ADJ ADJ mark xxxx True True\n",
      "a a ADP ADP fixed x True False\n",
      "que que SCONJ SCONJ mark xxx True True\n",
      "muchos mucho PRON PRON nsubj xxxx True True\n",
      "realizaron realizar VERB VERB advcl xxxx True False\n",
      "cambio cambio NOUN NOUN obj xxxx True False\n",
      "de de ADP ADP case xx True True\n",
      "escuelas escuela NOUN NOUN nmod xxxx True False\n",
      "abriendo abrir VERB VERB advcl xxxx True False\n",
      "otras otro DET DET det xxxx True True\n",
      "oportunidades oportunidad NOUN NOUN obj xxxx True False\n",
      "las el DET DET det xxx True True\n",
      "jornadas jornada NOUN NOUN nsubj xxxx True False\n",
      "continuaran continuar VERB VERB ROOT xxxx True False\n",
      "este este DET DET det xxxx True True\n",
      "martes martes NOUN NOUN obl xxxx True False\n",
      "debido debido ADJ ADJ case xxxx True True\n",
      "precisamente precisamente ADV ADV advmod xxxx True False\n",
      "a a ADP ADP case x True False\n",
      "el el DET DET det xx True True\n",
      "enorme enorme ADJ ADJ amod xxxx True False\n",
      "número número NOUN NOUN obj xxxx True False\n",
      "de de ADP ADP case xx True True\n",
      "docentes docente NOUN NOUN amod xxxx True False\n",
      "presentes presente ADJ ADJ nmod xxxx True False\n"
     ]
    }
   ],
   "source": [
    "## pruebo ahora con el POS tagger para las primeras 4 oraciones del archivo\n",
    "nlp = spacy.load(\"es_core_news_sm\")\n",
    "for oracion in oraciones_final[:4]:\n",
    "    doc = nlp(oracion)\n",
    "\n",
    "    for token in doc:\n",
    "        print(token.text, token.lemma_, token.pos_, token.tag_, token.dep_,\n",
    "                token.shape_, token.is_alpha, token.is_stop)"
   ]
  },
  {
   "cell_type": "code",
   "execution_count": 28,
   "id": "e05ea473",
   "metadata": {},
   "outputs": [
    {
     "name": "stdout",
     "output_type": "stream",
     "text": [
      "gran gran ADJ Number=Sing\n",
      "convocatoria convocatoria NOUN Gender=Fem|Number=Sing\n",
      "para para ADP AdpType=Prep\n",
      "el el DET Definite=Def|Gender=Masc|Number=Sing|PronType=Art\n",
      "concurso concurso NOUN Gender=Masc|Number=Sing\n",
      "docente docente ADJ Number=Sing\n",
      "que que PRON PronType=Int,Rel\n",
      "se él PRON Case=Acc,Dat|Person=3|PrepCase=Npr|PronType=Prs|Reflex=Yes\n",
      "realiza realizar VERB Mood=Ind|Number=Sing|Person=3|Tense=Pres|VerbForm=Fin\n",
      "en en ADP AdpType=Prep\n",
      "la el DET Definite=Def|Gender=Fem|Number=Sing|PronType=Art\n",
      "escuela escuela NOUN Gender=Fem|Number=Sing\n",
      "normal normal ADJ Number=Sing\n",
      "con con ADP AdpType=Prep\n",
      "una uno DET Definite=Ind|Gender=Fem|Number=Sing|PronType=Art\n",
      "inmensa inmenso ADJ Gender=Fem|Number=Sing\n",
      "convocatoria convocatoria NOUN Gender=Fem|Number=Sing\n",
      "de de ADP AdpType=Prep\n",
      "docentes docente NOUN Number=Plur\n",
      "convocada convocado ADJ Gender=Fem|Number=Sing|VerbForm=Part\n",
      "desde desde ADP AdpType=Prep\n",
      "la el DET Definite=Def|Gender=Fem|Number=Sing|PronType=Art\n",
      "730 730 NUM NumForm=Digit|NumType=Card\n",
      "de de ADP AdpType=Prep\n",
      "este este DET Gender=Masc|Number=Sing|PronType=Dem\n",
      "lunes lunes NOUN AdvType=Tim\n",
      "en en ADP AdpType=Prep\n",
      "el el DET Definite=Def|Gender=Masc|Number=Sing|PronType=Art\n",
      "salón salón NOUN Gender=Masc|Number=Sing\n",
      "de de ADP AdpType=Prep\n",
      "actos acto NOUN Gender=Masc|Number=Plur\n",
      "de de ADP AdpType=Prep\n",
      "la el DET Definite=Def|Gender=Fem|Number=Sing|PronType=Art\n",
      "escuela escuela NOUN Gender=Fem|Number=Sing\n",
      "normal normal ADJ Number=Sing\n",
      "mariano mariano PROPN \n",
      "moreno moreno PROPN \n",
      "se él PRON Case=Acc,Dat|Person=3|PrepCase=Npr|PronType=Prs|Reflex=Yes\n",
      "realizó realizar VERB Mood=Ind|Number=Sing|Person=3|Tense=Past|VerbForm=Fin\n",
      "la el DET Definite=Def|Gender=Fem|Number=Sing|PronType=Art\n",
      "primera primero ADJ Gender=Fem|NumType=Ord|Number=Sing\n",
      "jornada jornada NOUN Gender=Fem|Number=Sing\n",
      "de de ADP AdpType=Prep\n",
      "el el DET Definite=Def|Gender=Masc|Number=Sing|PronType=Art\n",
      "concurso concurso NOUN Gender=Masc|Number=Sing\n",
      "para para ADP AdpType=Prep\n",
      "titularización titularización NOUN Gender=Fem|Number=Sing\n",
      "de de ADP AdpType=Prep\n",
      "los el DET Definite=Def|Gender=Masc|Number=Plur|PronType=Art\n",
      "cargos cargo NOUN Gender=Masc|Number=Plur\n",
      "el el DET Definite=Def|Gender=Masc|Number=Sing|PronType=Art\n",
      "día día NOUN Gender=Masc|Number=Sing\n",
      "comenzó comenzar VERB Mood=Ind|Number=Sing|Person=3|Tense=Past|VerbForm=Fin\n",
      "con con ADP AdpType=Prep\n",
      "las el DET Definite=Def|Gender=Fem|Number=Plur|PronType=Art\n",
      "palabras palabra NOUN Gender=Fem|Number=Plur\n",
      "de de ADP AdpType=Prep\n",
      "bienvenidas bienvenida NOUN Gender=Fem|Number=Plur\n",
      "de de ADP AdpType=Prep\n",
      "las el DET Definite=Def|Gender=Fem|Number=Plur|PronType=Art\n",
      "autoridades autoridad NOUN Gender=Fem|Number=Plur\n",
      "quienes quien PRON Number=Plur|PronType=Int,Rel\n",
      "hablaron hablar VERB Mood=Ind|Number=Plur|Person=3|Tense=Past|VerbForm=Fin\n",
      "de de ADP AdpType=Prep\n",
      "cientos ciento NUM NumType=Card|Number=Plur\n",
      "de de ADP AdpType=Prep\n",
      "docentes docente NOUN Number=Plur\n",
      "que que PRON PronType=Int,Rel\n",
      "presentaron presentar VERB Mood=Ind|Number=Plur|Person=3|Tense=Past|VerbForm=Fin\n",
      "sus su DET Number=Plur|Person=3|Poss=Yes|PronType=Prs\n",
      "documentos documento NOUN Gender=Masc|Number=Plur\n",
      "que que PRON PronType=Int,Rel\n",
      "deben deber AUX Mood=Ind|Number=Plur|Person=3|Tense=Pres|VerbForm=Fin\n",
      "ser ser AUX VerbForm=Inf\n",
      "analizados analizar VERB Gender=Masc|Number=Plur|Tense=Past|VerbForm=Part\n",
      "por por ADP AdpType=Prep\n",
      "las el DET Definite=Def|Gender=Fem|Number=Plur|PronType=Art\n",
      "autoridades autoridad NOUN Gender=Fem|Number=Plur\n",
      "los el DET Definite=Def|Gender=Masc|Number=Plur|PronType=Art\n",
      "cargos cargo NOUN Gender=Masc|Number=Plur\n",
      "fueron ser AUX Mood=Ind|Number=Plur|Person=3|Tense=Past|VerbForm=Fin\n",
      "138 138 NUM NumForm=Digit|NumType=Card\n",
      "pero pero CCONJ \n",
      "esa ese DET Gender=Fem|Number=Sing|PronType=Dem\n",
      "suma suma NOUN Gender=Fem|Number=Sing\n",
      "se él PRON Case=Acc,Dat|Person=3|PrepCase=Npr|PronType=Prs|Reflex=Yes\n",
      "incrementó incrementar VERB Mood=Ind|Number=Sing|Person=3|Tense=Past|VerbForm=Fin\n",
      "debido debido ADJ AdpType=Prep\n",
      "a a ADP AdpType=Prep\n",
      "que que SCONJ \n",
      "muchos mucho PRON Gender=Masc|NumType=Card|Number=Plur|PronType=Ind\n",
      "realizaron realizar VERB Mood=Ind|Number=Plur|Person=3|Tense=Past|VerbForm=Fin\n",
      "cambio cambio NOUN Gender=Masc|Number=Sing\n",
      "de de ADP AdpType=Prep\n",
      "escuelas escuela NOUN Gender=Fem|Number=Plur\n",
      "abriendo abrir VERB VerbForm=Ger\n",
      "otras otro DET Gender=Fem|Number=Plur|PronType=Ind\n",
      "oportunidades oportunidad NOUN Gender=Fem|Number=Plur\n",
      "las el DET Definite=Def|Gender=Fem|Number=Plur|PronType=Art\n",
      "jornadas jornada NOUN Gender=Fem|Number=Plur\n",
      "continuaran continuar VERB Mood=Sub|Number=Plur|Person=3|Tense=Imp|VerbForm=Fin\n",
      "este este DET Gender=Masc|Number=Sing|PronType=Dem\n",
      "martes martes NOUN AdvType=Tim\n",
      "debido debido ADJ AdpType=Prep\n",
      "precisamente precisamente ADV \n",
      "a a ADP AdpType=Prep\n",
      "el el DET Definite=Def|Gender=Masc|Number=Sing|PronType=Art\n",
      "enorme enorme ADJ Number=Sing\n",
      "número número NOUN Gender=Masc|Number=Sing\n",
      "de de ADP AdpType=Prep\n",
      "docentes docente NOUN Number=Plur\n",
      "presentes presente ADJ Number=Plur\n"
     ]
    }
   ],
   "source": [
    "## agrego info morfológica\n",
    "for oracion in oraciones_final[:4]:\n",
    "    doc = nlp(oracion)\n",
    "    for token in doc:\n",
    "        print(token.text, token.lemma_, token.pos_, token.morph)"
   ]
  },
  {
   "cell_type": "code",
   "execution_count": 38,
   "id": "98c5a9e3",
   "metadata": {},
   "outputs": [
    {
     "name": "stdout",
     "output_type": "stream",
     "text": [
      "[['gran', 'gran', 'ADJ', Number=Sing], ['convocatoria', 'convocatoria', 'NOUN', Gender=Fem|Number=Sing], ['para', 'para', 'ADP', AdpType=Prep], ['el', 'el', 'DET', Definite=Def|Gender=Masc|Number=Sing|PronType=Art], ['concurso', 'concurso', 'NOUN', Gender=Masc|Number=Sing], ['docente', 'docente', 'ADJ', Number=Sing], ['que', 'que', 'PRON', PronType=Int,Rel], ['se', 'él', 'PRON', Case=Acc,Dat|Person=3|PrepCase=Npr|PronType=Prs|Reflex=Yes], ['realiza', 'realizar', 'VERB', Mood=Ind|Number=Sing|Person=3|Tense=Pres|VerbForm=Fin], ['en', 'en', 'ADP', AdpType=Prep]]\n"
     ]
    }
   ],
   "source": [
    "##lista de listas con los rasgos de palabras de las primeras 1000 oraciones\n",
    "lista_lista_rasgos=[]\n",
    "for oracion in oraciones_final[:1000]:\n",
    "    doc = nlp(oracion)\n",
    "    for token in doc:\n",
    "          lista_lista_rasgos += [[token.text, token.lemma_, token.pos_, token.morph]]\n",
    "print(lista_lista_rasgos[:10])"
   ]
  },
  {
   "cell_type": "code",
   "execution_count": 39,
   "id": "49a62260",
   "metadata": {},
   "outputs": [],
   "source": [
    "import csv\n",
    "##creo el archivo cvs con la lista de listas (cada lista tiene la palabra con sus rasgos)\n",
    "f = open('muestra_archivogrande.csv', 'w', encoding=\"utf-8\")\n",
    "with f:\n",
    "    writer = csv.writer(f)\n",
    "    writer.writerows(lista_lista_rasgos)"
   ]
  },
  {
   "cell_type": "code",
   "execution_count": 2,
   "id": "0e2850b5",
   "metadata": {},
   "outputs": [],
   "source": [
    "import pandas as pd"
   ]
  },
  {
   "cell_type": "code",
   "execution_count": 8,
   "id": "87cc8190",
   "metadata": {},
   "outputs": [
    {
     "data": {
      "text/html": [
       "<div>\n",
       "<style scoped>\n",
       "    .dataframe tbody tr th:only-of-type {\n",
       "        vertical-align: middle;\n",
       "    }\n",
       "\n",
       "    .dataframe tbody tr th {\n",
       "        vertical-align: top;\n",
       "    }\n",
       "\n",
       "    .dataframe thead th {\n",
       "        text-align: right;\n",
       "    }\n",
       "</style>\n",
       "<table border=\"1\" class=\"dataframe\">\n",
       "  <thead>\n",
       "    <tr style=\"text-align: right;\">\n",
       "      <th></th>\n",
       "      <th>Palabra</th>\n",
       "      <th>Lema</th>\n",
       "      <th>POS</th>\n",
       "      <th>Información morfológica</th>\n",
       "    </tr>\n",
       "  </thead>\n",
       "  <tbody>\n",
       "    <tr>\n",
       "      <th>0</th>\n",
       "      <td>gran</td>\n",
       "      <td>gran</td>\n",
       "      <td>ADJ</td>\n",
       "      <td>Number=Sing</td>\n",
       "    </tr>\n",
       "    <tr>\n",
       "      <th>1</th>\n",
       "      <td>convocatoria</td>\n",
       "      <td>convocatoria</td>\n",
       "      <td>NOUN</td>\n",
       "      <td>Gender=Fem|Number=Sing</td>\n",
       "    </tr>\n",
       "    <tr>\n",
       "      <th>2</th>\n",
       "      <td>para</td>\n",
       "      <td>para</td>\n",
       "      <td>ADP</td>\n",
       "      <td>AdpType=Prep</td>\n",
       "    </tr>\n",
       "    <tr>\n",
       "      <th>3</th>\n",
       "      <td>el</td>\n",
       "      <td>el</td>\n",
       "      <td>DET</td>\n",
       "      <td>Definite=Def|Gender=Masc|Number=Sing|PronType=Art</td>\n",
       "    </tr>\n",
       "    <tr>\n",
       "      <th>4</th>\n",
       "      <td>concurso</td>\n",
       "      <td>concurso</td>\n",
       "      <td>NOUN</td>\n",
       "      <td>Gender=Masc|Number=Sing</td>\n",
       "    </tr>\n",
       "    <tr>\n",
       "      <th>...</th>\n",
       "      <td>...</td>\n",
       "      <td>...</td>\n",
       "      <td>...</td>\n",
       "      <td>...</td>\n",
       "    </tr>\n",
       "    <tr>\n",
       "      <th>24821</th>\n",
       "      <td>provincia</td>\n",
       "      <td>provincia</td>\n",
       "      <td>NOUN</td>\n",
       "      <td>Gender=Fem|Number=Sing</td>\n",
       "    </tr>\n",
       "    <tr>\n",
       "      <th>24822</th>\n",
       "      <td>y</td>\n",
       "      <td>y</td>\n",
       "      <td>CCONJ</td>\n",
       "      <td>NaN</td>\n",
       "    </tr>\n",
       "    <tr>\n",
       "      <th>24823</th>\n",
       "      <td>en</td>\n",
       "      <td>en</td>\n",
       "      <td>ADP</td>\n",
       "      <td>AdpType=Prep</td>\n",
       "    </tr>\n",
       "    <tr>\n",
       "      <th>24824</th>\n",
       "      <td>el</td>\n",
       "      <td>el</td>\n",
       "      <td>DET</td>\n",
       "      <td>Definite=Def|Gender=Masc|Number=Sing|PronType=Art</td>\n",
       "    </tr>\n",
       "    <tr>\n",
       "      <th>24825</th>\n",
       "      <td>país</td>\n",
       "      <td>país</td>\n",
       "      <td>NOUN</td>\n",
       "      <td>Gender=Masc|Number=Sing</td>\n",
       "    </tr>\n",
       "  </tbody>\n",
       "</table>\n",
       "<p>24826 rows × 4 columns</p>\n",
       "</div>"
      ],
      "text/plain": [
       "            Palabra          Lema    POS  \\\n",
       "0              gran          gran    ADJ   \n",
       "1      convocatoria  convocatoria   NOUN   \n",
       "2              para          para    ADP   \n",
       "3                el            el    DET   \n",
       "4          concurso      concurso   NOUN   \n",
       "...             ...           ...    ...   \n",
       "24821     provincia     provincia   NOUN   \n",
       "24822             y             y  CCONJ   \n",
       "24823            en            en    ADP   \n",
       "24824            el            el    DET   \n",
       "24825          país          país   NOUN   \n",
       "\n",
       "                                 Información morfológica  \n",
       "0                                            Number=Sing  \n",
       "1                                 Gender=Fem|Number=Sing  \n",
       "2                                           AdpType=Prep  \n",
       "3      Definite=Def|Gender=Masc|Number=Sing|PronType=Art  \n",
       "4                                Gender=Masc|Number=Sing  \n",
       "...                                                  ...  \n",
       "24821                             Gender=Fem|Number=Sing  \n",
       "24822                                                NaN  \n",
       "24823                                       AdpType=Prep  \n",
       "24824  Definite=Def|Gender=Masc|Number=Sing|PronType=Art  \n",
       "24825                            Gender=Masc|Number=Sing  \n",
       "\n",
       "[24826 rows x 4 columns]"
      ]
     },
     "execution_count": 8,
     "metadata": {},
     "output_type": "execute_result"
    }
   ],
   "source": [
    "## creo un data frame con los datos de rasgos del archivo csv\n",
    "## PROBLEMA 2: tal vez se podrían separar con coma los valores gender, number, type (separados con |) para que los podamos poner en columnas diferentes y filtrar más fácil\n",
    "cuadro_rasgos = pd.read_csv('muestra_archivogrande.csv',sep=',',header=None) ## header=none para que no tome como nombre de columna la primera lista\n",
    "cuadro_rasgos.columns= [\"Palabra\",\"Lema\",\"POS\",\"Información morfológica\"] ## agrego nombre de columnas\n",
    "cuadro_rasgos"
   ]
  },
  {
   "cell_type": "code",
   "execution_count": null,
   "id": "a54ba1b3",
   "metadata": {},
   "outputs": [],
   "source": [
    "## PROBLEMA 3: ahora hay que ver cómo filtrar filas contiguas con el siguiente rasgo 1: \"VerbForm=Fin\" y 2:\"VerbForm=Ger\""
   ]
  },
  {
   "cell_type": "code",
   "execution_count": null,
   "id": "2f0a4b89",
   "metadata": {},
   "outputs": [],
   "source": []
  }
 ],
 "metadata": {
  "kernelspec": {
   "display_name": "Python 3",
   "language": "python",
   "name": "python3"
  },
  "language_info": {
   "codemirror_mode": {
    "name": "ipython",
    "version": 3
   },
   "file_extension": ".py",
   "mimetype": "text/x-python",
   "name": "python",
   "nbconvert_exporter": "python",
   "pygments_lexer": "ipython3",
   "version": "3.8.8"
  }
 },
 "nbformat": 4,
 "nbformat_minor": 5
}
